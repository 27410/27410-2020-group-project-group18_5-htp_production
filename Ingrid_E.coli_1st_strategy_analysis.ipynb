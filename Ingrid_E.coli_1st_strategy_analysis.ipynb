{
 "cells": [
  {
   "cell_type": "markdown",
   "metadata": {},
   "source": [
    "**1st strategy for E.coli 5-HTP production**"
   ]
  },
  {
   "cell_type": "code",
   "execution_count": 75,
   "metadata": {},
   "outputs": [],
   "source": [
    "from cobra.io import read_sbml_model\n",
    "from cobra.io import write_sbml_model\n",
    "from cobra import Reaction, Metabolite\n",
    "import pandas as pd"
   ]
  },
  {
   "cell_type": "code",
   "execution_count": 76,
   "metadata": {},
   "outputs": [],
   "source": [
    "model = read_sbml_model('data/iML1515.xml')"
   ]
  },
  {
   "cell_type": "markdown",
   "metadata": {},
   "source": [
    "**5-HTP synthesis pathway**"
   ]
  },
  {
   "cell_type": "markdown",
   "metadata": {},
   "source": [
    "5-HTP production (phhA)\\\n",
    "tetrahydromonapterin (MH4) + oxygen + tryptophan (trp) <-> 4a-hydroxytetrahydromonopterin (hydro-MH4) + 5-hydroxytryptophan (5-HTP)"
   ]
  },
  {
   "cell_type": "code",
   "execution_count": 77,
   "metadata": {},
   "outputs": [],
   "source": [
    "#add metabolites to the system\n",
    "four_alpha_hydroxytetrahydromonopterin = Metabolite(id='hthpth_c', compartment='c')\n",
    "hydroxytryptophan = Metabolite(id='htrp_c', compartment='c')"
   ]
  },
  {
   "cell_type": "code",
   "execution_count": 78,
   "metadata": {},
   "outputs": [
    {
     "name": "stdout",
     "output_type": "stream",
     "text": [
      "o2_c + thmnp_c + trp__L_c --> hthpth_c + htrp_c\n"
     ]
    }
   ],
   "source": [
    "#design reaction\n",
    "phhA = Reaction('phhA')\n",
    "phhA.add_metabolites({model.metabolites.thmnp_c: -1,\n",
    "                      model.metabolites.o2_c: -1,\n",
    "                      model.metabolites.trp__L_c: -1,\n",
    "                      four_alpha_hydroxytetrahydromonopterin: 1,\n",
    "                      hydroxytryptophan: 1\n",
    "                     })\n",
    "print(phhA.build_reaction_string())"
   ]
  },
  {
   "cell_type": "code",
   "execution_count": 79,
   "metadata": {},
   "outputs": [
    {
     "data": {
      "text/html": [
       "\n",
       "        <table>\n",
       "            <tr>\n",
       "                <td><strong>Reaction identifier</strong></td><td>phhA</td>\n",
       "            </tr><tr>\n",
       "                <td><strong>Name</strong></td><td></td>\n",
       "            </tr><tr>\n",
       "                <td><strong>Memory address</strong></td>\n",
       "                <td>0x07f744b0b0400</td>\n",
       "            </tr><tr>\n",
       "                <td><strong>Stoichiometry</strong></td>\n",
       "                <td>\n",
       "                    <p style='text-align:right'>o2_c + thmnp_c + trp__L_c --> hthpth_c + htrp_c</p>\n",
       "                    <p style='text-align:right'>O2 O2 + Tetrahydromonapterin + L-Tryptophan --> +</p>\n",
       "                </td>\n",
       "            </tr><tr>\n",
       "                <td><strong>GPR</strong></td><td></td>\n",
       "            </tr><tr>\n",
       "                <td><strong>Lower bound</strong></td><td>0.0</td>\n",
       "            </tr><tr>\n",
       "                <td><strong>Upper bound</strong></td><td>1000.0</td>\n",
       "            </tr>\n",
       "        </table>\n",
       "        "
      ],
      "text/plain": [
       "<Reaction phhA at 0x7f744b0b0400>"
      ]
     },
     "execution_count": 79,
     "metadata": {},
     "output_type": "execute_result"
    }
   ],
   "source": [
    "#add reaction to the system\n",
    "model.add_reactions([phhA])\n",
    "model.reactions.phhA"
   ]
  },
  {
   "cell_type": "markdown",
   "metadata": {},
   "source": [
    "**Restioration of MH4**"
   ]
  },
  {
   "cell_type": "markdown",
   "metadata": {},
   "source": [
    "pterin-4alpha-carbinolamine dehydratase (PCD)\\\n",
    "4a-hydroxytetrahydromonopterin (hydro-MH4) <-> dihydromonapterin (MH2) + water"
   ]
  },
  {
   "cell_type": "code",
   "execution_count": 80,
   "metadata": {},
   "outputs": [
    {
     "name": "stdout",
     "output_type": "stream",
     "text": [
      "hthpth_c --> dhmpt_c + h2o_c\n"
     ]
    }
   ],
   "source": [
    "#design reaction\n",
    "pcd = Reaction('pcd')\n",
    "pcd.add_metabolites({four_alpha_hydroxytetrahydromonopterin: -1,\n",
    "                      model.metabolites.dhmpt_c: 1,\n",
    "                      model.metabolites.h2o_c: 1,\n",
    "                     })\n",
    "print(pcd.build_reaction_string())"
   ]
  },
  {
   "cell_type": "code",
   "execution_count": 81,
   "metadata": {},
   "outputs": [
    {
     "data": {
      "text/html": [
       "\n",
       "        <table>\n",
       "            <tr>\n",
       "                <td><strong>Reaction identifier</strong></td><td>pcd</td>\n",
       "            </tr><tr>\n",
       "                <td><strong>Name</strong></td><td></td>\n",
       "            </tr><tr>\n",
       "                <td><strong>Memory address</strong></td>\n",
       "                <td>0x07f745f6f78b0</td>\n",
       "            </tr><tr>\n",
       "                <td><strong>Stoichiometry</strong></td>\n",
       "                <td>\n",
       "                    <p style='text-align:right'>hthpth_c --> dhmpt_c + h2o_c</p>\n",
       "                    <p style='text-align:right'>--> Dihydromonapterin + H2O H2O</p>\n",
       "                </td>\n",
       "            </tr><tr>\n",
       "                <td><strong>GPR</strong></td><td></td>\n",
       "            </tr><tr>\n",
       "                <td><strong>Lower bound</strong></td><td>0.0</td>\n",
       "            </tr><tr>\n",
       "                <td><strong>Upper bound</strong></td><td>1000.0</td>\n",
       "            </tr>\n",
       "        </table>\n",
       "        "
      ],
      "text/plain": [
       "<Reaction pcd at 0x7f745f6f78b0>"
      ]
     },
     "execution_count": 81,
     "metadata": {},
     "output_type": "execute_result"
    }
   ],
   "source": [
    "#add reaction to the system\n",
    "model.add_reactions([pcd])\n",
    "model.reactions.pcd"
   ]
  },
  {
   "cell_type": "markdown",
   "metadata": {},
   "source": [
    "dihydromonapterin reductase (DHMR)\\\n",
    "dihydromonapterin (MH2) + H+ + NADPH <-> NADP+ + tetrahydromonapterin (MH4)"
   ]
  },
  {
   "cell_type": "code",
   "execution_count": 82,
   "metadata": {},
   "outputs": [
    {
     "name": "stdout",
     "output_type": "stream",
     "text": [
      "dhmpt_c + h_c + nadph_c --> nadp_c + thmnp_c\n"
     ]
    }
   ],
   "source": [
    "#design reaction\n",
    "dhmr = Reaction('dhmr')\n",
    "dhmr.add_metabolites({model.metabolites.h_c: -1,\n",
    "                      model.metabolites.dhmpt_c: -1,\n",
    "                      model.metabolites.nadph_c: -1,\n",
    "                      model.metabolites.nadp_c: 1,\n",
    "                      model.metabolites.thmnp_c: 1\n",
    "                     })\n",
    "print(dhmr.build_reaction_string())"
   ]
  },
  {
   "cell_type": "markdown",
   "metadata": {},
   "source": [
    "**Remove 5-HTP from the system**"
   ]
  },
  {
   "cell_type": "code",
   "execution_count": 83,
   "metadata": {},
   "outputs": [],
   "source": [
    "five_hydroxytryptophan_exchange = Reaction('EX_htrp')\n",
    "five_hydroxytryptophan_exchange.add_metabolites({model.metabolites.htrp_c: -1})\n",
    "model.add_reaction(five_hydroxytryptophan_exchange)"
   ]
  },
  {
   "cell_type": "markdown",
   "metadata": {},
   "source": [
    "**Optimize model**"
   ]
  },
  {
   "cell_type": "code",
   "execution_count": 84,
   "metadata": {},
   "outputs": [
    {
     "name": "stdout",
     "output_type": "stream",
     "text": [
      "Maximize\n",
      "1.0*BIOMASS_Ec_iML1515_core_75p37M - 1.0*BIOMASS_Ec_iML1515_core_75p37M_reverse_35685\n"
     ]
    }
   ],
   "source": [
    "print(model.objective)"
   ]
  },
  {
   "cell_type": "code",
   "execution_count": 85,
   "metadata": {},
   "outputs": [
    {
     "data": {
      "text/plain": [
       "0.8769972144269627"
      ]
     },
     "execution_count": 85,
     "metadata": {},
     "output_type": "execute_result"
    }
   ],
   "source": [
    "model.optimize().objective_value"
   ]
  },
  {
   "cell_type": "markdown",
   "metadata": {},
   "source": [
    "**Checking max 5-HTP production and respective growth rate if objective value is changed to the 5-HTP export reaction**"
   ]
  },
  {
   "cell_type": "code",
   "execution_count": 86,
   "metadata": {},
   "outputs": [
    {
     "name": "stdout",
     "output_type": "stream",
     "text": [
      "phhA: o2_c + thmnp_c + trp__L_c --> hthpth_c + htrp_c\n",
      "4.279204339963833\n",
      "0.0\n"
     ]
    }
   ],
   "source": [
    "# Finding the flux of the phhA reaction\n",
    "with model:\n",
    "    print(model.reactions.phhA)\n",
    "    model.objective = model.reactions.phhA\n",
    "    solution = model.optimize()\n",
    "    max_5HTP_production = solution.objective_value\n",
    "    print(max_5HTP_production)\n",
    "    print(solution.fluxes.BIOMASS_Ec_iML1515_core_75p37M)"
   ]
  },
  {
   "cell_type": "code",
   "execution_count": 87,
   "metadata": {},
   "outputs": [
    {
     "name": "stdout",
     "output_type": "stream",
     "text": [
      "Max. hydroxy_trp production [mmol gDW^-1 h^-1]: 4.279204339963833\n",
      "Theoretical max. yield [mmol-5htp / mmol-glc]: 0.4279204339963833\n"
     ]
    }
   ],
   "source": [
    "# Calculating yield of 5-HTP\n",
    "with model:\n",
    "    model.objective = model.reactions.EX_htrp\n",
    "    hydroxy_trp_production = model.optimize().objective_value\n",
    "    print(\"Max. hydroxy_trp production [mmol gDW^-1 h^-1]:\", hydroxy_trp_production)\n",
    "    print(\"Theoretical max. yield [mmol-5htp / mmol-glc]:\", hydroxy_trp_production / (-1*model.reactions.EX_glc__D_e.flux))"
   ]
  },
  {
   "cell_type": "markdown",
   "metadata": {},
   "source": [
    "**Observing how the growth rate changes with increasing 5-HTP export flux**"
   ]
  },
  {
   "cell_type": "code",
   "execution_count": 88,
   "metadata": {},
   "outputs": [],
   "source": [
    "from cobra.flux_analysis.phenotype_phase_plane import production_envelope"
   ]
  },
  {
   "cell_type": "code",
   "execution_count": 89,
   "metadata": {},
   "outputs": [],
   "source": [
    "ppp_5HTP = production_envelope(model,\n",
    "                    reactions=[model.reactions.phhA],\n",
    "                    objective=model.reactions.BIOMASS_Ec_iML1515_core_75p37M)"
   ]
  },
  {
   "cell_type": "code",
   "execution_count": 90,
   "metadata": {},
   "outputs": [
    {
     "data": {
      "text/html": [
       "<div>\n",
       "<style scoped>\n",
       "    .dataframe tbody tr th:only-of-type {\n",
       "        vertical-align: middle;\n",
       "    }\n",
       "\n",
       "    .dataframe tbody tr th {\n",
       "        vertical-align: top;\n",
       "    }\n",
       "\n",
       "    .dataframe thead th {\n",
       "        text-align: right;\n",
       "    }\n",
       "</style>\n",
       "<table border=\"1\" class=\"dataframe\">\n",
       "  <thead>\n",
       "    <tr style=\"text-align: right;\">\n",
       "      <th></th>\n",
       "      <th>carbon_source</th>\n",
       "      <th>flux_minimum</th>\n",
       "      <th>carbon_yield_minimum</th>\n",
       "      <th>mass_yield_minimum</th>\n",
       "      <th>flux_maximum</th>\n",
       "      <th>carbon_yield_maximum</th>\n",
       "      <th>mass_yield_maximum</th>\n",
       "      <th>phhA</th>\n",
       "    </tr>\n",
       "  </thead>\n",
       "  <tbody>\n",
       "    <tr>\n",
       "      <th>0</th>\n",
       "      <td>EX_glc__D_e</td>\n",
       "      <td>0.0</td>\n",
       "      <td>0.0</td>\n",
       "      <td>NaN</td>\n",
       "      <td>0.876997</td>\n",
       "      <td>1.161751e+01</td>\n",
       "      <td>NaN</td>\n",
       "      <td>0.000000</td>\n",
       "    </tr>\n",
       "    <tr>\n",
       "      <th>1</th>\n",
       "      <td>EX_glc__D_e</td>\n",
       "      <td>0.0</td>\n",
       "      <td>0.0</td>\n",
       "      <td>NaN</td>\n",
       "      <td>0.831248</td>\n",
       "      <td>1.101147e+01</td>\n",
       "      <td>NaN</td>\n",
       "      <td>0.225221</td>\n",
       "    </tr>\n",
       "    <tr>\n",
       "      <th>2</th>\n",
       "      <td>EX_glc__D_e</td>\n",
       "      <td>0.0</td>\n",
       "      <td>0.0</td>\n",
       "      <td>NaN</td>\n",
       "      <td>0.785499</td>\n",
       "      <td>1.040543e+01</td>\n",
       "      <td>NaN</td>\n",
       "      <td>0.450443</td>\n",
       "    </tr>\n",
       "    <tr>\n",
       "      <th>3</th>\n",
       "      <td>EX_glc__D_e</td>\n",
       "      <td>0.0</td>\n",
       "      <td>0.0</td>\n",
       "      <td>NaN</td>\n",
       "      <td>0.739749</td>\n",
       "      <td>9.799397e+00</td>\n",
       "      <td>NaN</td>\n",
       "      <td>0.675664</td>\n",
       "    </tr>\n",
       "    <tr>\n",
       "      <th>4</th>\n",
       "      <td>EX_glc__D_e</td>\n",
       "      <td>0.0</td>\n",
       "      <td>0.0</td>\n",
       "      <td>NaN</td>\n",
       "      <td>0.694000</td>\n",
       "      <td>9.193359e+00</td>\n",
       "      <td>NaN</td>\n",
       "      <td>0.900885</td>\n",
       "    </tr>\n",
       "    <tr>\n",
       "      <th>5</th>\n",
       "      <td>EX_glc__D_e</td>\n",
       "      <td>0.0</td>\n",
       "      <td>0.0</td>\n",
       "      <td>NaN</td>\n",
       "      <td>0.647766</td>\n",
       "      <td>8.580901e+00</td>\n",
       "      <td>NaN</td>\n",
       "      <td>1.126106</td>\n",
       "    </tr>\n",
       "    <tr>\n",
       "      <th>6</th>\n",
       "      <td>EX_glc__D_e</td>\n",
       "      <td>0.0</td>\n",
       "      <td>0.0</td>\n",
       "      <td>NaN</td>\n",
       "      <td>0.601497</td>\n",
       "      <td>7.967979e+00</td>\n",
       "      <td>NaN</td>\n",
       "      <td>1.351328</td>\n",
       "    </tr>\n",
       "    <tr>\n",
       "      <th>7</th>\n",
       "      <td>EX_glc__D_e</td>\n",
       "      <td>0.0</td>\n",
       "      <td>0.0</td>\n",
       "      <td>NaN</td>\n",
       "      <td>0.555228</td>\n",
       "      <td>7.355058e+00</td>\n",
       "      <td>NaN</td>\n",
       "      <td>1.576549</td>\n",
       "    </tr>\n",
       "    <tr>\n",
       "      <th>8</th>\n",
       "      <td>EX_glc__D_e</td>\n",
       "      <td>0.0</td>\n",
       "      <td>0.0</td>\n",
       "      <td>NaN</td>\n",
       "      <td>0.508959</td>\n",
       "      <td>6.742136e+00</td>\n",
       "      <td>NaN</td>\n",
       "      <td>1.801770</td>\n",
       "    </tr>\n",
       "    <tr>\n",
       "      <th>9</th>\n",
       "      <td>EX_glc__D_e</td>\n",
       "      <td>0.0</td>\n",
       "      <td>0.0</td>\n",
       "      <td>NaN</td>\n",
       "      <td>0.462690</td>\n",
       "      <td>6.129215e+00</td>\n",
       "      <td>NaN</td>\n",
       "      <td>2.026992</td>\n",
       "    </tr>\n",
       "    <tr>\n",
       "      <th>10</th>\n",
       "      <td>EX_glc__D_e</td>\n",
       "      <td>0.0</td>\n",
       "      <td>0.0</td>\n",
       "      <td>NaN</td>\n",
       "      <td>0.416421</td>\n",
       "      <td>5.516293e+00</td>\n",
       "      <td>NaN</td>\n",
       "      <td>2.252213</td>\n",
       "    </tr>\n",
       "    <tr>\n",
       "      <th>11</th>\n",
       "      <td>EX_glc__D_e</td>\n",
       "      <td>0.0</td>\n",
       "      <td>0.0</td>\n",
       "      <td>NaN</td>\n",
       "      <td>0.370152</td>\n",
       "      <td>4.903372e+00</td>\n",
       "      <td>NaN</td>\n",
       "      <td>2.477434</td>\n",
       "    </tr>\n",
       "    <tr>\n",
       "      <th>12</th>\n",
       "      <td>EX_glc__D_e</td>\n",
       "      <td>0.0</td>\n",
       "      <td>0.0</td>\n",
       "      <td>NaN</td>\n",
       "      <td>0.323883</td>\n",
       "      <td>4.290450e+00</td>\n",
       "      <td>NaN</td>\n",
       "      <td>2.702655</td>\n",
       "    </tr>\n",
       "    <tr>\n",
       "      <th>13</th>\n",
       "      <td>EX_glc__D_e</td>\n",
       "      <td>0.0</td>\n",
       "      <td>0.0</td>\n",
       "      <td>NaN</td>\n",
       "      <td>0.277614</td>\n",
       "      <td>3.677529e+00</td>\n",
       "      <td>NaN</td>\n",
       "      <td>2.927877</td>\n",
       "    </tr>\n",
       "    <tr>\n",
       "      <th>14</th>\n",
       "      <td>EX_glc__D_e</td>\n",
       "      <td>0.0</td>\n",
       "      <td>0.0</td>\n",
       "      <td>NaN</td>\n",
       "      <td>0.231345</td>\n",
       "      <td>3.064607e+00</td>\n",
       "      <td>NaN</td>\n",
       "      <td>3.153098</td>\n",
       "    </tr>\n",
       "    <tr>\n",
       "      <th>15</th>\n",
       "      <td>EX_glc__D_e</td>\n",
       "      <td>0.0</td>\n",
       "      <td>0.0</td>\n",
       "      <td>NaN</td>\n",
       "      <td>0.185076</td>\n",
       "      <td>2.451686e+00</td>\n",
       "      <td>NaN</td>\n",
       "      <td>3.378319</td>\n",
       "    </tr>\n",
       "    <tr>\n",
       "      <th>16</th>\n",
       "      <td>EX_glc__D_e</td>\n",
       "      <td>0.0</td>\n",
       "      <td>0.0</td>\n",
       "      <td>NaN</td>\n",
       "      <td>0.138807</td>\n",
       "      <td>1.838764e+00</td>\n",
       "      <td>NaN</td>\n",
       "      <td>3.603540</td>\n",
       "    </tr>\n",
       "    <tr>\n",
       "      <th>17</th>\n",
       "      <td>EX_glc__D_e</td>\n",
       "      <td>0.0</td>\n",
       "      <td>0.0</td>\n",
       "      <td>NaN</td>\n",
       "      <td>0.092538</td>\n",
       "      <td>1.225843e+00</td>\n",
       "      <td>NaN</td>\n",
       "      <td>3.828762</td>\n",
       "    </tr>\n",
       "    <tr>\n",
       "      <th>18</th>\n",
       "      <td>EX_glc__D_e</td>\n",
       "      <td>0.0</td>\n",
       "      <td>0.0</td>\n",
       "      <td>NaN</td>\n",
       "      <td>0.046269</td>\n",
       "      <td>6.129215e-01</td>\n",
       "      <td>NaN</td>\n",
       "      <td>4.053983</td>\n",
       "    </tr>\n",
       "    <tr>\n",
       "      <th>19</th>\n",
       "      <td>EX_glc__D_e</td>\n",
       "      <td>0.0</td>\n",
       "      <td>0.0</td>\n",
       "      <td>NaN</td>\n",
       "      <td>0.000000</td>\n",
       "      <td>6.615571e-15</td>\n",
       "      <td>NaN</td>\n",
       "      <td>4.279204</td>\n",
       "    </tr>\n",
       "  </tbody>\n",
       "</table>\n",
       "</div>"
      ],
      "text/plain": [
       "   carbon_source  flux_minimum  carbon_yield_minimum  mass_yield_minimum  \\\n",
       "0    EX_glc__D_e           0.0                   0.0                 NaN   \n",
       "1    EX_glc__D_e           0.0                   0.0                 NaN   \n",
       "2    EX_glc__D_e           0.0                   0.0                 NaN   \n",
       "3    EX_glc__D_e           0.0                   0.0                 NaN   \n",
       "4    EX_glc__D_e           0.0                   0.0                 NaN   \n",
       "5    EX_glc__D_e           0.0                   0.0                 NaN   \n",
       "6    EX_glc__D_e           0.0                   0.0                 NaN   \n",
       "7    EX_glc__D_e           0.0                   0.0                 NaN   \n",
       "8    EX_glc__D_e           0.0                   0.0                 NaN   \n",
       "9    EX_glc__D_e           0.0                   0.0                 NaN   \n",
       "10   EX_glc__D_e           0.0                   0.0                 NaN   \n",
       "11   EX_glc__D_e           0.0                   0.0                 NaN   \n",
       "12   EX_glc__D_e           0.0                   0.0                 NaN   \n",
       "13   EX_glc__D_e           0.0                   0.0                 NaN   \n",
       "14   EX_glc__D_e           0.0                   0.0                 NaN   \n",
       "15   EX_glc__D_e           0.0                   0.0                 NaN   \n",
       "16   EX_glc__D_e           0.0                   0.0                 NaN   \n",
       "17   EX_glc__D_e           0.0                   0.0                 NaN   \n",
       "18   EX_glc__D_e           0.0                   0.0                 NaN   \n",
       "19   EX_glc__D_e           0.0                   0.0                 NaN   \n",
       "\n",
       "    flux_maximum  carbon_yield_maximum  mass_yield_maximum      phhA  \n",
       "0       0.876997          1.161751e+01                 NaN  0.000000  \n",
       "1       0.831248          1.101147e+01                 NaN  0.225221  \n",
       "2       0.785499          1.040543e+01                 NaN  0.450443  \n",
       "3       0.739749          9.799397e+00                 NaN  0.675664  \n",
       "4       0.694000          9.193359e+00                 NaN  0.900885  \n",
       "5       0.647766          8.580901e+00                 NaN  1.126106  \n",
       "6       0.601497          7.967979e+00                 NaN  1.351328  \n",
       "7       0.555228          7.355058e+00                 NaN  1.576549  \n",
       "8       0.508959          6.742136e+00                 NaN  1.801770  \n",
       "9       0.462690          6.129215e+00                 NaN  2.026992  \n",
       "10      0.416421          5.516293e+00                 NaN  2.252213  \n",
       "11      0.370152          4.903372e+00                 NaN  2.477434  \n",
       "12      0.323883          4.290450e+00                 NaN  2.702655  \n",
       "13      0.277614          3.677529e+00                 NaN  2.927877  \n",
       "14      0.231345          3.064607e+00                 NaN  3.153098  \n",
       "15      0.185076          2.451686e+00                 NaN  3.378319  \n",
       "16      0.138807          1.838764e+00                 NaN  3.603540  \n",
       "17      0.092538          1.225843e+00                 NaN  3.828762  \n",
       "18      0.046269          6.129215e-01                 NaN  4.053983  \n",
       "19      0.000000          6.615571e-15                 NaN  4.279204  "
      ]
     },
     "execution_count": 90,
     "metadata": {},
     "output_type": "execute_result"
    }
   ],
   "source": [
    "ppp_5HTP"
   ]
  },
  {
   "cell_type": "code",
   "execution_count": 91,
   "metadata": {},
   "outputs": [
    {
     "data": {
      "text/plain": [
       "<matplotlib.axes._subplots.AxesSubplot at 0x7f745ce64430>"
      ]
     },
     "execution_count": 91,
     "metadata": {},
     "output_type": "execute_result"
    },
    {
     "data": {
      "image/png": "[encoded data removed]",
      "text/plain": [
       "<Figure size 432x288 with 1 Axes>"
      ]
     },
     "metadata": {
      "needs_background": "light"
     },
     "output_type": "display_data"
    }
   ],
   "source": [
    "ppp_5HTP.plot(x='phhA', y='flux_maximum')"
   ]
  },
  {
   "cell_type": "markdown",
   "metadata": {},
   "source": [
    "**Optmizing 5-HTP production and growth rate**"
   ]
  },
  {
   "cell_type": "code",
   "execution_count": 92,
   "metadata": {},
   "outputs": [],
   "source": [
    "from cobra.flux_analysis import flux_variability_analysis"
   ]
  },
  {
   "cell_type": "code",
   "execution_count": 93,
   "metadata": {},
   "outputs": [
    {
     "name": "stdout",
     "output_type": "stream",
     "text": [
      "      minimum   maximum\n",
      "phhA      0.0  2.144746\n"
     ]
    }
   ],
   "source": [
    "hydroxy_trp_flux_analysis = flux_variability_analysis(model, model.reactions.phhA, fraction_of_optimum = 0.5)\n",
    "print(hydroxy_trp_flux_analysis)"
   ]
  },
  {
   "cell_type": "code",
   "execution_count": 94,
   "metadata": {},
   "outputs": [
    {
     "name": "stdout",
     "output_type": "stream",
     "text": [
      "2.1447464147608075\n"
     ]
    }
   ],
   "source": [
    "hydroxy_trp_flux_analysis = float(flux_variability_analysis(model, model.reactions.phhA, fraction_of_optimum = 0.5)[\"maximum\"][0])\n",
    "print(hydroxy_trp_flux_analysis)"
   ]
  },
  {
   "cell_type": "markdown",
   "metadata": {},
   "source": [
    "Keeping growth rate at 50%, we get around 50% of maximum 5-HTP flux, which is bigger than in case of B.subtilis, but smaller than 1st strategy for E.coli"
   ]
  },
  {
   "cell_type": "markdown",
   "metadata": {},
   "source": [
    "**Knocking out a single gene and setting the objective value of the model for 5-HTP export flux**\n",
    "\n",
    "Only non-zero biomass production flux knock-outs are selected"
   ]
  },
  {
   "cell_type": "code",
   "execution_count": 95,
   "metadata": {},
   "outputs": [],
   "source": [
    "for gene in model.genes:\n",
    "    with model:\n",
    "        gene.knock_out()\n",
    "        model.objective = model.reactions.phhA\n",
    "        solution = model.optimize()\n",
    "        if solution.fluxes.BIOMASS_Ec_iML1515_core_75p37M > 0:\n",
    "            print ('5-HTP export flux:', solution.fluxes.tph, 'Gene ID:', gene.id, 'Biomass production:', solution.fluxes.BIOMASS_Ec_iML1515_core_75p37M)"
   ]
  },
  {
   "cell_type": "markdown",
   "metadata": {},
   "source": [
    "No solutions displayed, no single knock-outs and optmization to maximum 5-HTP production yields positive growth rate"
   ]
  },
  {
   "cell_type": "markdown",
   "metadata": {},
   "source": [
    "**Knocking out a single gene, running optimisation for max biomass production flux and observing 5-HTP export flux**\n",
    "\n",
    "Only non-zero 5-HTP export flux knock-outs are selected"
   ]
  },
  {
   "cell_type": "code",
   "execution_count": 96,
   "metadata": {},
   "outputs": [],
   "source": [
    "knock_out_list = pd.DataFrame(columns=['Gene ID', '5-HTP export flux', 'Biomass production flux'])\n",
    "for gene in model.genes:\n",
    "    with model:\n",
    "        gene.knock_out()\n",
    "        solution = model.optimize()\n",
    "        if solution.fluxes.phhA > 0:\n",
    "            knock_out_list = knock_out_list.append({ 'Gene ID': gene.id, '5-HTP export flux': solution.fluxes.phhA, 'Biomass production flux': model.optimize().objective_value}, ignore_index=True)"
   ]
  },
  {
   "cell_type": "code",
   "execution_count": 97,
   "metadata": {},
   "outputs": [
    {
     "name": "stdout",
     "output_type": "stream",
     "text": [
      "Empty DataFrame\n",
      "Columns: [Gene ID, 5-HTP export flux, Biomass production flux]\n",
      "Index: []\n"
     ]
    }
   ],
   "source": [
    "print(knock_out_list)"
   ]
  },
  {
   "cell_type": "markdown",
   "metadata": {},
   "source": [
    "No solutions, no single knock-outs give rise to positive htp flux with maximum growth rate"
   ]
  },
  {
   "cell_type": "markdown",
   "metadata": {},
   "source": [
    "**Check whether change of carbon source will influence the growth rate at maximum 5-HTP flux**"
   ]
  },
  {
   "cell_type": "code",
   "execution_count": 98,
   "metadata": {},
   "outputs": [],
   "source": [
    "#create list to store the reactions' IDs\n",
    "carbon_uptake = list()\n",
    "\n",
    "#go through all metabolites in the model that have carbon in their chem.structure\n",
    "for metabolite in model.metabolites:\n",
    "    if 'C' in metabolite.elements:\n",
    "        #find metabolites that are external\n",
    "        if metabolite.id[-1] == 'e':\n",
    "            reactions = metabolite.reactions\n",
    "            #pick reactions which exchange the metabolite with the external environment\n",
    "            for element in reactions:\n",
    "                if str(element.id[:2]) == 'EX':\n",
    "                    carbon_uptake.append(element.id)"
   ]
  },
  {
   "cell_type": "code",
   "execution_count": 99,
   "metadata": {
    "collapsed": true,
    "jupyter": {
     "outputs_hidden": true
    }
   },
   "outputs": [
    {
     "data": {
      "text/plain": [
       "['EX_co2_e',\n",
       " 'EX_akg_e',\n",
       " 'EX_gsn_e',\n",
       " 'EX_34dhpac_e',\n",
       " 'EX_anhgm_e',\n",
       " 'EX_dms_e',\n",
       " 'EX_galctn__L_e',\n",
       " 'EX_btn_e',\n",
       " 'EX_ocdcea_e',\n",
       " 'EX_acmum_e',\n",
       " 'EX_adocbl_e',\n",
       " 'EX_novbcn_e',\n",
       " 'EX_feenter_e',\n",
       " 'EX_arbtn_e',\n",
       " 'EX_gln__L_e',\n",
       " 'EX_cpgn_un_e',\n",
       " 'EX_tre_e',\n",
       " 'EX_alaala_e',\n",
       " 'EX_idon__L_e',\n",
       " 'EX_pheme_e',\n",
       " 'EX_all__D_e',\n",
       " 'EX_g1p_e',\n",
       " 'EX_ala__L_e',\n",
       " 'EX_g6p_e',\n",
       " 'EX_mso3_e',\n",
       " 'EX_thrp_e',\n",
       " 'EX_LalaLglu_e',\n",
       " 'EX_metsox_R__L_e',\n",
       " 'EX_g3pe_e',\n",
       " 'EX_ade_e',\n",
       " 'EX_mepn_e',\n",
       " 'EX_rmn_e',\n",
       " 'EX_2ddglcn_e',\n",
       " 'EX_glyb_e',\n",
       " 'EX_glcr_e',\n",
       " 'EX_alltn_e',\n",
       " 'EX_f6p_e',\n",
       " 'EX_ura_e',\n",
       " 'EX_lys__L_e',\n",
       " 'EX_ocdca_e',\n",
       " 'EX_gmp_e',\n",
       " 'EX_but_e',\n",
       " 'EX_LalaDgluMdapDala_e',\n",
       " 'EX_tma_e',\n",
       " 'EX_lyx__L_e',\n",
       " 'EX_gtp_e',\n",
       " 'EX_cellb_e',\n",
       " 'EX_sbt__D_e',\n",
       " 'EX_arg__L_e',\n",
       " 'EX_dgsn_e',\n",
       " 'EX_spmd_e',\n",
       " 'EX_fru_e',\n",
       " 'EX_pyr_e',\n",
       " 'EX_malttr_e',\n",
       " 'EX_cys__D_e',\n",
       " 'EX_3hpppn_e',\n",
       " 'EX_val__L_e',\n",
       " 'EX_hom__L_e',\n",
       " 'EX_dcmp_e',\n",
       " 'EX_dgmp_e',\n",
       " 'EX_met__D_e',\n",
       " 'EX_23ccmp_e',\n",
       " 'EX_dmso_e',\n",
       " 'EX_udpg_e',\n",
       " 'EX_acgal_e',\n",
       " 'EX_thymd_e',\n",
       " 'EX_ac_e',\n",
       " 'EX_etoh_e',\n",
       " 'EX_pro__L_e',\n",
       " 'EX_taur_e',\n",
       " 'EX_xmp_e',\n",
       " 'EX_gam6p_e',\n",
       " 'EX_glcur1p_e',\n",
       " 'EX_nac_e',\n",
       " 'EX_gal_e',\n",
       " 'EX_dha_e',\n",
       " 'EX_gal_bD_e',\n",
       " 'EX_cit_e',\n",
       " 'EX_leu__L_e',\n",
       " 'EX_ala__D_e',\n",
       " 'EX_skm_e',\n",
       " 'EX_galt_e',\n",
       " 'EX_5dglcn_e',\n",
       " 'EX_cynt_e',\n",
       " 'EX_4abzglu_e',\n",
       " 'EX_sulfac_e',\n",
       " 'EX_gam_e',\n",
       " 'EX_met__L_e',\n",
       " 'EX_acmana_e',\n",
       " 'EX_ascb__L_e',\n",
       " 'EX_malt_e',\n",
       " 'EX_23dappa_e',\n",
       " 'EX_sq_e',\n",
       " 'EX_progly_e',\n",
       " 'EX_man_e',\n",
       " 'EX_dcyt_e',\n",
       " 'EX_orot_e',\n",
       " 'EX_nmn_e',\n",
       " 'EX_man6p_e',\n",
       " 'EX_asn__L_e',\n",
       " 'EX_lcts_e',\n",
       " 'EX_udpglcur_e',\n",
       " 'EX_dca_e',\n",
       " 'EX_chtbs_e',\n",
       " 'EX_dopa_e',\n",
       " 'EX_isetac_e',\n",
       " 'EX_metglcur_e',\n",
       " 'EX_adn_e',\n",
       " 'EX_fe3dcit_e',\n",
       " 'EX_lac__D_e',\n",
       " 'EX_damp_e',\n",
       " 'EX_feoxam_e',\n",
       " 'EX_lipoate_e',\n",
       " 'EX_doxrbcn_e',\n",
       " 'EX_ser__D_e',\n",
       " 'EX_amp_e',\n",
       " 'EX_arab__L_e',\n",
       " 'EX_crn__D_e',\n",
       " 'EX_pppn_e',\n",
       " 'EX_3hcinnm_e',\n",
       " 'EX_LalaDgluMdap_e',\n",
       " 'EX_chol_e',\n",
       " 'EX_gly_e',\n",
       " 'EX_tmao_e',\n",
       " 'EX_enlipa_e',\n",
       " 'EX_glyc_e',\n",
       " 'EX_dad_2_e',\n",
       " 'EX_tartr__L_e',\n",
       " 'EX_octa_e',\n",
       " 'EX_thym_e',\n",
       " 'EX_gdp_e',\n",
       " 'EX_4hoxpacd_e',\n",
       " 'EX_cbi_e',\n",
       " 'EX_crn_e',\n",
       " 'EX_dtmp_e',\n",
       " 'EX_thm_e',\n",
       " 'EX_glyald_e',\n",
       " 'EX_indole_e',\n",
       " 'EX_mththf_e',\n",
       " 'EX_g3pg_e',\n",
       " 'EX_orn_e',\n",
       " 'EX_4abut_e',\n",
       " 'EX_glu__L_e',\n",
       " 'EX_manglyc_e',\n",
       " 'EX_halipa_e',\n",
       " 'EX_r5p_e',\n",
       " 'EX_acser_e',\n",
       " 'EX_dxylnt_e',\n",
       " 'EX_tartr__D_e',\n",
       " 'EX_ile__L_e',\n",
       " 'EX_his__L_e',\n",
       " 'EX_hxan_e',\n",
       " 'EX_tyr__L_e',\n",
       " 'EX_acac_e',\n",
       " 'EX_fmn_e',\n",
       " 'EX_cys__L_e',\n",
       " 'EX_glyc3p_e',\n",
       " 'EX_26dap__M_e',\n",
       " 'EX_g3ps_e',\n",
       " 'EX_ddca_e',\n",
       " 'EX_hacolipa_e',\n",
       " 'EX_arbt_e',\n",
       " 'EX_fad_e',\n",
       " 'EX_pacald_e',\n",
       " 'EX_inost_e',\n",
       " 'EX_fe3dhbzs_e',\n",
       " 'EX_cytd_e',\n",
       " 'EX_tcynt_e',\n",
       " 'EX_glyclt_e',\n",
       " 'EX_12ppd__S_e',\n",
       " 'EX_ppa_e',\n",
       " 'EX_xan_e',\n",
       " 'EX_uacgam_e',\n",
       " 'EX_ttdcea_e',\n",
       " 'EX_fruur_e',\n",
       " 'EX_dump_e',\n",
       " 'EX_imp_e',\n",
       " 'EX_gal1p_e',\n",
       " 'EX_xyl__D_e',\n",
       " 'EX_galctn__D_e',\n",
       " 'EX_glc__D_e',\n",
       " 'EX_g3pi_e',\n",
       " 'EX_g3pc_e',\n",
       " 'EX_hdca_e',\n",
       " 'EX_fald_e',\n",
       " 'EX_csn_e',\n",
       " 'EX_succ_e',\n",
       " 'EX_ser__L_e',\n",
       " 'EX_xtsn_e',\n",
       " 'EX_ttdca_e',\n",
       " 'EX_mmet_e',\n",
       " 'EX_fecrm_e',\n",
       " 'EX_mal__D_e',\n",
       " 'EX_ins_e',\n",
       " 'EX_arbtn_fe3_e',\n",
       " 'EX_gthox_e',\n",
       " 'EX_3gmp_e',\n",
       " 'EX_3hpp_e',\n",
       " 'EX_acgam_e',\n",
       " 'EX_pnto__R_e',\n",
       " 'EX_glcn_e',\n",
       " 'EX_duri_e',\n",
       " 'EX_minohp_e',\n",
       " 'EX_acnam_e',\n",
       " 'EX_cgly_e',\n",
       " 'EX_ump_e',\n",
       " 'EX_ch4_e',\n",
       " 'EX_udpgal_e',\n",
       " 'EX_12ppd__R_e',\n",
       " 'EX_glyc2p_e',\n",
       " 'EX_ttrcyc_e',\n",
       " 'EX_lac__L_e',\n",
       " 'EX_cbl1_e',\n",
       " 'EX_xylu__L_e',\n",
       " 'EX_pydx_e',\n",
       " 'EX_gua_e',\n",
       " 'EX_glyc__R_e',\n",
       " 'EX_eca4colipa_e',\n",
       " 'EX_cyan_e',\n",
       " 'EX_ala_B_e',\n",
       " 'EX_fecrm_un_e',\n",
       " 'EX_fuc__L_e',\n",
       " 'EX_3cmp_e',\n",
       " 'EX_butso3_e',\n",
       " 'EX_ptrc_e',\n",
       " 'EX_hxa_e',\n",
       " 'EX_acgal1p_e',\n",
       " 'EX_malthx_e',\n",
       " 'EX_dimp_e',\n",
       " 'EX_3ump_e',\n",
       " 'EX_ethso3_e',\n",
       " 'EX_psclys_e',\n",
       " 'EX_quin_e',\n",
       " 'EX_ppal_e',\n",
       " 'EX_sucr_e',\n",
       " 'EX_urea_e',\n",
       " 'EX_fusa_e',\n",
       " 'EX_tyrp_e',\n",
       " 'EX_hdcea_e',\n",
       " 'EX_gthrd_e',\n",
       " 'EX_2dglc_e',\n",
       " 'EX_frulys_e',\n",
       " 'EX_cmp_e',\n",
       " 'EX_pydam_e',\n",
       " 'EX_3amp_e',\n",
       " 'EX_14glucan_e',\n",
       " 'EX_asp__L_e',\n",
       " 'EX_thr__L_e',\n",
       " 'EX_maltpt_e',\n",
       " 'EX_metsox_S__L_e',\n",
       " 'EX_15dap_e',\n",
       " 'EX_meoh_e',\n",
       " 'EX_melib_e',\n",
       " 'EX_etha_e',\n",
       " 'EX_maltttr_e',\n",
       " 'EX_glcur_e',\n",
       " 'EX_fe3hox_e',\n",
       " 'EX_gbbtn_e',\n",
       " 'EX_enter_e',\n",
       " 'EX_acgam1p_e',\n",
       " 'EX_LalaDglu_e',\n",
       " 'EX_urate_e',\n",
       " 'EX_cm_e',\n",
       " 'EX_agm_e',\n",
       " 'EX_mal__L_e',\n",
       " 'EX_phe__L_e',\n",
       " 'EX_cpgn_e',\n",
       " 'EX_fum_e',\n",
       " 'EX_acald_e',\n",
       " 'EX_peamn_e',\n",
       " 'EX_feoxam_un_e',\n",
       " 'EX_udpacgal_e',\n",
       " 'EX_fe3hox_un_e',\n",
       " 'EX_pydxn_e',\n",
       " 'EX_23cgmp_e',\n",
       " 'EX_tym_e',\n",
       " 'EX_pser__L_e',\n",
       " 'EX_5mtr_e',\n",
       " 'EX_mincyc_e',\n",
       " 'EX_rfamp_e',\n",
       " 'EX_rib__D_e',\n",
       " 'EX_uri_e',\n",
       " 'EX_trp__L_e',\n",
       " 'EX_din_e',\n",
       " 'EX_galct__D_e',\n",
       " 'EX_galur_e',\n",
       " 'EX_23camp_e',\n",
       " 'EX_dhps_e',\n",
       " 'EX_mnl_e',\n",
       " 'EX_for_e',\n",
       " 'EX_23cump_e']"
      ]
     },
     "execution_count": 99,
     "metadata": {},
     "output_type": "execute_result"
    }
   ],
   "source": [
    "carbon_uptake"
   ]
  },
  {
   "cell_type": "code",
   "execution_count": 100,
   "metadata": {},
   "outputs": [
    {
     "data": {
      "text/plain": [
       "{'EX_pi_e': 1000.0,\n",
       " 'EX_co2_e': 1000.0,\n",
       " 'EX_fe3_e': 1000.0,\n",
       " 'EX_h_e': 1000.0,\n",
       " 'EX_mn2_e': 1000.0,\n",
       " 'EX_fe2_e': 1000.0,\n",
       " 'EX_glc__D_e': 10.0,\n",
       " 'EX_zn2_e': 1000.0,\n",
       " 'EX_mg2_e': 1000.0,\n",
       " 'EX_ca2_e': 1000.0,\n",
       " 'EX_ni2_e': 1000.0,\n",
       " 'EX_cu2_e': 1000.0,\n",
       " 'EX_sel_e': 1000.0,\n",
       " 'EX_cobalt2_e': 1000.0,\n",
       " 'EX_h2o_e': 1000.0,\n",
       " 'EX_mobd_e': 1000.0,\n",
       " 'EX_so4_e': 1000.0,\n",
       " 'EX_nh4_e': 1000.0,\n",
       " 'EX_k_e': 1000.0,\n",
       " 'EX_na1_e': 1000.0,\n",
       " 'EX_cl_e': 1000.0,\n",
       " 'EX_o2_e': 1000.0,\n",
       " 'EX_tungs_e': 1000.0,\n",
       " 'EX_slnt_e': 1000.0}"
      ]
     },
     "execution_count": 100,
     "metadata": {},
     "output_type": "execute_result"
    }
   ],
   "source": [
    "model.medium"
   ]
  },
  {
   "cell_type": "code",
   "execution_count": 101,
   "metadata": {},
   "outputs": [
    {
     "name": "stderr",
     "output_type": "stream",
     "text": [
      "/opt/conda/lib/python3.8/site-packages/cobra/util/solver.py:508: UserWarning: Solver status is 'infeasible'.\n",
      "  warn(f\"Solver status is '{status}'.\", UserWarning)\n"
     ]
    }
   ],
   "source": [
    "medium = model.medium\n",
    "\n",
    "with model:\n",
    "    #replace glucose with each exchange reaction from the possible carbon source reactions\n",
    "    for reaction in carbon_uptake:\n",
    "        medium['EX_glc__D_e'] = 0\n",
    "        medium[reaction] = 10\n",
    "        model.medium = medium\n",
    "        model.objective = model.reactions.phhA\n",
    "        solution = model.optimize()\n",
    "        max_5HTP_production = solution.objective_value\n",
    "        if solution.fluxes.BIOMASS_Ec_iML1515_core_75p37M > 0:\n",
    "            print(solution.fluxes.BIOMASS_Ec_iML1515_core_75p37M)\n",
    "            print(max_5HTP_production)"
   ]
  },
  {
   "cell_type": "code",
   "execution_count": 102,
   "metadata": {},
   "outputs": [],
   "source": [
    "write_sbml_model(model, \"data/iML1515_fs.xml\")"
   ]
  },
  {
   "cell_type": "markdown",
   "metadata": {},
   "source": [
    "**Predicting pathway to 5HTP**"
   ]
  },
  {
   "cell_type": "code",
   "execution_count": 220,
   "metadata": {},
   "outputs": [],
   "source": [
    "from IPython.display import display\n",
    "import re"
   ]
  },
  {
   "cell_type": "code",
   "execution_count": 221,
   "metadata": {},
   "outputs": [
    {
     "ename": "ModuleNotFoundError",
     "evalue": "No module named 'cplex'",
     "output_type": "error",
     "traceback": [
      "\u001b[0;31m---------------------------------------------------------------------------\u001b[0m",
      "\u001b[0;31mModuleNotFoundError\u001b[0m                       Traceback (most recent call last)",
      "\u001b[0;32m<ipython-input-221-3e9f94dbc66b>\u001b[0m in \u001b[0;36m<module>\u001b[0;34m\u001b[0m\n\u001b[1;32m      1\u001b[0m \u001b[0;31m## Making sure you have cplex installed\u001b[0m\u001b[0;34m\u001b[0m\u001b[0;34m\u001b[0m\u001b[0;34m\u001b[0m\u001b[0m\n\u001b[0;32m----> 2\u001b[0;31m \u001b[0;32mimport\u001b[0m \u001b[0mcplex\u001b[0m\u001b[0;34m\u001b[0m\u001b[0;34m\u001b[0m\u001b[0m\n\u001b[0m",
      "\u001b[0;31mModuleNotFoundError\u001b[0m: No module named 'cplex'"
     ]
    }
   ],
   "source": [
    "## Making sure you have cplex installed\n",
    "import cplex"
   ]
  },
  {
   "cell_type": "code",
   "execution_count": 222,
   "metadata": {},
   "outputs": [
    {
     "ename": "ModuleNotFoundError",
     "evalue": "No module named 'cameo'",
     "output_type": "error",
     "traceback": [
      "\u001b[0;31m---------------------------------------------------------------------------\u001b[0m",
      "\u001b[0;31mModuleNotFoundError\u001b[0m                       Traceback (most recent call last)",
      "\u001b[0;32m<ipython-input-222-5f82a84f70cf>\u001b[0m in \u001b[0;36m<module>\u001b[0;34m\u001b[0m\n\u001b[1;32m      1\u001b[0m \u001b[0;32mimport\u001b[0m \u001b[0mre\u001b[0m\u001b[0;34m\u001b[0m\u001b[0;34m\u001b[0m\u001b[0m\n\u001b[1;32m      2\u001b[0m \u001b[0;32mfrom\u001b[0m \u001b[0mcobra\u001b[0m\u001b[0;34m.\u001b[0m\u001b[0mio\u001b[0m \u001b[0;32mimport\u001b[0m \u001b[0mread_sbml_model\u001b[0m\u001b[0;34m\u001b[0m\u001b[0;34m\u001b[0m\u001b[0m\n\u001b[0;32m----> 3\u001b[0;31m \u001b[0;32mfrom\u001b[0m \u001b[0mcameo\u001b[0m\u001b[0;34m.\u001b[0m\u001b[0mstrain_design\u001b[0m \u001b[0;32mimport\u001b[0m \u001b[0mpathway_prediction\u001b[0m\u001b[0;34m\u001b[0m\u001b[0;34m\u001b[0m\u001b[0m\n\u001b[0m",
      "\u001b[0;31mModuleNotFoundError\u001b[0m: No module named 'cameo'"
     ]
    }
   ],
   "source": [
    "import re\n",
    "from cobra.io import read_sbml_model\n",
    "from cameo.strain_design import pathway_prediction"
   ]
  },
  {
   "cell_type": "code",
   "execution_count": 223,
   "metadata": {},
   "outputs": [
    {
     "ename": "NameError",
     "evalue": "name 'pathway_prediction' is not defined",
     "output_type": "error",
     "traceback": [
      "\u001b[0;31m---------------------------------------------------------------------------\u001b[0m",
      "\u001b[0;31mNameError\u001b[0m                                 Traceback (most recent call last)",
      "\u001b[0;32m<ipython-input-223-7455a0bef4cd>\u001b[0m in \u001b[0;36m<module>\u001b[0;34m\u001b[0m\n\u001b[0;32m----> 1\u001b[0;31m \u001b[0mpredictor\u001b[0m \u001b[0;34m=\u001b[0m \u001b[0mpathway_prediction\u001b[0m\u001b[0;34m.\u001b[0m\u001b[0mPathwayPredictor\u001b[0m\u001b[0;34m(\u001b[0m\u001b[0mmodel\u001b[0m\u001b[0;34m)\u001b[0m\u001b[0;34m\u001b[0m\u001b[0;34m\u001b[0m\u001b[0m\n\u001b[0m",
      "\u001b[0;31mNameError\u001b[0m: name 'pathway_prediction' is not defined"
     ]
    }
   ],
   "source": [
    "predictor = pathway_prediction.PathwayPredictor(model)"
   ]
  },
  {
   "cell_type": "markdown",
   "metadata": {},
   "source": [
    "No solutions, changing of medium does not influence the increase of growth rate at 5-HTP maximum flux production"
   ]
  },
  {
   "cell_type": "markdown",
   "metadata": {},
   "source": [
    "**Calculating yields at max 5HTP production:**\n"
   ]
  },
  {
   "cell_type": "code",
   "execution_count": 224,
   "metadata": {},
   "outputs": [
    {
     "name": "stdout",
     "output_type": "stream",
     "text": [
      "the flux of 5htp production:  4.279204339963833 [mmol gDW^-1 h^-1]\n",
      "The molar yield of 5htp  0.4279204339963833 [mmol-5htp / mmol-glc]\n",
      "The mass yield of 5htp  0.01697806667530416 [g-5htp / g-glc]\n",
      "The c-cmol yield of 5thp  0.025462551559367524 [cmol-5htp / cmol-glc]\n"
     ]
    }
   ],
   "source": [
    "with model:\n",
    "    model.objective = model.reactions.EX_htrp\n",
    "    solution = model.optimize()\n",
    "    print(\"the flux of 5htp production: \",solution.fluxes[\"EX_htrp\"] , \"[mmol gDW^-1 h^-1]\")\n",
    "    molar_yield_5htp = solution.fluxes['EX_htrp'] / (-1. * solution.fluxes['EX_glc__D_e'])\n",
    "    print(\"The molar yield of 5htp \", molar_yield_5htp, \"[mmol-5htp / mmol-glc]\")\n",
    "    # calculating mass yield\n",
    "    M_5htp = 0.22023 # g/mmol\n",
    "    M_glc = 0.180156 # g/mmol\n",
    "    mass_yield_5htp = solution.fluxes['EX_htrp']*M_5htp / (-1. * solution.fluxes['EX_glc__D_e'])*M_glc\n",
    "    print(\"The mass yield of 5htp \", mass_yield_5htp , \"[g-5htp / g-glc]\")\n",
    "    # calculating cmol yield\n",
    "    # 5HTP: C11H12N2O3\n",
    "    cmol_5htp = M_5htp/11\n",
    "    # glucose: C6H12O6 \n",
    "    cmol_glc = M_glc/6\n",
    "    cmol_yield_5htp = mass_yield_5htp * (cmol_glc / cmol_5htp)\n",
    "    print(\"The c-cmol yield of 5thp \", cmol_yield_5htp, \"[cmol-5htp / cmol-glc]\")\n",
    "    "
   ]
  },
  {
   "cell_type": "code",
   "execution_count": 225,
   "metadata": {},
   "outputs": [
    {
     "data": {
      "text/html": [
       "\n",
       "        <table>\n",
       "            <tr>\n",
       "                <td><strong>Reaction identifier</strong></td><td>EX_glyc_e</td>\n",
       "            </tr><tr>\n",
       "                <td><strong>Name</strong></td><td>Glycerol exchange</td>\n",
       "            </tr><tr>\n",
       "                <td><strong>Memory address</strong></td>\n",
       "                <td>0x07f7d9741bf40</td>\n",
       "            </tr><tr>\n",
       "                <td><strong>Stoichiometry</strong></td>\n",
       "                <td>\n",
       "                    <p style='text-align:right'>glyc_e --></p>\n",
       "                    <p style='text-align:right'>Glycerol --></p>\n",
       "                </td>\n",
       "            </tr><tr>\n",
       "                <td><strong>GPR</strong></td><td></td>\n",
       "            </tr><tr>\n",
       "                <td><strong>Lower bound</strong></td><td>0.0</td>\n",
       "            </tr><tr>\n",
       "                <td><strong>Upper bound</strong></td><td>1000.0</td>\n",
       "            </tr>\n",
       "        </table>\n",
       "        "
      ],
      "text/plain": [
       "<Reaction EX_glyc_e at 0x7f7d9741bf40>"
      ]
     },
     "execution_count": 225,
     "metadata": {},
     "output_type": "execute_result"
    }
   ],
   "source": [
    "model.reactions.EX_glyc_e"
   ]
  },
  {
   "cell_type": "code",
   "execution_count": 226,
   "metadata": {},
   "outputs": [
    {
     "name": "stdout",
     "output_type": "stream",
     "text": [
      "the flux of 5htp production:  466.75397102837303 [mmol gDW^-1 h^-1]\n",
      "The molar yield of 5htp  46.6753971028373 [mmol-5htp / mmol-glyc]\n",
      "The mass yield of 5htp  0.9466228278074792 [g-5htp / g-glyc]\n",
      "The c-cmol yield of 5thp  1.451390906992233 [cmol-5htp / cmol-glyc]\n"
     ]
    }
   ],
   "source": [
    "with model:\n",
    "    #replace glucose with glycerol\n",
    "    medium['EX_glc__D_e'] = 0\n",
    "    medium[\"EX_glyc_e\"] = 10\n",
    "    model.medium = medium\n",
    "    model.objective = model.reactions.EX_htrp\n",
    "    solution = model.optimize()\n",
    "    print(\"the flux of 5htp production: \",solution.fluxes[\"EX_htrp\"] , \"[mmol gDW^-1 h^-1]\")\n",
    "    molar_yield_5htp = solution.fluxes['EX_htrp'] / (-1. * solution.fluxes['EX_glyc_e'])\n",
    "    print(\"The molar yield of 5htp \", molar_yield_5htp, \"[mmol-5htp / mmol-glyc]\")\n",
    "    # calculating mass yield\n",
    "    M_5htp = 220.23/1000 # g/mmol\n",
    "    M_glyc = 92.09/1000 # g/mmol\n",
    "    mass_yield_5htp = solution.fluxes['EX_htrp']*M_5htp / (-1. * solution.fluxes['EX_glyc_e'])*M_glyc\n",
    "    print(\"The mass yield of 5htp \", mass_yield_5htp , \"[g-5htp / g-glyc]\")\n",
    "    # calculating cmol yield\n",
    "    # 5HTP: C11H12N2O3\n",
    "    cmol_5htp = M_5htp/11\n",
    "    # glycerol: C3H8O3 \n",
    "    cmol_glyc = M_glyc/3\n",
    "    cmol_yield_5htp = mass_yield_5htp * (cmol_glyc / cmol_5htp)\n",
    "    print(\"The c-cmol yield of 5thp \", cmol_yield_5htp, \"[cmol-5htp / cmol-glyc]\")"
   ]
  },
  {
   "cell_type": "markdown",
   "metadata": {},
   "source": [
    "**Calculating yield at 50% growth**"
   ]
  },
  {
   "cell_type": "code",
   "execution_count": 227,
   "metadata": {},
   "outputs": [
    {
     "name": "stdout",
     "output_type": "stream",
     "text": [
      "the flux of 5htp production:  2.1447464147558213 [mmol gDW^-1 h^-1]\n",
      "The molar yield of 5htp  0.41702919836457414 [mmol-5htp / mmol-glc]\n",
      "The mass yield of 5htp  0.01654594866914494 [g-5htp / g-glc]\n",
      "The c-cmol yield of 5thp  0.024814490315294035 [cmol-5htp / cmol-glc]\n"
     ]
    }
   ],
   "source": [
    "with model:\n",
    "    # calculating flux at 50% growth\n",
    "    hydroxy_trp_50 = float(flux_variability_analysis(model, model.reactions.phhA, fraction_of_optimum = 0.5)[\"maximum\"][0])\n",
    "    glucose_50 = float(flux_variability_analysis(model, model.reactions.EX_glc__D_e, fraction_of_optimum = 0.5)[\"maximum\"][0])\n",
    "    print(\"the flux of 5htp production: \",hydroxy_trp_50, \"[mmol gDW^-1 h^-1]\")\n",
    "    molar_yield_5htp = hydroxy_trp_50 / (-1. * glucose_50)\n",
    "    print(\"The molar yield of 5htp \", molar_yield_5htp, \"[mmol-5htp / mmol-glc]\")\n",
    "    # calculating mass yield\n",
    "    M_5htp = 0.22023 # g/mmol\n",
    "    M_glc = 0.180156 # g/mmol\n",
    "    mass_yield_5htp = hydroxy_trp_50*M_5htp / (-1. * glucose_50)*M_glc\n",
    "    print(\"The mass yield of 5htp \", mass_yield_5htp , \"[g-5htp / g-glc]\")\n",
    "    # calculating cmol yield\n",
    "    # 5HTP: C11H12N2O3\n",
    "    cmol_5htp = M_5htp/11\n",
    "    # glucose: C6H12O6 \n",
    "    cmol_glc = M_glc/6\n",
    "    cmol_yield_5htp = mass_yield_5htp * (cmol_glc / cmol_5htp)\n",
    "    print(\"The c-cmol yield of 5thp \", cmol_yield_5htp, \"[cmol-5htp / cmol-glc]\")\n",
    "    "
   ]
  },
  {
   "cell_type": "code",
   "execution_count": 228,
   "metadata": {},
   "outputs": [
    {
     "name": "stdout",
     "output_type": "stream",
     "text": [
      "the flux of 5htp production:  287.5015450249384 [mmol gDW^-1 h^-1]\n",
      "The molar yield of 5htp  -0.2875015450249384 [mmol-5htp / mmol-glyc]\n",
      "The mass yield of 5htp  -0.005830813285870957 [g-5htp / g-glyc]\n",
      "The c-cmol yield of 5thp  -0.008939980248610424 [cmol-5htp / cmol-glyc]\n"
     ]
    }
   ],
   "source": [
    "with model:\n",
    "    #replace glucose with glycerol\n",
    "    medium['EX_glc__D_e'] = 0\n",
    "    medium[\"EX_glyc_e\"] = 10\n",
    "    model.medium = medium\n",
    "    hydroxy_trp_50 = float(flux_variability_analysis(model, model.reactions.phhA, fraction_of_optimum = 0.5)[\"maximum\"][0])\n",
    "    glycerol_50 = float(flux_variability_analysis(model, model.reactions.EX_glyc_e, fraction_of_optimum = 0.5)[\"maximum\"][0])\n",
    "    print(\"the flux of 5htp production: \",hydroxy_trp_50 , \"[mmol gDW^-1 h^-1]\")\n",
    "    molar_yield_5htp = hydroxy_trp_50 / (-1. * glycerol_50)\n",
    "    print(\"The molar yield of 5htp \", molar_yield_5htp, \"[mmol-5htp / mmol-glyc]\")\n",
    "    # calculating mass yield\n",
    "    M_5htp = 220.23/1000 # g/mmol\n",
    "    M_glyc = 92.09/1000 # g/mmol\n",
    "    mass_yield_5htp = hydroxy_trp_50*M_5htp / (-1. * glycerol_50)*M_glyc\n",
    "    print(\"The mass yield of 5htp \", mass_yield_5htp , \"[g-5htp / g-glyc]\")\n",
    "    # calculating cmol yield\n",
    "    # 5HTP: C11H12N2O3\n",
    "    cmol_5htp = M_5htp/11\n",
    "    # glycerol: C3H8O3 \n",
    "    cmol_glyc = M_glyc/3\n",
    "    cmol_yield_5htp = mass_yield_5htp * (cmol_glyc / cmol_5htp)\n",
    "    print(\"The c-cmol yield of 5thp \", cmol_yield_5htp, \"[cmol-5htp / cmol-glyc]\")"
   ]
  },
  {
   "cell_type": "code",
   "execution_count": null,
   "metadata": {},
   "outputs": [],
   "source": []
  },
  {
   "cell_type": "markdown",
   "metadata": {},
   "source": [
    "# Creating and simulating a DFBA model\n"
   ]
  },
  {
   "cell_type": "code",
   "execution_count": 103,
   "metadata": {},
   "outputs": [],
   "source": [
    "from os.path import dirname, join, pardir\n",
    "\n",
    "from cobra.io import read_sbml_model\n",
    "\n",
    "from dfba import DfbaModel, ExchangeFlux, KineticVariable"
   ]
  },
  {
   "cell_type": "code",
   "execution_count": 104,
   "metadata": {},
   "outputs": [],
   "source": [
    "# Defining model\n",
    "fba_model = read_sbml_model(\"data/iML1515.xml\")\n",
    "fba_model.solver = \"glpk\"\n",
    "dfba_model = DfbaModel(fba_model)"
   ]
  },
  {
   "cell_type": "code",
   "execution_count": 105,
   "metadata": {},
   "outputs": [],
   "source": [
    "X = KineticVariable(\"Biomass\")\n",
    "Gluc = KineticVariable(\"Glucose\")\n",
    "Oxy = KineticVariable(\"Oxygen\")\n",
    "\n",
    "dfba_model.add_kinetic_variables([X, Gluc, Oxy])"
   ]
  },
  {
   "cell_type": "code",
   "execution_count": 106,
   "metadata": {},
   "outputs": [],
   "source": [
    "# Exchange fluxes\n",
    "mu = ExchangeFlux(\"BIOMASS_Ec_iML1515_core_75p37M\")\n",
    "v_GL = ExchangeFlux(\"EX_glc__D_e\")\n",
    "v_O = ExchangeFlux(\"EX_o2_e\")\n",
    "\n",
    "\n",
    "dfba_model.add_exchange_fluxes([mu, v_GL, v_O])"
   ]
  },
  {
   "cell_type": "code",
   "execution_count": 107,
   "metadata": {},
   "outputs": [],
   "source": [
    "# Rhs expressions\n",
    "dfba_model.add_rhs_expression(\"Biomass\", mu * X)\n",
    "dfba_model.add_rhs_expression(\"Glucose\", v_GL * 180.1559/1000 * X) # v_GL [mmol gDW^-1 h^-1] * 0.18 g/mmol * gDW/L\n",
    "dfba_model.add_rhs_expression(\"Oxygen\", 0) # O2 is kept constant\n"
   ]
  },
  {
   "cell_type": "code",
   "execution_count": 110,
   "metadata": {},
   "outputs": [],
   "source": [
    "# Adding bounds for oxygen\n",
    "vmax_o2 = 15 # [mmol gDW^-1 h^-1]\n",
    "Ko = 0.024 # mmol/L O2 Michaelis-Mentent constant\n",
    "dfba_model.add_exchange_flux_lb(\"EX_o2_e\", vmax_o2 * (Oxy / (Ko + Oxy)), Oxy)"
   ]
  },
  {
   "cell_type": "code",
   "execution_count": 111,
   "metadata": {},
   "outputs": [],
   "source": [
    "vmax_glc = 10.5 # [mmol gDW^-1 h^-1]\n",
    "Kg = 0.0027 # g/L Glucose Michaelis-Mentent constant\n",
    "dfba_model.add_exchange_flux_lb(\"EX_glc__D_e\", vmax_glc * (Gluc / (Kg + Gluc)), Gluc)"
   ]
  },
  {
   "cell_type": "code",
   "execution_count": 112,
   "metadata": {},
   "outputs": [],
   "source": [
    "# add initial conditions and launch simulation\n",
    "dfba_model.add_initial_conditions(\n",
    "    {\n",
    "        \"Biomass\": 0.01, # (gDW/L)\n",
    "        \"Glucose\": 22.0, # (g/L)   [Kopp et al. 2018]\n",
    "        \"Oxygen\": 0.24,  # (mmol/L)\n",
    "    }\n",
    ")\n",
    "concentrations, trajectories = dfba_model.simulate(0.0, 12.0, 0.1, [\"EX_glc__D_e\"])"
   ]
  },
  {
   "cell_type": "code",
   "execution_count": 113,
   "metadata": {},
   "outputs": [],
   "source": [
    "# from dfba.plot.plotly import *\n",
    "from dfba.plot.matplotlib import *"
   ]
  },
  {
   "cell_type": "code",
   "execution_count": 114,
   "metadata": {},
   "outputs": [
    {
     "data": {
      "image/png": "[encoded data removed]",
      "text/plain": [
       "<Figure size 432x288 with 2 Axes>"
      ]
     },
     "metadata": {
      "needs_background": "light"
     },
     "output_type": "display_data"
    }
   ],
   "source": [
    "plot_concentrations(concentrations)"
   ]
  },
  {
   "cell_type": "code",
   "execution_count": 115,
   "metadata": {},
   "outputs": [
    {
     "data": {
      "image/png": "[encoded data removed]",
      "text/plain": [
       "<Figure size 432x288 with 1 Axes>"
      ]
     },
     "metadata": {
      "needs_background": "light"
     },
     "output_type": "display_data"
    }
   ],
   "source": [
    "plot_trajectories(trajectories)"
   ]
  },
  {
   "cell_type": "markdown",
   "metadata": {},
   "source": [
    "**Adding production of 5-HTP**"
   ]
  },
  {
   "cell_type": "code",
   "execution_count": 153,
   "metadata": {},
   "outputs": [],
   "source": [
    "from cobra.io import read_sbml_model\n",
    "from cobra.io import write_sbml_model\n",
    "from cobra import Reaction, Metabolite\n",
    "import pandas as pd\n",
    "from os.path import dirname, join, pardir\n",
    "\n",
    "from cobra.io import read_sbml_model\n",
    "\n",
    "from dfba import DfbaModel, ExchangeFlux, KineticVariable\n",
    "from cobra.flux_analysis import flux_variability_analysis\n",
    "# from dfba.plot.plotly import *\n",
    "from dfba.plot.matplotlib import *"
   ]
  },
  {
   "cell_type": "code",
   "execution_count": 154,
   "metadata": {},
   "outputs": [],
   "source": [
    "# Defining model\n",
    "fba_model = read_sbml_model('data/iML1515_fs.xml')\n",
    "fba_model.solver = \"glpk\"\n",
    "dfba_model = DfbaModel(fba_model)"
   ]
  },
  {
   "cell_type": "code",
   "execution_count": 155,
   "metadata": {},
   "outputs": [
    {
     "data": {
      "text/html": [
       "\n",
       "        <table>\n",
       "            <tr>\n",
       "                <td><strong>Reaction identifier</strong></td><td>phhA</td>\n",
       "            </tr><tr>\n",
       "                <td><strong>Name</strong></td><td></td>\n",
       "            </tr><tr>\n",
       "                <td><strong>Memory address</strong></td>\n",
       "                <td>0x07f74238a8eb0</td>\n",
       "            </tr><tr>\n",
       "                <td><strong>Stoichiometry</strong></td>\n",
       "                <td>\n",
       "                    <p style='text-align:right'>o2_c + thmnp_c + trp__L_c --> hthpth_c + htrp_c</p>\n",
       "                    <p style='text-align:right'>O2 O2 + Tetrahydromonapterin + L-Tryptophan --> +</p>\n",
       "                </td>\n",
       "            </tr><tr>\n",
       "                <td><strong>GPR</strong></td><td></td>\n",
       "            </tr><tr>\n",
       "                <td><strong>Lower bound</strong></td><td>0.0</td>\n",
       "            </tr><tr>\n",
       "                <td><strong>Upper bound</strong></td><td>1000.0</td>\n",
       "            </tr>\n",
       "        </table>\n",
       "        "
      ],
      "text/plain": [
       "<Reaction phhA at 0x7f74238a8eb0>"
      ]
     },
     "execution_count": 155,
     "metadata": {},
     "output_type": "execute_result"
    }
   ],
   "source": [
    "fba_model.reactions.phhA"
   ]
  },
  {
   "cell_type": "code",
   "execution_count": 156,
   "metadata": {},
   "outputs": [],
   "source": [
    "# setting the flux of 5htp to the flux at half growth\n",
    "#fba_model.reactions.phhA.flux = flux_variability_analysis(fba_model, fba_model.reactions.phhA, fraction_of_optimum = 0.5)[\"maximum\"][0]\n",
    "#print(fba_model.reactions.phhA.flux)\n",
    "# setting the biomass at half growth\n"
   ]
  },
  {
   "cell_type": "code",
   "execution_count": 157,
   "metadata": {},
   "outputs": [
    {
     "data": {
      "text/html": [
       "\n",
       "        <table>\n",
       "            <tr>\n",
       "                <td><strong>Reaction identifier</strong></td><td>phhA</td>\n",
       "            </tr><tr>\n",
       "                <td><strong>Name</strong></td><td></td>\n",
       "            </tr><tr>\n",
       "                <td><strong>Memory address</strong></td>\n",
       "                <td>0x07f74238a8eb0</td>\n",
       "            </tr><tr>\n",
       "                <td><strong>Stoichiometry</strong></td>\n",
       "                <td>\n",
       "                    <p style='text-align:right'>o2_c + thmnp_c + trp__L_c --> hthpth_c + htrp_c</p>\n",
       "                    <p style='text-align:right'>O2 O2 + Tetrahydromonapterin + L-Tryptophan --> +</p>\n",
       "                </td>\n",
       "            </tr><tr>\n",
       "                <td><strong>GPR</strong></td><td></td>\n",
       "            </tr><tr>\n",
       "                <td><strong>Lower bound</strong></td><td>0.0</td>\n",
       "            </tr><tr>\n",
       "                <td><strong>Upper bound</strong></td><td>1000.0</td>\n",
       "            </tr>\n",
       "        </table>\n",
       "        "
      ],
      "text/plain": [
       "<Reaction phhA at 0x7f74238a8eb0>"
      ]
     },
     "execution_count": 157,
     "metadata": {},
     "output_type": "execute_result"
    }
   ],
   "source": [
    "fba_model.reactions.phhA"
   ]
  },
  {
   "cell_type": "code",
   "execution_count": 158,
   "metadata": {},
   "outputs": [],
   "source": [
    "#X = KineticVariable(\"Biomass\")\n",
    "HTP = KineticVariable(\"5HTP\")\n",
    "Gluc = KineticVariable(\"Glucose\")\n",
    "Oxy = KineticVariable(\"Oxygen\")\n",
    "\n",
    "dfba_model.add_kinetic_variables([X, HTP, Gluc, Oxy])"
   ]
  },
  {
   "cell_type": "code",
   "execution_count": 159,
   "metadata": {},
   "outputs": [],
   "source": [
    "# Exchange fluxes\n",
    "#mu_bio = ExchangeFlux(\"BIOMASS_Ec_iML1515_core_75p37M\")\n",
    "v_htp = ExchangeFlux(\"EX_htrp\")\n",
    "v_GL = ExchangeFlux(\"EX_glc__D_e\")\n",
    "v_O = ExchangeFlux(\"EX_o2_e\")\n",
    "\n",
    "\n",
    "dfba_model.add_exchange_fluxes([mu_bio, mu_htp, v_GL, v_O])"
   ]
  },
  {
   "cell_type": "code",
   "execution_count": 160,
   "metadata": {},
   "outputs": [],
   "source": [
    "# Rhs expressions\n",
    "#dfba_model.add_rhs_expression(\"Biomass\", mu_bio * X)\n",
    "dfba_model.add_rhs_expression(\"5HTP\", v_htp * HTP)\n",
    "dfba_model.add_rhs_expression(\"Glucose\", v_GL * 180.1559/1000 * HTP) # v_GL [mmol gDW^-1 h^-1] * 0.18 g/mmol * gDW/L\n",
    "dfba_model.add_rhs_expression(\"Oxygen\", 0) # O2 is kept constant\n"
   ]
  },
  {
   "cell_type": "code",
   "execution_count": 161,
   "metadata": {},
   "outputs": [],
   "source": [
    "# Adding bounds for oxygen\n",
    "vmax_o2 = 15 # [mmol gDW^-1 h^-1]\n",
    "Ko = 0.024 # mmol/L O2 Michaelis-Mentent constant\n",
    "dfba_model.add_exchange_flux_lb(\"EX_o2_e\", vmax_o2 * (Oxy / (Ko + Oxy)), Oxy)"
   ]
  },
  {
   "cell_type": "code",
   "execution_count": 162,
   "metadata": {},
   "outputs": [],
   "source": [
    "# Adding bounds for glucose\n",
    "vmax_glc = 10.5 # [mmol gDW^-1 h^-1]\n",
    "Kg = 0.0027 # g/L Glucose Michaelis-Mentent constant\n",
    "dfba_model.add_exchange_flux_lb(\"EX_glc__D_e\", vmax_glc * (Gluc / (Kg + Gluc)), Gluc)"
   ]
  },
  {
   "cell_type": "code",
   "execution_count": 164,
   "metadata": {},
   "outputs": [
    {
     "name": "stderr",
     "output_type": "stream",
     "text": [
      "Dynamic compilation failed. You can find more information in '/tmp/tmpvk_p2ery.log'.\n",
      "Traceback (most recent call last):\n",
      "  File \"/opt/conda/lib/python3.8/distutils/unixccompiler.py\", line 117, in _compile\n",
      "    self.spawn(compiler_so + cc_args + [src, '-o', obj] +\n",
      "  File \"/opt/conda/lib/python3.8/distutils/ccompiler.py\", line 910, in spawn\n",
      "    spawn(cmd, dry_run=self.dry_run)\n",
      "  File \"/opt/conda/lib/python3.8/distutils/spawn.py\", line 36, in spawn\n",
      "    _spawn_posix(cmd, search_path, dry_run=dry_run)\n",
      "  File \"/opt/conda/lib/python3.8/distutils/spawn.py\", line 157, in _spawn_posix\n",
      "    raise DistutilsExecError(\n",
      "distutils.errors.DistutilsExecError: command 'gcc' failed with exit status 1\n",
      "\n",
      "During handling of the above exception, another exception occurred:\n",
      "\n",
      "Traceback (most recent call last):\n",
      "  File \"/opt/conda/lib/python3.8/distutils/core.py\", line 148, in setup\n",
      "    dist.run_commands()\n",
      "  File \"/opt/conda/lib/python3.8/distutils/dist.py\", line 966, in run_commands\n",
      "    self.run_command(cmd)\n",
      "  File \"/opt/conda/lib/python3.8/distutils/dist.py\", line 985, in run_command\n",
      "    cmd_obj.run()\n",
      "  File \"/opt/conda/lib/python3.8/site-packages/setuptools/command/build_ext.py\", line 87, in run\n",
      "    _build_ext.run(self)\n",
      "  File \"/opt/conda/lib/python3.8/site-packages/Cython/Distutils/old_build_ext.py\", line 186, in run\n",
      "    _build_ext.build_ext.run(self)\n",
      "  File \"/opt/conda/lib/python3.8/distutils/command/build_ext.py\", line 340, in run\n",
      "    self.build_extensions()\n",
      "  File \"/opt/conda/lib/python3.8/site-packages/Cython/Distutils/old_build_ext.py\", line 195, in build_extensions\n",
      "    _build_ext.build_ext.build_extensions(self)\n",
      "  File \"/opt/conda/lib/python3.8/distutils/command/build_ext.py\", line 449, in build_extensions\n",
      "    self._build_extensions_serial()\n",
      "  File \"/opt/conda/lib/python3.8/distutils/command/build_ext.py\", line 474, in _build_extensions_serial\n",
      "    self.build_extension(ext)\n",
      "  File \"/opt/conda/lib/python3.8/site-packages/setuptools/command/build_ext.py\", line 208, in build_extension\n",
      "    _build_ext.build_extension(self, ext)\n",
      "  File \"/opt/conda/lib/python3.8/distutils/command/build_ext.py\", line 528, in build_extension\n",
      "    objects = self.compiler.compile(sources,\n",
      "  File \"/opt/conda/lib/python3.8/distutils/ccompiler.py\", line 574, in compile\n",
      "    self._compile(obj, src, ext, cc_args, extra_postargs, pp_opts)\n",
      "  File \"/opt/conda/lib/python3.8/distutils/unixccompiler.py\", line 120, in _compile\n",
      "    raise CompileError(msg)\n",
      "distutils.errors.CompileError: command 'gcc' failed with exit status 1\n",
      "\n",
      "During handling of the above exception, another exception occurred:\n",
      "\n",
      "Traceback (most recent call last):\n",
      "  File \"/opt/conda/lib/python3.8/site-packages/dfba/jit.py\", line 174, in compile\n",
      "    setup(\n",
      "  File \"/opt/conda/lib/python3.8/site-packages/setuptools/__init__.py\", line 163, in setup\n",
      "    return distutils.core.setup(**attrs)\n",
      "  File \"/opt/conda/lib/python3.8/distutils/core.py\", line 163, in setup\n",
      "    raise SystemExit(\"error: \" + str(msg))\n",
      "SystemExit: error: command 'gcc' failed with exit status 1\n"
     ]
    },
    {
     "ename": "RuntimeError",
     "evalue": "Error compiling function library!",
     "output_type": "error",
     "traceback": [
      "\u001b[0;31m---------------------------------------------------------------------------\u001b[0m",
      "\u001b[0;31mRuntimeError\u001b[0m                              Traceback (most recent call last)",
      "\u001b[0;32m<ipython-input-164-f3e5955ea56a>\u001b[0m in \u001b[0;36m<module>\u001b[0;34m\u001b[0m\n\u001b[1;32m      8\u001b[0m     }\n\u001b[1;32m      9\u001b[0m )\n\u001b[0;32m---> 10\u001b[0;31m \u001b[0mconcentrations\u001b[0m\u001b[0;34m,\u001b[0m \u001b[0mtrajectories\u001b[0m \u001b[0;34m=\u001b[0m \u001b[0mdfba_model\u001b[0m\u001b[0;34m.\u001b[0m\u001b[0msimulate\u001b[0m\u001b[0;34m(\u001b[0m\u001b[0;36m0.0\u001b[0m\u001b[0;34m,\u001b[0m \u001b[0;36m12.0\u001b[0m\u001b[0;34m,\u001b[0m \u001b[0;36m0.1\u001b[0m\u001b[0;34m,\u001b[0m \u001b[0;34m[\u001b[0m\u001b[0;34m\"EX_glc__D_e\"\u001b[0m\u001b[0;34m]\u001b[0m\u001b[0;34m)\u001b[0m\u001b[0;34m\u001b[0m\u001b[0;34m\u001b[0m\u001b[0m\n\u001b[0m",
      "\u001b[0;32m/opt/conda/lib/python3.8/site-packages/dfba/model.py\u001b[0m in \u001b[0;36msimulate\u001b[0;34m(self, tstart, tstop, tout, output_fluxes)\u001b[0m\n\u001b[1;32m    390\u001b[0m             \u001b[0mlibrary\u001b[0m\u001b[0;34m.\u001b[0m\u001b[0mcreate\u001b[0m\u001b[0;34m(\u001b[0m\u001b[0mdirectory\u001b[0m\u001b[0;34m)\u001b[0m\u001b[0;34m\u001b[0m\u001b[0;34m\u001b[0m\u001b[0m\n\u001b[1;32m    391\u001b[0m             \u001b[0mself\u001b[0m\u001b[0;34m.\u001b[0m\u001b[0madd_to_library\u001b[0m\u001b[0;34m(\u001b[0m\u001b[0mtstart\u001b[0m\u001b[0;34m,\u001b[0m \u001b[0mtstop\u001b[0m\u001b[0;34m,\u001b[0m \u001b[0mtout\u001b[0m\u001b[0;34m,\u001b[0m \u001b[0mprint_fluxes\u001b[0m\u001b[0;34m,\u001b[0m \u001b[0mdirectory\u001b[0m\u001b[0;34m)\u001b[0m\u001b[0;34m\u001b[0m\u001b[0;34m\u001b[0m\u001b[0m\n\u001b[0;32m--> 392\u001b[0;31m             \u001b[0mfunctionlib\u001b[0m \u001b[0;34m=\u001b[0m \u001b[0mjit\u001b[0m\u001b[0;34m.\u001b[0m\u001b[0mcompile\u001b[0m\u001b[0;34m(\u001b[0m\u001b[0mdirectory\u001b[0m\u001b[0;34m)\u001b[0m\u001b[0;34m\u001b[0m\u001b[0;34m\u001b[0m\u001b[0m\n\u001b[0m\u001b[1;32m    393\u001b[0m             \u001b[0mlogger\u001b[0m\u001b[0;34m.\u001b[0m\u001b[0mdebug\u001b[0m\u001b[0;34m(\u001b[0m\u001b[0;34mf\"Function library {functionlib} compiled successfully...\"\u001b[0m\u001b[0;34m)\u001b[0m\u001b[0;34m\u001b[0m\u001b[0;34m\u001b[0m\u001b[0m\n\u001b[1;32m    394\u001b[0m             \u001b[0mresults\u001b[0m \u001b[0;34m=\u001b[0m \u001b[0msimulate_dfba_model\u001b[0m\u001b[0;34m(\u001b[0m\u001b[0mself\u001b[0m\u001b[0;34m,\u001b[0m \u001b[0mfunctionlib\u001b[0m\u001b[0;34m)\u001b[0m  \u001b[0;31m# noqa: F405\u001b[0m\u001b[0;34m\u001b[0m\u001b[0;34m\u001b[0m\u001b[0m\n",
      "\u001b[0;32m/opt/conda/lib/python3.8/site-packages/dfba/jit.py\u001b[0m in \u001b[0;36mcompile\u001b[0;34m(directory)\u001b[0m\n\u001b[1;32m    197\u001b[0m     \u001b[0mso_path\u001b[0m \u001b[0;34m=\u001b[0m \u001b[0mjoin\u001b[0m\u001b[0;34m(\u001b[0m\u001b[0mtarget\u001b[0m\u001b[0;34m,\u001b[0m \u001b[0mso_filename\u001b[0m\u001b[0;34m)\u001b[0m\u001b[0;34m\u001b[0m\u001b[0;34m\u001b[0m\u001b[0m\n\u001b[1;32m    198\u001b[0m     \u001b[0;32mif\u001b[0m \u001b[0;32mnot\u001b[0m \u001b[0misfile\u001b[0m\u001b[0;34m(\u001b[0m\u001b[0mso_path\u001b[0m\u001b[0;34m)\u001b[0m\u001b[0;34m:\u001b[0m\u001b[0;34m\u001b[0m\u001b[0;34m\u001b[0m\u001b[0m\n\u001b[0;32m--> 199\u001b[0;31m         \u001b[0;32mraise\u001b[0m \u001b[0mRuntimeError\u001b[0m\u001b[0;34m(\u001b[0m\u001b[0;34m\"Error compiling function library!\"\u001b[0m\u001b[0;34m)\u001b[0m\u001b[0;34m\u001b[0m\u001b[0;34m\u001b[0m\u001b[0m\n\u001b[0m\u001b[1;32m    200\u001b[0m     \u001b[0;32mreturn\u001b[0m \u001b[0mso_path\u001b[0m\u001b[0;34m\u001b[0m\u001b[0;34m\u001b[0m\u001b[0m\n",
      "\u001b[0;31mRuntimeError\u001b[0m: Error compiling function library!"
     ]
    }
   ],
   "source": [
    "# add initial conditions and launch simulation\n",
    "dfba_model.add_initial_conditions(\n",
    "    {\n",
    "        #\"Biomass\": 0.01, # (gDW/L)\n",
    "        \"5HTP\": 0.00, # (gDW/L)\n",
    "        \"Glucose\": 22.0, # (g/L)   [Kopp et al. 2018]\n",
    "        \"Oxygen\": 0.24,  # (mmol/L)\n",
    "    }\n",
    ")\n",
    "concentrations, trajectories = dfba_model.simulate(0.0, 12.0, 0.1, [\"EX_glc__D_e\"])"
   ]
  },
  {
   "cell_type": "code",
   "execution_count": 144,
   "metadata": {},
   "outputs": [
    {
     "data": {
      "image/png": "[encoded data removed]",
      "text/plain": [
       "<Figure size 432x288 with 2 Axes>"
      ]
     },
     "metadata": {
      "needs_background": "light"
     },
     "output_type": "display_data"
    }
   ],
   "source": [
    "plot_concentrations(concentrations)"
   ]
  },
  {
   "cell_type": "code",
   "execution_count": 145,
   "metadata": {},
   "outputs": [
    {
     "data": {
      "image/png": "[encoded data removed]",
      "text/plain": [
       "<Figure size 432x288 with 1 Axes>"
      ]
     },
     "metadata": {
      "needs_background": "light"
     },
     "output_type": "display_data"
    }
   ],
   "source": [
    "plot_trajectories(trajectories)"
   ]
  },
  {
   "cell_type": "markdown",
   "metadata": {},
   "source": [
    "**Trying to include glycerol**"
   ]
  },
  {
   "cell_type": "code",
   "execution_count": 55,
   "metadata": {},
   "outputs": [],
   "source": [
    "from os.path import dirname, join, pardir\n",
    "\n",
    "from cobra.io import read_sbml_model\n",
    "\n",
    "from dfba import DfbaModel, ExchangeFlux, KineticVariable"
   ]
  },
  {
   "cell_type": "code",
   "execution_count": 56,
   "metadata": {},
   "outputs": [],
   "source": [
    "# Defining model\n",
    "fba_model = read_sbml_model(\"data/iML1515.xml\")\n",
    "fba_model.solver = \"glpk\"\n",
    "dfba_model = DfbaModel(fba_model)"
   ]
  },
  {
   "cell_type": "code",
   "execution_count": 57,
   "metadata": {},
   "outputs": [],
   "source": [
    "X = KineticVariable(\"Biomass\")\n",
    "Gluc = KineticVariable(\"Glucose\")\n",
    "Glyc = KineticVariable(\"Glycerol\")\n",
    "Oxy = KineticVariable(\"Oxygen\")\n",
    "\n",
    "dfba_model.add_kinetic_variables([X, Gluc, Glyc, Oxy])"
   ]
  },
  {
   "cell_type": "code",
   "execution_count": 58,
   "metadata": {},
   "outputs": [],
   "source": [
    "# Exchange fluxes\n",
    "mu = ExchangeFlux(\"BIOMASS_Ec_iML1515_core_75p37M\")\n",
    "v_GL = ExchangeFlux(\"EX_glc__D_e\")\n",
    "v_GY = ExchangeFlux(\"EX_glyc_e\")\n",
    "v_O = ExchangeFlux(\"EX_o2_e\")\n",
    "\n",
    "\n",
    "dfba_model.add_exchange_fluxes([mu, v_GL, v_GY, v_O])"
   ]
  },
  {
   "cell_type": "code",
   "execution_count": 59,
   "metadata": {},
   "outputs": [],
   "source": [
    "# Rhs expressions\n",
    "dfba_model.add_rhs_expression(\"Biomass\", mu * X)\n",
    "dfba_model.add_rhs_expression(\"Glucose\", v_GL * 180.1559/1000 * X) # v_GL [mmol gDW^-1 h^-1] * 0.18 g/mmol * gDW/L\n",
    "dfba_model.add_rhs_expression(\"Glycerol\", v_GY *  92.09/1000 * X)\n",
    "dfba_model.add_rhs_expression(\"Oxygen\", 0) # O2 is kept constant\n"
   ]
  },
  {
   "cell_type": "code",
   "execution_count": 60,
   "metadata": {},
   "outputs": [],
   "source": [
    "# Adding bounds for oxygen\n",
    "vmax_o2 = 15 # [mmol gDW^-1 h^-1]\n",
    "Ko = 0.024 # mmol/L O2 Michaelis-Mentent constant\n",
    "dfba_model.add_exchange_flux_lb(\"EX_o2_e\", vmax_o2 * (Oxy / (Ko + Oxy)), Oxy)"
   ]
  },
  {
   "cell_type": "code",
   "execution_count": 80,
   "metadata": {},
   "outputs": [],
   "source": [
    "vmax_glc = 10.5 # [mmol gDW^-1 h^-1]\n",
    "Kg = 0.0027 # g/L Glucose Michaelis-Mentent constant\n",
    "dfba_model.add_exchange_flux_lb(\"EX_glc__D_e\", vmax_glc * (Gluc / (Kg + Gluc)), Gluc)"
   ]
  },
  {
   "cell_type": "code",
   "execution_count": 81,
   "metadata": {},
   "outputs": [],
   "source": [
    "# Glycerol is inhibited by Glycose\n",
    "#vmax_gly = 10.5 # [mmol gDW^-1 h^-1]\n",
    "#Kg = vmax_gly*15.5/-solution.fluxes[\"EX_glc__D_e\"] #0.0027 # g/L Glucose Michaelis-Mentent constant\n",
    "#Kie = 20 # g/L Ethanol inhibition constant\n",
    "#dfba_model.add_exchange_flux_lb(\n",
    "#    \"EX_glyc_e\",\n",
    "#    vmax_gly * (Glyc / (Kg + Glyc)) * (1 / (1 + Gluc / Kie)),\n",
    "#    Gluc\n",
    "#)\n",
    "#print(Kg)"
   ]
  },
  {
   "cell_type": "code",
   "execution_count": 82,
   "metadata": {},
   "outputs": [],
   "source": [
    "# glycerol is inhibited by glycose\n",
    "vmax_gly = v_GY # [mmol gDW^-1 h^-1]\n",
    "Kgly = 0.0165 # g/L glycerol Michaelis-Mentent constant\n",
    "Kiglu = 0.005 # g/L Glucose inhibition constant\n",
    "dfba_model.add_exchange_flux_lb(\n",
    "    \"EX_glyc_e\",\n",
    "    vmax_gly * (Glyc / (Kgly + Glyc)) * (1 / (1 + Gluc / Kiglu)),\n",
    "    Glyc,\n",
    ")"
   ]
  },
  {
   "cell_type": "code",
   "execution_count": 83,
   "metadata": {},
   "outputs": [],
   "source": [
    "# add initial conditions and launch simulation\n",
    "dfba_model.add_initial_conditions(\n",
    "    {\n",
    "        \"Biomass\": 0.01, # (gDW/L)\n",
    "        \"Glucose\": 22.0, # (g/L)   [Kopp et al. 2018]\n",
    "        \"Glycerol\": 23.0,   # (g/L)\n",
    "        \"Oxygen\": 0.24,  # (mmol/L)\n",
    "    }\n",
    ")\n",
    "concentrations, trajectories = dfba_model.simulate(0.0, 12.0, 0.1, [\"EX_glc__D_e\", \"EX_glyc_e\"])"
   ]
  },
  {
   "cell_type": "code",
   "execution_count": 84,
   "metadata": {},
   "outputs": [],
   "source": [
    "# from dfba.plot.plotly import *\n",
    "from dfba.plot.matplotlib import *"
   ]
  },
  {
   "cell_type": "code",
   "execution_count": 85,
   "metadata": {},
   "outputs": [
    {
     "data": {
      "image/png": "[encoded data removed]",
      "text/plain": [
       "<Figure size 432x288 with 2 Axes>"
      ]
     },
     "metadata": {
      "needs_background": "light"
     },
     "output_type": "display_data"
    }
   ],
   "source": [
    "plot_concentrations(concentrations)"
   ]
  },
  {
   "cell_type": "code",
   "execution_count": 86,
   "metadata": {},
   "outputs": [
    {
     "data": {
      "image/png": "[encoded data removed]",
      "text/plain": [
       "<Figure size 432x288 with 1 Axes>"
      ]
     },
     "metadata": {
      "needs_background": "light"
     },
     "output_type": "display_data"
    }
   ],
   "source": [
    "plot_trajectories(trajectories)"
   ]
  },
  {
   "cell_type": "code",
   "execution_count": null,
   "metadata": {},
   "outputs": [],
   "source": []
  },
  {
   "cell_type": "code",
   "execution_count": null,
   "metadata": {},
   "outputs": [],
   "source": []
  },
  {
   "cell_type": "code",
   "execution_count": 154,
   "metadata": {},
   "outputs": [],
   "source": []
  },
  {
   "cell_type": "code",
   "execution_count": 155,
   "metadata": {},
   "outputs": [],
   "source": []
  },
  {
   "cell_type": "code",
   "execution_count": 156,
   "metadata": {},
   "outputs": [],
   "source": []
  },
  {
   "cell_type": "code",
   "execution_count": null,
   "metadata": {},
   "outputs": [],
   "source": []
  }
 ],
 "metadata": {
  "kernelspec": {
   "display_name": "Python 3",
   "language": "python",
   "name": "python3"
  },
  "language_info": {
   "codemirror_mode": {
    "name": "ipython",
    "version": 3
   },
   "file_extension": ".py",
   "mimetype": "text/x-python",
   "name": "python",
   "nbconvert_exporter": "python",
   "pygments_lexer": "ipython3",
   "version": "3.8.5"
  }
 },
 "nbformat": 4,
 "nbformat_minor": 4
}
