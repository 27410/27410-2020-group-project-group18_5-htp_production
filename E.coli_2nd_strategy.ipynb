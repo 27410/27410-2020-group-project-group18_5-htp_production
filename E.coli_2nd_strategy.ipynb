{
 "cells": [
  {
   "cell_type": "code",
   "execution_count": 32,
   "metadata": {},
   "outputs": [
    {
     "name": "stdout",
     "output_type": "stream",
     "text": [
      "The history saving thread hit an unexpected error (OperationalError('database is locked')).History will not be written to the database.\n"
     ]
    }
   ],
   "source": [
    "from cobra.io import read_sbml_model\n",
    "from cobra import Reaction, Metabolite\n",
    "import pandas as pd"
   ]
  },
  {
   "cell_type": "code",
   "execution_count": 2,
   "metadata": {},
   "outputs": [],
   "source": [
    "model = read_sbml_model('iML1515.xml')"
   ]
  },
  {
   "cell_type": "markdown",
   "metadata": {},
   "source": [
    "2nd strategy: Introduce tryptophan hydroxylase and synthesis and regeneration of its co-factor "
   ]
  },
  {
   "cell_type": "code",
   "execution_count": 7,
   "metadata": {},
   "outputs": [
    {
     "name": "stdout",
     "output_type": "stream",
     "text": [
      "6-hydroxymethyl-dihydropterin pyrophosphate 6hmhptpp_c\n",
      "6-carboxy-5,6,7,8-tetrahydropterin cph4_c\n",
      "6-hydroxymethyl dihydropterin 6hmhpt_c\n"
     ]
    }
   ],
   "source": [
    "#look for metabolites in the model and genes to knock out\n",
    "\n",
    "\n",
    "for gene in model.metabolites.query('hydropterin', 'name'):\n",
    "    print(gene.name, gene.id)"
   ]
  },
  {
   "cell_type": "markdown",
   "metadata": {},
   "source": [
    "1. tryptophan hydroxylase generates 5-hydroxytryptophan: oxygen + tryptophan (trp) + tetrahydrobiopterin (BH4) <-> 5-hydroxytryptophan (5-HTP) +  4a-hydroxytetrahydrobiopterin (hydro-BH4)"
   ]
  },
  {
   "cell_type": "code",
   "execution_count": 8,
   "metadata": {},
   "outputs": [],
   "source": [
    "#add metabolites to the system\n",
    "tetrahydrobiopterin = Metabolite(id='thbpt_c', compartment='c')\n",
    "hydroxytryptophan = Metabolite(id='htrp_c', compartment='c')\n",
    "four_alpha_hydroxytetrahydrobiopterin = Metabolite(id='4a_hthbpt_c', compartment='c')"
   ]
  },
  {
   "cell_type": "code",
   "execution_count": 9,
   "metadata": {},
   "outputs": [
    {
     "name": "stdout",
     "output_type": "stream",
     "text": [
      "o2_c + thbpt_c + trp__L_c --> 4a_hthbpt_c + htrp_c\n"
     ]
    }
   ],
   "source": [
    "#design reaction\n",
    "tph = Reaction('tph')\n",
    "tph.add_metabolites({tetrahydrobiopterin: -1,\n",
    "                      model.metabolites.o2_c: -1,\n",
    "                      model.metabolites.trp__L_c: -1,\n",
    "                      four_alpha_hydroxytetrahydrobiopterin: 1,\n",
    "                      hydroxytryptophan: 1\n",
    "                     })\n",
    "print(tph.build_reaction_string())"
   ]
  },
  {
   "cell_type": "code",
   "execution_count": 10,
   "metadata": {},
   "outputs": [
    {
     "data": {
      "text/html": [
       "\n",
       "        <table>\n",
       "            <tr>\n",
       "                <td><strong>Reaction identifier</strong></td><td>tph</td>\n",
       "            </tr><tr>\n",
       "                <td><strong>Name</strong></td><td></td>\n",
       "            </tr><tr>\n",
       "                <td><strong>Memory address</strong></td>\n",
       "                <td>0x07fe99c9adfa0</td>\n",
       "            </tr><tr>\n",
       "                <td><strong>Stoichiometry</strong></td>\n",
       "                <td>\n",
       "                    <p style='text-align:right'>o2_c + thbpt_c + trp__L_c --> 4a_hthbpt_c + htrp_c</p>\n",
       "                    <p style='text-align:right'>O2 O2 + + L-Tryptophan --> +</p>\n",
       "                </td>\n",
       "            </tr><tr>\n",
       "                <td><strong>GPR</strong></td><td></td>\n",
       "            </tr><tr>\n",
       "                <td><strong>Lower bound</strong></td><td>0.0</td>\n",
       "            </tr><tr>\n",
       "                <td><strong>Upper bound</strong></td><td>1000.0</td>\n",
       "            </tr>\n",
       "        </table>\n",
       "        "
      ],
      "text/plain": [
       "<Reaction tph at 0x7fe99c9adfa0>"
      ]
     },
     "execution_count": 10,
     "metadata": {},
     "output_type": "execute_result"
    }
   ],
   "source": [
    "#add reaction to the system\n",
    "model.add_reactions([tph])\n",
    "model.reactions.tph"
   ]
  },
  {
   "cell_type": "code",
   "execution_count": 11,
   "metadata": {},
   "outputs": [],
   "source": [
    "five_hydroxytryptophan_exchange = Reaction('EX_htrp')\n",
    "five_hydroxytryptophan_exchange.add_metabolites({model.metabolites.htrp_c: -1})\n",
    "model.add_reaction(five_hydroxytryptophan_exchange)"
   ]
  },
  {
   "cell_type": "markdown",
   "metadata": {},
   "source": [
    "2. BH4 synthesis"
   ]
  },
  {
   "cell_type": "markdown",
   "metadata": {},
   "source": [
    "GTP cyclohydrolase I: GTP + water <-> dihydromonapterin-triphosphate + formate + H+"
   ]
  },
  {
   "cell_type": "code",
   "execution_count": 17,
   "metadata": {},
   "outputs": [
    {
     "name": "stdout",
     "output_type": "stream",
     "text": [
      "gtp_c + h2o_c --> dhmptp_c + for_c + h_c\n"
     ]
    }
   ],
   "source": [
    "#design reaction\n",
    "gchi = Reaction('gchi')\n",
    "gchi.add_metabolites({model.metabolites.gtp_c: -1,\n",
    "                      model.metabolites.h2o_c: -1,\n",
    "                      model.metabolites.dhmptp_c: 1,\n",
    "                      model.metabolites.for_c: 1,\n",
    "                      model.metabolites.h_c: 1\n",
    "                     })\n",
    "print(gchi.build_reaction_string())"
   ]
  },
  {
   "cell_type": "code",
   "execution_count": 18,
   "metadata": {},
   "outputs": [
    {
     "data": {
      "text/html": [
       "\n",
       "        <table>\n",
       "            <tr>\n",
       "                <td><strong>Reaction identifier</strong></td><td>gchi</td>\n",
       "            </tr><tr>\n",
       "                <td><strong>Name</strong></td><td></td>\n",
       "            </tr><tr>\n",
       "                <td><strong>Memory address</strong></td>\n",
       "                <td>0x07fe99ca02af0</td>\n",
       "            </tr><tr>\n",
       "                <td><strong>Stoichiometry</strong></td>\n",
       "                <td>\n",
       "                    <p style='text-align:right'>gtp_c + h2o_c --> dhmptp_c + for_c + h_c</p>\n",
       "                    <p style='text-align:right'>GTP C10H12N5O14P3 + H2O H2O --> Dihydromonapterin-triphosphate + Formate + H+</p>\n",
       "                </td>\n",
       "            </tr><tr>\n",
       "                <td><strong>GPR</strong></td><td></td>\n",
       "            </tr><tr>\n",
       "                <td><strong>Lower bound</strong></td><td>0.0</td>\n",
       "            </tr><tr>\n",
       "                <td><strong>Upper bound</strong></td><td>1000.0</td>\n",
       "            </tr>\n",
       "        </table>\n",
       "        "
      ],
      "text/plain": [
       "<Reaction gchi at 0x7fe99ca02af0>"
      ]
     },
     "execution_count": 18,
     "metadata": {},
     "output_type": "execute_result"
    }
   ],
   "source": [
    "#add reaction to the system\n",
    "model.add_reactions([gchi])\n",
    "model.reactions.gchi"
   ]
  },
  {
   "cell_type": "markdown",
   "metadata": {},
   "source": [
    "6-pyruvate-tetrahydropterin synthase: dihydromonapterin-triphosphate <-> triphosphate + 6-pyruvoyltetrahydropterin"
   ]
  },
  {
   "cell_type": "code",
   "execution_count": 33,
   "metadata": {},
   "outputs": [],
   "source": [
    "#add metabolites\n",
    "six_pyruvoyltetrahydropterin = Metabolite(id='6pthp_c', compartment='c')"
   ]
  },
  {
   "cell_type": "code",
   "execution_count": 34,
   "metadata": {},
   "outputs": [
    {
     "name": "stdout",
     "output_type": "stream",
     "text": [
      "dhmptp_c --> 6pthp_c + pppi_c\n"
     ]
    }
   ],
   "source": [
    "#design reaction\n",
    "ptsp = Reaction('ptsp')\n",
    "ptsp.add_metabolites({model.metabolites.dhmptp_c: -1,\n",
    "                      model.metabolites.pppi_c: 1,\n",
    "                      six_pyruvoyltetrahydropterin: 1,\n",
    "                     })\n",
    "print(ptsp.build_reaction_string())"
   ]
  },
  {
   "cell_type": "code",
   "execution_count": 31,
   "metadata": {},
   "outputs": [
    {
     "name": "stderr",
     "output_type": "stream",
     "text": [
      "Ignoring reaction 'ptsp' since it already exists.\n"
     ]
    },
    {
     "data": {
      "text/html": [
       "\n",
       "        <table>\n",
       "            <tr>\n",
       "                <td><strong>Reaction identifier</strong></td><td>ptsp</td>\n",
       "            </tr><tr>\n",
       "                <td><strong>Name</strong></td><td></td>\n",
       "            </tr><tr>\n",
       "                <td><strong>Memory address</strong></td>\n",
       "                <td>0x07fe9b8242550</td>\n",
       "            </tr><tr>\n",
       "                <td><strong>Stoichiometry</strong></td>\n",
       "                <td>\n",
       "                    <p style='text-align:right'>dhmptp_c --> 6pthp_c + pppi_c</p>\n",
       "                    <p style='text-align:right'>Dihydromonapterin-triphosphate --> + Inorganic triphosphate</p>\n",
       "                </td>\n",
       "            </tr><tr>\n",
       "                <td><strong>GPR</strong></td><td></td>\n",
       "            </tr><tr>\n",
       "                <td><strong>Lower bound</strong></td><td>0.0</td>\n",
       "            </tr><tr>\n",
       "                <td><strong>Upper bound</strong></td><td>1000.0</td>\n",
       "            </tr>\n",
       "        </table>\n",
       "        "
      ],
      "text/plain": [
       "<Reaction ptsp at 0x7fe9b8242550>"
      ]
     },
     "execution_count": 31,
     "metadata": {},
     "output_type": "execute_result"
    }
   ],
   "source": [
    "#add reaction to the system\n",
    "model.add_reactions([ptsp])\n",
    "model.reactions.ptsp"
   ]
  },
  {
   "cell_type": "markdown",
   "metadata": {},
   "source": [
    "sepiapterin reductase: 2 H+ + 2 NADPH + 6-pyruvoyltetrahydropterin <-> 2 NADP+ + tetrahydrobiopterin (BH4)"
   ]
  },
  {
   "cell_type": "code",
   "execution_count": 36,
   "metadata": {},
   "outputs": [
    {
     "name": "stdout",
     "output_type": "stream",
     "text": [
      "6pthp_c + 2 h_c + 2 nadph_c --> 2 nadp_c + thbpt_c\n"
     ]
    }
   ],
   "source": [
    "#design reaction\n",
    "spr = Reaction('spr')\n",
    "spr.add_metabolites({model.metabolites.h_c: -2,\n",
    "                      model.metabolites.nadph_c: -2,\n",
    "                      six_pyruvoyltetrahydropterin: -1,\n",
    "                      model.metabolites.nadp_c: 2,\n",
    "                      model.metabolites.thbpt_c: 1\n",
    "                     })\n",
    "print(spr.build_reaction_string())"
   ]
  },
  {
   "cell_type": "code",
   "execution_count": 37,
   "metadata": {},
   "outputs": [
    {
     "data": {
      "text/html": [
       "\n",
       "        <table>\n",
       "            <tr>\n",
       "                <td><strong>Reaction identifier</strong></td><td>spr</td>\n",
       "            </tr><tr>\n",
       "                <td><strong>Name</strong></td><td></td>\n",
       "            </tr><tr>\n",
       "                <td><strong>Memory address</strong></td>\n",
       "                <td>0x07fe99c968e20</td>\n",
       "            </tr><tr>\n",
       "                <td><strong>Stoichiometry</strong></td>\n",
       "                <td>\n",
       "                    <p style='text-align:right'>6pthp_c + 2 h_c + 2 nadph_c --> 2 nadp_c + thbpt_c</p>\n",
       "                    <p style='text-align:right'>+ 2 H+ + 2 Nicotinamide adenine dinucleotide phosphate - reduced --> 2 Nicotinamide adenine dinucleotide phosphate +</p>\n",
       "                </td>\n",
       "            </tr><tr>\n",
       "                <td><strong>GPR</strong></td><td></td>\n",
       "            </tr><tr>\n",
       "                <td><strong>Lower bound</strong></td><td>0.0</td>\n",
       "            </tr><tr>\n",
       "                <td><strong>Upper bound</strong></td><td>1000.0</td>\n",
       "            </tr>\n",
       "        </table>\n",
       "        "
      ],
      "text/plain": [
       "<Reaction spr at 0x7fe99c968e20>"
      ]
     },
     "execution_count": 37,
     "metadata": {},
     "output_type": "execute_result"
    }
   ],
   "source": [
    "#add reaction to the system\n",
    "model.add_reactions([spr])\n",
    "model.reactions.spr"
   ]
  },
  {
   "cell_type": "markdown",
   "metadata": {},
   "source": [
    "3. BH4 regeneration"
   ]
  },
  {
   "cell_type": "markdown",
   "metadata": {},
   "source": [
    "pterin-4alpha-carbinolamine dehydratase (PCD): 4a-hydroxytetrahydrobiopterin (hydro-BH4) <-> dihydrobiopterin (BH2) + water "
   ]
  },
  {
   "cell_type": "code",
   "execution_count": 38,
   "metadata": {},
   "outputs": [],
   "source": [
    "#add metabolites\n",
    "dihydrobiopterin = Metabolite(id='dhbpt_c', compartment='c')"
   ]
  },
  {
   "cell_type": "code",
   "execution_count": 39,
   "metadata": {},
   "outputs": [
    {
     "name": "stdout",
     "output_type": "stream",
     "text": [
      "4a_hthbpt_c + dhbpt_c --> h2o_c\n"
     ]
    }
   ],
   "source": [
    "#design reaction\n",
    "pcd = Reaction('pcd')\n",
    "pcd.add_metabolites({four_alpha_hydroxytetrahydrobiopterin: -1,\n",
    "                      dihydrobiopterin: -1,\n",
    "                      model.metabolites.h2o_c: 1\n",
    "                     })\n",
    "print(pcd.build_reaction_string())"
   ]
  },
  {
   "cell_type": "code",
   "execution_count": 40,
   "metadata": {},
   "outputs": [
    {
     "data": {
      "text/html": [
       "\n",
       "        <table>\n",
       "            <tr>\n",
       "                <td><strong>Reaction identifier</strong></td><td>pcd</td>\n",
       "            </tr><tr>\n",
       "                <td><strong>Name</strong></td><td></td>\n",
       "            </tr><tr>\n",
       "                <td><strong>Memory address</strong></td>\n",
       "                <td>0x07fe99ca02760</td>\n",
       "            </tr><tr>\n",
       "                <td><strong>Stoichiometry</strong></td>\n",
       "                <td>\n",
       "                    <p style='text-align:right'>4a_hthbpt_c + dhbpt_c --> h2o_c</p>\n",
       "                    <p style='text-align:right'>+ --> H2O H2O</p>\n",
       "                </td>\n",
       "            </tr><tr>\n",
       "                <td><strong>GPR</strong></td><td></td>\n",
       "            </tr><tr>\n",
       "                <td><strong>Lower bound</strong></td><td>0.0</td>\n",
       "            </tr><tr>\n",
       "                <td><strong>Upper bound</strong></td><td>1000.0</td>\n",
       "            </tr>\n",
       "        </table>\n",
       "        "
      ],
      "text/plain": [
       "<Reaction pcd at 0x7fe99ca02760>"
      ]
     },
     "execution_count": 40,
     "metadata": {},
     "output_type": "execute_result"
    }
   ],
   "source": [
    "#add reaction to the system\n",
    "model.add_reactions([pcd])\n",
    "model.reactions.pcd"
   ]
  },
  {
   "cell_type": "markdown",
   "metadata": {},
   "source": [
    "dihydropteridine reductase (DHPR): dihydrobiopterin (BH2) + H+ + NADPH <-> NADP+ + tetrahydrobiopterin (BH4)"
   ]
  },
  {
   "cell_type": "code",
   "execution_count": 42,
   "metadata": {},
   "outputs": [
    {
     "name": "stdout",
     "output_type": "stream",
     "text": [
      "dhbpt_c + h_c + nadph_c --> nadp_c + thbpt_c\n"
     ]
    }
   ],
   "source": [
    "#design reaction\n",
    "dhpr = Reaction('dhpr')\n",
    "dhpr.add_metabolites({model.metabolites.dhbpt_c: -1,\n",
    "                      model.metabolites.h_c: -1,\n",
    "                      model.metabolites.nadph_c: -1,\n",
    "                      model.metabolites.nadp_c: 1,\n",
    "                      model.metabolites.thbpt_c: 1\n",
    "                     })\n",
    "print(dhpr.build_reaction_string())"
   ]
  },
  {
   "cell_type": "code",
   "execution_count": 43,
   "metadata": {},
   "outputs": [
    {
     "data": {
      "text/html": [
       "\n",
       "        <table>\n",
       "            <tr>\n",
       "                <td><strong>Reaction identifier</strong></td><td>dhpr</td>\n",
       "            </tr><tr>\n",
       "                <td><strong>Name</strong></td><td></td>\n",
       "            </tr><tr>\n",
       "                <td><strong>Memory address</strong></td>\n",
       "                <td>0x07fe99c9e8400</td>\n",
       "            </tr><tr>\n",
       "                <td><strong>Stoichiometry</strong></td>\n",
       "                <td>\n",
       "                    <p style='text-align:right'>dhbpt_c + h_c + nadph_c --> nadp_c + thbpt_c</p>\n",
       "                    <p style='text-align:right'>+ H+ + Nicotinamide adenine dinucleotide phosphate - reduced --> Nicotinamide adenine dinucleotide phosphate +</p>\n",
       "                </td>\n",
       "            </tr><tr>\n",
       "                <td><strong>GPR</strong></td><td></td>\n",
       "            </tr><tr>\n",
       "                <td><strong>Lower bound</strong></td><td>0.0</td>\n",
       "            </tr><tr>\n",
       "                <td><strong>Upper bound</strong></td><td>1000.0</td>\n",
       "            </tr>\n",
       "        </table>\n",
       "        "
      ],
      "text/plain": [
       "<Reaction dhpr at 0x7fe99c9e8400>"
      ]
     },
     "execution_count": 43,
     "metadata": {},
     "output_type": "execute_result"
    }
   ],
   "source": [
    "#add reaction to the system\n",
    "model.add_reactions([dhpr])\n",
    "model.reactions.dhpr"
   ]
  },
  {
   "cell_type": "code",
   "execution_count": 44,
   "metadata": {},
   "outputs": [
    {
     "data": {
      "text/html": [
       "<strong><em>Optimal</em> solution with objective value 0.877</strong><br><div>\n",
       "<style scoped>\n",
       "    .dataframe tbody tr th:only-of-type {\n",
       "        vertical-align: middle;\n",
       "    }\n",
       "\n",
       "    .dataframe tbody tr th {\n",
       "        vertical-align: top;\n",
       "    }\n",
       "\n",
       "    .dataframe thead th {\n",
       "        text-align: right;\n",
       "    }\n",
       "</style>\n",
       "<table border=\"1\" class=\"dataframe\">\n",
       "  <thead>\n",
       "    <tr style=\"text-align: right;\">\n",
       "      <th></th>\n",
       "      <th>fluxes</th>\n",
       "      <th>reduced_costs</th>\n",
       "    </tr>\n",
       "  </thead>\n",
       "  <tbody>\n",
       "    <tr>\n",
       "      <th>CYTDK2</th>\n",
       "      <td>0.00000</td>\n",
       "      <td>-7.523353e-03</td>\n",
       "    </tr>\n",
       "    <tr>\n",
       "      <th>XPPT</th>\n",
       "      <td>0.00000</td>\n",
       "      <td>-1.504671e-02</td>\n",
       "    </tr>\n",
       "    <tr>\n",
       "      <th>HXPRT</th>\n",
       "      <td>0.00000</td>\n",
       "      <td>-1.504671e-02</td>\n",
       "    </tr>\n",
       "    <tr>\n",
       "      <th>NDPK5</th>\n",
       "      <td>0.00000</td>\n",
       "      <td>-0.000000e+00</td>\n",
       "    </tr>\n",
       "    <tr>\n",
       "      <th>SHK3Dr</th>\n",
       "      <td>0.33424</td>\n",
       "      <td>1.387779e-17</td>\n",
       "    </tr>\n",
       "    <tr>\n",
       "      <th>...</th>\n",
       "      <td>...</td>\n",
       "      <td>...</td>\n",
       "    </tr>\n",
       "    <tr>\n",
       "      <th>gchi</th>\n",
       "      <td>0.00000</td>\n",
       "      <td>0.000000e+00</td>\n",
       "    </tr>\n",
       "    <tr>\n",
       "      <th>ptsp</th>\n",
       "      <td>0.00000</td>\n",
       "      <td>-3.178616e-01</td>\n",
       "    </tr>\n",
       "    <tr>\n",
       "      <th>spr</th>\n",
       "      <td>0.00000</td>\n",
       "      <td>-1.504671e-02</td>\n",
       "    </tr>\n",
       "    <tr>\n",
       "      <th>pcd</th>\n",
       "      <td>0.00000</td>\n",
       "      <td>0.000000e+00</td>\n",
       "    </tr>\n",
       "    <tr>\n",
       "      <th>dhpr</th>\n",
       "      <td>0.00000</td>\n",
       "      <td>-6.114900e-17</td>\n",
       "    </tr>\n",
       "  </tbody>\n",
       "</table>\n",
       "<p>2719 rows × 2 columns</p>\n",
       "</div>"
      ],
      "text/plain": [
       "<Solution 0.877 at 0x7fe99c9e8160>"
      ]
     },
     "execution_count": 44,
     "metadata": {},
     "output_type": "execute_result"
    }
   ],
   "source": [
    "# check if the growth is possible with the reactions added\n",
    "model.optimize()"
   ]
  },
  {
   "cell_type": "code",
   "execution_count": 51,
   "metadata": {},
   "outputs": [
    {
     "name": "stdout",
     "output_type": "stream",
     "text": [
      "0.0\n"
     ]
    }
   ],
   "source": [
    "# change objective value to production of 5-HTP, check if E.coli still grows\n",
    "with model:\n",
    "    model.objective = model.reactions.tph\n",
    "    max_5HTP_production = model.optimize().objective_value\n",
    "    print(max_5HTP_production)"
   ]
  },
  {
   "cell_type": "code",
   "execution_count": 52,
   "metadata": {},
   "outputs": [
    {
     "name": "stdout",
     "output_type": "stream",
     "text": [
      "0.0\n"
     ]
    }
   ],
   "source": [
    "#optimize model with knocked out gene\n",
    "with model:\n",
    "    model.genes.b3708.knock_out()\n",
    "    model.objective = model.reactions.tph\n",
    "    max_5HTP_production = model.optimize().objective_value\n",
    "    print(max_5HTP_production)"
   ]
  },
  {
   "cell_type": "code",
   "execution_count": 55,
   "metadata": {},
   "outputs": [
    {
     "name": "stdout",
     "output_type": "stream",
     "text": [
      "0.0\n"
     ]
    }
   ],
   "source": [
    "#optimize model with glycerol as a source of carbon\n",
    "medium = model.medium\n",
    "with model:\n",
    "    medium['EX_glc__D_e'] = 0\n",
    "    medium['EX_glyc_e'] = 10\n",
    "    model.medium = medium\n",
    "    model.objective = model.reactions.tph\n",
    "    max_5HTP_production = model.optimize().objective_value\n",
    "    print(max_5HTP_production) "
   ]
  },
  {
   "cell_type": "code",
   "execution_count": null,
   "metadata": {},
   "outputs": [],
   "source": []
  },
  {
   "cell_type": "code",
   "execution_count": null,
   "metadata": {},
   "outputs": [],
   "source": []
  }
 ],
 "metadata": {
  "kernelspec": {
   "display_name": "Python 3",
   "language": "python",
   "name": "python3"
  },
  "language_info": {
   "codemirror_mode": {
    "name": "ipython",
    "version": 3
   },
   "file_extension": ".py",
   "mimetype": "text/x-python",
   "name": "python",
   "nbconvert_exporter": "python",
   "pygments_lexer": "ipython3",
   "version": "3.8.5"
  }
 },
 "nbformat": 4,
 "nbformat_minor": 4
}
