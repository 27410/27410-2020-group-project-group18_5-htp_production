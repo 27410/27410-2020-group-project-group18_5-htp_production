{
 "cells": [
  {
   "cell_type": "code",
   "execution_count": 1,
   "metadata": {},
   "outputs": [],
   "source": [
    "from cobra.io import read_sbml_model\n",
    "from cobra import Reaction, Metabolite\n",
    "import pandas as pd"
   ]
  },
  {
   "cell_type": "markdown",
   "metadata": {},
   "source": [
    "****Heterologous expression of 5-HTP and MH4 pathway in Bacillus subtilis****"
   ]
  },
  {
   "cell_type": "code",
   "execution_count": 2,
   "metadata": {},
   "outputs": [],
   "source": [
    "model = read_sbml_model('data/iYO844.xml')"
   ]
  },
  {
   "cell_type": "code",
   "execution_count": 3,
   "metadata": {},
   "outputs": [
    {
     "data": {
      "text/html": [
       "\n",
       "        <table>\n",
       "            <tr>\n",
       "                <td><strong>Name</strong></td>\n",
       "                <td>iYO844</td>\n",
       "            </tr><tr>\n",
       "                <td><strong>Memory address</strong></td>\n",
       "                <td>0x07fa384c90160</td>\n",
       "            </tr><tr>\n",
       "                <td><strong>Number of metabolites</strong></td>\n",
       "                <td>990</td>\n",
       "            </tr><tr>\n",
       "                <td><strong>Number of reactions</strong></td>\n",
       "                <td>1250</td>\n",
       "            </tr><tr>\n",
       "                <td><strong>Number of groups</strong></td>\n",
       "                <td>0</td>\n",
       "            </tr><tr>\n",
       "                <td><strong>Objective expression</strong></td>\n",
       "                <td>1.0*BIOMASS_BS_10 - 1.0*BIOMASS_BS_10_reverse_8788b</td>\n",
       "            </tr><tr>\n",
       "                <td><strong>Compartments</strong></td>\n",
       "                <td>cytosol, extracellular space</td>\n",
       "            </tr>\n",
       "          </table>"
      ],
      "text/plain": [
       "<Model iYO844 at 0x7fa384c90160>"
      ]
     },
     "execution_count": 3,
     "metadata": {},
     "output_type": "execute_result"
    }
   ],
   "source": [
    "model"
   ]
  },
  {
   "cell_type": "markdown",
   "metadata": {},
   "source": [
    "**Looking up metabolites involved in MH4 and 5-HTP synthesis**"
   ]
  },
  {
   "cell_type": "code",
   "execution_count": 4,
   "metadata": {},
   "outputs": [
    {
     "name": "stdout",
     "output_type": "stream",
     "text": [
      "Formate for_c\n",
      "Formate for_e\n"
     ]
    }
   ],
   "source": [
    "for metabolite in model.metabolites.query('Formate', 'name'):\n",
    "    print(metabolite.name, metabolite.id)"
   ]
  },
  {
   "cell_type": "code",
   "execution_count": 5,
   "metadata": {},
   "outputs": [
    {
     "name": "stdout",
     "output_type": "stream",
     "text": [
      "DGTP C10H12N5O13P3 dgtp_c\n",
      "GTP C10H12N5O14P3 gtp_c\n"
     ]
    }
   ],
   "source": [
    "for metabolite in model.metabolites.query('GTP', 'name'):\n",
    "    print(metabolite.name, metabolite.id)"
   ]
  },
  {
   "cell_type": "code",
   "execution_count": 6,
   "metadata": {},
   "outputs": [
    {
     "name": "stdout",
     "output_type": "stream",
     "text": [
      "H2O H2O h2o_c\n",
      "H2O H2O h2o_e\n",
      "Oxaloglycolate C4H2O6 oxglyc_c\n",
      "Sulfoacetate C2H2O5S sula_c\n",
      "Sulfoacetate C2H2O5S sula_e\n"
     ]
    }
   ],
   "source": [
    "for metabolite in model.metabolites.query('H2O', 'name'):\n",
    "    print(metabolite.name, metabolite.id)"
   ]
  },
  {
   "cell_type": "code",
   "execution_count": 7,
   "metadata": {},
   "outputs": [
    {
     "name": "stdout",
     "output_type": "stream",
     "text": [
      "Inorganic triphosphate pppi_c HO10P3\n"
     ]
    }
   ],
   "source": [
    "for metabolite in model.metabolites.query('Inorganic triphosphate', 'name'):\n",
    "    print(metabolite.name, metabolite.id, metabolite.formula)"
   ]
  },
  {
   "cell_type": "code",
   "execution_count": 8,
   "metadata": {},
   "outputs": [
    {
     "name": "stdout",
     "output_type": "stream",
     "text": [
      "Nicotinamide adenine dinucleotide nad_c\n",
      "Nicotinamide adenine dinucleotide - reduced nadh_c\n",
      "Nicotinamide adenine dinucleotide phosphate nadp_c\n",
      "Nicotinamide adenine dinucleotide phosphate - reduced nadph_c\n",
      "Nicotinamide ncam_c\n"
     ]
    }
   ],
   "source": [
    "for metabolite in model.metabolites.query('Nicotinamide', 'name'):\n",
    "    print(metabolite.name, metabolite.id)"
   ]
  },
  {
   "cell_type": "code",
   "execution_count": 9,
   "metadata": {},
   "outputs": [
    {
     "data": {
      "text/html": [
       "\n",
       "        <table>\n",
       "            <tr>\n",
       "                <td><strong>Metabolite identifier</strong></td><td>h_c</td>\n",
       "            </tr><tr>\n",
       "                <td><strong>Name</strong></td><td>H+</td>\n",
       "            </tr><tr>\n",
       "                <td><strong>Memory address</strong></td>\n",
       "                <td>0x07fa36cd4ffa0</td>\n",
       "            </tr><tr>\n",
       "                <td><strong>Formula</strong></td><td>H</td>\n",
       "            </tr><tr>\n",
       "                <td><strong>Compartment</strong></td><td>c</td>\n",
       "            </tr><tr>\n",
       "                <td><strong>In 616 reaction(s)</strong></td><td>\n",
       "                    CDPMEK, DRIBabc, ASP1DC, AIRC1, ALCD2y, ADADir, CD2abc1, TECA4S_BS, CYSabc, GLYt2r, NTRIR2x, DDGLCNt2r, CITt2r, MTHFR3, ADEt2, ARABRr, GLUDxi, HXANt2r, TEICH45, HACD5, GALT, 3UMPt6, TMN, ALDD13,...</td>\n",
       "            </tr>\n",
       "        </table>"
      ],
      "text/plain": [
       "<Metabolite h_c at 0x7fa36cd4ffa0>"
      ]
     },
     "execution_count": 9,
     "metadata": {},
     "output_type": "execute_result"
    }
   ],
   "source": [
    "model.metabolites.h_c "
   ]
  },
  {
   "cell_type": "code",
   "execution_count": 10,
   "metadata": {},
   "outputs": [
    {
     "name": "stdout",
     "output_type": "stream",
     "text": [
      "6-Pyruvoyl-5,6,7,8-tetrahydropterin 6pthp_c C9H11N5O3\n",
      "Dihydroneopterin dhnpt_c C9H13N5O4\n"
     ]
    }
   ],
   "source": [
    "for metabolite in model.metabolites.query('pterin', 'name'):\n",
    "    print(metabolite.name, metabolite.id, metabolite.formula)"
   ]
  },
  {
   "cell_type": "code",
   "execution_count": 11,
   "metadata": {},
   "outputs": [
    {
     "name": "stdout",
     "output_type": "stream",
     "text": [
      "L-Tryptophan trp__L_c\n",
      "L-Tryptophan trp__L_e\n"
     ]
    }
   ],
   "source": [
    "for metabolite in model.metabolites.query('Tryptophan', 'name'):\n",
    "    print(metabolite.name, metabolite.id)"
   ]
  },
  {
   "cell_type": "code",
   "execution_count": 12,
   "metadata": {},
   "outputs": [
    {
     "name": "stdout",
     "output_type": "stream",
     "text": [
      "O2 O2 o2_c\n",
      "O2 O2 o2_e\n"
     ]
    }
   ],
   "source": [
    "for metabolite in model.metabolites.query('O2 O2', 'name'):\n",
    "    print(metabolite.name, metabolite.id)"
   ]
  },
  {
   "cell_type": "markdown",
   "metadata": {},
   "source": [
    "**Creating missing metabolites**"
   ]
  },
  {
   "cell_type": "code",
   "execution_count": 13,
   "metadata": {},
   "outputs": [],
   "source": [
    "MH2_3P = Metabolite(id='MH2_3P', compartment='c')"
   ]
  },
  {
   "cell_type": "code",
   "execution_count": 14,
   "metadata": {},
   "outputs": [],
   "source": [
    "preMH2_3P = Metabolite(id='preMH2_3P', compartment='c')"
   ]
  },
  {
   "cell_type": "code",
   "execution_count": 15,
   "metadata": {},
   "outputs": [],
   "source": [
    "MH2 = Metabolite(id='MH2', compartment='c')"
   ]
  },
  {
   "cell_type": "code",
   "execution_count": 16,
   "metadata": {},
   "outputs": [],
   "source": [
    "MH4 = Metabolite(id='MH4', compartment='c')"
   ]
  },
  {
   "cell_type": "code",
   "execution_count": 17,
   "metadata": {},
   "outputs": [],
   "source": [
    "HydroxyMH4 = Metabolite(id='hydroxy_MH4', compartment='c')"
   ]
  },
  {
   "cell_type": "code",
   "execution_count": 18,
   "metadata": {},
   "outputs": [],
   "source": [
    "hydroxy_trp = Metabolite(id='hydroxy_trp', compartment='c')"
   ]
  },
  {
   "cell_type": "markdown",
   "metadata": {},
   "source": [
    "**Creating and adding metabolites to the missing reactions as outlined in Table ..**"
   ]
  },
  {
   "cell_type": "code",
   "execution_count": 19,
   "metadata": {},
   "outputs": [
    {
     "name": "stdout",
     "output_type": "stream",
     "text": [
      "gtp_c + h2o_c --> for_c + preMH2_3P\n"
     ]
    }
   ],
   "source": [
    "folE = Reaction('R05048')\n",
    "folE.add_metabolites({model.metabolites.h2o_c: -1,\n",
    "                      model.metabolites.gtp_c: -1,\n",
    "                      model.metabolites.for_c: 1,\n",
    "                      preMH2_3P: 1\n",
    "                     })\n",
    "print(folE.build_reaction_string())"
   ]
  },
  {
   "cell_type": "code",
   "execution_count": 20,
   "metadata": {},
   "outputs": [
    {
     "name": "stdout",
     "output_type": "stream",
     "text": [
      "preMH2_3P --> MH2_3P\n"
     ]
    }
   ],
   "source": [
    "folX = Reaction('R11082')\n",
    "folX.add_metabolites({preMH2_3P: -1,\n",
    "                      MH2_3P: 1\n",
    "                     })\n",
    "print(folX.build_reaction_string())"
   ]
  },
  {
   "cell_type": "code",
   "execution_count": 21,
   "metadata": {},
   "outputs": [
    {
     "name": "stdout",
     "output_type": "stream",
     "text": [
      "MH2_3P --> MH2 + pppi_c\n"
     ]
    }
   ],
   "source": [
    "MH2_3P_dephosphorylation = Reaction ('Putative_dephosphorylation')\n",
    "MH2_3P_dephosphorylation.add_metabolites({MH2_3P: -1,\n",
    "                                          MH2: 1,\n",
    "                                          model.metabolites.pppi_c: 1\n",
    "                                         })\n",
    "print(MH2_3P_dephosphorylation.build_reaction_string())"
   ]
  },
  {
   "cell_type": "code",
   "execution_count": 22,
   "metadata": {},
   "outputs": [
    {
     "name": "stdout",
     "output_type": "stream",
     "text": [
      "MH2 + h_c + nadph_c --> MH4 + nadp_c\n"
     ]
    }
   ],
   "source": [
    "folM = Reaction('R11019')\n",
    "folM.add_metabolites ({model.metabolites.nadph_c: -1,\n",
    "                       model.metabolites.h_c: -1,\n",
    "                       MH2: -1,\n",
    "                       MH4: 1,\n",
    "                       model.metabolites.nadp_c: 1\n",
    "                      })\n",
    "print(folM.build_reaction_string())"
   ]
  },
  {
   "cell_type": "code",
   "execution_count": 23,
   "metadata": {},
   "outputs": [
    {
     "name": "stdout",
     "output_type": "stream",
     "text": [
      "hydroxy_MH4 --> MH2 + h2o_c\n"
     ]
    }
   ],
   "source": [
    "phhB = Reaction ('R04734')\n",
    "phhB.add_metabolites({HydroxyMH4: -1,\n",
    "                      MH2: 1,\n",
    "                      model.metabolites.h2o_c: 1\n",
    "                     })\n",
    "print(phhB.build_reaction_string())"
   ]
  },
  {
   "cell_type": "code",
   "execution_count": 24,
   "metadata": {},
   "outputs": [
    {
     "name": "stdout",
     "output_type": "stream",
     "text": [
      "MH4 + o2_c + trp__L_c --> hydroxy_MH4 + hydroxy_trp\n"
     ]
    }
   ],
   "source": [
    "phhA = Reaction ('R12540')\n",
    "phhA.add_metabolites({model.metabolites.trp__L_c: -1,\n",
    "                      model.metabolites.o2_c: -1,\n",
    "                      MH4: -1,\n",
    "                      HydroxyMH4: 1,\n",
    "                      hydroxy_trp: 1\n",
    "                     })\n",
    "print(phhA.build_reaction_string())"
   ]
  },
  {
   "cell_type": "markdown",
   "metadata": {},
   "source": [
    "**Adding reactions to the model**"
   ]
  },
  {
   "cell_type": "code",
   "execution_count": 25,
   "metadata": {},
   "outputs": [],
   "source": [
    "model.add_reactions([folE])"
   ]
  },
  {
   "cell_type": "code",
   "execution_count": 26,
   "metadata": {},
   "outputs": [],
   "source": [
    "model.add_reactions([folX])"
   ]
  },
  {
   "cell_type": "code",
   "execution_count": 27,
   "metadata": {},
   "outputs": [],
   "source": [
    "model.add_reactions([MH2_3P_dephosphorylation])"
   ]
  },
  {
   "cell_type": "code",
   "execution_count": 28,
   "metadata": {},
   "outputs": [],
   "source": [
    "model.add_reactions([folM])"
   ]
  },
  {
   "cell_type": "code",
   "execution_count": 29,
   "metadata": {},
   "outputs": [],
   "source": [
    "model.add_reactions([phhB])"
   ]
  },
  {
   "cell_type": "code",
   "execution_count": 30,
   "metadata": {},
   "outputs": [],
   "source": [
    "model.add_reactions([phhA])"
   ]
  },
  {
   "cell_type": "code",
   "execution_count": 31,
   "metadata": {},
   "outputs": [
    {
     "data": {
      "text/html": [
       "\n",
       "        <table>\n",
       "            <tr>\n",
       "                <td><strong>Reaction identifier</strong></td><td>DM_hydroxy_trp</td>\n",
       "            </tr><tr>\n",
       "                <td><strong>Name</strong></td><td>demand</td>\n",
       "            </tr><tr>\n",
       "                <td><strong>Memory address</strong></td>\n",
       "                <td>0x07fa36610dc70</td>\n",
       "            </tr><tr>\n",
       "                <td><strong>Stoichiometry</strong></td>\n",
       "                <td>\n",
       "                    <p style='text-align:right'>hydroxy_trp --></p>\n",
       "                    <p style='text-align:right'>--></p>\n",
       "                </td>\n",
       "            </tr><tr>\n",
       "                <td><strong>GPR</strong></td><td></td>\n",
       "            </tr><tr>\n",
       "                <td><strong>Lower bound</strong></td><td>0</td>\n",
       "            </tr><tr>\n",
       "                <td><strong>Upper bound</strong></td><td>1000.0</td>\n",
       "            </tr>\n",
       "        </table>\n",
       "        "
      ],
      "text/plain": [
       "<Reaction DM_hydroxy_trp at 0x7fa36610dc70>"
      ]
     },
     "execution_count": 31,
     "metadata": {},
     "output_type": "execute_result"
    }
   ],
   "source": [
    "model.add_boundary(model.metabolites.hydroxy_trp, type='demand')"
   ]
  },
  {
   "cell_type": "code",
   "execution_count": 32,
   "metadata": {},
   "outputs": [
    {
     "data": {
      "text/html": [
       "\n",
       "        <table>\n",
       "            <tr>\n",
       "                <td><strong>Reaction identifier</strong></td><td>DM_hydroxy_trp</td>\n",
       "            </tr><tr>\n",
       "                <td><strong>Name</strong></td><td>demand</td>\n",
       "            </tr><tr>\n",
       "                <td><strong>Memory address</strong></td>\n",
       "                <td>0x07fa36610dc70</td>\n",
       "            </tr><tr>\n",
       "                <td><strong>Stoichiometry</strong></td>\n",
       "                <td>\n",
       "                    <p style='text-align:right'>hydroxy_trp --></p>\n",
       "                    <p style='text-align:right'>--></p>\n",
       "                </td>\n",
       "            </tr><tr>\n",
       "                <td><strong>GPR</strong></td><td></td>\n",
       "            </tr><tr>\n",
       "                <td><strong>Lower bound</strong></td><td>0</td>\n",
       "            </tr><tr>\n",
       "                <td><strong>Upper bound</strong></td><td>1000.0</td>\n",
       "            </tr>\n",
       "        </table>\n",
       "        "
      ],
      "text/plain": [
       "<Reaction DM_hydroxy_trp at 0x7fa36610dc70>"
      ]
     },
     "execution_count": 32,
     "metadata": {},
     "output_type": "execute_result"
    }
   ],
   "source": [
    "model.reactions.DM_hydroxy_trp"
   ]
  },
  {
   "cell_type": "markdown",
   "metadata": {},
   "source": [
    "**Looking at max growth rate of an optimised model**"
   ]
  },
  {
   "cell_type": "code",
   "execution_count": 33,
   "metadata": {},
   "outputs": [
    {
     "name": "stdout",
     "output_type": "stream",
     "text": [
      "Maximize\n",
      "1.0*BIOMASS_BS_10 - 1.0*BIOMASS_BS_10_reverse_8788b\n"
     ]
    }
   ],
   "source": [
    "print(model.objective)"
   ]
  },
  {
   "cell_type": "code",
   "execution_count": 34,
   "metadata": {},
   "outputs": [
    {
     "data": {
      "text/plain": [
       "0.11796638932240017"
      ]
     },
     "execution_count": 34,
     "metadata": {},
     "output_type": "execute_result"
    }
   ],
   "source": [
    "model.optimize().objective_value"
   ]
  },
  {
   "cell_type": "markdown",
   "metadata": {},
   "source": [
    "**Checking max 5-HTP production and respective growth rate if objective value is changed to the 5-HTP export reaction**"
   ]
  },
  {
   "cell_type": "code",
   "execution_count": 35,
   "metadata": {},
   "outputs": [
    {
     "name": "stdout",
     "output_type": "stream",
     "text": [
      "DM_hydroxy_trp: hydroxy_trp --> \n",
      "0.577614520311147\n",
      "0.0\n"
     ]
    }
   ],
   "source": [
    "with model:\n",
    "    print(model.reactions.DM_hydroxy_trp)\n",
    "    model.objective = model.reactions.DM_hydroxy_trp\n",
    "    solution = model.optimize()\n",
    "    max_5HTP_production = solution.objective_value\n",
    "    print(max_5HTP_production)\n",
    "    print(solution.fluxes.BIOMASS_BS_10)"
   ]
  },
  {
   "cell_type": "markdown",
   "metadata": {},
   "source": [
    "**Observing how the growth rate changes with increasing 5-HTP export flux**"
   ]
  },
  {
   "cell_type": "code",
   "execution_count": 36,
   "metadata": {},
   "outputs": [],
   "source": [
    "from cobra.flux_analysis.phenotype_phase_plane import production_envelope"
   ]
  },
  {
   "cell_type": "code",
   "execution_count": 37,
   "metadata": {},
   "outputs": [],
   "source": [
    "ppp_5HTP = production_envelope(model,\n",
    "                    reactions=[model.reactions.DM_hydroxy_trp],\n",
    "                    objective=model.reactions.BIOMASS_BS_10)"
   ]
  },
  {
   "cell_type": "code",
   "execution_count": 38,
   "metadata": {},
   "outputs": [
    {
     "data": {
      "text/html": [
       "<div>\n",
       "<style scoped>\n",
       "    .dataframe tbody tr th:only-of-type {\n",
       "        vertical-align: middle;\n",
       "    }\n",
       "\n",
       "    .dataframe tbody tr th {\n",
       "        vertical-align: top;\n",
       "    }\n",
       "\n",
       "    .dataframe thead th {\n",
       "        text-align: right;\n",
       "    }\n",
       "</style>\n",
       "<table border=\"1\" class=\"dataframe\">\n",
       "  <thead>\n",
       "    <tr style=\"text-align: right;\">\n",
       "      <th></th>\n",
       "      <th>carbon_source</th>\n",
       "      <th>flux_minimum</th>\n",
       "      <th>carbon_yield_minimum</th>\n",
       "      <th>mass_yield_minimum</th>\n",
       "      <th>flux_maximum</th>\n",
       "      <th>carbon_yield_maximum</th>\n",
       "      <th>mass_yield_maximum</th>\n",
       "      <th>DM_hydroxy_trp</th>\n",
       "    </tr>\n",
       "  </thead>\n",
       "  <tbody>\n",
       "    <tr>\n",
       "      <th>0</th>\n",
       "      <td>EX_glc__D_e</td>\n",
       "      <td>0.0</td>\n",
       "      <td>0.0</td>\n",
       "      <td>NaN</td>\n",
       "      <td>0.117966</td>\n",
       "      <td>1.255696e+01</td>\n",
       "      <td>NaN</td>\n",
       "      <td>0.000000</td>\n",
       "    </tr>\n",
       "    <tr>\n",
       "      <th>1</th>\n",
       "      <td>EX_glc__D_e</td>\n",
       "      <td>0.0</td>\n",
       "      <td>0.0</td>\n",
       "      <td>NaN</td>\n",
       "      <td>0.111820</td>\n",
       "      <td>1.190272e+01</td>\n",
       "      <td>NaN</td>\n",
       "      <td>0.030401</td>\n",
       "    </tr>\n",
       "    <tr>\n",
       "      <th>2</th>\n",
       "      <td>EX_glc__D_e</td>\n",
       "      <td>0.0</td>\n",
       "      <td>0.0</td>\n",
       "      <td>NaN</td>\n",
       "      <td>0.105674</td>\n",
       "      <td>1.124848e+01</td>\n",
       "      <td>NaN</td>\n",
       "      <td>0.060802</td>\n",
       "    </tr>\n",
       "    <tr>\n",
       "      <th>3</th>\n",
       "      <td>EX_glc__D_e</td>\n",
       "      <td>0.0</td>\n",
       "      <td>0.0</td>\n",
       "      <td>NaN</td>\n",
       "      <td>0.099528</td>\n",
       "      <td>1.059423e+01</td>\n",
       "      <td>NaN</td>\n",
       "      <td>0.091202</td>\n",
       "    </tr>\n",
       "    <tr>\n",
       "      <th>4</th>\n",
       "      <td>EX_glc__D_e</td>\n",
       "      <td>0.0</td>\n",
       "      <td>0.0</td>\n",
       "      <td>NaN</td>\n",
       "      <td>0.093381</td>\n",
       "      <td>9.939991e+00</td>\n",
       "      <td>NaN</td>\n",
       "      <td>0.121603</td>\n",
       "    </tr>\n",
       "    <tr>\n",
       "      <th>5</th>\n",
       "      <td>EX_glc__D_e</td>\n",
       "      <td>0.0</td>\n",
       "      <td>0.0</td>\n",
       "      <td>NaN</td>\n",
       "      <td>0.087235</td>\n",
       "      <td>9.285750e+00</td>\n",
       "      <td>NaN</td>\n",
       "      <td>0.152004</td>\n",
       "    </tr>\n",
       "    <tr>\n",
       "      <th>6</th>\n",
       "      <td>EX_glc__D_e</td>\n",
       "      <td>0.0</td>\n",
       "      <td>0.0</td>\n",
       "      <td>NaN</td>\n",
       "      <td>0.081089</td>\n",
       "      <td>8.631508e+00</td>\n",
       "      <td>NaN</td>\n",
       "      <td>0.182405</td>\n",
       "    </tr>\n",
       "    <tr>\n",
       "      <th>7</th>\n",
       "      <td>EX_glc__D_e</td>\n",
       "      <td>0.0</td>\n",
       "      <td>0.0</td>\n",
       "      <td>NaN</td>\n",
       "      <td>0.074942</td>\n",
       "      <td>7.977266e+00</td>\n",
       "      <td>NaN</td>\n",
       "      <td>0.212805</td>\n",
       "    </tr>\n",
       "    <tr>\n",
       "      <th>8</th>\n",
       "      <td>EX_glc__D_e</td>\n",
       "      <td>0.0</td>\n",
       "      <td>0.0</td>\n",
       "      <td>NaN</td>\n",
       "      <td>0.068796</td>\n",
       "      <td>7.323024e+00</td>\n",
       "      <td>NaN</td>\n",
       "      <td>0.243206</td>\n",
       "    </tr>\n",
       "    <tr>\n",
       "      <th>9</th>\n",
       "      <td>EX_glc__D_e</td>\n",
       "      <td>0.0</td>\n",
       "      <td>0.0</td>\n",
       "      <td>NaN</td>\n",
       "      <td>0.062650</td>\n",
       "      <td>6.668782e+00</td>\n",
       "      <td>NaN</td>\n",
       "      <td>0.273607</td>\n",
       "    </tr>\n",
       "    <tr>\n",
       "      <th>10</th>\n",
       "      <td>EX_glc__D_e</td>\n",
       "      <td>0.0</td>\n",
       "      <td>0.0</td>\n",
       "      <td>NaN</td>\n",
       "      <td>0.056426</td>\n",
       "      <td>6.006255e+00</td>\n",
       "      <td>NaN</td>\n",
       "      <td>0.304008</td>\n",
       "    </tr>\n",
       "    <tr>\n",
       "      <th>11</th>\n",
       "      <td>EX_glc__D_e</td>\n",
       "      <td>0.0</td>\n",
       "      <td>0.0</td>\n",
       "      <td>NaN</td>\n",
       "      <td>0.050166</td>\n",
       "      <td>5.339898e+00</td>\n",
       "      <td>NaN</td>\n",
       "      <td>0.334408</td>\n",
       "    </tr>\n",
       "    <tr>\n",
       "      <th>12</th>\n",
       "      <td>EX_glc__D_e</td>\n",
       "      <td>0.0</td>\n",
       "      <td>0.0</td>\n",
       "      <td>NaN</td>\n",
       "      <td>0.043906</td>\n",
       "      <td>4.673540e+00</td>\n",
       "      <td>NaN</td>\n",
       "      <td>0.364809</td>\n",
       "    </tr>\n",
       "    <tr>\n",
       "      <th>13</th>\n",
       "      <td>EX_glc__D_e</td>\n",
       "      <td>0.0</td>\n",
       "      <td>0.0</td>\n",
       "      <td>NaN</td>\n",
       "      <td>0.037645</td>\n",
       "      <td>4.007183e+00</td>\n",
       "      <td>NaN</td>\n",
       "      <td>0.395210</td>\n",
       "    </tr>\n",
       "    <tr>\n",
       "      <th>14</th>\n",
       "      <td>EX_glc__D_e</td>\n",
       "      <td>0.0</td>\n",
       "      <td>0.0</td>\n",
       "      <td>NaN</td>\n",
       "      <td>0.031385</td>\n",
       "      <td>3.340826e+00</td>\n",
       "      <td>NaN</td>\n",
       "      <td>0.425611</td>\n",
       "    </tr>\n",
       "    <tr>\n",
       "      <th>15</th>\n",
       "      <td>EX_glc__D_e</td>\n",
       "      <td>0.0</td>\n",
       "      <td>0.0</td>\n",
       "      <td>NaN</td>\n",
       "      <td>0.025125</td>\n",
       "      <td>2.674468e+00</td>\n",
       "      <td>NaN</td>\n",
       "      <td>0.456011</td>\n",
       "    </tr>\n",
       "    <tr>\n",
       "      <th>16</th>\n",
       "      <td>EX_glc__D_e</td>\n",
       "      <td>0.0</td>\n",
       "      <td>0.0</td>\n",
       "      <td>NaN</td>\n",
       "      <td>0.018865</td>\n",
       "      <td>2.008111e+00</td>\n",
       "      <td>NaN</td>\n",
       "      <td>0.486412</td>\n",
       "    </tr>\n",
       "    <tr>\n",
       "      <th>17</th>\n",
       "      <td>EX_glc__D_e</td>\n",
       "      <td>0.0</td>\n",
       "      <td>0.0</td>\n",
       "      <td>NaN</td>\n",
       "      <td>0.012605</td>\n",
       "      <td>1.341754e+00</td>\n",
       "      <td>NaN</td>\n",
       "      <td>0.516813</td>\n",
       "    </tr>\n",
       "    <tr>\n",
       "      <th>18</th>\n",
       "      <td>EX_glc__D_e</td>\n",
       "      <td>0.0</td>\n",
       "      <td>0.0</td>\n",
       "      <td>NaN</td>\n",
       "      <td>0.006341</td>\n",
       "      <td>6.750099e-01</td>\n",
       "      <td>NaN</td>\n",
       "      <td>0.547214</td>\n",
       "    </tr>\n",
       "    <tr>\n",
       "      <th>19</th>\n",
       "      <td>EX_glc__D_e</td>\n",
       "      <td>0.0</td>\n",
       "      <td>0.0</td>\n",
       "      <td>NaN</td>\n",
       "      <td>0.000000</td>\n",
       "      <td>4.028550e-14</td>\n",
       "      <td>NaN</td>\n",
       "      <td>0.577615</td>\n",
       "    </tr>\n",
       "  </tbody>\n",
       "</table>\n",
       "</div>"
      ],
      "text/plain": [
       "   carbon_source  flux_minimum  carbon_yield_minimum  mass_yield_minimum  \\\n",
       "0    EX_glc__D_e           0.0                   0.0                 NaN   \n",
       "1    EX_glc__D_e           0.0                   0.0                 NaN   \n",
       "2    EX_glc__D_e           0.0                   0.0                 NaN   \n",
       "3    EX_glc__D_e           0.0                   0.0                 NaN   \n",
       "4    EX_glc__D_e           0.0                   0.0                 NaN   \n",
       "5    EX_glc__D_e           0.0                   0.0                 NaN   \n",
       "6    EX_glc__D_e           0.0                   0.0                 NaN   \n",
       "7    EX_glc__D_e           0.0                   0.0                 NaN   \n",
       "8    EX_glc__D_e           0.0                   0.0                 NaN   \n",
       "9    EX_glc__D_e           0.0                   0.0                 NaN   \n",
       "10   EX_glc__D_e           0.0                   0.0                 NaN   \n",
       "11   EX_glc__D_e           0.0                   0.0                 NaN   \n",
       "12   EX_glc__D_e           0.0                   0.0                 NaN   \n",
       "13   EX_glc__D_e           0.0                   0.0                 NaN   \n",
       "14   EX_glc__D_e           0.0                   0.0                 NaN   \n",
       "15   EX_glc__D_e           0.0                   0.0                 NaN   \n",
       "16   EX_glc__D_e           0.0                   0.0                 NaN   \n",
       "17   EX_glc__D_e           0.0                   0.0                 NaN   \n",
       "18   EX_glc__D_e           0.0                   0.0                 NaN   \n",
       "19   EX_glc__D_e           0.0                   0.0                 NaN   \n",
       "\n",
       "    flux_maximum  carbon_yield_maximum  mass_yield_maximum  DM_hydroxy_trp  \n",
       "0       0.117966          1.255696e+01                 NaN        0.000000  \n",
       "1       0.111820          1.190272e+01                 NaN        0.030401  \n",
       "2       0.105674          1.124848e+01                 NaN        0.060802  \n",
       "3       0.099528          1.059423e+01                 NaN        0.091202  \n",
       "4       0.093381          9.939991e+00                 NaN        0.121603  \n",
       "5       0.087235          9.285750e+00                 NaN        0.152004  \n",
       "6       0.081089          8.631508e+00                 NaN        0.182405  \n",
       "7       0.074942          7.977266e+00                 NaN        0.212805  \n",
       "8       0.068796          7.323024e+00                 NaN        0.243206  \n",
       "9       0.062650          6.668782e+00                 NaN        0.273607  \n",
       "10      0.056426          6.006255e+00                 NaN        0.304008  \n",
       "11      0.050166          5.339898e+00                 NaN        0.334408  \n",
       "12      0.043906          4.673540e+00                 NaN        0.364809  \n",
       "13      0.037645          4.007183e+00                 NaN        0.395210  \n",
       "14      0.031385          3.340826e+00                 NaN        0.425611  \n",
       "15      0.025125          2.674468e+00                 NaN        0.456011  \n",
       "16      0.018865          2.008111e+00                 NaN        0.486412  \n",
       "17      0.012605          1.341754e+00                 NaN        0.516813  \n",
       "18      0.006341          6.750099e-01                 NaN        0.547214  \n",
       "19      0.000000          4.028550e-14                 NaN        0.577615  "
      ]
     },
     "execution_count": 38,
     "metadata": {},
     "output_type": "execute_result"
    }
   ],
   "source": [
    "ppp_5HTP"
   ]
  },
  {
   "cell_type": "code",
   "execution_count": 39,
   "metadata": {},
   "outputs": [
    {
     "data": {
      "text/plain": [
       "<matplotlib.axes._subplots.AxesSubplot at 0x7fa3590df0a0>"
      ]
     },
     "execution_count": 39,
     "metadata": {},
     "output_type": "execute_result"
    },
    {
     "data": {
      "image/png": "[encoded data removed]",
      "text/plain": [
       "<Figure size 432x288 with 1 Axes>"
      ]
     },
     "metadata": {
      "needs_background": "light"
     },
     "output_type": "display_data"
    }
   ],
   "source": [
    "ppp_5HTP.plot(x='DM_hydroxy_trp', y='flux_maximum')"
   ]
  },
  {
   "cell_type": "markdown",
   "metadata": {},
   "source": [
    "Not so good at all - we cannot get high flux towards 5-HTP without sacrificing the growth rate"
   ]
  },
  {
   "cell_type": "code",
   "execution_count": 40,
   "metadata": {},
   "outputs": [],
   "source": [
    "from cobra.flux_analysis import flux_variability_analysis"
   ]
  },
  {
   "cell_type": "code",
   "execution_count": 41,
   "metadata": {},
   "outputs": [
    {
     "name": "stdout",
     "output_type": "stream",
     "text": [
      "                minimum   maximum\n",
      "DM_hydroxy_trp      0.0  0.291588\n"
     ]
    }
   ],
   "source": [
    "hydroxy_trp_flux_analysis = flux_variability_analysis(model, model.reactions.DM_hydroxy_trp, fraction_of_optimum = 0.5)\n",
    "print(hydroxy_trp_flux_analysis)"
   ]
  },
  {
   "cell_type": "markdown",
   "metadata": {},
   "source": [
    "If we keep the growth rate at 50% of the maximum, we still can get around 52% of the max 5-HTP flux."
   ]
  },
  {
   "cell_type": "markdown",
   "metadata": {},
   "source": [
    "**Knocking out a single gene and setting the objective value of the model for 5-HTP export flux**\n",
    "\n",
    "Only non-zero biomass production flux knock-outs are selected"
   ]
  },
  {
   "cell_type": "code",
   "execution_count": 42,
   "metadata": {},
   "outputs": [
    {
     "name": "stderr",
     "output_type": "stream",
     "text": [
      "/opt/conda/lib/python3.8/site-packages/cobra/util/solver.py:508: UserWarning: Solver status is 'infeasible'.\n",
      "  warn(f\"Solver status is '{status}'.\", UserWarning)\n"
     ]
    }
   ],
   "source": [
    "for gene in model.genes:\n",
    "    with model:\n",
    "        gene.knock_out()\n",
    "        model.objective = model.reactions.DM_hydroxy_trp\n",
    "        solution = model.optimize()\n",
    "        if solution.fluxes.BIOMASS_BS_10 > 0:\n",
    "            print ('5-HTP export flux:', solution.fluxes.DM_hydroxy_trp, 'Gene ID:', gene.id, 'Biomass production:', solution.fluxes.BIOMASS_BS_10)"
   ]
  },
  {
   "cell_type": "markdown",
   "metadata": {},
   "source": [
    "No solutions are displayed, as in case of every knock-out and subsequent optimisation for max 5-HTP export no growth is observed."
   ]
  },
  {
   "cell_type": "markdown",
   "metadata": {},
   "source": [
    "**Knocking out a single gene, running optimisation for max biomass production flux and observing 5-HTP export flux**\n",
    "\n",
    "Only non-zero 5-HTP export flux knock-outs are selected"
   ]
  },
  {
   "cell_type": "code",
   "execution_count": 50,
   "metadata": {},
   "outputs": [
    {
     "name": "stderr",
     "output_type": "stream",
     "text": [
      "/opt/conda/lib/python3.8/site-packages/cobra/util/solver.py:508: UserWarning: Solver status is 'infeasible'.\n",
      "  warn(f\"Solver status is '{status}'.\", UserWarning)\n"
     ]
    }
   ],
   "source": [
    "knock_out_list = pd.DataFrame(columns=['Gene ID', '5-HTP export flux', 'Biomass production flux'])\n",
    "pd.options.display.float_format = '{:,.4f}'.format\n",
    "for gene in model.genes:\n",
    "    with model:\n",
    "        gene.knock_out()\n",
    "        solution = model.optimize()\n",
    "        if solution.fluxes.DM_hydroxy_trp > 0:\n",
    "            knock_out_list = knock_out_list.append({ 'Gene ID': gene.id, '5-HTP export flux': solution.fluxes.DM_hydroxy_trp, 'Biomass production flux': model.optimize().objective_value}, ignore_index=True)"
   ]
  },
  {
   "cell_type": "markdown",
   "metadata": {},
   "source": [
    "In each and every case, either the growth rate or the 5-HTP export flux are very close to zero, so it can be concluded that no knock-outs would improve the 5-HTP flux"
   ]
  },
  {
   "cell_type": "code",
   "execution_count": 51,
   "metadata": {},
   "outputs": [
    {
     "name": "stdout",
     "output_type": "stream",
     "text": [
      "      Gene ID  5-HTP export flux  Biomass production flux\n",
      "0    BSU00500 0.2572             -0.0000                 \n",
      "1    BSU35740 0.3400             -0.0000                 \n",
      "2    BSU22830 0.3400             0.0000                  \n",
      "3    BSU00760 0.2329             -0.0000                 \n",
      "4    BSU00740 0.3400             -0.0000                 \n",
      "5    BSU37150 0.2572             -0.0000                 \n",
      "6    BSU14190 0.3400             -0.0000                 \n",
      "7    BSU01780 0.2572             -0.0000                 \n",
      "8    BSU40420 0.2572             -0.0000                 \n",
      "9    BSU36900 0.3400             -0.0000                 \n",
      "10   BSU09540 0.3400             -0.0000                 \n",
      "11   BSU13890 0.0000             0.1164                  \n",
      "12   BSU06520 0.5525             0.0000                  \n",
      "13   BSU06420 0.3400             -0.0000                 \n",
      "14   BSU06430 0.3400             -0.0000                 \n",
      "15   BSU23380 0.3400             0.0000                  \n",
      "16   BSU32170 0.3400             0.0000                  \n",
      "17   BSU15680 0.3400             0.0000                  \n",
      "18   BSU04560 0.2572             -0.0000                 \n",
      "19   BSU21870 0.3400             0.0000                  \n",
      "20   BSU22490 0.3400             -0.0000                 \n",
      "21   BSU04640 0.3400             -0.0000                 \n",
      "22   BSU16770 0.3400             -0.0000                 \n",
      "23   BSU31400 0.3400             -0.0000                 \n",
      "24   BSU21810 0.3400             0.0000                  \n",
      "25   BSU28080 0.3400             -0.0000                 \n",
      "26   BSU38490 0.2572             -0.0000                 \n",
      "27   BSU00780 0.3400             0.0000                  \n",
      "28   BSU15540 0.3400             0.0000                  \n",
      "29   BSU15530 0.3400             0.0000                  \n",
      "30   BSU15500 0.3400             0.0000                  \n",
      "31   BSU00770 0.3400             0.0000                  \n",
      "32   BSU24280 0.3400             0.0000                  \n",
      "33   BSU25160 0.3400             0.0000                  \n",
      "34   BSU22750 0.2911             0.0000                  \n",
      "35   BSU00280 0.2572             -0.0000                 \n",
      "36   BSU06490 0.2911             -0.0000                 \n",
      "37   BSU16550 0.2911             0.0000                  \n",
      "38   BSU24270 0.3400             0.0000                  \n",
      "39   BSU29440 0.2572             0.0000                  \n",
      "40   BSU29450 0.2572             0.0000                  \n",
      "41   BSU06360 0.3400             -0.0000                 \n",
      "42   BSU22780 0.3400             -0.0000                 \n",
      "43   BSU22760 0.3400             -0.0000                 \n",
      "44   BSU29620 0.3400             -0.0000                 \n",
      "45   BSU27870 0.3400             -0.0000                 \n",
      "46   BSU22370 0.3400             -0.0000                 \n",
      "47   BSU34920 0.3400             -0.0000                 \n",
      "48   BSU38500 0.3400             -0.0000                 \n",
      "49   BSU38530 0.3400             0.0000                  \n",
      "50   BSU38510 0.2572             0.0000                  \n",
      "51   BSU38520 0.2572             0.0000                  \n",
      "52   BSU00790 0.3400             0.0000                  \n",
      "53   BSU32260 0.3400             -0.0000                 \n",
      "54   BG12900  0.3400             -0.0000                 \n",
      "55   BSU32240 0.3400             0.0000                  \n",
      "56   BSU21910 0.3400             -0.0000                 \n",
      "57   BSU34870 0.2572             -0.0000                 \n",
      "58   BSU34900 0.2572             -0.0000                 \n",
      "59   BSU25070 0.3400             0.0000                  \n",
      "60   BSU17370 0.3400             -0.0000                 \n",
      "61   BSU00900 0.3400             0.0000                  \n",
      "62   BSU17390 0.3400             -0.0000                 \n",
      "63   BSU28270 0.3400             -0.0000                 \n",
      "64   BSU28290 0.1700             0.0000                  \n",
      "65   BSU15910 0.2016             0.0000                  \n",
      "66   BSU15900 0.1573             0.0000                  \n",
      "67   BSU11340 0.3400             0.0000                  \n",
      "68   BSU11870 0.3400             -0.0000                 \n",
      "69   BSU24310 0.2329             -0.0000                 \n",
      "70   BSU11010 0.3400             -0.0000                 \n",
      "71   BSU30790 0.1573             -0.0000                 \n",
      "72   BSU30780 0.1573             -0.0000                 \n",
      "73   BSU11610 0.3400             0.0000                  \n",
      "74   BSU03130 0.3400             0.0000                  \n",
      "75   BSU35710 0.3400             -0.0000                 \n",
      "76   BSU35760 0.3400             -0.0000                 \n",
      "77   BSU22730 0.3400             -0.0000                 \n",
      "78   BSU35720 0.3400             -0.0000                 \n",
      "79   BSU27860 0.3400             -0.0000                 \n",
      "80   BSU35530 0.3400             -0.0000                 \n",
      "81   BSU35750 0.3400             -0.0000                 \n",
      "82   BSU35730 0.3400             0.0000                  \n",
      "83   BSU35690 0.3400             -0.0000                 \n",
      "84   BSU35680 0.3400             -0.0000                 \n",
      "85   BSU30800 0.3400             -0.0000                 \n",
      "86   BSU11250 0.2572             -0.0000                 \n",
      "87   BSU32250 0.3400             -0.0000                 \n",
      "88   BSU24030 0.3400             -0.0000                 \n",
      "89   BSU24060 0.3400             0.0000                  \n",
      "90   BSU24050 0.3400             0.0000                  \n",
      "91   BSU24040 0.3400             0.0000                  \n",
      "92   BSU15550 0.3400             -0.0000                 \n",
      "93   BSU15560 0.3400             -0.0000                 \n",
      "94   BSU15190 0.3400             0.0000                  \n",
      "95   BSU15180 0.3400             0.0000                  \n",
      "96   BSU35660 0.3400             -0.0000                 \n",
      "97   BSU01770 0.3400             -0.0000                 \n",
      "98   BSU15220 0.3400             0.0000                  \n",
      "99   BSU15200 0.3400             0.0000                  \n",
      "100  BSU16540 0.5229             -0.0000                 \n",
      "101  BSU29790 0.5229             -0.0000                 \n",
      "102  BSU15230 0.3400             -0.0000                 \n",
      "103  BSU31150 0.3400             -0.0000                 \n",
      "104  BSU04570 0.3400             -0.0000                 \n",
      "105  BSU21920 0.3400             -0.0000                 \n",
      "106  BSU22610 0.3400             0.0000                  \n",
      "107  BSU27900 0.3400             0.0000                  \n",
      "108  BSU06530 0.3028             -0.0000                 \n",
      "109  BSU06500 0.2329             -0.0000                 \n",
      "110  BSU34860 0.1573             -0.0000                 \n",
      "111  BSU06450 0.2329             -0.0000                 \n",
      "112  BSU06470 0.3030             -0.0000                 \n",
      "113  BSU06480 0.3030             -0.0000                 \n",
      "114  BSU06460 0.3030             -0.0000                 \n",
      "115  BSU34880 0.1573             0.0000                  \n"
     ]
    },
    {
     "name": "stderr",
     "output_type": "stream",
     "text": [
      "<ipython-input-51-f4d78eb1eacc>:4: FutureWarning: Passing a negative integer is deprecated in version 1.0 and will not be supported in future version. Instead, use None to not limit the column width.\n",
      "  pd.set_option('display.max_colwidth', -1)\n"
     ]
    }
   ],
   "source": [
    "pd.set_option('display.max_rows', None)\n",
    "pd.set_option('display.max_columns', None)\n",
    "pd.set_option('display.width', None)\n",
    "pd.set_option('display.max_colwidth', -1)\n",
    "print(knock_out_list)"
   ]
  },
  {
   "cell_type": "markdown",
   "metadata": {},
   "source": [
    "**Changing the boundaries for chorismate conversion to prephenate**"
   ]
  },
  {
   "cell_type": "markdown",
   "metadata": {},
   "source": [
    "The idea behind this part is to restrict and control the flow of chorismate, a precursor of L-tryptophane and 5-HTP, to other aromatic amino acid production. For this we are setting bounds for a CHORM reaction (chorismate --> prephenate), where we are changing the lower bound to be above 0, so that some chorismate is routed for other essential amino acids in the biomass reaction to ensure growth, and the higher bound ensures we are not depleting the precursor pool for 5-HTP. "
   ]
  },
  {
   "cell_type": "code",
   "execution_count": 135,
   "metadata": {},
   "outputs": [
    {
     "name": "stdout",
     "output_type": "stream",
     "text": [
      "Max 5-HTP: 0.3\n",
      "Growth: 0.05691786248638337\n",
      "CHORM: 0.016321937000182755\n"
     ]
    }
   ],
   "source": [
    "#here we do not change the bounds for chorismate conversion\n",
    "with model:\n",
    "    model.reactions.R12540.bounds = 0, 0.3 #setting the upper bound for the phhA to allow some growth while producing 5-HTP\n",
    "    model.objective = model.reactions.R12540 #setting objective for 5-HTP production\n",
    "    solution = model.optimize()\n",
    "    print('Max 5-HTP:', solution.objective_value)\n",
    "    print('Growth:', solution.fluxes.BIOMASS_BS_10)\n",
    "    print('CHORM:', solution.fluxes.CHORM)"
   ]
  },
  {
   "cell_type": "code",
   "execution_count": 133,
   "metadata": {},
   "outputs": [
    {
     "name": "stdout",
     "output_type": "stream",
     "text": [
      "Max 5-HTP: 0.3\n",
      "Growth: 0.034872002315500854\n",
      "CHORM: 0.01\n"
     ]
    }
   ],
   "source": [
    "#here we try to keep chorismate conversion in tight bounds to see the effect on the the 5-HTP and biomass production.\n",
    "#Chorismate is a precursor for L-tryptohan and other aromatic amino acids used in the biomass equation.\n",
    "with model:\n",
    "    model.reactions.CHORM.bounds = 0.001, 0.01 #setting tighter bounds for conversion of chorismate to prephenate to make sure the cell still grows while producing 5-HTP\n",
    "    model.reactions.R12540.bounds = 0, 0.3 #setting the upper bound for the phhA to allow some growth while producing 5-HTP\n",
    "    model.objective = model.reactions.R12540 #setting objective for 5-HTP production\n",
    "    solution = model.optimize()\n",
    "    print('Max 5-HTP:', solution.objective_value)\n",
    "    print('Growth:', solution.fluxes.BIOMASS_BS_10)\n",
    "    print('CHORM:', solution.fluxes.CHORM)"
   ]
  },
  {
   "cell_type": "markdown",
   "metadata": {},
   "source": [
    "Keeping chorismate-to-prephenate reaction in tight bounds does not positively affect growth when 5-HTP is selected as an objective value, however, it has a detrimental effect on growth if the lower bound is above 0.163"
   ]
  },
  {
   "cell_type": "code",
   "execution_count": null,
   "metadata": {},
   "outputs": [],
   "source": []
  }
 ],
 "metadata": {
  "kernelspec": {
   "display_name": "Python 3",
   "language": "python",
   "name": "python3"
  },
  "language_info": {
   "codemirror_mode": {
    "name": "ipython",
    "version": 3
   },
   "file_extension": ".py",
   "mimetype": "text/x-python",
   "name": "python",
   "nbconvert_exporter": "python",
   "pygments_lexer": "ipython3",
   "version": "3.8.5"
  }
 },
 "nbformat": 4,
 "nbformat_minor": 4
}
