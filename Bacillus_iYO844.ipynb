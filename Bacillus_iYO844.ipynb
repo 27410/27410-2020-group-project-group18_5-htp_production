{
 "cells": [
  {
   "cell_type": "code",
   "execution_count": 1,
   "metadata": {},
   "outputs": [],
   "source": [
    "from cobra.io import read_sbml_model\n",
    "from cobra import Reaction, Metabolite\n",
    "import pandas as pd"
   ]
  },
  {
   "cell_type": "markdown",
   "metadata": {},
   "source": [
    "****Heterologous expression of 5-HTP and MH4 pathway in Bacillus subtilis****"
   ]
  },
  {
   "cell_type": "code",
   "execution_count": 2,
   "metadata": {},
   "outputs": [],
   "source": [
    "model = read_sbml_model('iYO844.xml')"
   ]
  },
  {
   "cell_type": "code",
   "execution_count": 3,
   "metadata": {},
   "outputs": [
    {
     "data": {
      "text/html": [
       "\n",
       "        <table>\n",
       "            <tr>\n",
       "                <td><strong>Name</strong></td>\n",
       "                <td>iYO844</td>\n",
       "            </tr><tr>\n",
       "                <td><strong>Memory address</strong></td>\n",
       "                <td>0x07ff3e0035be0</td>\n",
       "            </tr><tr>\n",
       "                <td><strong>Number of metabolites</strong></td>\n",
       "                <td>990</td>\n",
       "            </tr><tr>\n",
       "                <td><strong>Number of reactions</strong></td>\n",
       "                <td>1250</td>\n",
       "            </tr><tr>\n",
       "                <td><strong>Number of groups</strong></td>\n",
       "                <td>0</td>\n",
       "            </tr><tr>\n",
       "                <td><strong>Objective expression</strong></td>\n",
       "                <td>1.0*BIOMASS_BS_10 - 1.0*BIOMASS_BS_10_reverse_8788b</td>\n",
       "            </tr><tr>\n",
       "                <td><strong>Compartments</strong></td>\n",
       "                <td>cytosol, extracellular space</td>\n",
       "            </tr>\n",
       "          </table>"
      ],
      "text/plain": [
       "<Model iYO844 at 0x7ff3e0035be0>"
      ]
     },
     "execution_count": 3,
     "metadata": {},
     "output_type": "execute_result"
    }
   ],
   "source": [
    "model"
   ]
  },
  {
   "cell_type": "code",
   "execution_count": 4,
   "metadata": {},
   "outputs": [
    {
     "name": "stdout",
     "output_type": "stream",
     "text": [
      "Formate for_c\n",
      "Formate for_e\n"
     ]
    }
   ],
   "source": [
    "for metabolite in model.metabolites.query('Formate', 'name'):\n",
    "    print(metabolite.name, metabolite.id)"
   ]
  },
  {
   "cell_type": "code",
   "execution_count": 5,
   "metadata": {},
   "outputs": [
    {
     "name": "stdout",
     "output_type": "stream",
     "text": [
      "DGTP C10H12N5O13P3 dgtp_c\n",
      "GTP C10H12N5O14P3 gtp_c\n"
     ]
    }
   ],
   "source": [
    "for metabolite in model.metabolites.query('GTP', 'name'):\n",
    "    print(metabolite.name, metabolite.id)"
   ]
  },
  {
   "cell_type": "code",
   "execution_count": 6,
   "metadata": {},
   "outputs": [
    {
     "name": "stdout",
     "output_type": "stream",
     "text": [
      "H2O H2O h2o_c\n",
      "H2O H2O h2o_e\n",
      "Oxaloglycolate C4H2O6 oxglyc_c\n",
      "Sulfoacetate C2H2O5S sula_c\n",
      "Sulfoacetate C2H2O5S sula_e\n"
     ]
    }
   ],
   "source": [
    "for metabolite in model.metabolites.query('H2O', 'name'):\n",
    "    print(metabolite.name, metabolite.id)"
   ]
  },
  {
   "cell_type": "code",
   "execution_count": 9,
   "metadata": {},
   "outputs": [
    {
     "name": "stdout",
     "output_type": "stream",
     "text": [
      "Inorganic triphosphate pppi_c HO10P3\n"
     ]
    }
   ],
   "source": [
    "for metabolite in model.metabolites.query('Inorganic triphosphate', 'name'):\n",
    "    print(metabolite.name, metabolite.id, metabolite.formula)"
   ]
  },
  {
   "cell_type": "code",
   "execution_count": 16,
   "metadata": {},
   "outputs": [
    {
     "name": "stdout",
     "output_type": "stream",
     "text": [
      "Nicotinamide adenine dinucleotide nad_c\n",
      "Nicotinamide adenine dinucleotide - reduced nadh_c\n",
      "Nicotinamide adenine dinucleotide phosphate nadp_c\n",
      "Nicotinamide adenine dinucleotide phosphate - reduced nadph_c\n",
      "Nicotinamide ncam_c\n"
     ]
    }
   ],
   "source": [
    "for metabolite in model.metabolites.query('Nicotinamide', 'name'):\n",
    "    print(metabolite.name, metabolite.id)"
   ]
  },
  {
   "cell_type": "code",
   "execution_count": 17,
   "metadata": {},
   "outputs": [
    {
     "data": {
      "text/html": [
       "\n",
       "        <table>\n",
       "            <tr>\n",
       "                <td><strong>Metabolite identifier</strong></td><td>h_c</td>\n",
       "            </tr><tr>\n",
       "                <td><strong>Name</strong></td><td>H+</td>\n",
       "            </tr><tr>\n",
       "                <td><strong>Memory address</strong></td>\n",
       "                <td>0x07ff3c14787c0</td>\n",
       "            </tr><tr>\n",
       "                <td><strong>Formula</strong></td><td>H</td>\n",
       "            </tr><tr>\n",
       "                <td><strong>Compartment</strong></td><td>c</td>\n",
       "            </tr><tr>\n",
       "                <td><strong>In 616 reaction(s)</strong></td><td>\n",
       "                    PNTOt2, SADT, KAS6, LAAL6, D4DGCD, ADPRDP, CITt11, LAAL17, DPCOAK, LIPO3S24_BS, FORt2, GLGC, BUTSabc, AGPR, CYTOM, KAS8, CITt12, DAGK_BS, CBPS, ETOHt3, GLYCK, P5CD, CITt10, GLCNt2ir, 3CMPt6, KAS9,...</td>\n",
       "            </tr>\n",
       "        </table>"
      ],
      "text/plain": [
       "<Metabolite h_c at 0x7ff3c14787c0>"
      ]
     },
     "execution_count": 17,
     "metadata": {},
     "output_type": "execute_result"
    }
   ],
   "source": [
    "model.metabolites.h_c "
   ]
  },
  {
   "cell_type": "code",
   "execution_count": 19,
   "metadata": {},
   "outputs": [
    {
     "name": "stdout",
     "output_type": "stream",
     "text": [
      "6-Pyruvoyl-5,6,7,8-tetrahydropterin 6pthp_c C9H11N5O3\n",
      "Dihydroneopterin dhnpt_c C9H13N5O4\n"
     ]
    }
   ],
   "source": [
    "for metabolite in model.metabolites.query('pterin', 'name'):\n",
    "    print(metabolite.name, metabolite.id, metabolite.formula)"
   ]
  },
  {
   "cell_type": "code",
   "execution_count": 20,
   "metadata": {},
   "outputs": [
    {
     "name": "stdout",
     "output_type": "stream",
     "text": [
      "L-Tryptophan trp__L_c\n",
      "L-Tryptophan trp__L_e\n"
     ]
    }
   ],
   "source": [
    "for metabolite in model.metabolites.query('Tryptophan', 'name'):\n",
    "    print(metabolite.name, metabolite.id)"
   ]
  },
  {
   "cell_type": "code",
   "execution_count": 23,
   "metadata": {},
   "outputs": [
    {
     "name": "stdout",
     "output_type": "stream",
     "text": [
      "O2 O2 o2_c\n",
      "O2 O2 o2_e\n"
     ]
    }
   ],
   "source": [
    "for metabolite in model.metabolites.query('O2 O2', 'name'):\n",
    "    print(metabolite.name, metabolite.id)"
   ]
  },
  {
   "cell_type": "code",
   "execution_count": 24,
   "metadata": {},
   "outputs": [],
   "source": [
    "MH2_3P = Metabolite(id='MH2_3P', compartment='c')"
   ]
  },
  {
   "cell_type": "code",
   "execution_count": 25,
   "metadata": {},
   "outputs": [],
   "source": [
    "preMH2_3P = Metabolite(id='preMH2_3P', compartment='c')"
   ]
  },
  {
   "cell_type": "code",
   "execution_count": 26,
   "metadata": {},
   "outputs": [],
   "source": [
    "MH2 = Metabolite(id='MH2', compartment='c')"
   ]
  },
  {
   "cell_type": "code",
   "execution_count": 27,
   "metadata": {},
   "outputs": [],
   "source": [
    "MH4 = Metabolite(id='MH4', compartment='c')"
   ]
  },
  {
   "cell_type": "code",
   "execution_count": 28,
   "metadata": {},
   "outputs": [],
   "source": [
    "HydroxyMH4 = Metabolite(id='hydroxy_MH4', compartment='c')"
   ]
  },
  {
   "cell_type": "code",
   "execution_count": 29,
   "metadata": {},
   "outputs": [],
   "source": [
    "hydroxy_trp = Metabolite (id='hydroxy_trp', compartment='c')"
   ]
  },
  {
   "cell_type": "code",
   "execution_count": 31,
   "metadata": {},
   "outputs": [
    {
     "name": "stdout",
     "output_type": "stream",
     "text": [
      "gtp_c + h2o_c --> for_c + preMH2_3P\n"
     ]
    }
   ],
   "source": [
    "folE = Reaction('R05048')\n",
    "folE.add_metabolites({model.metabolites.h2o_c: -1,\n",
    "                      model.metabolites.gtp_c: -1,\n",
    "                      model.metabolites.for_c: 1,\n",
    "                      preMH2_3P: 1\n",
    "                     })\n",
    "print(folE.build_reaction_string())"
   ]
  },
  {
   "cell_type": "code",
   "execution_count": 32,
   "metadata": {},
   "outputs": [
    {
     "name": "stdout",
     "output_type": "stream",
     "text": [
      "preMH2_3P --> MH2_3P\n"
     ]
    }
   ],
   "source": [
    "folX = Reaction('R11082')\n",
    "folX.add_metabolites({preMH2_3P: -1,\n",
    "                      MH2_3P: 1\n",
    "                     })\n",
    "print(folX.build_reaction_string())"
   ]
  },
  {
   "cell_type": "code",
   "execution_count": 33,
   "metadata": {},
   "outputs": [
    {
     "name": "stdout",
     "output_type": "stream",
     "text": [
      "MH2_3P --> MH2 + pppi_c\n"
     ]
    }
   ],
   "source": [
    "MH2_3P_dephosphorylation = Reaction ('Putative_dephosphorylation')\n",
    "MH2_3P_dephosphorylation.add_metabolites({MH2_3P: -1,\n",
    "                                          MH2: 1,\n",
    "                                          model.metabolites.pppi_c: 1\n",
    "                                         })\n",
    "print(MH2_3P_dephosphorylation.build_reaction_string())"
   ]
  },
  {
   "cell_type": "code",
   "execution_count": 34,
   "metadata": {},
   "outputs": [
    {
     "name": "stdout",
     "output_type": "stream",
     "text": [
      "MH2 + h_c + nadph_c --> MH4 + nadp_c\n"
     ]
    }
   ],
   "source": [
    "folM = Reaction('R11019')\n",
    "folM.add_metabolites ({model.metabolites.nadph_c: -1,\n",
    "                       model.metabolites.h_c: -1,\n",
    "                       MH2: -1,\n",
    "                       MH4: 1,\n",
    "                       model.metabolites.nadp_c: 1\n",
    "                      })\n",
    "print(folM.build_reaction_string())"
   ]
  },
  {
   "cell_type": "code",
   "execution_count": 35,
   "metadata": {},
   "outputs": [
    {
     "name": "stdout",
     "output_type": "stream",
     "text": [
      "hydroxy_MH4 --> MH2 + h2o_c\n"
     ]
    }
   ],
   "source": [
    "phhB = Reaction ('R04734')\n",
    "phhB.add_metabolites({HydroxyMH4: -1,\n",
    "                      MH2: 1,\n",
    "                      model.metabolites.h2o_c: 1\n",
    "                     })\n",
    "print(phhB.build_reaction_string())"
   ]
  },
  {
   "cell_type": "code",
   "execution_count": 36,
   "metadata": {},
   "outputs": [
    {
     "name": "stdout",
     "output_type": "stream",
     "text": [
      "MH4 + o2_c + trp__L_c --> hydroxy_MH4 + hydroxy_trp\n"
     ]
    }
   ],
   "source": [
    "phhA = Reaction ('R12540')\n",
    "phhA.add_metabolites({model.metabolites.trp__L_c: -1,\n",
    "                      model.metabolites.o2_c: -1,\n",
    "                      MH4: -1,\n",
    "                      HydroxyMH4: 1,\n",
    "                      hydroxy_trp: 1\n",
    "                     })\n",
    "print(phhA.build_reaction_string())"
   ]
  },
  {
   "cell_type": "code",
   "execution_count": 37,
   "metadata": {},
   "outputs": [],
   "source": [
    "model.add_reactions([folE])"
   ]
  },
  {
   "cell_type": "code",
   "execution_count": 38,
   "metadata": {},
   "outputs": [],
   "source": [
    "model.add_reactions([folX])"
   ]
  },
  {
   "cell_type": "code",
   "execution_count": 39,
   "metadata": {},
   "outputs": [],
   "source": [
    "model.add_reactions([MH2_3P_dephosphorylation])"
   ]
  },
  {
   "cell_type": "code",
   "execution_count": 40,
   "metadata": {},
   "outputs": [],
   "source": [
    "model.add_reactions([folM])"
   ]
  },
  {
   "cell_type": "code",
   "execution_count": 41,
   "metadata": {},
   "outputs": [],
   "source": [
    "model.add_reactions([phhB])"
   ]
  },
  {
   "cell_type": "code",
   "execution_count": 42,
   "metadata": {},
   "outputs": [],
   "source": [
    "model.add_reactions([phhA])"
   ]
  },
  {
   "cell_type": "code",
   "execution_count": 43,
   "metadata": {},
   "outputs": [
    {
     "data": {
      "text/html": [
       "\n",
       "        <table>\n",
       "            <tr>\n",
       "                <td><strong>Reaction identifier</strong></td><td>R12540</td>\n",
       "            </tr><tr>\n",
       "                <td><strong>Name</strong></td><td></td>\n",
       "            </tr><tr>\n",
       "                <td><strong>Memory address</strong></td>\n",
       "                <td>0x07ff3c0b06700</td>\n",
       "            </tr><tr>\n",
       "                <td><strong>Stoichiometry</strong></td>\n",
       "                <td>\n",
       "                    <p style='text-align:right'>MH4 + o2_c + trp__L_c --> hydroxy_MH4 + hydroxy_trp</p>\n",
       "                    <p style='text-align:right'>+ O2 O2 + L-Tryptophan --> +</p>\n",
       "                </td>\n",
       "            </tr><tr>\n",
       "                <td><strong>GPR</strong></td><td></td>\n",
       "            </tr><tr>\n",
       "                <td><strong>Lower bound</strong></td><td>0.0</td>\n",
       "            </tr><tr>\n",
       "                <td><strong>Upper bound</strong></td><td>1000.0</td>\n",
       "            </tr>\n",
       "        </table>\n",
       "        "
      ],
      "text/plain": [
       "<Reaction R12540 at 0x7ff3c0b06700>"
      ]
     },
     "execution_count": 43,
     "metadata": {},
     "output_type": "execute_result"
    }
   ],
   "source": [
    "model.reactions.R12540"
   ]
  },
  {
   "cell_type": "code",
   "execution_count": 44,
   "metadata": {},
   "outputs": [],
   "source": [
    "hydroxy_5HTP_exchange = Reaction('EX_hydroxy_trp')\n",
    "hydroxy_5HTP_exchange.add_metabolites({model.metabolites.hydroxy_trp: -1})\n",
    "model.add_reactions([hydroxy_5HTP_exchange])"
   ]
  },
  {
   "cell_type": "code",
   "execution_count": 45,
   "metadata": {},
   "outputs": [
    {
     "data": {
      "text/html": [
       "<strong><em>Optimal</em> solution with objective value 0.118</strong><br><div>\n",
       "<style scoped>\n",
       "    .dataframe tbody tr th:only-of-type {\n",
       "        vertical-align: middle;\n",
       "    }\n",
       "\n",
       "    .dataframe tbody tr th {\n",
       "        vertical-align: top;\n",
       "    }\n",
       "\n",
       "    .dataframe thead th {\n",
       "        text-align: right;\n",
       "    }\n",
       "</style>\n",
       "<table border=\"1\" class=\"dataframe\">\n",
       "  <thead>\n",
       "    <tr style=\"text-align: right;\">\n",
       "      <th></th>\n",
       "      <th>fluxes</th>\n",
       "      <th>reduced_costs</th>\n",
       "    </tr>\n",
       "  </thead>\n",
       "  <tbody>\n",
       "    <tr>\n",
       "      <th>EX_etha_e</th>\n",
       "      <td>0.0</td>\n",
       "      <td>-0.066773</td>\n",
       "    </tr>\n",
       "    <tr>\n",
       "      <th>EX_drib_e</th>\n",
       "      <td>0.0</td>\n",
       "      <td>-0.150240</td>\n",
       "    </tr>\n",
       "    <tr>\n",
       "      <th>EX_csn_e</th>\n",
       "      <td>0.0</td>\n",
       "      <td>-0.129837</td>\n",
       "    </tr>\n",
       "    <tr>\n",
       "      <th>EX_5mtr_e</th>\n",
       "      <td>0.0</td>\n",
       "      <td>-0.224433</td>\n",
       "    </tr>\n",
       "    <tr>\n",
       "      <th>EX_dtmp_e</th>\n",
       "      <td>0.0</td>\n",
       "      <td>-0.337577</td>\n",
       "    </tr>\n",
       "    <tr>\n",
       "      <th>...</th>\n",
       "      <td>...</td>\n",
       "      <td>...</td>\n",
       "    </tr>\n",
       "    <tr>\n",
       "      <th>Putative_dephosphorylation</th>\n",
       "      <td>0.0</td>\n",
       "      <td>0.000000</td>\n",
       "    </tr>\n",
       "    <tr>\n",
       "      <th>R11019</th>\n",
       "      <td>0.0</td>\n",
       "      <td>0.000000</td>\n",
       "    </tr>\n",
       "    <tr>\n",
       "      <th>R04734</th>\n",
       "      <td>0.0</td>\n",
       "      <td>-0.012984</td>\n",
       "    </tr>\n",
       "    <tr>\n",
       "      <th>R12540</th>\n",
       "      <td>0.0</td>\n",
       "      <td>-0.391366</td>\n",
       "    </tr>\n",
       "    <tr>\n",
       "      <th>EX_hydroxy_trp</th>\n",
       "      <td>0.0</td>\n",
       "      <td>0.000000</td>\n",
       "    </tr>\n",
       "  </tbody>\n",
       "</table>\n",
       "<p>1257 rows × 2 columns</p>\n",
       "</div>"
      ],
      "text/plain": [
       "<Solution 0.118 at 0x7ff3c0b716d0>"
      ]
     },
     "execution_count": 45,
     "metadata": {},
     "output_type": "execute_result"
    }
   ],
   "source": [
    "model.optimize()"
   ]
  },
  {
   "cell_type": "code",
   "execution_count": 46,
   "metadata": {},
   "outputs": [
    {
     "name": "stdout",
     "output_type": "stream",
     "text": [
      "R12540: MH4 + o2_c + trp__L_c --> hydroxy_MH4 + hydroxy_trp\n",
      "0.5776145203111468\n"
     ]
    }
   ],
   "source": [
    "with model:\n",
    "    print(model.reactions.R12540)\n",
    "    model.objective = model.reactions.R12540\n",
    "    max_5HTP_production = model.optimize().objective_value\n",
    "    print(max_5HTP_production)"
   ]
  },
  {
   "cell_type": "code",
   "execution_count": null,
   "metadata": {},
   "outputs": [],
   "source": []
  }
 ],
 "metadata": {
  "kernelspec": {
   "display_name": "Python 3",
   "language": "python",
   "name": "python3"
  },
  "language_info": {
   "codemirror_mode": {
    "name": "ipython",
    "version": 3
   },
   "file_extension": ".py",
   "mimetype": "text/x-python",
   "name": "python",
   "nbconvert_exporter": "python",
   "pygments_lexer": "ipython3",
   "version": "3.8.5"
  }
 },
 "nbformat": 4,
 "nbformat_minor": 4
}
