{
 "cells": [
  {
   "cell_type": "code",
   "execution_count": 2,
   "metadata": {},
   "outputs": [
    {
     "name": "stdout",
     "output_type": "stream",
     "text": [
      "Collecting prettytable\n",
      "  Downloading prettytable-2.0.0-py3-none-any.whl (22 kB)\n",
      "Requirement already satisfied: wcwidth in /opt/conda/lib/python3.8/site-packages (from prettytable) (0.2.5)\n",
      "Requirement already satisfied: setuptools in /opt/conda/lib/python3.8/site-packages (from prettytable) (49.6.0.post20200814)\n",
      "Installing collected packages: prettytable\n",
      "Successfully installed prettytable-2.0.0\n",
      "Note: you may need to restart the kernel to use updated packages.\n"
     ]
    }
   ],
   "source": [
    "pip install prettytable "
   ]
  },
  {
   "cell_type": "markdown",
   "metadata": {},
   "source": [
    "# from prettytable import PrettyTable \n",
    "  \n",
    "# Specify the Column Names while initializing the Table \n",
    "myTable = PrettyTable([\"Organism\", \"Total Score [%]\", \"Metabolites\", \"Reactions\", \"Genes\", \"Stoichiometric consistency [%]\", \"Mass balance [%]\", \"Metabolites Connectivity [%]\", \"Unrealistic growth rate\", \"Universally blocked reactions\", \"Orphan reactions\"])\n",
    "# Add rows \n",
    "myTable.add_row([\"iML1515\", \"91\", \"1877\", \"2712\", \"1516\", \"100\", \"100\", \"100\", \"True\", \"260\", \"45\" ]) \n",
    "\n",
    "  \n",
    "print(myTable)"
   ]
  },
  {
   "cell_type": "code",
   "execution_count": 4,
   "metadata": {},
   "outputs": [],
   "source": [
    "from prettytable import PrettyTable "
   ]
  },
  {
   "cell_type": "code",
   "execution_count": 5,
   "metadata": {},
   "outputs": [],
   "source": [
    "myTable = PrettyTable([\"Organism\", \"Total Score [%]\", \"Metabolites\", \"Reactions\", \"Genes\", \"Stoichiometric consistency [%]\", \"Mass balance [%]\", \"Metabolites Connectivity [%]\", \"Unrealistic growth rate\", \"Universally blocked reactions\", \"Orphan reactions\"])"
   ]
  },
  {
   "cell_type": "code",
   "execution_count": 6,
   "metadata": {},
   "outputs": [],
   "source": [
    "myTable.add_row([\"iML1515\", \"91\", \"1877\", \"2712\", \"1516\", \"100\", \"100\", \"100\", \"True\", \"260\", \"45\" ]) \n"
   ]
  },
  {
   "cell_type": "code",
   "execution_count": 7,
   "metadata": {},
   "outputs": [
    {
     "name": "stdout",
     "output_type": "stream",
     "text": [
      "+----------+-----------------+-------------+-----------+-------+--------------------------------+------------------+------------------------------+-------------------------+-------------------------------+------------------+\n",
      "| Organism | Total Score [%] | Metabolites | Reactions | Genes | Stoichiometric consistency [%] | Mass balance [%] | Metabolites Connectivity [%] | Unrealistic growth rate | Universally blocked reactions | Orphan reactions |\n",
      "+----------+-----------------+-------------+-----------+-------+--------------------------------+------------------+------------------------------+-------------------------+-------------------------------+------------------+\n",
      "| iML1515  |        91       |     1877    |    2712   |  1516 |              100               |       100        |             100              |           True          |              260              |        45        |\n",
      "+----------+-----------------+-------------+-----------+-------+--------------------------------+------------------+------------------------------+-------------------------+-------------------------------+------------------+\n"
     ]
    }
   ],
   "source": [
    "print(myTable)"
   ]
  },
  {
   "cell_type": "code",
   "execution_count": null,
   "metadata": {},
   "outputs": [],
   "source": []
  }
 ],
 "metadata": {
  "kernelspec": {
   "display_name": "Python 3",
   "language": "python",
   "name": "python3"
  },
  "language_info": {
   "codemirror_mode": {
    "name": "ipython",
    "version": 3
   },
   "file_extension": ".py",
   "mimetype": "text/x-python",
   "name": "python",
   "nbconvert_exporter": "python",
   "pygments_lexer": "ipython3",
   "version": "3.8.5"
  }
 },
 "nbformat": 4,
 "nbformat_minor": 4
}
