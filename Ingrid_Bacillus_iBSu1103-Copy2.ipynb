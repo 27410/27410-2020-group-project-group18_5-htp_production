{
 "cells": [
  {
   "cell_type": "code",
   "execution_count": 1,
   "metadata": {},
   "outputs": [],
   "source": [
    "from cobra.io import read_sbml_model\n",
    "from cobra import Reaction, Metabolite\n",
    "import pandas as pd"
   ]
  },
  {
   "cell_type": "markdown",
   "metadata": {},
   "source": [
    "****Heterologous expression of 5-HTP and MH4 pathway in Bacillus subtilis****"
   ]
  },
  {
   "cell_type": "code",
   "execution_count": 2,
   "metadata": {},
   "outputs": [],
   "source": [
    "model = read_sbml_model('data/iBsu1103.xml')"
   ]
  },
  {
   "cell_type": "code",
   "execution_count": 3,
   "metadata": {},
   "outputs": [
    {
     "data": {
      "text/html": [
       "\n",
       "        <table>\n",
       "            <tr>\n",
       "                <td><strong>Name</strong></td>\n",
       "                <td>MODEL1507180015</td>\n",
       "            </tr><tr>\n",
       "                <td><strong>Memory address</strong></td>\n",
       "                <td>0x07f6313c900a0</td>\n",
       "            </tr><tr>\n",
       "                <td><strong>Number of metabolites</strong></td>\n",
       "                <td>1381</td>\n",
       "            </tr><tr>\n",
       "                <td><strong>Number of reactions</strong></td>\n",
       "                <td>1681</td>\n",
       "            </tr><tr>\n",
       "                <td><strong>Number of groups</strong></td>\n",
       "                <td>0</td>\n",
       "            </tr><tr>\n",
       "                <td><strong>Objective expression</strong></td>\n",
       "                <td>1.0*bio00006 - 1.0*bio00006_reverse_45381</td>\n",
       "            </tr><tr>\n",
       "                <td><strong>Compartments</strong></td>\n",
       "                <td>Cytosol, Extracellular</td>\n",
       "            </tr>\n",
       "          </table>"
      ],
      "text/plain": [
       "<Model MODEL1507180015 at 0x7f6313c900a0>"
      ]
     },
     "execution_count": 3,
     "metadata": {},
     "output_type": "execute_result"
    }
   ],
   "source": [
    "model"
   ]
  },
  {
   "cell_type": "code",
   "execution_count": 4,
   "metadata": {},
   "outputs": [
    {
     "data": {
      "text/plain": [
       "{'EX_cpd02274_e': 10000.0,\n",
       " 'EX_cpd00765_e': 10000.0,\n",
       " 'EX_cpd00028_e': 10000.0,\n",
       " 'EX_cpd00073_e': 10000.0,\n",
       " 'EX_cpd11599_e': 10000.0,\n",
       " 'EX_cpd00305_e': 10000.0,\n",
       " 'EX_cpd01055_e': 10000.0,\n",
       " 'EX_cpd00588_e': 10000.0,\n",
       " 'EX_cpd03805_e': 10000.0,\n",
       " 'EX_cpd00226_e': 10000.0,\n",
       " 'EX_cpd00179_e': 10000.0,\n",
       " 'EX_cpd00141_e': 10000.0,\n",
       " 'EX_cpd01665_e': 10000.0,\n",
       " 'EX_cpd00298_e': 10000.0,\n",
       " 'EX_cpd00751_e': 10000.0,\n",
       " 'EX_cpd05240_e': 10000.0,\n",
       " 'EX_cpd01947_e': 10000.0,\n",
       " 'EX_cpd00001_e': 10000.0,\n",
       " 'EX_cpd11586_e': 10000.0,\n",
       " 'EX_cpd11595_e': 10000.0,\n",
       " 'EX_cpd00185_e': 10000.0,\n",
       " 'EX_cpd00079_e': 10000.0,\n",
       " 'EX_cpd00276_e': 10000.0,\n",
       " 'EX_cpd11588_e': 10000.0,\n",
       " 'EX_cpd00550_e': 10000.0,\n",
       " 'EX_cpd00644_e': 10000.0,\n",
       " 'EX_cpd02241_e': 10000.0,\n",
       " 'EX_cpd11575_e': 10000.0,\n",
       " 'EX_cpd03696_e': 10000.0,\n",
       " 'EX_cpd00367_e': 10000.0,\n",
       " 'EX_cpd01242_e': 10000.0,\n",
       " 'EX_cpd00023_e': 10000.0,\n",
       " 'EX_cpd11577_e': 10000.0,\n",
       " 'EX_cpd00105_e': 10000.0,\n",
       " 'EX_cpd00092_e': 10000.0,\n",
       " 'EX_cpd00018_e': 10000.0,\n",
       " 'EX_cpd01553_e': 10000.0,\n",
       " 'EX_cpd11579_e': 10000.0,\n",
       " 'EX_cpd00076_e': 10000.0,\n",
       " 'EX_cpd00988_e': 10000.0,\n",
       " 'EX_cpd00415_e': 10000.0,\n",
       " 'EX_cpd01187_e': 10000.0,\n",
       " 'EX_cpd00041_e': 10000.0,\n",
       " 'EX_cpd01217_e': 10000.0,\n",
       " 'EX_cpd00108_e': 10000.0,\n",
       " 'EX_cpd00064_e': 10000.0,\n",
       " 'EX_cpd00089_e': 10000.0,\n",
       " 'EX_cpd03198_e': 10000.0,\n",
       " 'EX_cpd00009_e': 10000.0,\n",
       " 'EX_cpd00274_e': 10000.0,\n",
       " 'EX_cpd00100_e': 10000.0,\n",
       " 'EX_cpd01171_e': 10000.0,\n",
       " 'EX_cpd01981_e': 10000.0,\n",
       " 'EX_cpd00637_e': 10000.0,\n",
       " 'EX_cpd00035_e': 10000.0,\n",
       " 'EX_cpd10515_e': 10000.0,\n",
       " 'EX_cpd00162_e': 10000.0,\n",
       " 'EX_cpd00030_e': 10000.0,\n",
       " 'EX_cpd00311_e': 10000.0,\n",
       " 'EX_cpd00012_e': 10000.0,\n",
       " 'EX_cpd00138_e': 10000.0,\n",
       " 'EX_cpd00119_e': 10000.0,\n",
       " 'EX_cpd00054_e': 10000.0,\n",
       " 'EX_cpd00137_e': 10000.0,\n",
       " 'EX_cpd00314_e': 10000.0,\n",
       " 'EX_cpd00067_e': 10000.0,\n",
       " 'EX_cpd03161_e': 10000.0,\n",
       " 'EX_cpd04098_e': 10000.0,\n",
       " 'EX_cpd00084_e': 10000.0,\n",
       " 'EX_cpd00382_e': 10000.0,\n",
       " 'EX_cpd00281_e': 10000.0,\n",
       " 'EX_cpd00609_e': 10000.0,\n",
       " 'EX_cpd00126_e': 10000.0,\n",
       " 'EX_cpd00154_e': 10000.0,\n",
       " 'EX_cpd04761_e': 10000.0,\n",
       " 'EX_cpd00129_e': 10000.0,\n",
       " 'EX_cpd05190_e': 10000.0,\n",
       " 'EX_cpd00870_e': 10000.0,\n",
       " 'EX_cpd00284_e': 10000.0,\n",
       " 'EX_cpd11597_e': 10000.0,\n",
       " 'EX_cpd00033_e': 10000.0,\n",
       " 'EX_cpd00058_e': 10000.0,\n",
       " 'EX_cpd15471_e': 10000.0,\n",
       " 'EX_cpd00464_e': 10000.0,\n",
       " 'EX_cpd01012_e': 10000.0,\n",
       " 'EX_cpd08023_e': 10000.0,\n",
       " 'EX_cpd03454_e': 10000.0,\n",
       " 'EX_cpd00051_e': 10000.0,\n",
       " 'EX_cpd00421_e': 10000.0,\n",
       " 'EX_cpd11574_e': 10000.0,\n",
       " 'EX_cpd00121_e': 10000.0,\n",
       " 'EX_cpd00432_e': 10000.0,\n",
       " 'EX_cpd00531_e': 10000.0,\n",
       " 'EX_cpd00169_e': 10000.0,\n",
       " 'EX_cpd00386_e': 10000.0,\n",
       " 'EX_cpd00541_e': 10000.0,\n",
       " 'EX_cpd03048_e': 10000.0,\n",
       " 'EX_cpd08306_e': 10000.0,\n",
       " 'EX_cpd00132_e': 10000.0,\n",
       " 'EX_cpd00072_e': 10000.0,\n",
       " 'EX_cpd00061_e': 10000.0,\n",
       " 'EX_cpd11584_e': 10000.0,\n",
       " 'EX_cpd03884_e': 10000.0,\n",
       " 'EX_cpd01200_e': 10000.0,\n",
       " 'EX_cpd00652_e': 10000.0,\n",
       " 'EX_cpd00207_e': 10000.0,\n",
       " 'EX_cpd01030_e': 10000.0,\n",
       " 'EX_cpd00158_e': 10000.0,\n",
       " 'EX_cpd00218_e': 10000.0,\n",
       " 'EX_cpd00182_e': 10000.0,\n",
       " 'EX_cpd01570_e': 10000.0,\n",
       " 'EX_cpd11592_e': 10000.0,\n",
       " 'EX_cpd00381_e': 10000.0,\n",
       " 'EX_cpd00047_e': 10000.0,\n",
       " 'EX_cpd00020_e': 10000.0,\n",
       " 'EX_cpd11581_e': 10000.0,\n",
       " 'EX_cpd10516_e': 10000.0,\n",
       " 'EX_cpd01092_e': 10000.0,\n",
       " 'EX_cpd00393_e': 10000.0,\n",
       " 'EX_cpd00209_e': 10000.0,\n",
       " 'EX_cpd00053_e': 10000.0,\n",
       " 'EX_cpd00492_e': 10000.0,\n",
       " 'EX_cpd00727_e': 10000.0,\n",
       " 'EX_cpd00395_e': 10000.0,\n",
       " 'EX_cpd00396_e': 10000.0,\n",
       " 'EX_cpd00104_e': 10000.0,\n",
       " 'EX_cpd00220_e': 10000.0,\n",
       " 'EX_cpd00793_e': 10000.0,\n",
       " 'EX_cpd00091_e': 10000.0,\n",
       " 'EX_cpd00249_e': 10000.0,\n",
       " 'EX_cpd00700_e': 10000.0,\n",
       " 'EX_cpd08376_e': 10000.0,\n",
       " 'EX_cpd11590_e': 10000.0,\n",
       " 'EX_cpd00971_e': 10000.0,\n",
       " 'EX_cpd01939_e': 10000.0,\n",
       " 'EX_cpd00322_e': 10000.0,\n",
       " 'EX_cpd00485_e': 10000.0,\n",
       " 'EX_cpd00085_e': 10000.0,\n",
       " 'EX_cpd00069_e': 10000.0,\n",
       " 'EX_cpd00184_e': 10000.0,\n",
       " 'EX_cpd11594_e': 10000.0,\n",
       " 'EX_cpd00266_e': 10000.0,\n",
       " 'EX_cpd00098_e': 10000.0,\n",
       " 'EX_cpd00654_e': 10000.0,\n",
       " 'EX_cpd00423_e': 10000.0,\n",
       " 'EX_cpd00063_e': 10000.0,\n",
       " 'EX_cpd00046_e': 10000.0,\n",
       " 'EX_cpd01572_e': 10000.0,\n",
       " 'EX_cpd00027_e': 10000.0,\n",
       " 'EX_cpd00235_e': 10000.0,\n",
       " 'EX_cpd11589_e': 10000.0,\n",
       " 'EX_cpd00164_e': 10000.0,\n",
       " 'EX_cpd00106_e': 10000.0,\n",
       " 'EX_cpd00159_e': 10000.0,\n",
       " 'EX_cpd00060_e': 10000.0,\n",
       " 'EX_cpd00048_e': 10000.0,\n",
       " 'EX_cpd00036_e': 10000.0,\n",
       " 'EX_cpd00117_e': 10000.0,\n",
       " 'EX_cpd00082_e': 10000.0,\n",
       " 'EX_cpd01415_e': 10000.0,\n",
       " 'EX_cpd01262_e': 10000.0,\n",
       " 'EX_cpd00142_e': 10000.0,\n",
       " 'EX_cpd01622_e': 10000.0,\n",
       " 'EX_cpd03724_e': 10000.0,\n",
       " 'EX_cpd03424_e': 10000.0,\n",
       " 'EX_cpd00186_e': 10000.0,\n",
       " 'EX_cpd00029_e': 10000.0,\n",
       " 'EX_cpd00156_e': 10000.0,\n",
       " 'EX_cpd00040_e': 10000.0,\n",
       " 'EX_cpd00176_e': 10000.0,\n",
       " 'EX_cpd01132_e': 10000.0,\n",
       " 'EX_cpd00161_e': 10000.0,\n",
       " 'EX_cpd00075_e': 10000.0,\n",
       " 'EX_cpd00013_e': 10000.0,\n",
       " 'EX_cpd00065_e': 10000.0,\n",
       " 'EX_cpd00024_e': 10000.0,\n",
       " 'EX_cpd00232_e': 10000.0,\n",
       " 'EX_cpd00309_e': 10000.0,\n",
       " 'EX_cpd00039_e': 10000.0,\n",
       " 'EX_cpd05158_e': 10000.0,\n",
       " 'EX_cpd00307_e': 10000.0,\n",
       " 'EX_cpd00244_e': 10000.0,\n",
       " 'EX_cpd00285_e': 10000.0,\n",
       " 'EX_cpd11591_e': 10000.0,\n",
       " 'EX_cpd00254_e': 10000.0,\n",
       " 'EX_cpd11582_e': 10000.0,\n",
       " 'EX_cpd00128_e': 10000.0,\n",
       " 'EX_cpd00457_e': 10000.0,\n",
       " 'EX_cpd00157_e': 10000.0,\n",
       " 'EX_cpd00239_e': 10000.0,\n",
       " 'EX_cpd00210_e': 10000.0,\n",
       " 'EX_cpd00738_e': 10000.0,\n",
       " 'EX_cpd00034_e': 10000.0,\n",
       " 'EX_cpd00288_e': 10000.0,\n",
       " 'EX_cpd00149_e': 10000.0,\n",
       " 'EX_cpd11580_e': 10000.0,\n",
       " 'EX_cpd00216_e': 10000.0,\n",
       " 'EX_cpd00438_e': 10000.0,\n",
       " 'EX_cpd00107_e': 10000.0,\n",
       " 'EX_cpd11583_e': 10000.0,\n",
       " 'EX_cpd01991_e': 10000.0,\n",
       " 'EX_cpd11596_e': 10000.0,\n",
       " 'EX_cpd00146_e': 10000.0,\n",
       " 'EX_cpd00007_e': 10000.0,\n",
       " 'EX_cpd00417_e': 10000.0,\n",
       " 'EX_cpd00989_e': 10000.0,\n",
       " 'EX_cpd00011_e': 10000.0,\n",
       " 'EX_cpd00212_e': 10000.0,\n",
       " 'EX_cpd01571_e': 10000.0,\n",
       " 'EX_cpd00300_e': 10000.0,\n",
       " 'EX_cpd09878_e': 10000.0,\n",
       " 'EX_cpd11585_e': 10000.0,\n",
       " 'EX_cpd01048_e': 10000.0,\n",
       " 'EX_cpd00205_e': 10000.0,\n",
       " 'EX_cpd00280_e': 10000.0,\n",
       " 'EX_cpd00208_e': 10000.0,\n",
       " 'EX_cpd08305_e': 10000.0,\n",
       " 'EX_cpd00080_e': 10000.0,\n",
       " 'EX_cpd00482_e': 10000.0,\n",
       " 'EX_cpd00540_e': 10000.0,\n",
       " 'EX_cpd11598_e': 10000.0,\n",
       " 'EX_cpd08928_e': 10000.0,\n",
       " 'EX_cpd00363_e': 10000.0,\n",
       " 'EX_cpd01293_e': 10000.0,\n",
       " 'EX_cpd00139_e': 10000.0,\n",
       " 'EX_cpd00155_e': 10000.0,\n",
       " 'EX_cpd11593_e': 10000.0,\n",
       " 'EX_cpd00222_e': 10000.0,\n",
       " 'EX_cpd00794_e': 10000.0,\n",
       " 'EX_cpd00130_e': 10000.0,\n",
       " 'EX_cpd00122_e': 10000.0,\n",
       " 'EX_cpd00224_e': 10000.0,\n",
       " 'EX_cpd03535_e': 10000.0,\n",
       " 'EX_cpd07061_e': 10000.0,\n",
       " 'EX_cpd03701_e': 10000.0,\n",
       " 'EX_cpd03727_e': 10000.0,\n",
       " 'EX_cpd00246_e': 10000.0,\n",
       " 'EX_cpd04097_e': 10000.0,\n",
       " 'EX_cpd01017_e': 10000.0,\n",
       " 'EX_cpd00681_e': 10000.0,\n",
       " 'EX_cpd11587_e': 10000.0,\n",
       " 'EX_cpd15585_e': 10000.0,\n",
       " 'EX_cpd11578_e': 10000.0}"
      ]
     },
     "execution_count": 4,
     "metadata": {},
     "output_type": "execute_result"
    }
   ],
   "source": [
    "model.medium"
   ]
  },
  {
   "cell_type": "code",
   "execution_count": 5,
   "metadata": {},
   "outputs": [
    {
     "name": "stdout",
     "output_type": "stream",
     "text": [
      "Formate_CHO2 cpd00047_e\n",
      "Formate_CHO2 cpd00047_c\n"
     ]
    }
   ],
   "source": [
    "for metabolite in model.metabolites.query('Formate', 'name'):\n",
    "    print(metabolite.name, metabolite.id)"
   ]
  },
  {
   "cell_type": "code",
   "execution_count": 6,
   "metadata": {},
   "outputs": [
    {
     "name": "stdout",
     "output_type": "stream",
     "text": [
      "dGTP_C10H13N5O13P3 cpd00241_c\n",
      "GTP_C10H13N5O14P3 cpd00038_c\n"
     ]
    }
   ],
   "source": [
    "for metabolite in model.metabolites.query('GTP', 'name'):\n",
    "    print(metabolite.name, metabolite.id)"
   ]
  },
  {
   "cell_type": "code",
   "execution_count": 7,
   "metadata": {},
   "outputs": [
    {
     "name": "stdout",
     "output_type": "stream",
     "text": [
      "Chloroacetic_acid_C2H2O2Cl cpd04135_c\n",
      "Oxaloacetate_C4H2O5 cpd00032_c\n",
      "Fumarate_C4H2O4 cpd00106_e\n",
      "Fumarate_C4H2O4 cpd00106_c\n",
      "Sulfoacetate_C2H2O5S cpd09878_e\n",
      "Sulfoacetate_C2H2O5S cpd09878_c\n",
      "chromate_H2O4Cr cpd11595_e\n",
      "chromate_H2O4Cr cpd11595_c\n",
      "2-Hydroxy-3-oxosuccinate_C4H2O6 cpd02186_c\n",
      "Formaldehyde_CH2O cpd00055_c\n",
      "H2O_H2O cpd00001_e\n",
      "H2O_H2O cpd00001_c\n",
      "Pyrophosphate_H2O7P2 cpd00012_e\n",
      "Pyrophosphate_H2O7P2 cpd00012_c\n",
      "H2O2_H2O2 cpd00025_c\n"
     ]
    }
   ],
   "source": [
    "for metabolite in model.metabolites.query('H2O', 'name'):\n",
    "    print(metabolite.name, metabolite.id)"
   ]
  },
  {
   "cell_type": "code",
   "execution_count": 8,
   "metadata": {},
   "outputs": [
    {
     "name": "stdout",
     "output_type": "stream",
     "text": [
      "Triphosphate_HO10P3 cpd00421_e\n",
      "Triphosphate_HO10P3 cpd00421_c\n"
     ]
    }
   ],
   "source": [
    "for metabolite in model.metabolites.query('Triphosphate', 'name'):\n",
    "    print(metabolite.name, metabolite.id)"
   ]
  },
  {
   "cell_type": "code",
   "execution_count": 9,
   "metadata": {},
   "outputs": [
    {
     "name": "stdout",
     "output_type": "stream",
     "text": [
      "NADPH_C21H27N7O17P3 cpd00005_c\n",
      "NADP+_C21H26N7O17P3 cpd00006_c\n"
     ]
    }
   ],
   "source": [
    "for metabolite in model.metabolites.query('NADP', 'name'):\n",
    "    print(metabolite.name, metabolite.id)"
   ]
  },
  {
   "cell_type": "code",
   "execution_count": 10,
   "metadata": {},
   "outputs": [
    {
     "data": {
      "text/html": [
       "\n",
       "        <table>\n",
       "            <tr>\n",
       "                <td><strong>Metabolite identifier</strong></td><td>cpd00067_c</td>\n",
       "            </tr><tr>\n",
       "                <td><strong>Name</strong></td><td>H+_H</td>\n",
       "            </tr><tr>\n",
       "                <td><strong>Memory address</strong></td>\n",
       "                <td>0x07f637584e640</td>\n",
       "            </tr><tr>\n",
       "                <td><strong>Formula</strong></td><td></td>\n",
       "            </tr><tr>\n",
       "                <td><strong>Compartment</strong></td><td>Cytosol</td>\n",
       "            </tr><tr>\n",
       "                <td><strong>In 754 reaction(s)</strong></td><td>\n",
       "                    rxn05173, rxn10228, rxn05553, rxn05185, rxn11408, rxn00441, rxn05289, rxn05747, rxn01316, rxn05116, rxn02277, rxn00929, rxn01465, rxn05573, rxn05477, rxn05401, rxn05341, rxn00804, rxn10325,...</td>\n",
       "            </tr>\n",
       "        </table>"
      ],
      "text/plain": [
       "<Metabolite cpd00067_c at 0x7f637584e640>"
      ]
     },
     "execution_count": 10,
     "metadata": {},
     "output_type": "execute_result"
    }
   ],
   "source": [
    "model.metabolites.cpd00067_c "
   ]
  },
  {
   "cell_type": "code",
   "execution_count": 11,
   "metadata": {},
   "outputs": [
    {
     "name": "stdout",
     "output_type": "stream",
     "text": [
      "Dihydrobiopterin_C9H13N5O3 cpd00231_c\n",
      "Tetrahydrobiopterin_C9H15N5O3 cpd00233_c\n"
     ]
    }
   ],
   "source": [
    "for metabolite in model.metabolites.query('pterin', 'name'):\n",
    "    print(metabolite.name, metabolite.id)"
   ]
  },
  {
   "cell_type": "code",
   "execution_count": 12,
   "metadata": {},
   "outputs": [
    {
     "name": "stdout",
     "output_type": "stream",
     "text": [
      "L-Tryptophan_C11H12N2O2 cpd00065_e\n",
      "L-Tryptophan_C11H12N2O2 cpd00065_c\n"
     ]
    }
   ],
   "source": [
    "for metabolite in model.metabolites.query('Tryptophan', 'name'):\n",
    "    print(metabolite.name, metabolite.id)"
   ]
  },
  {
   "cell_type": "code",
   "execution_count": 13,
   "metadata": {},
   "outputs": [
    {
     "name": "stdout",
     "output_type": "stream",
     "text": [
      "Oxygen_O2 cpd00007_e\n",
      "Oxygen_O2 cpd00007_c\n"
     ]
    }
   ],
   "source": [
    "for metabolite in model.metabolites.query('Oxygen', 'name'):\n",
    "    print(metabolite.name, metabolite.id)"
   ]
  },
  {
   "cell_type": "code",
   "execution_count": 14,
   "metadata": {},
   "outputs": [
    {
     "data": {
      "text/plain": [
       "frozenset({<Reaction rxn01314 at 0x7f63752d9eb0>})"
      ]
     },
     "execution_count": 14,
     "metadata": {},
     "output_type": "execute_result"
    }
   ],
   "source": [
    "model.metabolites.cpd00233_c.reactions"
   ]
  },
  {
   "cell_type": "code",
   "execution_count": 15,
   "metadata": {},
   "outputs": [],
   "source": [
    "MH2_3P = Metabolite(id='MH2_3P', compartment='c')"
   ]
  },
  {
   "cell_type": "code",
   "execution_count": 16,
   "metadata": {},
   "outputs": [],
   "source": [
    "preMH2_3P = Metabolite(id='preMH2_3P', compartment='c')"
   ]
  },
  {
   "cell_type": "code",
   "execution_count": 17,
   "metadata": {},
   "outputs": [],
   "source": [
    "MH2 = Metabolite(id='MH2', compartment='c')"
   ]
  },
  {
   "cell_type": "code",
   "execution_count": 18,
   "metadata": {},
   "outputs": [],
   "source": [
    "MH4 = Metabolite(id='MH4', compartment='c')"
   ]
  },
  {
   "cell_type": "code",
   "execution_count": 19,
   "metadata": {},
   "outputs": [],
   "source": [
    "HydroxyMH4 = Metabolite(id='hydroxy_MH4', compartment='c')"
   ]
  },
  {
   "cell_type": "code",
   "execution_count": 20,
   "metadata": {},
   "outputs": [],
   "source": [
    "hydroxy_trp = Metabolite (id='hydroxy_trp', compartment='c')"
   ]
  },
  {
   "cell_type": "code",
   "execution_count": 21,
   "metadata": {},
   "outputs": [
    {
     "name": "stdout",
     "output_type": "stream",
     "text": [
      "cpd00001_c + cpd00038_c --> cpd00047_c + preMH2_3P\n"
     ]
    }
   ],
   "source": [
    "folE = Reaction('R05048')\n",
    "folE.add_metabolites({model.metabolites.cpd00038_c: -1,\n",
    "                      model.metabolites.cpd00001_c: -1,\n",
    "                      model.metabolites.cpd00047_c: 1,\n",
    "                      preMH2_3P: 1\n",
    "                     })\n",
    "print(folE.build_reaction_string())"
   ]
  },
  {
   "cell_type": "code",
   "execution_count": 22,
   "metadata": {},
   "outputs": [
    {
     "name": "stdout",
     "output_type": "stream",
     "text": [
      "preMH2_3P --> MH2_3P\n"
     ]
    }
   ],
   "source": [
    "folX = Reaction('R11082')\n",
    "folX.add_metabolites({preMH2_3P: -1,\n",
    "                      MH2_3P: 1\n",
    "                     })\n",
    "print(folX.build_reaction_string())"
   ]
  },
  {
   "cell_type": "code",
   "execution_count": 23,
   "metadata": {},
   "outputs": [
    {
     "name": "stdout",
     "output_type": "stream",
     "text": [
      "MH2_3P --> MH2 + cpd00421_c\n"
     ]
    }
   ],
   "source": [
    "MH2_3P_dephosphorylation = Reaction ('Putative_dephosphorylation')\n",
    "MH2_3P_dephosphorylation.add_metabolites({MH2_3P: -1,\n",
    "                                          MH2: 1,\n",
    "                                          model.metabolites.cpd00421_c: 1\n",
    "                                         })\n",
    "print(MH2_3P_dephosphorylation.build_reaction_string())"
   ]
  },
  {
   "cell_type": "code",
   "execution_count": 24,
   "metadata": {},
   "outputs": [
    {
     "name": "stdout",
     "output_type": "stream",
     "text": [
      "MH2 + cpd00005_c + cpd00067_c --> MH4 + cpd00006_c\n"
     ]
    }
   ],
   "source": [
    "folM = Reaction('R11019')\n",
    "folM.add_metabolites ({model.metabolites.cpd00005_c: -1,\n",
    "                       model.metabolites.cpd00067_c: -1,\n",
    "                       MH2: -1,\n",
    "                       MH4: 1,\n",
    "                       model.metabolites.cpd00006_c: 1\n",
    "                      })\n",
    "print(folM.build_reaction_string())"
   ]
  },
  {
   "cell_type": "code",
   "execution_count": 25,
   "metadata": {},
   "outputs": [
    {
     "name": "stdout",
     "output_type": "stream",
     "text": [
      "hydroxy_MH4 --> MH2 + cpd00001_c\n"
     ]
    }
   ],
   "source": [
    "phhB = Reaction ('R04734')\n",
    "phhB.add_metabolites({HydroxyMH4: -1,\n",
    "                      MH2: 1,\n",
    "                      model.metabolites.cpd00001_c: 1\n",
    "                     })\n",
    "print(phhB.build_reaction_string())"
   ]
  },
  {
   "cell_type": "code",
   "execution_count": 26,
   "metadata": {},
   "outputs": [
    {
     "name": "stdout",
     "output_type": "stream",
     "text": [
      "MH4 + cpd00007_c + cpd00065_c --> hydroxy_MH4 + hydroxy_trp\n"
     ]
    }
   ],
   "source": [
    "phhA = Reaction ('R12540')\n",
    "phhA.add_metabolites({model.metabolites.cpd00065_c: -1,\n",
    "                      model.metabolites.cpd00007_c: -1,\n",
    "                      MH4: -1,\n",
    "                      HydroxyMH4: 1,\n",
    "                      hydroxy_trp: 1\n",
    "                     })\n",
    "print(phhA.build_reaction_string())"
   ]
  },
  {
   "cell_type": "code",
   "execution_count": 27,
   "metadata": {},
   "outputs": [],
   "source": [
    "model.add_reactions([folE])"
   ]
  },
  {
   "cell_type": "code",
   "execution_count": 28,
   "metadata": {},
   "outputs": [],
   "source": [
    "model.add_reactions([folX])"
   ]
  },
  {
   "cell_type": "code",
   "execution_count": 29,
   "metadata": {},
   "outputs": [],
   "source": [
    "model.add_reactions([MH2_3P_dephosphorylation])"
   ]
  },
  {
   "cell_type": "code",
   "execution_count": 30,
   "metadata": {},
   "outputs": [],
   "source": [
    "model.add_reactions([folM])"
   ]
  },
  {
   "cell_type": "code",
   "execution_count": 31,
   "metadata": {},
   "outputs": [],
   "source": [
    "model.add_reactions([phhB])"
   ]
  },
  {
   "cell_type": "code",
   "execution_count": 32,
   "metadata": {},
   "outputs": [],
   "source": [
    "model.add_reactions([phhA])"
   ]
  },
  {
   "cell_type": "code",
   "execution_count": 33,
   "metadata": {},
   "outputs": [
    {
     "data": {
      "text/html": [
       "\n",
       "        <table>\n",
       "            <tr>\n",
       "                <td><strong>Reaction identifier</strong></td><td>R12540</td>\n",
       "            </tr><tr>\n",
       "                <td><strong>Name</strong></td><td></td>\n",
       "            </tr><tr>\n",
       "                <td><strong>Memory address</strong></td>\n",
       "                <td>0x07f63752902e0</td>\n",
       "            </tr><tr>\n",
       "                <td><strong>Stoichiometry</strong></td>\n",
       "                <td>\n",
       "                    <p style='text-align:right'>MH4 + cpd00007_c + cpd00065_c --> hydroxy_MH4 + hydroxy_trp</p>\n",
       "                    <p style='text-align:right'>+ Oxygen_O2 + L-Tryptophan_C11H12N2O2 --> +</p>\n",
       "                </td>\n",
       "            </tr><tr>\n",
       "                <td><strong>GPR</strong></td><td></td>\n",
       "            </tr><tr>\n",
       "                <td><strong>Lower bound</strong></td><td>0.0</td>\n",
       "            </tr><tr>\n",
       "                <td><strong>Upper bound</strong></td><td>1000.0</td>\n",
       "            </tr>\n",
       "        </table>\n",
       "        "
      ],
      "text/plain": [
       "<Reaction R12540 at 0x7f63752902e0>"
      ]
     },
     "execution_count": 33,
     "metadata": {},
     "output_type": "execute_result"
    }
   ],
   "source": [
    "model.reactions.R12540"
   ]
  },
  {
   "cell_type": "code",
   "execution_count": 34,
   "metadata": {},
   "outputs": [],
   "source": [
    "hydroxy_5HTP_exchange = Reaction('EX_hydroxy_trp')\n",
    "hydroxy_5HTP_exchange.add_metabolites({model.metabolites.hydroxy_trp: -1})\n",
    "model.add_reactions([hydroxy_5HTP_exchange])"
   ]
  },
  {
   "cell_type": "code",
   "execution_count": 35,
   "metadata": {},
   "outputs": [
    {
     "data": {
      "text/html": [
       "<strong><em>Optimal</em> solution with objective value 1229.657</strong><br><div>\n",
       "<style scoped>\n",
       "    .dataframe tbody tr th:only-of-type {\n",
       "        vertical-align: middle;\n",
       "    }\n",
       "\n",
       "    .dataframe tbody tr th {\n",
       "        vertical-align: top;\n",
       "    }\n",
       "\n",
       "    .dataframe thead th {\n",
       "        text-align: right;\n",
       "    }\n",
       "</style>\n",
       "<table border=\"1\" class=\"dataframe\">\n",
       "  <thead>\n",
       "    <tr style=\"text-align: right;\">\n",
       "      <th></th>\n",
       "      <th>fluxes</th>\n",
       "      <th>reduced_costs</th>\n",
       "    </tr>\n",
       "  </thead>\n",
       "  <tbody>\n",
       "    <tr>\n",
       "      <th>rxn01355</th>\n",
       "      <td>0.000000</td>\n",
       "      <td>-9.108572e-02</td>\n",
       "    </tr>\n",
       "    <tr>\n",
       "      <th>rxn05357</th>\n",
       "      <td>0.000000</td>\n",
       "      <td>0.000000e+00</td>\n",
       "    </tr>\n",
       "    <tr>\n",
       "      <th>rxn00225</th>\n",
       "      <td>-10000.000000</td>\n",
       "      <td>4.064699e-19</td>\n",
       "    </tr>\n",
       "    <tr>\n",
       "      <th>rxn05313</th>\n",
       "      <td>7041.141100</td>\n",
       "      <td>-1.734723e-18</td>\n",
       "    </tr>\n",
       "    <tr>\n",
       "      <th>rxn01674</th>\n",
       "      <td>-3404.099446</td>\n",
       "      <td>3.866855e-19</td>\n",
       "    </tr>\n",
       "    <tr>\n",
       "      <th>...</th>\n",
       "      <td>...</td>\n",
       "      <td>...</td>\n",
       "    </tr>\n",
       "    <tr>\n",
       "      <th>Putative_dephosphorylation</th>\n",
       "      <td>0.000000</td>\n",
       "      <td>0.000000e+00</td>\n",
       "    </tr>\n",
       "    <tr>\n",
       "      <th>R11019</th>\n",
       "      <td>1000.000000</td>\n",
       "      <td>0.000000e+00</td>\n",
       "    </tr>\n",
       "    <tr>\n",
       "      <th>R04734</th>\n",
       "      <td>1000.000000</td>\n",
       "      <td>0.000000e+00</td>\n",
       "    </tr>\n",
       "    <tr>\n",
       "      <th>R12540</th>\n",
       "      <td>1000.000000</td>\n",
       "      <td>0.000000e+00</td>\n",
       "    </tr>\n",
       "    <tr>\n",
       "      <th>EX_hydroxy_trp</th>\n",
       "      <td>1000.000000</td>\n",
       "      <td>7.712265e-18</td>\n",
       "    </tr>\n",
       "  </tbody>\n",
       "</table>\n",
       "<p>1688 rows × 2 columns</p>\n",
       "</div>"
      ],
      "text/plain": [
       "<Solution 1229.657 at 0x7f6375282bb0>"
      ]
     },
     "execution_count": 35,
     "metadata": {},
     "output_type": "execute_result"
    }
   ],
   "source": [
    "model.optimize()"
   ]
  },
  {
   "cell_type": "code",
   "execution_count": 36,
   "metadata": {},
   "outputs": [
    {
     "name": "stdout",
     "output_type": "stream",
     "text": [
      "R12540: MH4 + cpd00007_c + cpd00065_c --> hydroxy_MH4 + hydroxy_trp\n",
      "1000.0\n"
     ]
    }
   ],
   "source": [
    "with model:\n",
    "    print(model.reactions.R12540)\n",
    "    model.objective = model.reactions.R12540\n",
    "    max_5HTP_production = model.optimize().objective_value\n",
    "    print(max_5HTP_production)"
   ]
  },
  {
   "cell_type": "code",
   "execution_count": null,
   "metadata": {},
   "outputs": [],
   "source": []
  },
  {
   "cell_type": "code",
   "execution_count": 37,
   "metadata": {},
   "outputs": [
    {
     "data": {
      "text/plain": [
       "{'EX_cpd02274_e': 10000.0,\n",
       " 'EX_cpd00765_e': 10000.0,\n",
       " 'EX_cpd00028_e': 10000.0,\n",
       " 'EX_cpd00073_e': 10000.0,\n",
       " 'EX_cpd11599_e': 10000.0,\n",
       " 'EX_cpd00305_e': 10000.0,\n",
       " 'EX_cpd01055_e': 10000.0,\n",
       " 'EX_cpd00588_e': 10000.0,\n",
       " 'EX_cpd03805_e': 10000.0,\n",
       " 'EX_cpd00226_e': 10000.0,\n",
       " 'EX_cpd00179_e': 10000.0,\n",
       " 'EX_cpd00141_e': 10000.0,\n",
       " 'EX_cpd01665_e': 10000.0,\n",
       " 'EX_cpd00298_e': 10000.0,\n",
       " 'EX_cpd00751_e': 10000.0,\n",
       " 'EX_cpd05240_e': 10000.0,\n",
       " 'EX_cpd01947_e': 10000.0,\n",
       " 'EX_cpd00001_e': 10000.0,\n",
       " 'EX_cpd11586_e': 10000.0,\n",
       " 'EX_cpd11595_e': 10000.0,\n",
       " 'EX_cpd00185_e': 10000.0,\n",
       " 'EX_cpd00079_e': 10000.0,\n",
       " 'EX_cpd00276_e': 10000.0,\n",
       " 'EX_cpd11588_e': 10000.0,\n",
       " 'EX_cpd00550_e': 10000.0,\n",
       " 'EX_cpd00644_e': 10000.0,\n",
       " 'EX_cpd02241_e': 10000.0,\n",
       " 'EX_cpd11575_e': 10000.0,\n",
       " 'EX_cpd03696_e': 10000.0,\n",
       " 'EX_cpd00367_e': 10000.0,\n",
       " 'EX_cpd01242_e': 10000.0,\n",
       " 'EX_cpd00023_e': 10000.0,\n",
       " 'EX_cpd11577_e': 10000.0,\n",
       " 'EX_cpd00105_e': 10000.0,\n",
       " 'EX_cpd00092_e': 10000.0,\n",
       " 'EX_cpd00018_e': 10000.0,\n",
       " 'EX_cpd01553_e': 10000.0,\n",
       " 'EX_cpd11579_e': 10000.0,\n",
       " 'EX_cpd00076_e': 10000.0,\n",
       " 'EX_cpd00988_e': 10000.0,\n",
       " 'EX_cpd00415_e': 10000.0,\n",
       " 'EX_cpd01187_e': 10000.0,\n",
       " 'EX_cpd00041_e': 10000.0,\n",
       " 'EX_cpd01217_e': 10000.0,\n",
       " 'EX_cpd00108_e': 10000.0,\n",
       " 'EX_cpd00064_e': 10000.0,\n",
       " 'EX_cpd00089_e': 10000.0,\n",
       " 'EX_cpd03198_e': 10000.0,\n",
       " 'EX_cpd00009_e': 10000.0,\n",
       " 'EX_cpd00274_e': 10000.0,\n",
       " 'EX_cpd00100_e': 10000.0,\n",
       " 'EX_cpd01171_e': 10000.0,\n",
       " 'EX_cpd01981_e': 10000.0,\n",
       " 'EX_cpd00637_e': 10000.0,\n",
       " 'EX_cpd00035_e': 10000.0,\n",
       " 'EX_cpd10515_e': 10000.0,\n",
       " 'EX_cpd00162_e': 10000.0,\n",
       " 'EX_cpd00030_e': 10000.0,\n",
       " 'EX_cpd00311_e': 10000.0,\n",
       " 'EX_cpd00012_e': 10000.0,\n",
       " 'EX_cpd00138_e': 10000.0,\n",
       " 'EX_cpd00119_e': 10000.0,\n",
       " 'EX_cpd00054_e': 10000.0,\n",
       " 'EX_cpd00137_e': 10000.0,\n",
       " 'EX_cpd00314_e': 10000.0,\n",
       " 'EX_cpd00067_e': 10000.0,\n",
       " 'EX_cpd03161_e': 10000.0,\n",
       " 'EX_cpd04098_e': 10000.0,\n",
       " 'EX_cpd00084_e': 10000.0,\n",
       " 'EX_cpd00382_e': 10000.0,\n",
       " 'EX_cpd00281_e': 10000.0,\n",
       " 'EX_cpd00609_e': 10000.0,\n",
       " 'EX_cpd00126_e': 10000.0,\n",
       " 'EX_cpd00154_e': 10000.0,\n",
       " 'EX_cpd04761_e': 10000.0,\n",
       " 'EX_cpd00129_e': 10000.0,\n",
       " 'EX_cpd05190_e': 10000.0,\n",
       " 'EX_cpd00870_e': 10000.0,\n",
       " 'EX_cpd00284_e': 10000.0,\n",
       " 'EX_cpd11597_e': 10000.0,\n",
       " 'EX_cpd00033_e': 10000.0,\n",
       " 'EX_cpd00058_e': 10000.0,\n",
       " 'EX_cpd15471_e': 10000.0,\n",
       " 'EX_cpd00464_e': 10000.0,\n",
       " 'EX_cpd01012_e': 10000.0,\n",
       " 'EX_cpd08023_e': 10000.0,\n",
       " 'EX_cpd03454_e': 10000.0,\n",
       " 'EX_cpd00051_e': 10000.0,\n",
       " 'EX_cpd00421_e': 10000.0,\n",
       " 'EX_cpd11574_e': 10000.0,\n",
       " 'EX_cpd00121_e': 10000.0,\n",
       " 'EX_cpd00432_e': 10000.0,\n",
       " 'EX_cpd00531_e': 10000.0,\n",
       " 'EX_cpd00169_e': 10000.0,\n",
       " 'EX_cpd00386_e': 10000.0,\n",
       " 'EX_cpd00541_e': 10000.0,\n",
       " 'EX_cpd03048_e': 10000.0,\n",
       " 'EX_cpd08306_e': 10000.0,\n",
       " 'EX_cpd00132_e': 10000.0,\n",
       " 'EX_cpd00072_e': 10000.0,\n",
       " 'EX_cpd00061_e': 10000.0,\n",
       " 'EX_cpd11584_e': 10000.0,\n",
       " 'EX_cpd03884_e': 10000.0,\n",
       " 'EX_cpd01200_e': 10000.0,\n",
       " 'EX_cpd00652_e': 10000.0,\n",
       " 'EX_cpd00207_e': 10000.0,\n",
       " 'EX_cpd01030_e': 10000.0,\n",
       " 'EX_cpd00158_e': 10000.0,\n",
       " 'EX_cpd00218_e': 10000.0,\n",
       " 'EX_cpd00182_e': 10000.0,\n",
       " 'EX_cpd01570_e': 10000.0,\n",
       " 'EX_cpd11592_e': 10000.0,\n",
       " 'EX_cpd00381_e': 10000.0,\n",
       " 'EX_cpd00047_e': 10000.0,\n",
       " 'EX_cpd00020_e': 10000.0,\n",
       " 'EX_cpd11581_e': 10000.0,\n",
       " 'EX_cpd10516_e': 10000.0,\n",
       " 'EX_cpd01092_e': 10000.0,\n",
       " 'EX_cpd00393_e': 10000.0,\n",
       " 'EX_cpd00209_e': 10000.0,\n",
       " 'EX_cpd00053_e': 10000.0,\n",
       " 'EX_cpd00492_e': 10000.0,\n",
       " 'EX_cpd00727_e': 10000.0,\n",
       " 'EX_cpd00395_e': 10000.0,\n",
       " 'EX_cpd00396_e': 10000.0,\n",
       " 'EX_cpd00104_e': 10000.0,\n",
       " 'EX_cpd00220_e': 10000.0,\n",
       " 'EX_cpd00793_e': 10000.0,\n",
       " 'EX_cpd00091_e': 10000.0,\n",
       " 'EX_cpd00249_e': 10000.0,\n",
       " 'EX_cpd00700_e': 10000.0,\n",
       " 'EX_cpd08376_e': 10000.0,\n",
       " 'EX_cpd11590_e': 10000.0,\n",
       " 'EX_cpd00971_e': 10000.0,\n",
       " 'EX_cpd01939_e': 10000.0,\n",
       " 'EX_cpd00322_e': 10000.0,\n",
       " 'EX_cpd00485_e': 10000.0,\n",
       " 'EX_cpd00085_e': 10000.0,\n",
       " 'EX_cpd00069_e': 10000.0,\n",
       " 'EX_cpd00184_e': 10000.0,\n",
       " 'EX_cpd11594_e': 10000.0,\n",
       " 'EX_cpd00266_e': 10000.0,\n",
       " 'EX_cpd00098_e': 10000.0,\n",
       " 'EX_cpd00654_e': 10000.0,\n",
       " 'EX_cpd00423_e': 10000.0,\n",
       " 'EX_cpd00063_e': 10000.0,\n",
       " 'EX_cpd00046_e': 10000.0,\n",
       " 'EX_cpd01572_e': 10000.0,\n",
       " 'EX_cpd00027_e': 10000.0,\n",
       " 'EX_cpd00235_e': 10000.0,\n",
       " 'EX_cpd11589_e': 10000.0,\n",
       " 'EX_cpd00164_e': 10000.0,\n",
       " 'EX_cpd00106_e': 10000.0,\n",
       " 'EX_cpd00159_e': 10000.0,\n",
       " 'EX_cpd00060_e': 10000.0,\n",
       " 'EX_cpd00048_e': 10000.0,\n",
       " 'EX_cpd00036_e': 10000.0,\n",
       " 'EX_cpd00117_e': 10000.0,\n",
       " 'EX_cpd00082_e': 10000.0,\n",
       " 'EX_cpd01415_e': 10000.0,\n",
       " 'EX_cpd01262_e': 10000.0,\n",
       " 'EX_cpd00142_e': 10000.0,\n",
       " 'EX_cpd01622_e': 10000.0,\n",
       " 'EX_cpd03724_e': 10000.0,\n",
       " 'EX_cpd03424_e': 10000.0,\n",
       " 'EX_cpd00186_e': 10000.0,\n",
       " 'EX_cpd00029_e': 10000.0,\n",
       " 'EX_cpd00156_e': 10000.0,\n",
       " 'EX_cpd00040_e': 10000.0,\n",
       " 'EX_cpd00176_e': 10000.0,\n",
       " 'EX_cpd01132_e': 10000.0,\n",
       " 'EX_cpd00161_e': 10000.0,\n",
       " 'EX_cpd00075_e': 10000.0,\n",
       " 'EX_cpd00013_e': 10000.0,\n",
       " 'EX_cpd00065_e': 10000.0,\n",
       " 'EX_cpd00024_e': 10000.0,\n",
       " 'EX_cpd00232_e': 10000.0,\n",
       " 'EX_cpd00309_e': 10000.0,\n",
       " 'EX_cpd00039_e': 10000.0,\n",
       " 'EX_cpd05158_e': 10000.0,\n",
       " 'EX_cpd00307_e': 10000.0,\n",
       " 'EX_cpd00244_e': 10000.0,\n",
       " 'EX_cpd00285_e': 10000.0,\n",
       " 'EX_cpd11591_e': 10000.0,\n",
       " 'EX_cpd00254_e': 10000.0,\n",
       " 'EX_cpd11582_e': 10000.0,\n",
       " 'EX_cpd00128_e': 10000.0,\n",
       " 'EX_cpd00457_e': 10000.0,\n",
       " 'EX_cpd00157_e': 10000.0,\n",
       " 'EX_cpd00239_e': 10000.0,\n",
       " 'EX_cpd00210_e': 10000.0,\n",
       " 'EX_cpd00738_e': 10000.0,\n",
       " 'EX_cpd00034_e': 10000.0,\n",
       " 'EX_cpd00288_e': 10000.0,\n",
       " 'EX_cpd00149_e': 10000.0,\n",
       " 'EX_cpd11580_e': 10000.0,\n",
       " 'EX_cpd00216_e': 10000.0,\n",
       " 'EX_cpd00438_e': 10000.0,\n",
       " 'EX_cpd00107_e': 10000.0,\n",
       " 'EX_cpd11583_e': 10000.0,\n",
       " 'EX_cpd01991_e': 10000.0,\n",
       " 'EX_cpd11596_e': 10000.0,\n",
       " 'EX_cpd00146_e': 10000.0,\n",
       " 'EX_cpd00007_e': 10000.0,\n",
       " 'EX_cpd00417_e': 10000.0,\n",
       " 'EX_cpd00989_e': 10000.0,\n",
       " 'EX_cpd00011_e': 10000.0,\n",
       " 'EX_cpd00212_e': 10000.0,\n",
       " 'EX_cpd01571_e': 10000.0,\n",
       " 'EX_cpd00300_e': 10000.0,\n",
       " 'EX_cpd09878_e': 10000.0,\n",
       " 'EX_cpd11585_e': 10000.0,\n",
       " 'EX_cpd01048_e': 10000.0,\n",
       " 'EX_cpd00205_e': 10000.0,\n",
       " 'EX_cpd00280_e': 10000.0,\n",
       " 'EX_cpd00208_e': 10000.0,\n",
       " 'EX_cpd08305_e': 10000.0,\n",
       " 'EX_cpd00080_e': 10000.0,\n",
       " 'EX_cpd00482_e': 10000.0,\n",
       " 'EX_cpd00540_e': 10000.0,\n",
       " 'EX_cpd11598_e': 10000.0,\n",
       " 'EX_cpd08928_e': 10000.0,\n",
       " 'EX_cpd00363_e': 10000.0,\n",
       " 'EX_cpd01293_e': 10000.0,\n",
       " 'EX_cpd00139_e': 10000.0,\n",
       " 'EX_cpd00155_e': 10000.0,\n",
       " 'EX_cpd11593_e': 10000.0,\n",
       " 'EX_cpd00222_e': 10000.0,\n",
       " 'EX_cpd00794_e': 10000.0,\n",
       " 'EX_cpd00130_e': 10000.0,\n",
       " 'EX_cpd00122_e': 10000.0,\n",
       " 'EX_cpd00224_e': 10000.0,\n",
       " 'EX_cpd03535_e': 10000.0,\n",
       " 'EX_cpd07061_e': 10000.0,\n",
       " 'EX_cpd03701_e': 10000.0,\n",
       " 'EX_cpd03727_e': 10000.0,\n",
       " 'EX_cpd00246_e': 10000.0,\n",
       " 'EX_cpd04097_e': 10000.0,\n",
       " 'EX_cpd01017_e': 10000.0,\n",
       " 'EX_cpd00681_e': 10000.0,\n",
       " 'EX_cpd11587_e': 10000.0,\n",
       " 'EX_cpd15585_e': 10000.0,\n",
       " 'EX_cpd11578_e': 10000.0}"
      ]
     },
     "execution_count": 37,
     "metadata": {},
     "output_type": "execute_result"
    }
   ],
   "source": [
    "model.medium"
   ]
  },
  {
   "cell_type": "code",
   "execution_count": null,
   "metadata": {},
   "outputs": [],
   "source": []
  },
  {
   "cell_type": "code",
   "execution_count": null,
   "metadata": {},
   "outputs": [],
   "source": []
  }
 ],
 "metadata": {
  "kernelspec": {
   "display_name": "Python 3",
   "language": "python",
   "name": "python3"
  },
  "language_info": {
   "codemirror_mode": {
    "name": "ipython",
    "version": 3
   },
   "file_extension": ".py",
   "mimetype": "text/x-python",
   "name": "python",
   "nbconvert_exporter": "python",
   "pygments_lexer": "ipython3",
   "version": "3.8.5"
  }
 },
 "nbformat": 4,
 "nbformat_minor": 4
}
