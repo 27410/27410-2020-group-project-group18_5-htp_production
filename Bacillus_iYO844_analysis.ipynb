{
 "cells": [
  {
   "cell_type": "code",
   "execution_count": 1,
   "metadata": {},
   "outputs": [],
   "source": [
    "from cobra.io import read_sbml_model\n",
    "from cobra import Reaction, Metabolite\n",
    "import pandas as pd\n",
    "from cobra.flux_analysis import flux_variability_analysis"
   ]
  },
  {
   "cell_type": "code",
   "execution_count": 2,
   "metadata": {},
   "outputs": [],
   "source": [
    "model = read_sbml_model('data/iYO844_5htp.xml')"
   ]
  },
  {
   "cell_type": "markdown",
   "metadata": {},
   "source": [
    "**Checking max 5-HTP production and respective growth rate if objective value is changed to the 5-HTP export reaction**"
   ]
  },
  {
   "cell_type": "code",
   "execution_count": 19,
   "metadata": {},
   "outputs": [
    {
     "name": "stdout",
     "output_type": "stream",
     "text": [
      "DM_hydroxy_trp: hydroxy_trp --> \n",
      "HTP flux 0.5776145203111496\n",
      "Biomass flux 0.0\n"
     ]
    }
   ],
   "source": [
    "# Finding the flux of the phhA reaction\n",
    "with model:\n",
    "    print(model.reactions.DM_hydroxy_trp)\n",
    "    model.objective = model.reactions.DM_hydroxy_trp\n",
    "    solution = model.optimize()\n",
    "    max_5HTP_production = solution.objective_value\n",
    "    print(\"HTP flux\", max_5HTP_production)\n",
    "    print(\"Biomass flux\", solution.fluxes.BIOMASS_BS_10)"
   ]
  },
  {
   "cell_type": "markdown",
   "metadata": {},
   "source": [
    "**We can see here, that when we have optimal flux towards 5-HTP production, then there will be no flux towards biomass production, thus no growth of the cell.\n",
    "Let's try and optimize for both 5-HTP and biomass production**"
   ]
  },
  {
   "cell_type": "code",
   "execution_count": 20,
   "metadata": {},
   "outputs": [
    {
     "name": "stdout",
     "output_type": "stream",
     "text": [
      "5-HTP flux 0.2888072601555748\n",
      "Biomass flux 0.05898319466120001\n"
     ]
    }
   ],
   "source": [
    "# Getting the flux towards 5-HTP and biomass respectively, when optimized for both reactions\n",
    "with model:\n",
    "    model.objective = {model.reactions.DM_hydroxy_trp: 0.5}\n",
    "    solution = model.optimize()\n",
    "    print(\"5-HTP flux\", solution.objective_value)\n",
    "    model.objective = {model.reactions.BIOMASS_BS_10: 0.5}\n",
    "    solution = model.optimize()\n",
    "    print(\"Biomass flux\", solution.objective_value)"
   ]
  },
  {
   "cell_type": "markdown",
   "metadata": {},
   "source": [
    "We can see here that the flux towards biomass and 5-HTP production are both half of their previous optimal flux, which make sense now that they share the flux"
   ]
  },
  {
   "cell_type": "code",
   "execution_count": null,
   "metadata": {},
   "outputs": [],
   "source": []
  },
  {
   "cell_type": "markdown",
   "metadata": {},
   "source": [
    "**Observing how the growth rate changes with increasing 5-HTP export flux**"
   ]
  },
  {
   "cell_type": "code",
   "execution_count": 3,
   "metadata": {},
   "outputs": [],
   "source": [
    "from cobra.flux_analysis.phenotype_phase_plane import production_envelope"
   ]
  },
  {
   "cell_type": "code",
   "execution_count": 4,
   "metadata": {},
   "outputs": [],
   "source": [
    "ppp_5HTP = production_envelope(model,\n",
    "                    reactions=[model.reactions.DM_hydroxy_trp],\n",
    "                    objective=model.reactions.BIOMASS_BS_10)"
   ]
  },
  {
   "cell_type": "code",
   "execution_count": 5,
   "metadata": {},
   "outputs": [
    {
     "data": {
      "text/html": [
       "<div>\n",
       "<style scoped>\n",
       "    .dataframe tbody tr th:only-of-type {\n",
       "        vertical-align: middle;\n",
       "    }\n",
       "\n",
       "    .dataframe tbody tr th {\n",
       "        vertical-align: top;\n",
       "    }\n",
       "\n",
       "    .dataframe thead th {\n",
       "        text-align: right;\n",
       "    }\n",
       "</style>\n",
       "<table border=\"1\" class=\"dataframe\">\n",
       "  <thead>\n",
       "    <tr style=\"text-align: right;\">\n",
       "      <th></th>\n",
       "      <th>carbon_source</th>\n",
       "      <th>flux_minimum</th>\n",
       "      <th>carbon_yield_minimum</th>\n",
       "      <th>mass_yield_minimum</th>\n",
       "      <th>flux_maximum</th>\n",
       "      <th>carbon_yield_maximum</th>\n",
       "      <th>mass_yield_maximum</th>\n",
       "      <th>DM_hydroxy_trp</th>\n",
       "    </tr>\n",
       "  </thead>\n",
       "  <tbody>\n",
       "    <tr>\n",
       "      <th>0</th>\n",
       "      <td>EX_glc__D_e</td>\n",
       "      <td>0.0</td>\n",
       "      <td>0.0</td>\n",
       "      <td>NaN</td>\n",
       "      <td>0.117966</td>\n",
       "      <td>1.255696e+01</td>\n",
       "      <td>NaN</td>\n",
       "      <td>0.000000</td>\n",
       "    </tr>\n",
       "    <tr>\n",
       "      <th>1</th>\n",
       "      <td>EX_glc__D_e</td>\n",
       "      <td>0.0</td>\n",
       "      <td>0.0</td>\n",
       "      <td>NaN</td>\n",
       "      <td>0.111820</td>\n",
       "      <td>1.190272e+01</td>\n",
       "      <td>NaN</td>\n",
       "      <td>0.030401</td>\n",
       "    </tr>\n",
       "    <tr>\n",
       "      <th>2</th>\n",
       "      <td>EX_glc__D_e</td>\n",
       "      <td>0.0</td>\n",
       "      <td>0.0</td>\n",
       "      <td>NaN</td>\n",
       "      <td>0.105674</td>\n",
       "      <td>1.124848e+01</td>\n",
       "      <td>NaN</td>\n",
       "      <td>0.060802</td>\n",
       "    </tr>\n",
       "    <tr>\n",
       "      <th>3</th>\n",
       "      <td>EX_glc__D_e</td>\n",
       "      <td>0.0</td>\n",
       "      <td>0.0</td>\n",
       "      <td>NaN</td>\n",
       "      <td>0.099528</td>\n",
       "      <td>1.059423e+01</td>\n",
       "      <td>NaN</td>\n",
       "      <td>0.091202</td>\n",
       "    </tr>\n",
       "    <tr>\n",
       "      <th>4</th>\n",
       "      <td>EX_glc__D_e</td>\n",
       "      <td>0.0</td>\n",
       "      <td>0.0</td>\n",
       "      <td>NaN</td>\n",
       "      <td>0.093381</td>\n",
       "      <td>9.939991e+00</td>\n",
       "      <td>NaN</td>\n",
       "      <td>0.121603</td>\n",
       "    </tr>\n",
       "    <tr>\n",
       "      <th>5</th>\n",
       "      <td>EX_glc__D_e</td>\n",
       "      <td>0.0</td>\n",
       "      <td>0.0</td>\n",
       "      <td>NaN</td>\n",
       "      <td>0.087235</td>\n",
       "      <td>9.285750e+00</td>\n",
       "      <td>NaN</td>\n",
       "      <td>0.152004</td>\n",
       "    </tr>\n",
       "    <tr>\n",
       "      <th>6</th>\n",
       "      <td>EX_glc__D_e</td>\n",
       "      <td>0.0</td>\n",
       "      <td>0.0</td>\n",
       "      <td>NaN</td>\n",
       "      <td>0.081089</td>\n",
       "      <td>8.631508e+00</td>\n",
       "      <td>NaN</td>\n",
       "      <td>0.182405</td>\n",
       "    </tr>\n",
       "    <tr>\n",
       "      <th>7</th>\n",
       "      <td>EX_glc__D_e</td>\n",
       "      <td>0.0</td>\n",
       "      <td>0.0</td>\n",
       "      <td>NaN</td>\n",
       "      <td>0.074942</td>\n",
       "      <td>7.977266e+00</td>\n",
       "      <td>NaN</td>\n",
       "      <td>0.212805</td>\n",
       "    </tr>\n",
       "    <tr>\n",
       "      <th>8</th>\n",
       "      <td>EX_glc__D_e</td>\n",
       "      <td>0.0</td>\n",
       "      <td>0.0</td>\n",
       "      <td>NaN</td>\n",
       "      <td>0.068796</td>\n",
       "      <td>7.323024e+00</td>\n",
       "      <td>NaN</td>\n",
       "      <td>0.243206</td>\n",
       "    </tr>\n",
       "    <tr>\n",
       "      <th>9</th>\n",
       "      <td>EX_glc__D_e</td>\n",
       "      <td>0.0</td>\n",
       "      <td>0.0</td>\n",
       "      <td>NaN</td>\n",
       "      <td>0.062650</td>\n",
       "      <td>6.668782e+00</td>\n",
       "      <td>NaN</td>\n",
       "      <td>0.273607</td>\n",
       "    </tr>\n",
       "    <tr>\n",
       "      <th>10</th>\n",
       "      <td>EX_glc__D_e</td>\n",
       "      <td>0.0</td>\n",
       "      <td>0.0</td>\n",
       "      <td>NaN</td>\n",
       "      <td>0.056426</td>\n",
       "      <td>6.006255e+00</td>\n",
       "      <td>NaN</td>\n",
       "      <td>0.304008</td>\n",
       "    </tr>\n",
       "    <tr>\n",
       "      <th>11</th>\n",
       "      <td>EX_glc__D_e</td>\n",
       "      <td>0.0</td>\n",
       "      <td>0.0</td>\n",
       "      <td>NaN</td>\n",
       "      <td>0.050166</td>\n",
       "      <td>5.339898e+00</td>\n",
       "      <td>NaN</td>\n",
       "      <td>0.334408</td>\n",
       "    </tr>\n",
       "    <tr>\n",
       "      <th>12</th>\n",
       "      <td>EX_glc__D_e</td>\n",
       "      <td>0.0</td>\n",
       "      <td>0.0</td>\n",
       "      <td>NaN</td>\n",
       "      <td>0.043906</td>\n",
       "      <td>4.673540e+00</td>\n",
       "      <td>NaN</td>\n",
       "      <td>0.364809</td>\n",
       "    </tr>\n",
       "    <tr>\n",
       "      <th>13</th>\n",
       "      <td>EX_glc__D_e</td>\n",
       "      <td>0.0</td>\n",
       "      <td>0.0</td>\n",
       "      <td>NaN</td>\n",
       "      <td>0.037645</td>\n",
       "      <td>4.007183e+00</td>\n",
       "      <td>NaN</td>\n",
       "      <td>0.395210</td>\n",
       "    </tr>\n",
       "    <tr>\n",
       "      <th>14</th>\n",
       "      <td>EX_glc__D_e</td>\n",
       "      <td>0.0</td>\n",
       "      <td>0.0</td>\n",
       "      <td>NaN</td>\n",
       "      <td>0.031385</td>\n",
       "      <td>3.340826e+00</td>\n",
       "      <td>NaN</td>\n",
       "      <td>0.425611</td>\n",
       "    </tr>\n",
       "    <tr>\n",
       "      <th>15</th>\n",
       "      <td>EX_glc__D_e</td>\n",
       "      <td>0.0</td>\n",
       "      <td>0.0</td>\n",
       "      <td>NaN</td>\n",
       "      <td>0.025125</td>\n",
       "      <td>2.674468e+00</td>\n",
       "      <td>NaN</td>\n",
       "      <td>0.456011</td>\n",
       "    </tr>\n",
       "    <tr>\n",
       "      <th>16</th>\n",
       "      <td>EX_glc__D_e</td>\n",
       "      <td>0.0</td>\n",
       "      <td>0.0</td>\n",
       "      <td>NaN</td>\n",
       "      <td>0.018865</td>\n",
       "      <td>2.008111e+00</td>\n",
       "      <td>NaN</td>\n",
       "      <td>0.486412</td>\n",
       "    </tr>\n",
       "    <tr>\n",
       "      <th>17</th>\n",
       "      <td>EX_glc__D_e</td>\n",
       "      <td>0.0</td>\n",
       "      <td>0.0</td>\n",
       "      <td>NaN</td>\n",
       "      <td>0.012605</td>\n",
       "      <td>1.341754e+00</td>\n",
       "      <td>NaN</td>\n",
       "      <td>0.516813</td>\n",
       "    </tr>\n",
       "    <tr>\n",
       "      <th>18</th>\n",
       "      <td>EX_glc__D_e</td>\n",
       "      <td>0.0</td>\n",
       "      <td>0.0</td>\n",
       "      <td>NaN</td>\n",
       "      <td>0.006341</td>\n",
       "      <td>6.750099e-01</td>\n",
       "      <td>NaN</td>\n",
       "      <td>0.547214</td>\n",
       "    </tr>\n",
       "    <tr>\n",
       "      <th>19</th>\n",
       "      <td>EX_glc__D_e</td>\n",
       "      <td>0.0</td>\n",
       "      <td>0.0</td>\n",
       "      <td>NaN</td>\n",
       "      <td>0.000000</td>\n",
       "      <td>7.865330e-14</td>\n",
       "      <td>NaN</td>\n",
       "      <td>0.577615</td>\n",
       "    </tr>\n",
       "  </tbody>\n",
       "</table>\n",
       "</div>"
      ],
      "text/plain": [
       "   carbon_source  flux_minimum  carbon_yield_minimum  mass_yield_minimum  \\\n",
       "0    EX_glc__D_e           0.0                   0.0                 NaN   \n",
       "1    EX_glc__D_e           0.0                   0.0                 NaN   \n",
       "2    EX_glc__D_e           0.0                   0.0                 NaN   \n",
       "3    EX_glc__D_e           0.0                   0.0                 NaN   \n",
       "4    EX_glc__D_e           0.0                   0.0                 NaN   \n",
       "5    EX_glc__D_e           0.0                   0.0                 NaN   \n",
       "6    EX_glc__D_e           0.0                   0.0                 NaN   \n",
       "7    EX_glc__D_e           0.0                   0.0                 NaN   \n",
       "8    EX_glc__D_e           0.0                   0.0                 NaN   \n",
       "9    EX_glc__D_e           0.0                   0.0                 NaN   \n",
       "10   EX_glc__D_e           0.0                   0.0                 NaN   \n",
       "11   EX_glc__D_e           0.0                   0.0                 NaN   \n",
       "12   EX_glc__D_e           0.0                   0.0                 NaN   \n",
       "13   EX_glc__D_e           0.0                   0.0                 NaN   \n",
       "14   EX_glc__D_e           0.0                   0.0                 NaN   \n",
       "15   EX_glc__D_e           0.0                   0.0                 NaN   \n",
       "16   EX_glc__D_e           0.0                   0.0                 NaN   \n",
       "17   EX_glc__D_e           0.0                   0.0                 NaN   \n",
       "18   EX_glc__D_e           0.0                   0.0                 NaN   \n",
       "19   EX_glc__D_e           0.0                   0.0                 NaN   \n",
       "\n",
       "    flux_maximum  carbon_yield_maximum  mass_yield_maximum  DM_hydroxy_trp  \n",
       "0       0.117966          1.255696e+01                 NaN        0.000000  \n",
       "1       0.111820          1.190272e+01                 NaN        0.030401  \n",
       "2       0.105674          1.124848e+01                 NaN        0.060802  \n",
       "3       0.099528          1.059423e+01                 NaN        0.091202  \n",
       "4       0.093381          9.939991e+00                 NaN        0.121603  \n",
       "5       0.087235          9.285750e+00                 NaN        0.152004  \n",
       "6       0.081089          8.631508e+00                 NaN        0.182405  \n",
       "7       0.074942          7.977266e+00                 NaN        0.212805  \n",
       "8       0.068796          7.323024e+00                 NaN        0.243206  \n",
       "9       0.062650          6.668782e+00                 NaN        0.273607  \n",
       "10      0.056426          6.006255e+00                 NaN        0.304008  \n",
       "11      0.050166          5.339898e+00                 NaN        0.334408  \n",
       "12      0.043906          4.673540e+00                 NaN        0.364809  \n",
       "13      0.037645          4.007183e+00                 NaN        0.395210  \n",
       "14      0.031385          3.340826e+00                 NaN        0.425611  \n",
       "15      0.025125          2.674468e+00                 NaN        0.456011  \n",
       "16      0.018865          2.008111e+00                 NaN        0.486412  \n",
       "17      0.012605          1.341754e+00                 NaN        0.516813  \n",
       "18      0.006341          6.750099e-01                 NaN        0.547214  \n",
       "19      0.000000          7.865330e-14                 NaN        0.577615  "
      ]
     },
     "execution_count": 5,
     "metadata": {},
     "output_type": "execute_result"
    }
   ],
   "source": [
    "ppp_5HTP"
   ]
  },
  {
   "cell_type": "code",
   "execution_count": 6,
   "metadata": {},
   "outputs": [
    {
     "data": {
      "text/plain": [
       "<matplotlib.axes._subplots.AxesSubplot at 0x7fbc35c53160>"
      ]
     },
     "execution_count": 6,
     "metadata": {},
     "output_type": "execute_result"
    },
    {
     "data": {
      "image/png": "[encoded data removed]",
      "text/plain": [
       "<Figure size 432x288 with 1 Axes>"
      ]
     },
     "metadata": {
      "needs_background": "light"
     },
     "output_type": "display_data"
    }
   ],
   "source": [
    "ppp_5HTP.plot(x='DM_hydroxy_trp', y='flux_maximum')"
   ]
  },
  {
   "cell_type": "markdown",
   "metadata": {},
   "source": [
    "Not so good at all - we cannot get high flux towards 5-HTP without sacrificing the growth rate"
   ]
  },
  {
   "cell_type": "code",
   "execution_count": 7,
   "metadata": {},
   "outputs": [
    {
     "name": "stdout",
     "output_type": "stream",
     "text": [
      "                minimum   maximum\n",
      "DM_hydroxy_trp      0.0  0.291588\n"
     ]
    }
   ],
   "source": [
    "hydroxy_trp_flux_analysis = flux_variability_analysis(model, model.reactions.DM_hydroxy_trp, fraction_of_optimum = 0.5)\n",
    "print(hydroxy_trp_flux_analysis)"
   ]
  },
  {
   "cell_type": "markdown",
   "metadata": {},
   "source": [
    "If we keep the growth rate at 50% of the maximum, we still can get around 52% of the max 5-HTP flux."
   ]
  },
  {
   "cell_type": "markdown",
   "metadata": {},
   "source": [
    "**Knocking out a single gene and setting the objective value of the model for 5-HTP export flux**\n",
    "\n",
    "Only non-zero biomass production flux knock-outs are selected"
   ]
  },
  {
   "cell_type": "code",
   "execution_count": 8,
   "metadata": {},
   "outputs": [
    {
     "name": "stderr",
     "output_type": "stream",
     "text": [
      "/opt/conda/lib/python3.8/site-packages/cobra/util/solver.py:508: UserWarning: Solver status is 'infeasible'.\n",
      "  warn(f\"Solver status is '{status}'.\", UserWarning)\n"
     ]
    }
   ],
   "source": [
    "for gene in model.genes:\n",
    "    with model:\n",
    "        gene.knock_out()\n",
    "        model.objective = model.reactions.DM_hydroxy_trp\n",
    "        solution = model.optimize()\n",
    "        if solution.fluxes.BIOMASS_BS_10 > 0:\n",
    "            print ('5-HTP export flux:', solution.fluxes.DM_hydroxy_trp, 'Gene ID:', gene.id, 'Biomass production:', solution.fluxes.BIOMASS_BS_10)"
   ]
  },
  {
   "cell_type": "markdown",
   "metadata": {},
   "source": [
    "No solutions are displayed, as in case of every knock-out and subsequent optimisation for max 5-HTP export no growth is observed."
   ]
  },
  {
   "cell_type": "markdown",
   "metadata": {},
   "source": [
    "**Knocking out a single gene, running optimisation for max biomass production flux and observing 5-HTP export flux**\n",
    "\n",
    "Only non-zero 5-HTP export flux knock-outs are selected"
   ]
  },
  {
   "cell_type": "code",
   "execution_count": 9,
   "metadata": {},
   "outputs": [],
   "source": [
    "knock_out_list = pd.DataFrame(columns=['Gene ID', '5-HTP export flux', 'Biomass production flux'])\n",
    "for gene in model.genes:\n",
    "    with model:\n",
    "        gene.knock_out()\n",
    "        solution = model.optimize()\n",
    "        if solution.fluxes.DM_hydroxy_trp > 0:\n",
    "            knock_out_list = knock_out_list.append({ 'Gene ID': gene.id, '5-HTP export flux': solution.fluxes.DM_hydroxy_trp, 'Biomass production flux': model.optimize().objective_value}, ignore_index=True)"
   ]
  },
  {
   "cell_type": "markdown",
   "metadata": {},
   "source": [
    "In each and every case, either the growth rate or the 5-HTP export flux are very close to zero, so it can be concluded that no knock-outs would improve the 5-HTP flux"
   ]
  },
  {
   "cell_type": "code",
   "execution_count": 10,
   "metadata": {},
   "outputs": [
    {
     "name": "stdout",
     "output_type": "stream",
     "text": [
      "     Gene ID  5-HTP export flux  Biomass production flux\n",
      "0   BSU24340  0.245455           3.263902e-17           \n",
      "1   BSU29200  0.245455           3.263902e-17           \n",
      "2   BSU22440  0.245455           3.263902e-17           \n",
      "3   BSU24350  0.245455           3.263902e-17           \n",
      "4   BSU29210  0.245455           3.263902e-17           \n",
      "5   BSU11210  0.245455          -2.209565e-18           \n",
      "6   BSU11200  0.245455          -2.209565e-18           \n",
      "7   BSU16920  0.245455           2.625570e-15           \n",
      "8   BSU02270  0.245455           9.472102e-18           \n",
      "9   BSU00460  0.257151          -7.422270e-17           \n",
      "10  BSU00500  0.257151          -4.035835e-15           \n",
      "11  BSU35740  0.257151          -1.947266e-17           \n",
      "12  BSU00760  0.276852           6.635196e-17           \n",
      "13  BSU00740  0.235840          -1.887982e-17           \n",
      "14  BSU37150  0.257151          -6.049465e-17           \n",
      "15  BSU36900  0.294074           7.739983e-15           \n",
      "16  BSU09540  0.257151           3.177063e-17           \n",
      "17  BSU11190  0.257151          -1.309717e-15           \n",
      "18  BSU06520  0.562093           5.731934e-15           \n",
      "19  BSU06420  0.232889          -1.916518e-14           \n",
      "20  BSU06430  0.232889          -1.916518e-14           \n",
      "21  BSU23380  0.237900           2.184765e-14           \n",
      "22  BSU32170  0.340000          -7.614535e-16           \n",
      "23  BSU15680  0.275775           1.235124e-16           \n",
      "24  BSU04560  0.165927           7.322341e-17           \n",
      "25  BSU21870  0.235840           0.000000e+00           \n",
      "26  BSU22490  0.235840           9.693935e-17           \n",
      "27  BSU04640  0.235840          -9.532656e-17           \n",
      "28  BSU16770  0.235840           9.693935e-17           \n",
      "29  BSU31400  0.235840          -3.081689e-17           \n",
      "30  BSU21810  0.235840           8.988216e-15           \n",
      "31  BSU28080  0.235840           1.428244e-16           \n",
      "32  BSU38490  0.257151          -1.421485e-16           \n",
      "33  BSU00780  0.266667           6.118972e-17           \n",
      "34  BSU15540  0.268783           1.023469e-16           \n",
      "35  BSU15530  0.257151           2.959825e-17           \n",
      "36  BSU15500  0.257151           0.000000e+00           \n",
      "37  BSU00770  0.241725           1.389803e-17           \n",
      "38  BSU24280  0.257151          -6.409443e-17           \n",
      "39  BSU25160  0.257151          -7.795269e-17           \n",
      "40  BSU06490  0.266667           3.220507e-15           \n",
      "41  BSU06360  0.256253          -7.013808e-17           \n",
      "42  BSU22780  0.257672           3.604318e-17           \n",
      "43  BSU15490  0.245455           8.893273e-18           \n",
      "44  BSU22370  0.340000           8.519547e-15           \n",
      "45  BSU00790  0.200855           1.188521e-12           \n",
      "46  BSU17370  0.214811           5.613793e-17           \n",
      "47  BSU00900  0.214811          -5.613793e-17           \n",
      "48  BSU17390  0.214811           5.613793e-17           \n",
      "49  BSU28270  0.214811           0.000000e+00           \n",
      "50  BSU28290  0.090917           1.829459e-17           \n",
      "51  BSU24310  0.291111          -1.434474e-14           \n",
      "52  BSU11610  0.340000          -6.202306e-17           \n",
      "53  BSU03130  0.340000           7.349733e-14           \n",
      "54  BSU22730  0.340000          -9.923690e-16           \n",
      "55  BSU35720  0.340000          -9.923690e-16           \n",
      "56  BSU22610  0.257151          -5.017232e-17           \n",
      "57  BSU27900  0.257151           0.000000e+00           \n",
      "58  BSU06530  0.275316           2.942655e-15           \n",
      "59  BSU06500  0.303021           3.754857e-14           \n",
      "60  BSU06450  0.232889           4.819438e-14           \n",
      "61  BSU06470  0.303021           4.786908e-14           \n",
      "62  BSU06480  0.232889          -1.104360e-13           \n",
      "63  BSU06460  0.232889          -1.104360e-13           \n"
     ]
    },
    {
     "name": "stderr",
     "output_type": "stream",
     "text": [
      "<ipython-input-10-f4d78eb1eacc>:4: FutureWarning: Passing a negative integer is deprecated in version 1.0 and will not be supported in future version. Instead, use None to not limit the column width.\n",
      "  pd.set_option('display.max_colwidth', -1)\n"
     ]
    }
   ],
   "source": [
    "pd.set_option('display.max_rows', None)\n",
    "pd.set_option('display.max_columns', None)\n",
    "pd.set_option('display.width', None)\n",
    "pd.set_option('display.max_colwidth', -1)\n",
    "print(knock_out_list)"
   ]
  },
  {
   "cell_type": "code",
   "execution_count": 11,
   "metadata": {},
   "outputs": [],
   "source": [
    "#create list to store the reactions' IDs\n",
    "carbon_uptake = list()\n",
    "\n",
    "#go through all metabolites in the model that have carbon in their chem.structure\n",
    "for metabolite in model.metabolites:\n",
    "    if 'C' in metabolite.elements:\n",
    "        #find metabolites that are external\n",
    "        if metabolite.id[-1] == 'e':\n",
    "            reactions = metabolite.reactions\n",
    "            #pick reactions which exchange the metabolite with the external environment\n",
    "            for element in reactions:\n",
    "                if str(element.id[:2]) == 'EX':\n",
    "                    carbon_uptake.append(element.id)"
   ]
  },
  {
   "cell_type": "code",
   "execution_count": 17,
   "metadata": {},
   "outputs": [
    {
     "name": "stdout",
     "output_type": "stream",
     "text": [
      "EX_2ddglcn_e with the name:  2-Dehydro-3-deoxy-D-gluconate exchange\n",
      "EX_2hxmp_e with the name:  2  Hydroxymethyl phenol exchange\n",
      "EX_2pg_e with the name:  D Glycerate 2 phosphate exchange\n",
      "EX_2pglyc_e with the name:  2 Phosphoglycolate exchange\n",
      "EX_3amba_e with the name:  3 aminobutanoic acid exchange\n",
      "EX_5mtr_e with the name:  5-Methylthio-D-ribose exchange\n",
      "EX_3amp_e with the name:  3'-AMP exchange\n",
      "EX_6pgc_e with the name:  6 Phospho D gluconate exchange\n",
      "EX_3cmp_e with the name:  3'-cmp exchange\n",
      "EX_3gmp_e with the name:  3'-GMP exchange\n",
      "EX_ala_L_leu__L_e with the name:  Ala Leu exchange\n",
      "EX_L_alagly_e with the name:  Ala L gly exchange\n",
      "EX_Larab_e with the name:  Alpha L Arabinan exchange\n",
      "EX_Lcyst_e with the name:  L-Cysteate exchange\n",
      "EX_abt__L_e with the name:  L Arabinitol exchange\n",
      "EX_alaala_e with the name:  D-Alanyl-D-alanine exchange\n",
      "EX_alltn_e with the name:  Allantoin exchange\n",
      "EX_ac_e with the name:  Acetate exchange\n",
      "EX_3pg_e with the name:  3 Phospho D glycerate exchange\n",
      "EX_acac_e with the name:  Acetoacetate exchange\n",
      "EX_3ump_e with the name:  3'-UMP exchange\n",
      "EX_amp_e with the name:  AMP exchange\n",
      "EX_4abut_e with the name:  4-Aminobutanoate exchange\n",
      "EX_acgam_e with the name:  N-Acetyl-D-glucosamine exchange\n",
      "EX_amylase_e with the name:  Mature Bacillus subtilis amylase exchange\n",
      "EX_acmana_e with the name:  N-Acetyl-D-mannosamine exchange\n",
      "EX_acnam_e with the name:  N-Acetylneuraminate exchange\n",
      "EX_arab__D_e with the name:  D Arabinose exchange\n",
      "EX_arab__L_e with the name:  L-Arabinose exchange\n",
      "EX_arbt_e with the name:  Arbutin exchange\n",
      "EX_actn__R_e with the name:  EX actn R LPAREN e RPAREN \n",
      "EX_arg__L_e with the name:  L-Arginine exchange\n",
      "EX_cmp_e with the name:  CMP exchange\n",
      "EX_ade_e with the name:  Adenine exchange\n",
      "EX_adn_e with the name:  Adenosine exchange\n",
      "EX_argp_e with the name:  L Arginine phosphate exchange\n",
      "EX_co2_e with the name:  CO2 exchange\n",
      "EX_asn__L_e with the name:  L-Asparagine exchange\n",
      "EX_asp__L_e with the name:  L-Aspartate exchange\n",
      "EX_akg_e with the name:  2-Oxoglutarate exchange\n",
      "EX_ala_B_e with the name:  Beta-Alanine exchange\n",
      "EX_crn_e with the name:  L-Carnitine exchange\n",
      "EX_ala__D_e with the name:  D-Alanine exchange\n",
      "EX_bilea_e with the name:  Bile acid exchange\n",
      "EX_ala_L_Thr__L_e with the name:  Ala L Thr L exchange\n",
      "EX_csn_e with the name:  Cytosine exchange\n",
      "EX_btd_RR_e with the name:   R R  2 3 Butanediol exchange\n",
      "EX_ala_L_asp__L_e with the name:  Ala L asp L exchange\n",
      "EX_ctbt_e with the name:  Crotonobetaine exchange\n",
      "EX_ala__L_e with the name:  L-Alanine exchange\n",
      "EX_ala_L_gln__L_e with the name:  Ala Gln exchange\n",
      "EX_cys__D_e with the name:  D-Cysteine exchange\n",
      "EX_ala_L_glu__L_e with the name:  Ala L glu L exchange\n",
      "EX_buts_e with the name:  Butanesulfonate exchange\n",
      "EX_ala_L_his__L_e with the name:  Ala His exchange\n",
      "EX_cys__L_e with the name:  L-Cysteine exchange\n",
      "EX_etha_e with the name:  Ethanolamine exchange\n",
      "EX_cyst__L_e with the name:  L Cystine exchange\n",
      "EX_eths_e with the name:  Ethanesulfonate exchange\n",
      "EX_etoh_e with the name:  Ethanol exchange\n",
      "EX_cytd_e with the name:  Cytidine exchange\n",
      "EX_f6p_e with the name:  D-fructose 6-phosphate exchange\n",
      "EX_dad_2_e with the name:  Deoxyadenosine exchange\n",
      "EX_cellb_e with the name:  Cellobiose exchange\n",
      "EX_cgly_e with the name:  Cys-Gly exchange\n",
      "EX_chitob_e with the name:  Chitobiose exchange\n",
      "EX_chol_e with the name:  Choline exchange\n",
      "EX_chols_e with the name:  EX chols LPAREN e RPAREN \n",
      "EX_dcyt_e with the name:  Deoxycytidine exchange\n",
      "EX_chor_e with the name:  Chorismate exchange\n",
      "EX_cit_e with the name:  Citrate exchange\n",
      "EX_citr__L_e with the name:  L-Citrulline exchange\n",
      "EX_dextrin_e with the name:  Dextrin exchange\n",
      "EX_dha_e with the name:  Dihydroxyacetone exchange\n",
      "EX_glc__D_e with the name:  D-Glucose exchange\n",
      "EX_glcn__D_e with the name:  D Gluconate exchange\n",
      "EX_glcr_e with the name:  D-Glucarate exchange\n",
      "EX_diact_e with the name:  Diacetyl exchange\n",
      "EX_glcur_e with the name:  D-Glucuronate exchange\n",
      "EX_gln__L_e with the name:  L-Glutamine exchange\n",
      "EX_fol_e with the name:  EX fol LPAREN e RPAREN \n",
      "EX_for_e with the name:  Formate exchange\n",
      "EX_djenk_e with the name:  Djenkolate exchange\n",
      "EX_glu__D_e with the name:  D Glutamate exchange\n",
      "EX_glu__L_e with the name:  L-Glutamate exchange\n",
      "EX_glx_e with the name:  Glyoxylate exchange\n",
      "EX_fru_e with the name:  D-Fructose exchange\n",
      "EX_gly_asn__L_e with the name:  Gly asn L exchange\n",
      "EX_fum_e with the name:  Fumarate exchange\n",
      "EX_drib_e with the name:  Deoxy D Ribose exchange\n",
      "EX_gly_asp__L_e with the name:  Gly asp L exchange\n",
      "EX_g1p_e with the name:  D-Glucose 1-phosphate exchange\n",
      "EX_gly_e with the name:  Glycine exchange\n",
      "EX_dtmp_e with the name:  DTMP exchange\n",
      "EX_gly_gln__L_e with the name:  Gly Gln exchange\n",
      "EX_gly_glu__L_e with the name:  Gly glu L exchange\n",
      "EX_gly_met__L_e with the name:  Gly Met exchange\n",
      "EX_g6p_e with the name:  D-Glucose 6-phosphate exchange\n",
      "EX_gal_e with the name:  D-Galactose exchange\n",
      "EX_gly_pro__L_e with the name:  Gly pro L exchange\n",
      "EX_ectoine_e with the name:  Ectoine exchange\n",
      "EX_galctr__D_e with the name:  D Galactarate exchange\n",
      "EX_glyb_e with the name:  Glycine betaine exchange\n",
      "EX_glyc3p_e with the name:  Glycerol 3-phosphate exchange\n",
      "EX_galt_e with the name:  Galactitol exchange\n",
      "EX_glyc_e with the name:  Glycerol exchange\n",
      "EX_galur_e with the name:  D-Galacturonate exchange\n",
      "EX_glyclt_e with the name:  Glycolate exchange\n",
      "EX_gam6p_e with the name:  D-Glucosamine 6-phosphate exchange\n",
      "EX_gam_e with the name:  D-Glucosamine exchange\n",
      "EX_glycogen_e with the name:  Glycogen exchange\n",
      "EX_gbbtn_e with the name:  Gamma-butyrobetaine exchange\n",
      "EX_gmp_e with the name:  GMP exchange\n",
      "EX_gsn_e with the name:  Guanosine exchange\n",
      "EX_hqn_e with the name:  Hydroquinone exchange\n",
      "EX_gthox_e with the name:  Oxidized glutathione exchange\n",
      "EX_met_L_ala__L_e with the name:  Met L ala L exchange\n",
      "EX_gthrd_e with the name:  Reduced glutathione exchange\n",
      "EX_gua_e with the name:  Guanine exchange\n",
      "EX_met__L_e with the name:  L-Methionine exchange\n",
      "EX_hxan_e with the name:  Hypoxanthine exchange\n",
      "EX_metox__R_e with the name:  L methionine R oxide exchange\n",
      "EX_metox_e with the name:  L Methionine S oxide exchange\n",
      "EX_icit_e with the name:  Isocitrate exchange\n",
      "EX_ile__L_e with the name:  L-Isoleucine exchange\n",
      "EX_inost_e with the name:  Myo-Inositol exchange\n",
      "EX_ins_e with the name:  Inosine exchange\n",
      "EX_hexs_e with the name:  Hexanesulfonate exchange\n",
      "EX_istnt_e with the name:  Isethionate exchange\n",
      "EX_his__L_e with the name:  L-Histidine exchange\n",
      "EX_mnl_e with the name:  D-Mannitol exchange\n",
      "EX_lac__L_e with the name:  L-Lactate exchange\n",
      "EX_mops_e with the name:  MOPS exchange\n",
      "EX_lanth_e with the name:  Lanthionine exchange\n",
      "EX_mso3_e with the name:  Methanesulfonate exchange\n",
      "EX_lcts_e with the name:  Lactose exchange\n",
      "EX_leu__L_e with the name:  L-Leucine exchange\n",
      "EX_pnto__R_e with the name:  (R)-Pantothenate exchange\n",
      "EX_ppa_e with the name:  Propionate exchange\n",
      "EX_nac_e with the name:  Nicotinate exchange\n",
      "EX_lipt_e with the name:  Lipoate exchange\n",
      "EX_lys__L_e with the name:  L-Lysine exchange\n",
      "EX_madg_e with the name:  Alpha Methyl D glucoside exchange\n",
      "EX_mal__D_e with the name:  D-Malate exchange\n",
      "EX_mal__L_e with the name:  L-Malate exchange\n",
      "EX_malt_e with the name:  Maltose exchange\n",
      "EX_pro__L_e with the name:  L-Proline exchange\n",
      "EX_prolb_e with the name:  Proline betaine exchange\n",
      "EX_malttr_e with the name:  Maltotriose exchange\n",
      "EX_pser__D_e with the name:  D O Phosphoserine exchange\n",
      "EX_man1p_e with the name:  D Mannose 1 phosphate exchange\n",
      "EX_pser__L_e with the name:  O-Phospho-L-serine exchange\n",
      "EX_man6p_e with the name:  D-Mannose 6-phosphate exchange\n",
      "EX_man_e with the name:  D-Mannose exchange\n",
      "EX_orn__L_e with the name:  Ornithine exchange\n",
      "EX_mbdg_e with the name:  Beta Methylglucoside exchange\n",
      "EX_melib_e with the name:  Melibiose exchange\n",
      "EX_meoh_e with the name:  Methanol exchange\n",
      "EX_pala_e with the name:  Palatinose exchange\n",
      "EX_met__D_e with the name:  D-Methionine exchange\n",
      "EX_pur_e with the name:  Puromycin exchange\n",
      "EX_pep_e with the name:  Phosphoenolpyruvate exchange\n",
      "EX_pyr_e with the name:  Pyruvate exchange\n",
      "EX_phe__L_e with the name:  L-Phenylalanine exchange\n",
      "EX_raffin_e with the name:  Raffinose exchange\n",
      "EX_spmd_e with the name:  Spermidine exchange\n",
      "EX_rib__D_e with the name:  D-Ribose exchange\n",
      "EX_srb__L_e with the name:  L Sorbose exchange\n",
      "EX_ribflv_e with the name:  Riboflavin exchange\n",
      "EX_starch_e with the name:  Starch exchange\n",
      "EX_ump_e with the name:  UMP exchange\n",
      "EX_rmn_e with the name:  L-Rhamnose exchange\n",
      "EX_subtilisin_e with the name:  Mature Bacillus subtilis subtilisin exchange\n",
      "EX_ura_e with the name:  Uracil exchange\n",
      "EX_succ_e with the name:  Succinate exchange\n",
      "EX_salcn_e with the name:  Salicin exchange\n",
      "EX_urate_e with the name:  Urate exchange\n",
      "EX_sbt__D_e with the name:  D-Sorbitol exchange\n",
      "EX_sucr_e with the name:  Sucrose exchange\n",
      "EX_urea_e with the name:  Urea exchange\n",
      "EX_uri_e with the name:  Uridine exchange\n",
      "EX_sula_e with the name:  Sulfoacetate exchange\n",
      "EX_ser__D_e with the name:  D-Serine exchange\n",
      "EX_val__L_e with the name:  L-Valine exchange\n",
      "EX_ser__L_e with the name:  L-Serine exchange\n",
      "EX_xan_e with the name:  Xanthine exchange\n",
      "EX_xtsn_e with the name:  Xanthosine exchange\n",
      "EX_taur_e with the name:  Taurine exchange\n",
      "EX_xyl__D_e with the name:  D-Xylose exchange\n",
      "EX_thiog_e with the name:  Thioglycolate exchange\n",
      "EX_thr__L_e with the name:  L-Threonine exchange\n",
      "EX_thym_e with the name:  Thymine exchange\n",
      "EX_thymd_e with the name:  Thymidine exchange\n",
      "EX_tre_e with the name:  Trehalose exchange\n",
      "EX_trp__L_e with the name:  L-Tryptophan exchange\n",
      "EX_tyr__L_e with the name:  L-Tyrosine exchange\n"
     ]
    }
   ],
   "source": [
    "for reaction in carbon_uptake:\n",
    "    print(reaction, \"with the name: \", model.reactions.get_by_id(reaction).name)\n"
   ]
  },
  {
   "cell_type": "code",
   "execution_count": 14,
   "metadata": {
    "collapsed": true,
    "jupyter": {
     "outputs_hidden": true
    }
   },
   "outputs": [
    {
     "name": "stderr",
     "output_type": "stream",
     "text": [
      "/opt/conda/lib/python3.8/site-packages/cobra/util/solver.py:508: UserWarning: Solver status is 'infeasible'.\n",
      "  warn(f\"Solver status is '{status}'.\", UserWarning)\n",
      "/opt/conda/lib/python3.8/site-packages/cobra/util/solver.py:508: UserWarning: Solver status is 'infeasible'.\n",
      "  warn(f\"Solver status is '{status}'.\", UserWarning)\n",
      "/opt/conda/lib/python3.8/site-packages/cobra/util/solver.py:508: UserWarning: Solver status is 'infeasible'.\n",
      "  warn(f\"Solver status is '{status}'.\", UserWarning)\n",
      "/opt/conda/lib/python3.8/site-packages/cobra/util/solver.py:508: UserWarning: Solver status is 'infeasible'.\n",
      "  warn(f\"Solver status is '{status}'.\", UserWarning)\n",
      "/opt/conda/lib/python3.8/site-packages/cobra/util/solver.py:508: UserWarning: Solver status is 'infeasible'.\n",
      "  warn(f\"Solver status is '{status}'.\", UserWarning)\n",
      "/opt/conda/lib/python3.8/site-packages/cobra/util/solver.py:508: UserWarning: Solver status is 'infeasible'.\n",
      "  warn(f\"Solver status is '{status}'.\", UserWarning)\n",
      "/opt/conda/lib/python3.8/site-packages/cobra/util/solver.py:508: UserWarning: Solver status is 'infeasible'.\n",
      "  warn(f\"Solver status is '{status}'.\", UserWarning)\n",
      "/opt/conda/lib/python3.8/site-packages/cobra/util/solver.py:508: UserWarning: Solver status is 'infeasible'.\n",
      "  warn(f\"Solver status is '{status}'.\", UserWarning)\n",
      "/opt/conda/lib/python3.8/site-packages/cobra/util/solver.py:508: UserWarning: Solver status is 'infeasible'.\n",
      "  warn(f\"Solver status is '{status}'.\", UserWarning)\n",
      "/opt/conda/lib/python3.8/site-packages/cobra/util/solver.py:508: UserWarning: Solver status is 'infeasible'.\n",
      "  warn(f\"Solver status is '{status}'.\", UserWarning)\n",
      "/opt/conda/lib/python3.8/site-packages/cobra/util/solver.py:508: UserWarning: Solver status is 'infeasible'.\n",
      "  warn(f\"Solver status is '{status}'.\", UserWarning)\n",
      "/opt/conda/lib/python3.8/site-packages/cobra/util/solver.py:508: UserWarning: Solver status is 'infeasible'.\n",
      "  warn(f\"Solver status is '{status}'.\", UserWarning)\n",
      "/opt/conda/lib/python3.8/site-packages/cobra/util/solver.py:508: UserWarning: Solver status is 'infeasible'.\n",
      "  warn(f\"Solver status is '{status}'.\", UserWarning)\n",
      "/opt/conda/lib/python3.8/site-packages/cobra/util/solver.py:508: UserWarning: Solver status is 'infeasible'.\n",
      "  warn(f\"Solver status is '{status}'.\", UserWarning)\n",
      "/opt/conda/lib/python3.8/site-packages/cobra/util/solver.py:508: UserWarning: Solver status is 'infeasible'.\n",
      "  warn(f\"Solver status is '{status}'.\", UserWarning)\n",
      "/opt/conda/lib/python3.8/site-packages/cobra/util/solver.py:508: UserWarning: Solver status is 'infeasible'.\n",
      "  warn(f\"Solver status is '{status}'.\", UserWarning)\n",
      "/opt/conda/lib/python3.8/site-packages/cobra/util/solver.py:508: UserWarning: Solver status is 'infeasible'.\n",
      "  warn(f\"Solver status is '{status}'.\", UserWarning)\n",
      "/opt/conda/lib/python3.8/site-packages/cobra/util/solver.py:508: UserWarning: Solver status is 'infeasible'.\n",
      "  warn(f\"Solver status is '{status}'.\", UserWarning)\n",
      "/opt/conda/lib/python3.8/site-packages/cobra/util/solver.py:508: UserWarning: Solver status is 'infeasible'.\n",
      "  warn(f\"Solver status is '{status}'.\", UserWarning)\n",
      "/opt/conda/lib/python3.8/site-packages/cobra/util/solver.py:508: UserWarning: Solver status is 'infeasible'.\n",
      "  warn(f\"Solver status is '{status}'.\", UserWarning)\n",
      "/opt/conda/lib/python3.8/site-packages/cobra/util/solver.py:508: UserWarning: Solver status is 'infeasible'.\n",
      "  warn(f\"Solver status is '{status}'.\", UserWarning)\n",
      "/opt/conda/lib/python3.8/site-packages/cobra/util/solver.py:508: UserWarning: Solver status is 'infeasible'.\n",
      "  warn(f\"Solver status is '{status}'.\", UserWarning)\n",
      "/opt/conda/lib/python3.8/site-packages/cobra/util/solver.py:508: UserWarning: Solver status is 'infeasible'.\n",
      "  warn(f\"Solver status is '{status}'.\", UserWarning)\n",
      "/opt/conda/lib/python3.8/site-packages/cobra/util/solver.py:508: UserWarning: Solver status is 'infeasible'.\n",
      "  warn(f\"Solver status is '{status}'.\", UserWarning)\n",
      "/opt/conda/lib/python3.8/site-packages/cobra/util/solver.py:508: UserWarning: Solver status is 'infeasible'.\n",
      "  warn(f\"Solver status is '{status}'.\", UserWarning)\n",
      "/opt/conda/lib/python3.8/site-packages/cobra/util/solver.py:508: UserWarning: Solver status is 'infeasible'.\n",
      "  warn(f\"Solver status is '{status}'.\", UserWarning)\n",
      "/opt/conda/lib/python3.8/site-packages/cobra/util/solver.py:508: UserWarning: Solver status is 'infeasible'.\n",
      "  warn(f\"Solver status is '{status}'.\", UserWarning)\n",
      "/opt/conda/lib/python3.8/site-packages/cobra/util/solver.py:508: UserWarning: Solver status is 'infeasible'.\n",
      "  warn(f\"Solver status is '{status}'.\", UserWarning)\n",
      "/opt/conda/lib/python3.8/site-packages/cobra/util/solver.py:508: UserWarning: Solver status is 'infeasible'.\n",
      "  warn(f\"Solver status is '{status}'.\", UserWarning)\n",
      "/opt/conda/lib/python3.8/site-packages/cobra/util/solver.py:508: UserWarning: Solver status is 'infeasible'.\n",
      "  warn(f\"Solver status is '{status}'.\", UserWarning)\n",
      "/opt/conda/lib/python3.8/site-packages/cobra/util/solver.py:508: UserWarning: Solver status is 'infeasible'.\n",
      "  warn(f\"Solver status is '{status}'.\", UserWarning)\n",
      "/opt/conda/lib/python3.8/site-packages/cobra/util/solver.py:508: UserWarning: Solver status is 'infeasible'.\n",
      "  warn(f\"Solver status is '{status}'.\", UserWarning)\n",
      "/opt/conda/lib/python3.8/site-packages/cobra/util/solver.py:508: UserWarning: Solver status is 'infeasible'.\n",
      "  warn(f\"Solver status is '{status}'.\", UserWarning)\n",
      "/opt/conda/lib/python3.8/site-packages/cobra/util/solver.py:508: UserWarning: Solver status is 'infeasible'.\n",
      "  warn(f\"Solver status is '{status}'.\", UserWarning)\n",
      "/opt/conda/lib/python3.8/site-packages/cobra/util/solver.py:508: UserWarning: Solver status is 'infeasible'.\n",
      "  warn(f\"Solver status is '{status}'.\", UserWarning)\n",
      "/opt/conda/lib/python3.8/site-packages/cobra/util/solver.py:508: UserWarning: Solver status is 'infeasible'.\n",
      "  warn(f\"Solver status is '{status}'.\", UserWarning)\n",
      "/opt/conda/lib/python3.8/site-packages/cobra/util/solver.py:508: UserWarning: Solver status is 'infeasible'.\n",
      "  warn(f\"Solver status is '{status}'.\", UserWarning)\n",
      "/opt/conda/lib/python3.8/site-packages/cobra/util/solver.py:508: UserWarning: Solver status is 'infeasible'.\n",
      "  warn(f\"Solver status is '{status}'.\", UserWarning)\n",
      "/opt/conda/lib/python3.8/site-packages/cobra/util/solver.py:508: UserWarning: Solver status is 'infeasible'.\n",
      "  warn(f\"Solver status is '{status}'.\", UserWarning)\n",
      "/opt/conda/lib/python3.8/site-packages/cobra/util/solver.py:508: UserWarning: Solver status is 'infeasible'.\n",
      "  warn(f\"Solver status is '{status}'.\", UserWarning)\n",
      "/opt/conda/lib/python3.8/site-packages/cobra/util/solver.py:508: UserWarning: Solver status is 'infeasible'.\n",
      "  warn(f\"Solver status is '{status}'.\", UserWarning)\n",
      "/opt/conda/lib/python3.8/site-packages/cobra/util/solver.py:508: UserWarning: Solver status is 'infeasible'.\n",
      "  warn(f\"Solver status is '{status}'.\", UserWarning)\n",
      "/opt/conda/lib/python3.8/site-packages/cobra/util/solver.py:508: UserWarning: Solver status is 'infeasible'.\n",
      "  warn(f\"Solver status is '{status}'.\", UserWarning)\n",
      "/opt/conda/lib/python3.8/site-packages/cobra/util/solver.py:508: UserWarning: Solver status is 'infeasible'.\n",
      "  warn(f\"Solver status is '{status}'.\", UserWarning)\n",
      "/opt/conda/lib/python3.8/site-packages/cobra/util/solver.py:508: UserWarning: Solver status is 'infeasible'.\n",
      "  warn(f\"Solver status is '{status}'.\", UserWarning)\n",
      "/opt/conda/lib/python3.8/site-packages/cobra/util/solver.py:508: UserWarning: Solver status is 'infeasible'.\n",
      "  warn(f\"Solver status is '{status}'.\", UserWarning)\n",
      "/opt/conda/lib/python3.8/site-packages/cobra/util/solver.py:508: UserWarning: Solver status is 'infeasible'.\n",
      "  warn(f\"Solver status is '{status}'.\", UserWarning)\n",
      "/opt/conda/lib/python3.8/site-packages/cobra/util/solver.py:508: UserWarning: Solver status is 'infeasible'.\n",
      "  warn(f\"Solver status is '{status}'.\", UserWarning)\n",
      "/opt/conda/lib/python3.8/site-packages/cobra/util/solver.py:508: UserWarning: Solver status is 'infeasible'.\n",
      "  warn(f\"Solver status is '{status}'.\", UserWarning)\n",
      "/opt/conda/lib/python3.8/site-packages/cobra/util/solver.py:508: UserWarning: Solver status is 'infeasible'.\n",
      "  warn(f\"Solver status is '{status}'.\", UserWarning)\n",
      "/opt/conda/lib/python3.8/site-packages/cobra/util/solver.py:508: UserWarning: Solver status is 'infeasible'.\n",
      "  warn(f\"Solver status is '{status}'.\", UserWarning)\n",
      "/opt/conda/lib/python3.8/site-packages/cobra/util/solver.py:508: UserWarning: Solver status is 'infeasible'.\n",
      "  warn(f\"Solver status is '{status}'.\", UserWarning)\n",
      "/opt/conda/lib/python3.8/site-packages/cobra/util/solver.py:508: UserWarning: Solver status is 'infeasible'.\n",
      "  warn(f\"Solver status is '{status}'.\", UserWarning)\n",
      "/opt/conda/lib/python3.8/site-packages/cobra/util/solver.py:508: UserWarning: Solver status is 'infeasible'.\n",
      "  warn(f\"Solver status is '{status}'.\", UserWarning)\n",
      "/opt/conda/lib/python3.8/site-packages/cobra/util/solver.py:508: UserWarning: Solver status is 'infeasible'.\n",
      "  warn(f\"Solver status is '{status}'.\", UserWarning)\n",
      "/opt/conda/lib/python3.8/site-packages/cobra/util/solver.py:508: UserWarning: Solver status is 'infeasible'.\n",
      "  warn(f\"Solver status is '{status}'.\", UserWarning)\n",
      "/opt/conda/lib/python3.8/site-packages/cobra/util/solver.py:508: UserWarning: Solver status is 'infeasible'.\n",
      "  warn(f\"Solver status is '{status}'.\", UserWarning)\n",
      "/opt/conda/lib/python3.8/site-packages/cobra/util/solver.py:508: UserWarning: Solver status is 'infeasible'.\n",
      "  warn(f\"Solver status is '{status}'.\", UserWarning)\n",
      "/opt/conda/lib/python3.8/site-packages/cobra/util/solver.py:508: UserWarning: Solver status is 'infeasible'.\n",
      "  warn(f\"Solver status is '{status}'.\", UserWarning)\n",
      "/opt/conda/lib/python3.8/site-packages/cobra/util/solver.py:508: UserWarning: Solver status is 'infeasible'.\n",
      "  warn(f\"Solver status is '{status}'.\", UserWarning)\n",
      "/opt/conda/lib/python3.8/site-packages/cobra/util/solver.py:508: UserWarning: Solver status is 'infeasible'.\n",
      "  warn(f\"Solver status is '{status}'.\", UserWarning)\n",
      "/opt/conda/lib/python3.8/site-packages/cobra/util/solver.py:508: UserWarning: Solver status is 'infeasible'.\n",
      "  warn(f\"Solver status is '{status}'.\", UserWarning)\n",
      "/opt/conda/lib/python3.8/site-packages/cobra/util/solver.py:508: UserWarning: Solver status is 'infeasible'.\n",
      "  warn(f\"Solver status is '{status}'.\", UserWarning)\n",
      "/opt/conda/lib/python3.8/site-packages/cobra/util/solver.py:508: UserWarning: Solver status is 'infeasible'.\n",
      "  warn(f\"Solver status is '{status}'.\", UserWarning)\n",
      "/opt/conda/lib/python3.8/site-packages/cobra/util/solver.py:508: UserWarning: Solver status is 'infeasible'.\n",
      "  warn(f\"Solver status is '{status}'.\", UserWarning)\n",
      "/opt/conda/lib/python3.8/site-packages/cobra/util/solver.py:508: UserWarning: Solver status is 'infeasible'.\n",
      "  warn(f\"Solver status is '{status}'.\", UserWarning)\n",
      "/opt/conda/lib/python3.8/site-packages/cobra/util/solver.py:508: UserWarning: Solver status is 'infeasible'.\n",
      "  warn(f\"Solver status is '{status}'.\", UserWarning)\n",
      "/opt/conda/lib/python3.8/site-packages/cobra/util/solver.py:508: UserWarning: Solver status is 'infeasible'.\n",
      "  warn(f\"Solver status is '{status}'.\", UserWarning)\n",
      "/opt/conda/lib/python3.8/site-packages/cobra/util/solver.py:508: UserWarning: Solver status is 'infeasible'.\n",
      "  warn(f\"Solver status is '{status}'.\", UserWarning)\n",
      "/opt/conda/lib/python3.8/site-packages/cobra/util/solver.py:508: UserWarning: Solver status is 'infeasible'.\n",
      "  warn(f\"Solver status is '{status}'.\", UserWarning)\n",
      "/opt/conda/lib/python3.8/site-packages/cobra/util/solver.py:508: UserWarning: Solver status is 'infeasible'.\n",
      "  warn(f\"Solver status is '{status}'.\", UserWarning)\n"
     ]
    }
   ],
   "source": [
    "medium = model.medium\n",
    "\n",
    "#replace glucose with each exchange reaction from the possible carbon source reactions\n",
    "for reaction in carbon_uptake:\n",
    "    medium = model.medium\n",
    "    with model:\n",
    "        medium['EX_glc__D_e'] = 0\n",
    "        medium[reaction] = 10\n",
    "        model.medium = medium\n",
    "        model.objective = model.reactions.DM_hydroxy_trp\n",
    "        solution = model.optimize()\n",
    "        max_5HTP_production = solution.objective_value\n",
    "        if solution.fluxes.BIOMASS_BS_10 > 0:\n",
    "            print(solution.fluxes.BIOMASS_BS_10)\n",
    "            print(max_5HTP_production)"
   ]
  },
  {
   "cell_type": "code",
   "execution_count": 15,
   "metadata": {},
   "outputs": [
    {
     "data": {
      "text/plain": [
       "{'EX_fe3_e': 999999.0,\n",
       " 'EX_glc__D_e': 1.7,\n",
       " 'EX_ca2_e': 999999.0,\n",
       " 'EX_so4_e': 5.0,\n",
       " 'EX_co2_e': 999999.0,\n",
       " 'EX_h2o_e': 999999.0,\n",
       " 'EX_h_e': 999999.0,\n",
       " 'EX_k_e': 999999.0,\n",
       " 'EX_mg2_e': 999999.0,\n",
       " 'EX_na1_e': 999999.0,\n",
       " 'EX_nh4_e': 5.0,\n",
       " 'EX_o2_e': 999999.0,\n",
       " 'EX_pi_e': 5.0}"
      ]
     },
     "execution_count": 15,
     "metadata": {},
     "output_type": "execute_result"
    }
   ],
   "source": [
    "model.medium"
   ]
  },
  {
   "cell_type": "markdown",
   "metadata": {},
   "source": [
    "**Again working under the assumption that the production of 5-HTP and biomass needs to be shared 50-50, we will try and go through the list of potential carbon sources to see which carbon source will increase the flux towards both 5-HTP and biomass production.**"
   ]
  },
  {
   "cell_type": "code",
   "execution_count": 18,
   "metadata": {},
   "outputs": [
    {
     "name": "stdout",
     "output_type": "stream",
     "text": [
      "optimal 5htp production using:  2-Dehydro-3-deoxy-D-gluconate exchange is  1.2500000000000109\n",
      "optimal biomass production using:  2-Dehydro-3-deoxy-D-gluconate exchange is  0.3120924073160412\n"
     ]
    },
    {
     "name": "stderr",
     "output_type": "stream",
     "text": [
      "/opt/conda/lib/python3.8/site-packages/cobra/util/solver.py:508: UserWarning: Solver status is 'infeasible'.\n",
      "  warn(f\"Solver status is '{status}'.\", UserWarning)\n"
     ]
    },
    {
     "name": "stdout",
     "output_type": "stream",
     "text": [
      "optimal 5htp production using:  D Glycerate 2 phosphate exchange is  0.8450413223140483\n",
      "optimal biomass production using:  D Glycerate 2 phosphate exchange is  0.17741853497847876\n"
     ]
    },
    {
     "name": "stderr",
     "output_type": "stream",
     "text": [
      "/opt/conda/lib/python3.8/site-packages/cobra/util/solver.py:508: UserWarning: Solver status is 'infeasible'.\n",
      "  warn(f\"Solver status is '{status}'.\", UserWarning)\n",
      "/opt/conda/lib/python3.8/site-packages/cobra/util/solver.py:508: UserWarning: Solver status is 'infeasible'.\n",
      "  warn(f\"Solver status is '{status}'.\", UserWarning)\n"
     ]
    },
    {
     "name": "stdout",
     "output_type": "stream",
     "text": [
      "optimal 5htp production using:  3'-AMP exchange is  2.5397350993377485\n",
      "optimal biomass production using:  3'-AMP exchange is  0.5348398227710915\n",
      "optimal 5htp production using:  6 Phospho D gluconate exchange is  1.25\n",
      "optimal biomass production using:  6 Phospho D gluconate exchange is  0.31209240731604887\n",
      "optimal 5htp production using:  3'-cmp exchange is  1.848000000000004\n",
      "optimal biomass production using:  3'-cmp exchange is  0.38502179539229314\n",
      "optimal 5htp production using:  3'-GMP exchange is  2.4079999999999995\n",
      "optimal biomass production using:  3'-GMP exchange is  0.5018626613986441\n"
     ]
    },
    {
     "name": "stderr",
     "output_type": "stream",
     "text": [
      "/opt/conda/lib/python3.8/site-packages/cobra/util/solver.py:508: UserWarning: Solver status is 'infeasible'.\n",
      "  warn(f\"Solver status is '{status}'.\", UserWarning)\n",
      "/opt/conda/lib/python3.8/site-packages/cobra/util/solver.py:508: UserWarning: Solver status is 'infeasible'.\n",
      "  warn(f\"Solver status is '{status}'.\", UserWarning)\n"
     ]
    },
    {
     "name": "stdout",
     "output_type": "stream",
     "text": [
      "optimal 5htp production using:  Alpha L Arabinan exchange is  1.2499999999999942\n",
      "optimal biomass production using:  Alpha L Arabinan exchange is  0.31209240731604615\n"
     ]
    },
    {
     "name": "stderr",
     "output_type": "stream",
     "text": [
      "/opt/conda/lib/python3.8/site-packages/cobra/util/solver.py:508: UserWarning: Solver status is 'infeasible'.\n",
      "  warn(f\"Solver status is '{status}'.\", UserWarning)\n"
     ]
    },
    {
     "name": "stdout",
     "output_type": "stream",
     "text": [
      "optimal 5htp production using:  L Arabinitol exchange is  1.2499999999999918\n",
      "optimal biomass production using:  L Arabinitol exchange is  0.31209240733347193\n",
      "optimal 5htp production using:  D-Alanyl-D-alanine exchange is  1.6925925925925913\n",
      "optimal biomass production using:  D-Alanyl-D-alanine exchange is  0.38336782876148057\n",
      "optimal 5htp production using:  Allantoin exchange is  0.3233471074380174\n",
      "optimal biomass production using:  Allantoin exchange is  0.06653195061692933\n",
      "optimal 5htp production using:  3 Phospho D glycerate exchange is  0.8450413223140468\n",
      "optimal biomass production using:  3 Phospho D glycerate exchange is  0.1774185349784779\n",
      "optimal 5htp production using:  3'-UMP exchange is  1.2500000000000018\n",
      "optimal biomass production using:  3'-UMP exchange is  0.32189540253535126\n",
      "optimal 5htp production using:  AMP exchange is  2.539735099337746\n",
      "optimal biomass production using:  AMP exchange is  0.5351826726525855\n",
      "optimal 5htp production using:  4-Aminobutanoate exchange is  1.2499999999999936\n",
      "optimal biomass production using:  4-Aminobutanoate exchange is  0.27702311132463503\n",
      "optimal 5htp production using:  N-Acetyl-D-glucosamine exchange is  2.5000000000000036\n",
      "optimal biomass production using:  N-Acetyl-D-glucosamine exchange is  0.5543353899049404\n"
     ]
    },
    {
     "name": "stderr",
     "output_type": "stream",
     "text": [
      "/opt/conda/lib/python3.8/site-packages/cobra/util/solver.py:508: UserWarning: Solver status is 'infeasible'.\n",
      "  warn(f\"Solver status is '{status}'.\", UserWarning)\n"
     ]
    },
    {
     "name": "stdout",
     "output_type": "stream",
     "text": [
      "optimal 5htp production using:  N-Acetyl-D-mannosamine exchange is  2.500000000000047\n",
      "optimal biomass production using:  N-Acetyl-D-mannosamine exchange is  0.5925717117319305\n",
      "optimal 5htp production using:  N-Acetylneuraminate exchange is  3.7499999999999916\n",
      "optimal biomass production using:  N-Acetylneuraminate exchange is  0.789470539997789\n",
      "optimal 5htp production using:  D Arabinose exchange is  1.2499999999999383\n",
      "optimal biomass production using:  D Arabinose exchange is  0.312092407316062\n",
      "optimal 5htp production using:  L-Arabinose exchange is  1.2500000000000266\n",
      "optimal biomass production using:  L-Arabinose exchange is  0.3120924073161072\n",
      "optimal 5htp production using:  Arbutin exchange is  1.2499999999999913\n",
      "optimal biomass production using:  Arbutin exchange is  0.3120924073160385\n",
      "optimal 5htp production using:  L-Arginine exchange is  1.2500000000000002\n",
      "optimal biomass production using:  L-Arginine exchange is  0.37115302559063384\n",
      "optimal 5htp production using:  CMP exchange is  1.8479999999999988\n",
      "optimal biomass production using:  CMP exchange is  0.3851811255063191\n",
      "optimal 5htp production using:  Adenine exchange is  0.6099290780141846\n",
      "optimal biomass production using:  Adenine exchange is  0.13587965689489329\n",
      "optimal 5htp production using:  Adenosine exchange is  2.5231788079470188\n",
      "optimal biomass production using:  Adenosine exchange is  0.5301646494950543\n",
      "optimal 5htp production using:  L Arginine phosphate exchange is  1.250000000000006\n",
      "optimal biomass production using:  L Arginine phosphate exchange is  0.39244752041262837\n"
     ]
    },
    {
     "name": "stderr",
     "output_type": "stream",
     "text": [
      "/opt/conda/lib/python3.8/site-packages/cobra/util/solver.py:508: UserWarning: Solver status is 'infeasible'.\n",
      "  warn(f\"Solver status is '{status}'.\", UserWarning)\n"
     ]
    },
    {
     "name": "stdout",
     "output_type": "stream",
     "text": [
      "optimal 5htp production using:  L-Asparagine exchange is  0.9055555555555544\n",
      "optimal biomass production using:  L-Asparagine exchange is  0.19339705620586886\n",
      "optimal 5htp production using:  L-Aspartate exchange is  0.9055555555555587\n",
      "optimal biomass production using:  L-Aspartate exchange is  0.19307671395353268\n",
      "optimal 5htp production using:  2-Oxoglutarate exchange is  1.195035460992912\n",
      "optimal biomass production using:  2-Oxoglutarate exchange is  0.26769573383895506\n"
     ]
    },
    {
     "name": "stderr",
     "output_type": "stream",
     "text": [
      "/opt/conda/lib/python3.8/site-packages/cobra/util/solver.py:508: UserWarning: Solver status is 'infeasible'.\n",
      "  warn(f\"Solver status is '{status}'.\", UserWarning)\n",
      "/opt/conda/lib/python3.8/site-packages/cobra/util/solver.py:508: UserWarning: Solver status is 'infeasible'.\n",
      "  warn(f\"Solver status is '{status}'.\", UserWarning)\n"
     ]
    },
    {
     "name": "stdout",
     "output_type": "stream",
     "text": [
      "optimal 5htp production using:  D-Alanine exchange is  0.8129629629629511\n",
      "optimal biomass production using:  D-Alanine exchange is  0.18350782324601736\n"
     ]
    },
    {
     "name": "stderr",
     "output_type": "stream",
     "text": [
      "/opt/conda/lib/python3.8/site-packages/cobra/util/solver.py:508: UserWarning: Solver status is 'infeasible'.\n",
      "  warn(f\"Solver status is '{status}'.\", UserWarning)\n",
      "/opt/conda/lib/python3.8/site-packages/cobra/util/solver.py:508: UserWarning: Solver status is 'infeasible'.\n",
      "  warn(f\"Solver status is '{status}'.\", UserWarning)\n",
      "/opt/conda/lib/python3.8/site-packages/cobra/util/solver.py:508: UserWarning: Solver status is 'infeasible'.\n",
      "  warn(f\"Solver status is '{status}'.\", UserWarning)\n",
      "/opt/conda/lib/python3.8/site-packages/cobra/util/solver.py:508: UserWarning: Solver status is 'infeasible'.\n",
      "  warn(f\"Solver status is '{status}'.\", UserWarning)\n",
      "/opt/conda/lib/python3.8/site-packages/cobra/util/solver.py:508: UserWarning: Solver status is 'infeasible'.\n",
      "  warn(f\"Solver status is '{status}'.\", UserWarning)\n"
     ]
    },
    {
     "name": "stdout",
     "output_type": "stream",
     "text": [
      "optimal 5htp production using:  L-Alanine exchange is  0.8129629629629651\n",
      "optimal biomass production using:  L-Alanine exchange is  0.18350782324601866\n"
     ]
    },
    {
     "name": "stderr",
     "output_type": "stream",
     "text": [
      "/opt/conda/lib/python3.8/site-packages/cobra/util/solver.py:508: UserWarning: Solver status is 'infeasible'.\n",
      "  warn(f\"Solver status is '{status}'.\", UserWarning)\n",
      "/opt/conda/lib/python3.8/site-packages/cobra/util/solver.py:508: UserWarning: Solver status is 'infeasible'.\n",
      "  warn(f\"Solver status is '{status}'.\", UserWarning)\n",
      "/opt/conda/lib/python3.8/site-packages/cobra/util/solver.py:508: UserWarning: Solver status is 'infeasible'.\n",
      "  warn(f\"Solver status is '{status}'.\", UserWarning)\n",
      "/opt/conda/lib/python3.8/site-packages/cobra/util/solver.py:508: UserWarning: Solver status is 'infeasible'.\n",
      "  warn(f\"Solver status is '{status}'.\", UserWarning)\n",
      "/opt/conda/lib/python3.8/site-packages/cobra/util/solver.py:508: UserWarning: Solver status is 'infeasible'.\n",
      "  warn(f\"Solver status is '{status}'.\", UserWarning)\n",
      "/opt/conda/lib/python3.8/site-packages/cobra/util/solver.py:508: UserWarning: Solver status is 'infeasible'.\n",
      "  warn(f\"Solver status is '{status}'.\", UserWarning)\n",
      "/opt/conda/lib/python3.8/site-packages/cobra/util/solver.py:508: UserWarning: Solver status is 'infeasible'.\n",
      "  warn(f\"Solver status is '{status}'.\", UserWarning)\n",
      "/opt/conda/lib/python3.8/site-packages/cobra/util/solver.py:508: UserWarning: Solver status is 'infeasible'.\n",
      "  warn(f\"Solver status is '{status}'.\", UserWarning)\n",
      "/opt/conda/lib/python3.8/site-packages/cobra/util/solver.py:508: UserWarning: Solver status is 'infeasible'.\n",
      "  warn(f\"Solver status is '{status}'.\", UserWarning)\n"
     ]
    },
    {
     "name": "stdout",
     "output_type": "stream",
     "text": [
      "optimal 5htp production using:  Cytidine exchange is  1.8280000000000065\n",
      "optimal biomass production using:  Cytidine exchange is  0.3803492007880259\n",
      "optimal 5htp production using:  D-fructose 6-phosphate exchange is  1.2499999999999925\n",
      "optimal biomass production using:  D-fructose 6-phosphate exchange is  0.31209240731604365\n",
      "optimal 5htp production using:  Deoxyadenosine exchange is  1.8749999999999978\n",
      "optimal biomass production using:  Deoxyadenosine exchange is  0.5330383193615624\n",
      "optimal 5htp production using:  Cellobiose exchange is  1.2500000000000004\n",
      "optimal biomass production using:  Cellobiose exchange is  0.3120924073160406\n"
     ]
    },
    {
     "name": "stderr",
     "output_type": "stream",
     "text": [
      "/opt/conda/lib/python3.8/site-packages/cobra/util/solver.py:508: UserWarning: Solver status is 'infeasible'.\n",
      "  warn(f\"Solver status is '{status}'.\", UserWarning)\n",
      "/opt/conda/lib/python3.8/site-packages/cobra/util/solver.py:508: UserWarning: Solver status is 'infeasible'.\n",
      "  warn(f\"Solver status is '{status}'.\", UserWarning)\n",
      "/opt/conda/lib/python3.8/site-packages/cobra/util/solver.py:508: UserWarning: Solver status is 'infeasible'.\n",
      "  warn(f\"Solver status is '{status}'.\", UserWarning)\n"
     ]
    },
    {
     "name": "stdout",
     "output_type": "stream",
     "text": [
      "optimal 5htp production using:  Deoxycytidine exchange is  1.2500000000000004\n",
      "optimal biomass production using:  Deoxycytidine exchange is  0.38372252000821433\n"
     ]
    },
    {
     "name": "stderr",
     "output_type": "stream",
     "text": [
      "/opt/conda/lib/python3.8/site-packages/cobra/util/solver.py:508: UserWarning: Solver status is 'infeasible'.\n",
      "  warn(f\"Solver status is '{status}'.\", UserWarning)\n"
     ]
    },
    {
     "name": "stdout",
     "output_type": "stream",
     "text": [
      "optimal 5htp production using:  Citrate exchange is  1.2500000000000016\n",
      "optimal biomass production using:  Citrate exchange is  0.30500524378167176\n",
      "optimal 5htp production using:  L-Citrulline exchange is  1.2499999999999913\n",
      "optimal biomass production using:  L-Citrulline exchange is  0.3354008106344481\n",
      "optimal 5htp production using:  Dextrin exchange is  1.2499999999999982\n",
      "optimal biomass production using:  Dextrin exchange is  0.31209240731605437\n",
      "optimal 5htp production using:  Dihydroxyacetone exchange is  1.0664605873261204\n",
      "optimal biomass production using:  Dihydroxyacetone exchange is  0.2236212784624585\n",
      "optimal 5htp production using:  D-Glucose exchange is  1.2500000000000009\n",
      "optimal biomass production using:  D-Glucose exchange is  0.31209240731604987\n",
      "optimal 5htp production using:  D Gluconate exchange is  1.2500000000000082\n",
      "optimal biomass production using:  D Gluconate exchange is  0.3120924073160545\n",
      "optimal 5htp production using:  D-Glucarate exchange is  1.250000000000001\n",
      "optimal biomass production using:  D-Glucarate exchange is  0.29754566803682164\n"
     ]
    },
    {
     "name": "stderr",
     "output_type": "stream",
     "text": [
      "/opt/conda/lib/python3.8/site-packages/cobra/util/solver.py:508: UserWarning: Solver status is 'infeasible'.\n",
      "  warn(f\"Solver status is '{status}'.\", UserWarning)\n"
     ]
    },
    {
     "name": "stdout",
     "output_type": "stream",
     "text": [
      "optimal 5htp production using:  D-Glucuronate exchange is  1.2500000000000009\n",
      "optimal biomass production using:  D-Glucuronate exchange is  0.31209240731607235\n",
      "optimal 5htp production using:  L-Glutamine exchange is  1.2499999999999971\n",
      "optimal biomass production using:  L-Glutamine exchange is  0.2881048943260396\n"
     ]
    },
    {
     "name": "stderr",
     "output_type": "stream",
     "text": [
      "/opt/conda/lib/python3.8/site-packages/cobra/util/solver.py:508: UserWarning: Solver status is 'infeasible'.\n",
      "  warn(f\"Solver status is '{status}'.\", UserWarning)\n",
      "/opt/conda/lib/python3.8/site-packages/cobra/util/solver.py:508: UserWarning: Solver status is 'infeasible'.\n",
      "  warn(f\"Solver status is '{status}'.\", UserWarning)\n"
     ]
    },
    {
     "name": "stdout",
     "output_type": "stream",
     "text": [
      "optimal 5htp production using:  D Glutamate exchange is  1.2500000000000004\n",
      "optimal biomass production using:  D Glutamate exchange is  0.30034155503883253\n",
      "optimal 5htp production using:  L-Glutamate exchange is  1.2500000000000115\n",
      "optimal biomass production using:  L-Glutamate exchange is  0.3003415550388417\n",
      "optimal 5htp production using:  D-Fructose exchange is  1.2500000000000213\n",
      "optimal biomass production using:  D-Fructose exchange is  0.31209240731604515\n"
     ]
    },
    {
     "name": "stderr",
     "output_type": "stream",
     "text": [
      "/opt/conda/lib/python3.8/site-packages/cobra/util/solver.py:508: UserWarning: Solver status is 'infeasible'.\n",
      "  warn(f\"Solver status is '{status}'.\", UserWarning)\n"
     ]
    },
    {
     "name": "stdout",
     "output_type": "stream",
     "text": [
      "optimal 5htp production using:  Fumarate exchange is  0.9055555555555619\n",
      "optimal biomass production using:  Fumarate exchange is  0.1930767139535331\n",
      "optimal 5htp production using:  Deoxy D Ribose exchange is  1.250000000000006\n",
      "optimal biomass production using:  Deoxy D Ribose exchange is  0.3120924073160478\n"
     ]
    },
    {
     "name": "stderr",
     "output_type": "stream",
     "text": [
      "/opt/conda/lib/python3.8/site-packages/cobra/util/solver.py:508: UserWarning: Solver status is 'infeasible'.\n",
      "  warn(f\"Solver status is '{status}'.\", UserWarning)\n"
     ]
    },
    {
     "name": "stdout",
     "output_type": "stream",
     "text": [
      "optimal 5htp production using:  D-Glucose 1-phosphate exchange is  1.2499999999999956\n",
      "optimal biomass production using:  D-Glucose 1-phosphate exchange is  0.3120924073160683\n",
      "optimal 5htp production using:  DTMP exchange is  1.2500000000000115\n",
      "optimal biomass production using:  DTMP exchange is  0.31390795565811175\n"
     ]
    },
    {
     "name": "stderr",
     "output_type": "stream",
     "text": [
      "/opt/conda/lib/python3.8/site-packages/cobra/util/solver.py:508: UserWarning: Solver status is 'infeasible'.\n",
      "  warn(f\"Solver status is '{status}'.\", UserWarning)\n",
      "/opt/conda/lib/python3.8/site-packages/cobra/util/solver.py:508: UserWarning: Solver status is 'infeasible'.\n",
      "  warn(f\"Solver status is '{status}'.\", UserWarning)\n",
      "/opt/conda/lib/python3.8/site-packages/cobra/util/solver.py:508: UserWarning: Solver status is 'infeasible'.\n",
      "  warn(f\"Solver status is '{status}'.\", UserWarning)\n"
     ]
    },
    {
     "name": "stdout",
     "output_type": "stream",
     "text": [
      "optimal 5htp production using:  D-Glucose 6-phosphate exchange is  1.2500000000000024\n",
      "optimal biomass production using:  D-Glucose 6-phosphate exchange is  0.31209240731606575\n",
      "optimal 5htp production using:  D-Galactose exchange is  1.2500000000000289\n",
      "optimal biomass production using:  D-Galactose exchange is  0.3120924073157798\n"
     ]
    },
    {
     "name": "stderr",
     "output_type": "stream",
     "text": [
      "/opt/conda/lib/python3.8/site-packages/cobra/util/solver.py:508: UserWarning: Solver status is 'infeasible'.\n",
      "  warn(f\"Solver status is '{status}'.\", UserWarning)\n",
      "/opt/conda/lib/python3.8/site-packages/cobra/util/solver.py:508: UserWarning: Solver status is 'infeasible'.\n",
      "  warn(f\"Solver status is '{status}'.\", UserWarning)\n"
     ]
    },
    {
     "name": "stdout",
     "output_type": "stream",
     "text": [
      "optimal 5htp production using:  D Galactarate exchange is  1.2499999999999973\n",
      "optimal biomass production using:  D Galactarate exchange is  0.2975456680368237\n"
     ]
    },
    {
     "name": "stderr",
     "output_type": "stream",
     "text": [
      "/opt/conda/lib/python3.8/site-packages/cobra/util/solver.py:508: UserWarning: Solver status is 'infeasible'.\n",
      "  warn(f\"Solver status is '{status}'.\", UserWarning)\n"
     ]
    },
    {
     "name": "stdout",
     "output_type": "stream",
     "text": [
      "optimal 5htp production using:  Glycerol 3-phosphate exchange is  1.196551724137932\n",
      "optimal biomass production using:  Glycerol 3-phosphate exchange is  0.2559631989012225\n",
      "optimal 5htp production using:  Galactitol exchange is  1.2499999999999847\n",
      "optimal biomass production using:  Galactitol exchange is  0.31209240731604015\n",
      "optimal 5htp production using:  Glycerol exchange is  1.1446280991735571\n",
      "optimal biomass production using:  Glycerol exchange is  0.23748210150765153\n",
      "optimal 5htp production using:  D-Galacturonate exchange is  1.2499999999999885\n",
      "optimal biomass production using:  D-Galacturonate exchange is  0.31209240731603477\n",
      "optimal 5htp production using:  D-Glucosamine 6-phosphate exchange is  2.1879999999999873\n",
      "optimal biomass production using:  D-Glucosamine 6-phosphate exchange is  0.4521965408437291\n",
      "optimal 5htp production using:  D-Glucosamine exchange is  2.0079999999999973\n",
      "optimal biomass production using:  D-Glucosamine exchange is  0.4289831660570892\n",
      "optimal 5htp production using:  Glycogen exchange is  1.25\n",
      "optimal biomass production using:  Glycogen exchange is  0.31209240731602605\n"
     ]
    },
    {
     "name": "stderr",
     "output_type": "stream",
     "text": [
      "/opt/conda/lib/python3.8/site-packages/cobra/util/solver.py:508: UserWarning: Solver status is 'infeasible'.\n",
      "  warn(f\"Solver status is '{status}'.\", UserWarning)\n"
     ]
    },
    {
     "name": "stdout",
     "output_type": "stream",
     "text": [
      "optimal 5htp production using:  GMP exchange is  2.523489932885906\n",
      "optimal biomass production using:  GMP exchange is  0.5255160412559241\n",
      "optimal 5htp production using:  Guanosine exchange is  2.388\n",
      "optimal biomass production using:  Guanosine exchange is  0.4971898247003374\n"
     ]
    },
    {
     "name": "stderr",
     "output_type": "stream",
     "text": [
      "/opt/conda/lib/python3.8/site-packages/cobra/util/solver.py:508: UserWarning: Solver status is 'infeasible'.\n",
      "  warn(f\"Solver status is '{status}'.\", UserWarning)\n"
     ]
    },
    {
     "name": "stdout",
     "output_type": "stream",
     "text": [
      "optimal 5htp production using:  Oxidized glutathione exchange is  2.5000000000000004\n",
      "optimal biomass production using:  Oxidized glutathione exchange is  0.6174723895518548\n"
     ]
    },
    {
     "name": "stderr",
     "output_type": "stream",
     "text": [
      "/opt/conda/lib/python3.8/site-packages/cobra/util/solver.py:508: UserWarning: Solver status is 'infeasible'.\n",
      "  warn(f\"Solver status is '{status}'.\", UserWarning)\n"
     ]
    },
    {
     "name": "stdout",
     "output_type": "stream",
     "text": [
      "optimal 5htp production using:  Reduced glutathione exchange is  1.2500000000000113\n",
      "optimal biomass production using:  Reduced glutathione exchange is  0.30034155503882803\n",
      "optimal 5htp production using:  Guanine exchange is  0.484259259259259\n",
      "optimal biomass production using:  Guanine exchange is  0.10429009999436152\n"
     ]
    },
    {
     "name": "stderr",
     "output_type": "stream",
     "text": [
      "/opt/conda/lib/python3.8/site-packages/cobra/util/solver.py:508: UserWarning: Solver status is 'infeasible'.\n",
      "  warn(f\"Solver status is '{status}'.\", UserWarning)\n"
     ]
    },
    {
     "name": "stdout",
     "output_type": "stream",
     "text": [
      "optimal 5htp production using:  Hypoxanthine exchange is  0.5921985815602842\n",
      "optimal biomass production using:  Hypoxanthine exchange is  0.13126550972140336\n"
     ]
    },
    {
     "name": "stderr",
     "output_type": "stream",
     "text": [
      "/opt/conda/lib/python3.8/site-packages/cobra/util/solver.py:508: UserWarning: Solver status is 'infeasible'.\n",
      "  warn(f\"Solver status is '{status}'.\", UserWarning)\n",
      "/opt/conda/lib/python3.8/site-packages/cobra/util/solver.py:508: UserWarning: Solver status is 'infeasible'.\n",
      "  warn(f\"Solver status is '{status}'.\", UserWarning)\n"
     ]
    },
    {
     "name": "stdout",
     "output_type": "stream",
     "text": [
      "optimal 5htp production using:  Isocitrate exchange is  1.2500000000000098\n",
      "optimal biomass production using:  Isocitrate exchange is  0.3050052437816671\n",
      "optimal 5htp production using:  L-Isoleucine exchange is  1.2500000000000084\n",
      "optimal biomass production using:  L-Isoleucine exchange is  0.44097774859948885\n",
      "optimal 5htp production using:  Myo-Inositol exchange is  1.2499999999999984\n",
      "optimal biomass production using:  Myo-Inositol exchange is  0.3120924073160393\n",
      "optimal 5htp production using:  Inosine exchange is  2.5066225165562916\n",
      "optimal biomass production using:  Inosine exchange is  0.5247494859726316\n"
     ]
    },
    {
     "name": "stderr",
     "output_type": "stream",
     "text": [
      "/opt/conda/lib/python3.8/site-packages/cobra/util/solver.py:508: UserWarning: Solver status is 'infeasible'.\n",
      "  warn(f\"Solver status is '{status}'.\", UserWarning)\n",
      "/opt/conda/lib/python3.8/site-packages/cobra/util/solver.py:508: UserWarning: Solver status is 'infeasible'.\n",
      "  warn(f\"Solver status is '{status}'.\", UserWarning)\n"
     ]
    },
    {
     "name": "stdout",
     "output_type": "stream",
     "text": [
      "optimal 5htp production using:  L-Histidine exchange is  1.2500000000000016\n",
      "optimal biomass production using:  L-Histidine exchange is  0.3385976163778517\n",
      "optimal 5htp production using:  D-Mannitol exchange is  1.2499999999999962\n",
      "optimal biomass production using:  D-Mannitol exchange is  0.31209240731606064\n",
      "optimal 5htp production using:  L-Lactate exchange is  0.8129629629629627\n",
      "optimal biomass production using:  L-Lactate exchange is  0.18350782324602072\n"
     ]
    },
    {
     "name": "stderr",
     "output_type": "stream",
     "text": [
      "/opt/conda/lib/python3.8/site-packages/cobra/util/solver.py:508: UserWarning: Solver status is 'infeasible'.\n",
      "  warn(f\"Solver status is '{status}'.\", UserWarning)\n",
      "/opt/conda/lib/python3.8/site-packages/cobra/util/solver.py:508: UserWarning: Solver status is 'infeasible'.\n",
      "  warn(f\"Solver status is '{status}'.\", UserWarning)\n",
      "/opt/conda/lib/python3.8/site-packages/cobra/util/solver.py:508: UserWarning: Solver status is 'infeasible'.\n",
      "  warn(f\"Solver status is '{status}'.\", UserWarning)\n"
     ]
    },
    {
     "name": "stdout",
     "output_type": "stream",
     "text": [
      "optimal 5htp production using:  Lactose exchange is  1.2499999999999993\n",
      "optimal biomass production using:  Lactose exchange is  0.3120924073160494\n"
     ]
    },
    {
     "name": "stderr",
     "output_type": "stream",
     "text": [
      "/opt/conda/lib/python3.8/site-packages/cobra/util/solver.py:508: UserWarning: Solver status is 'infeasible'.\n",
      "  warn(f\"Solver status is '{status}'.\", UserWarning)\n",
      "/opt/conda/lib/python3.8/site-packages/cobra/util/solver.py:508: UserWarning: Solver status is 'infeasible'.\n",
      "  warn(f\"Solver status is '{status}'.\", UserWarning)\n"
     ]
    },
    {
     "name": "stdout",
     "output_type": "stream",
     "text": [
      "optimal 5htp production using:  Propionate exchange is  0.8314814814814809\n",
      "optimal biomass production using:  Propionate exchange is  0.18805009609858295\n"
     ]
    },
    {
     "name": "stderr",
     "output_type": "stream",
     "text": [
      "/opt/conda/lib/python3.8/site-packages/cobra/util/solver.py:508: UserWarning: Solver status is 'infeasible'.\n",
      "  warn(f\"Solver status is '{status}'.\", UserWarning)\n",
      "/opt/conda/lib/python3.8/site-packages/cobra/util/solver.py:508: UserWarning: Solver status is 'infeasible'.\n",
      "  warn(f\"Solver status is '{status}'.\", UserWarning)\n",
      "/opt/conda/lib/python3.8/site-packages/cobra/util/solver.py:508: UserWarning: Solver status is 'infeasible'.\n",
      "  warn(f\"Solver status is '{status}'.\", UserWarning)\n"
     ]
    },
    {
     "name": "stdout",
     "output_type": "stream",
     "text": [
      "optimal 5htp production using:  Alpha Methyl D glucoside exchange is  1.2500000000000122\n",
      "optimal biomass production using:  Alpha Methyl D glucoside exchange is  0.3120924073160413\n",
      "optimal 5htp production using:  D-Malate exchange is  0.8314814814814803\n",
      "optimal biomass production using:  D-Malate exchange is  0.18805009609875312\n",
      "optimal 5htp production using:  L-Malate exchange is  0.9055555555555558\n",
      "optimal biomass production using:  L-Malate exchange is  0.19307671395353204\n",
      "optimal 5htp production using:  Maltose exchange is  1.250000000000019\n",
      "optimal biomass production using:  Maltose exchange is  0.31209240731602345\n",
      "optimal 5htp production using:  L-Proline exchange is  1.2500000000000004\n",
      "optimal biomass production using:  L-Proline exchange is  0.3602970933944033\n"
     ]
    },
    {
     "name": "stderr",
     "output_type": "stream",
     "text": [
      "/opt/conda/lib/python3.8/site-packages/cobra/util/solver.py:508: UserWarning: Solver status is 'infeasible'.\n",
      "  warn(f\"Solver status is '{status}'.\", UserWarning)\n"
     ]
    },
    {
     "name": "stdout",
     "output_type": "stream",
     "text": [
      "optimal 5htp production using:  Maltotriose exchange is  1.2500000000000095\n",
      "optimal biomass production using:  Maltotriose exchange is  0.3120924073160482\n",
      "optimal 5htp production using:  D O Phosphoserine exchange is  0.7018518518518547\n",
      "optimal biomass production using:  D O Phosphoserine exchange is  0.15625418613027192\n",
      "optimal 5htp production using:  D Mannose 1 phosphate exchange is  1.2500000000000218\n",
      "optimal biomass production using:  D Mannose 1 phosphate exchange is  0.3120924073160431\n",
      "optimal 5htp production using:  O-Phospho-L-serine exchange is  0.8450413223140487\n",
      "optimal biomass production using:  O-Phospho-L-serine exchange is  0.17741853497847873\n",
      "optimal 5htp production using:  D-Mannose 6-phosphate exchange is  1.2499999999999976\n",
      "optimal biomass production using:  D-Mannose 6-phosphate exchange is  0.31209240731605187\n",
      "optimal 5htp production using:  D-Mannose exchange is  1.250000000000006\n",
      "optimal biomass production using:  D-Mannose exchange is  0.3120924073160439\n",
      "optimal 5htp production using:  Ornithine exchange is  1.2500000000000018\n",
      "optimal biomass production using:  Ornithine exchange is  0.3605690784160803\n",
      "optimal 5htp production using:  Beta Methylglucoside exchange is  1.2499999999999987\n",
      "optimal biomass production using:  Beta Methylglucoside exchange is  0.31209240731603977\n",
      "optimal 5htp production using:  Melibiose exchange is  1.2499999999999962\n",
      "optimal biomass production using:  Melibiose exchange is  0.31209240731604526\n"
     ]
    },
    {
     "name": "stderr",
     "output_type": "stream",
     "text": [
      "/opt/conda/lib/python3.8/site-packages/cobra/util/solver.py:508: UserWarning: Solver status is 'infeasible'.\n",
      "  warn(f\"Solver status is '{status}'.\", UserWarning)\n"
     ]
    },
    {
     "name": "stdout",
     "output_type": "stream",
     "text": [
      "optimal 5htp production using:  Palatinose exchange is  1.2499999999999998\n",
      "optimal biomass production using:  Palatinose exchange is  0.31209240731603893\n"
     ]
    },
    {
     "name": "stderr",
     "output_type": "stream",
     "text": [
      "/opt/conda/lib/python3.8/site-packages/cobra/util/solver.py:508: UserWarning: Solver status is 'infeasible'.\n",
      "  warn(f\"Solver status is '{status}'.\", UserWarning)\n",
      "/opt/conda/lib/python3.8/site-packages/cobra/util/solver.py:508: UserWarning: Solver status is 'infeasible'.\n",
      "  warn(f\"Solver status is '{status}'.\", UserWarning)\n"
     ]
    },
    {
     "name": "stdout",
     "output_type": "stream",
     "text": [
      "optimal 5htp production using:  Phosphoenolpyruvate exchange is  0.8450413223140496\n",
      "optimal biomass production using:  Phosphoenolpyruvate exchange is  0.17741853497848264\n",
      "optimal 5htp production using:  Pyruvate exchange is  0.6833333333333337\n",
      "optimal biomass production using:  Pyruvate exchange is  0.15171191327766606\n"
     ]
    },
    {
     "name": "stderr",
     "output_type": "stream",
     "text": [
      "/opt/conda/lib/python3.8/site-packages/cobra/util/solver.py:508: UserWarning: Solver status is 'infeasible'.\n",
      "  warn(f\"Solver status is '{status}'.\", UserWarning)\n"
     ]
    },
    {
     "name": "stdout",
     "output_type": "stream",
     "text": [
      "optimal 5htp production using:  Raffinose exchange is  1.2500000000000095\n",
      "optimal biomass production using:  Raffinose exchange is  0.3120924073160469\n"
     ]
    },
    {
     "name": "stderr",
     "output_type": "stream",
     "text": [
      "/opt/conda/lib/python3.8/site-packages/cobra/util/solver.py:508: UserWarning: Solver status is 'infeasible'.\n",
      "  warn(f\"Solver status is '{status}'.\", UserWarning)\n"
     ]
    },
    {
     "name": "stdout",
     "output_type": "stream",
     "text": [
      "optimal 5htp production using:  D-Ribose exchange is  1.2500000000000013\n",
      "optimal biomass production using:  D-Ribose exchange is  0.3120924073160475\n",
      "optimal 5htp production using:  L Sorbose exchange is  1.2499999999999984\n",
      "optimal biomass production using:  L Sorbose exchange is  0.3120924073160477\n"
     ]
    },
    {
     "name": "stderr",
     "output_type": "stream",
     "text": [
      "/opt/conda/lib/python3.8/site-packages/cobra/util/solver.py:508: UserWarning: Solver status is 'infeasible'.\n",
      "  warn(f\"Solver status is '{status}'.\", UserWarning)\n"
     ]
    },
    {
     "name": "stdout",
     "output_type": "stream",
     "text": [
      "optimal 5htp production using:  Starch exchange is  1.25\n",
      "optimal biomass production using:  Starch exchange is  0.31209240731604\n",
      "optimal 5htp production using:  UMP exchange is  1.2500000000000024\n",
      "optimal biomass production using:  UMP exchange is  0.3218954025340525\n",
      "optimal 5htp production using:  L-Rhamnose exchange is  1.250000000000003\n",
      "optimal biomass production using:  L-Rhamnose exchange is  0.3120924073162302\n"
     ]
    },
    {
     "name": "stderr",
     "output_type": "stream",
     "text": [
      "/opt/conda/lib/python3.8/site-packages/cobra/util/solver.py:508: UserWarning: Solver status is 'infeasible'.\n",
      "  warn(f\"Solver status is '{status}'.\", UserWarning)\n",
      "/opt/conda/lib/python3.8/site-packages/cobra/util/solver.py:508: UserWarning: Solver status is 'infeasible'.\n",
      "  warn(f\"Solver status is '{status}'.\", UserWarning)\n"
     ]
    },
    {
     "name": "stdout",
     "output_type": "stream",
     "text": [
      "optimal 5htp production using:  Succinate exchange is  0.9981481481481493\n",
      "optimal biomass production using:  Succinate exchange is  0.21639515766773065\n",
      "optimal 5htp production using:  Salicin exchange is  1.249999999999993\n",
      "optimal biomass production using:  Salicin exchange is  0.3120924073160568\n",
      "optimal 5htp production using:  Urate exchange is  0.32334710743801637\n",
      "optimal biomass production using:  Urate exchange is  0.06653195061692996\n",
      "optimal 5htp production using:  D-Sorbitol exchange is  1.2499999999999982\n",
      "optimal biomass production using:  D-Sorbitol exchange is  0.31209240731606064\n",
      "optimal 5htp production using:  Sucrose exchange is  1.250000000000002\n",
      "optimal biomass production using:  Sucrose exchange is  0.3120924073160505\n"
     ]
    },
    {
     "name": "stderr",
     "output_type": "stream",
     "text": [
      "/opt/conda/lib/python3.8/site-packages/cobra/util/solver.py:508: UserWarning: Solver status is 'infeasible'.\n",
      "  warn(f\"Solver status is '{status}'.\", UserWarning)\n"
     ]
    },
    {
     "name": "stdout",
     "output_type": "stream",
     "text": [
      "optimal 5htp production using:  Uridine exchange is  1.2499999999999978\n",
      "optimal biomass production using:  Uridine exchange is  0.32189540253534393\n"
     ]
    },
    {
     "name": "stderr",
     "output_type": "stream",
     "text": [
      "/opt/conda/lib/python3.8/site-packages/cobra/util/solver.py:508: UserWarning: Solver status is 'infeasible'.\n",
      "  warn(f\"Solver status is '{status}'.\", UserWarning)\n"
     ]
    },
    {
     "name": "stdout",
     "output_type": "stream",
     "text": [
      "optimal 5htp production using:  D-Serine exchange is  0.6833333333333321\n",
      "optimal biomass production using:  D-Serine exchange is  0.15171191327764666\n",
      "optimal 5htp production using:  L-Valine exchange is  1.2500000000000027\n",
      "optimal biomass production using:  L-Valine exchange is  0.3304111694317756\n",
      "optimal 5htp production using:  L-Serine exchange is  0.7041984732824426\n",
      "optimal biomass production using:  L-Serine exchange is  0.15279346346781988\n",
      "optimal 5htp production using:  Xanthine exchange is  0.4657407407407401\n",
      "optimal biomass production using:  Xanthine exchange is  0.0994319148972034\n",
      "optimal 5htp production using:  Xanthosine exchange is  2.3680000000000034\n",
      "optimal biomass production using:  Xanthosine exchange is  0.491512936537022\n"
     ]
    },
    {
     "name": "stderr",
     "output_type": "stream",
     "text": [
      "/opt/conda/lib/python3.8/site-packages/cobra/util/solver.py:508: UserWarning: Solver status is 'infeasible'.\n",
      "  warn(f\"Solver status is '{status}'.\", UserWarning)\n"
     ]
    },
    {
     "name": "stdout",
     "output_type": "stream",
     "text": [
      "optimal 5htp production using:  D-Xylose exchange is  1.2499999999999867\n",
      "optimal biomass production using:  D-Xylose exchange is  0.3120924073160383\n"
     ]
    },
    {
     "name": "stderr",
     "output_type": "stream",
     "text": [
      "/opt/conda/lib/python3.8/site-packages/cobra/util/solver.py:508: UserWarning: Solver status is 'infeasible'.\n",
      "  warn(f\"Solver status is '{status}'.\", UserWarning)\n"
     ]
    },
    {
     "name": "stdout",
     "output_type": "stream",
     "text": [
      "optimal 5htp production using:  L-Threonine exchange is  0.6250000000000004\n",
      "optimal biomass production using:  L-Threonine exchange is  0.22598630785566465\n"
     ]
    },
    {
     "name": "stderr",
     "output_type": "stream",
     "text": [
      "/opt/conda/lib/python3.8/site-packages/cobra/util/solver.py:508: UserWarning: Solver status is 'infeasible'.\n",
      "  warn(f\"Solver status is '{status}'.\", UserWarning)\n"
     ]
    },
    {
     "name": "stdout",
     "output_type": "stream",
     "text": [
      "optimal 5htp production using:  Thymidine exchange is  1.2499999999999951\n",
      "optimal biomass production using:  Thymidine exchange is  0.313907955658117\n",
      "optimal 5htp production using:  Trehalose exchange is  1.2499999999999951\n",
      "optimal biomass production using:  Trehalose exchange is  0.31209240731604143\n"
     ]
    },
    {
     "name": "stderr",
     "output_type": "stream",
     "text": [
      "/opt/conda/lib/python3.8/site-packages/cobra/util/solver.py:508: UserWarning: Solver status is 'infeasible'.\n",
      "  warn(f\"Solver status is '{status}'.\", UserWarning)\n",
      "/opt/conda/lib/python3.8/site-packages/cobra/util/solver.py:508: UserWarning: Solver status is 'infeasible'.\n",
      "  warn(f\"Solver status is '{status}'.\", UserWarning)\n"
     ]
    },
    {
     "name": "stdout",
     "output_type": "stream",
     "text": [
      "number of carbon sources which could improve 5-htp production:  114\n"
     ]
    }
   ],
   "source": [
    "# getting the max fluxes of 5-htp and biomass production on glucose\n",
    "medium = model.medium\n",
    "model.objective = {model.reactions.DM_hydroxy_trp: 0.5}\n",
    "solution = model.optimize()\n",
    "glucose_max_5htp = solution.objective_value\n",
    "model.objective = {model.reactions.BIOMASS_BS_10: 0.5}\n",
    "solution = model.optimize()\n",
    "glucose_max_biomass = solution.objective_value\n",
    "count = 0\n",
    "\n",
    "#replace glucose with each exchange reaction from the possible carbon source reactions\n",
    "for reaction in carbon_uptake:\n",
    "    # resetting the media after each change\n",
    "    medium = model.medium\n",
    "    with model:\n",
    "        # setting the medium to the new carbon source\n",
    "        medium['EX_glc__D_e'] = 0\n",
    "        medium[reaction] = 10\n",
    "        model.medium = medium\n",
    "        # calculating max production of 5-htp and biomass\n",
    "        model.objective = {model.reactions.DM_hydroxy_trp: 0.5}\n",
    "        solution = model.optimize()\n",
    "        max_5HTP_production = solution.objective_value\n",
    "        model.objective = {model.reactions.BIOMASS_BS_10: 0.5}\n",
    "        solution = model.optimize()\n",
    "        max_biomass_production = solution.objective_value\n",
    "        # If the production is higher for both biomass and 5-htp production than using glucose as carbon source, then we print it\n",
    "        if max_5HTP_production > glucose_max_5htp and max_biomass_production > glucose_max_biomass:\n",
    "            count += 1\n",
    "            print(\"optimal 5htp production using: \", model.reactions.get_by_id(reaction).name, \"is \", max_5HTP_production)\n",
    "            print(\"optimal biomass production using: \", model.reactions.get_by_id(reaction).name, \"is \", max_biomass_production)\n",
    "print(\"number of carbon sources which could improve 5-htp production: \", count)"
   ]
  },
  {
   "cell_type": "code",
   "execution_count": null,
   "metadata": {},
   "outputs": [],
   "source": []
  },
  {
   "cell_type": "markdown",
   "metadata": {},
   "source": [
    "## Yield calculations"
   ]
  },
  {
   "cell_type": "markdown",
   "metadata": {},
   "source": [
    "**Calculating the max theoretical yeild of 5-HTP**"
   ]
  },
  {
   "cell_type": "code",
   "execution_count": 55,
   "metadata": {},
   "outputs": [],
   "source": [
    "from cobra.flux_analysis import flux_variability_analysis"
   ]
  },
  {
   "cell_type": "code",
   "execution_count": 21,
   "metadata": {},
   "outputs": [
    {
     "name": "stdout",
     "output_type": "stream",
     "text": [
      "the flux of 5htp production:  0.5776145203111523 [mmol gDW^-1 h^-1]\n",
      "The molar yield of 5htp  0.3397732472418543 [mmol-5htp / mmol-glc]\n",
      "The mass yield of 5htp  0.013480760412122697 [g-5htp / g-glc]\n",
      "The c-cmol yield of 5thp  0.02021752909902537 [cmol-5htp / cmol-glc]\n"
     ]
    }
   ],
   "source": [
    "with model:\n",
    "    # calculating max yield of 5-HTP\n",
    "    model.objective = model.reactions.DM_hydroxy_trp\n",
    "    max_5htp_production = model.optimize().objective_value\n",
    "    substrate_flux = solution.fluxes['EX_glc__D_e']\n",
    "    print(\"the flux of 5htp production: \",max_5htp_production , \"[mmol gDW^-1 h^-1]\")\n",
    "    # calculating molar yield\n",
    "    molar_yield_5htp = max_5htp_production / (-1. * substrate_flux)\n",
    "    print(\"The molar yield of 5htp \", molar_yield_5htp, \"[mmol-5htp / mmol-glc]\")\n",
    "    # Defining mass yield\n",
    "    M_5htp = 0.22023 # g/mmol\n",
    "    M_glc = 0.180156 # g/mmol\n",
    "    mass_yield_5htp = max_5htp_production * M_5htp / (-1. * solution.fluxes['EX_glc__D_e'])*M_glc\n",
    "    print(\"The mass yield of 5htp \", mass_yield_5htp , \"[g-5htp / g-glc]\")\n",
    "    # calculating cmol yield\n",
    "    # 5HTP: C11H12N2O3\n",
    "    cmol_5htp = M_5htp/11\n",
    "    # glucose: C6H12O6 \n",
    "    cmol_glc = M_glc/6\n",
    "    cmol_yield_5htp = mass_yield_5htp * (cmol_glc / cmol_5htp)\n",
    "    print(\"The c-cmol yield of 5thp \", cmol_yield_5htp, \"[cmol-5htp / cmol-glc]\")\n",
    "    "
   ]
  },
  {
   "cell_type": "code",
   "execution_count": 27,
   "metadata": {},
   "outputs": [
    {
     "name": "stdout",
     "output_type": "stream",
     "text": [
      "the flux of 5htp production:  0.2590090090090087 [mmol gDW^-1 h^-1]\n",
      "The molar yield of 5htp  0.15235824059353453 [mmol-5htp / mmol-glyc]\n",
      "The mass yield of 5htp  0.0030899745369634304 [g-5htp / g-glyc]\n",
      "The c-cmol yield of 5thp  0.004737642928148733 [cmol-5htp / cmol-glyc]\n"
     ]
    }
   ],
   "source": [
    "medium = model.medium\n",
    "with model:\n",
    "    #replace glucose with glycerol\n",
    "    medium['EX_glc__D_e'] = 0\n",
    "    medium[\"EX_glyc_e\"] = 1.7\n",
    "    model.medium = medium\n",
    "    model.objective = model.reactions.DM_hydroxy_trp\n",
    "    solution = model.optimize()\n",
    "    print(\"the flux of 5htp production: \",solution.fluxes[\"DM_hydroxy_trp\"] , \"[mmol gDW^-1 h^-1]\")\n",
    "    molar_yield_5htp = solution.fluxes['DM_hydroxy_trp'] / (-1. * solution.fluxes['EX_glyc_e'])\n",
    "    print(\"The molar yield of 5htp \", molar_yield_5htp, \"[mmol-5htp / mmol-glyc]\")\n",
    "    # calculating mass yield\n",
    "    M_5htp = 220.23/1000 # g/mmol\n",
    "    M_glyc = 92.09/1000 # g/mmol\n",
    "    mass_yield_5htp = solution.fluxes['DM_hydroxy_trp']* M_5htp / (-1. * solution.fluxes['EX_glyc_e'])* M_glyc\n",
    "    print(\"The mass yield of 5htp \", mass_yield_5htp , \"[g-5htp / g-glyc]\")\n",
    "    # calculating cmol yield\n",
    "    # 5HTP: C11H12N2O3\n",
    "    cmol_5htp = M_5htp/11\n",
    "    # glycerol: C3H8O3 \n",
    "    cmol_glyc = M_glyc/3\n",
    "    cmol_yield_5htp = mass_yield_5htp * (cmol_glyc / cmol_5htp)\n",
    "    print(\"The c-cmol yield of 5thp \", cmol_yield_5htp, \"[cmol-5htp / cmol-glyc]\")"
   ]
  },
  {
   "cell_type": "markdown",
   "metadata": {},
   "source": [
    "**Calculating yield at 50% growth**"
   ]
  },
  {
   "cell_type": "code",
   "execution_count": 24,
   "metadata": {},
   "outputs": [
    {
     "name": "stdout",
     "output_type": "stream",
     "text": [
      "the flux of 5htp production:  0.2888072601555745 [mmol gDW^-1 h^-1]\n",
      "The molar yield of 5htp  0.16988662362092619 [mmol-5htp / mmol-Sub]\n",
      "The mass yield of 5htp  0.0067403802060613085 [g-5htp / g-Sub]\n",
      "The c-cmol yield of 5thp  0.010108764549512626 [cmol-5htp / cmol-Sub]\n",
      "the flux of biomass production:  0.058983194661199466 [mmol gDW^-1 h^-1]\n",
      "The molar yield of biomass  0.0346959968595291 [mmol-X / mmol-Sub]\n",
      "The mass yield of biomass  0.00015376702345154297 [g-X / g-Sub]\n",
      "The c-cmol yield of biomass  0.00018768327829902557 [cmol-X / cmol-Sub]\n"
     ]
    }
   ],
   "source": [
    "# Calculating the yield of 5-HTP and biomass on glucose carbon source\n",
    "medium = model.medium\n",
    "\n",
    "with model:\n",
    "    # calculating flux towards 5-HTP production at 50% growth\n",
    "    model.objective = {model.reactions.DM_hydroxy_trp: 0.5}\n",
    "    solution = model.optimize()\n",
    "    glucose_max_5htp = solution.objective_value\n",
    "    substrate_flux = solution.fluxes['EX_glc__D_e']\n",
    "    print(\"the flux of 5htp production: \",glucose_max_5htp, \"[mmol gDW^-1 h^-1]\")\n",
    "    molar_yield_5htp = glucose_max_5htp / (-1. * substrate_flux)\n",
    "    print(\"The molar yield of 5htp \", molar_yield_5htp, \"[mmol-5htp / mmol-Sub]\")\n",
    "    # defining mass yield\n",
    "    M_5htp = 220.23/1000 # g/mmol\n",
    "    M_glc = 180.156/1000 # g/mmol\n",
    "    glucose_mass_yield_5htp = glucose_max_5htp*M_5htp / (-1. * substrate_flux)*M_glc\n",
    "    print(\"The mass yield of 5htp \", glucose_mass_yield_5htp , \"[g-5htp / g-Sub]\")\n",
    "    # calculating cmol yield\n",
    "    # 5HTP: C11H12N2O3\n",
    "    cmol_5htp = M_5htp/11\n",
    "    # glucose: C6H12O6 \n",
    "    cmol_glc = M_glc/6\n",
    "    cmol_yield_5htp = glucose_mass_yield_5htp * (cmol_glc / cmol_5htp)\n",
    "    print(\"The c-cmol yield of 5thp \", cmol_yield_5htp, \"[cmol-5htp / cmol-Sub]\")\n",
    "    # Calculating flux and yield of biomass\n",
    "    model.objective = {model.reactions.BIOMASS_BS_10: 0.5}\n",
    "    solution = model.optimize()\n",
    "    glucose_max_biomass = solution.objective_value\n",
    "    print(\"the flux of biomass production: \",glucose_max_biomass, \"[mmol gDW^-1 h^-1]\")\n",
    "    molar_yield_biomass = glucose_max_biomass / (-1. * substrate_flux)\n",
    "    print(\"The molar yield of biomass \", molar_yield_biomass, \"[mmol-X / mmol-Sub]\")\n",
    "    # calculating mass yield\n",
    "    # standard biomass CH1.8O0.5N0.2\n",
    "    M_biomass = (12 + 1*1.8 + 16*0.5 + 14*0.2)/1000 # g/mmol\n",
    "    glucose_mass_yield_biomass = glucose_max_biomass*M_biomass / (-1. * substrate_flux)*M_glc\n",
    "    print(\"The mass yield of biomass \", glucose_mass_yield_biomass , \"[g-X / g-Sub]\")\n",
    "    cmol_biomass = M_biomass/1\n",
    "    cmol_yield_5htp = glucose_mass_yield_biomass * (cmol_glc / cmol_biomass)\n",
    "    print(\"The c-cmol yield of biomass \", cmol_yield_5htp, \"[cmol-X / cmol-Sub]\")\n",
    "    "
   ]
  },
  {
   "cell_type": "markdown",
   "metadata": {},
   "source": [
    "**Replace glucose with glycerol**"
   ]
  },
  {
   "cell_type": "code",
   "execution_count": 29,
   "metadata": {},
   "outputs": [
    {
     "name": "stdout",
     "output_type": "stream",
     "text": [
      "the flux of 5htp production:  0.1295045045045031 [mmol gDW^-1 h^-1]\n",
      "The molar yield of 5htp  0.07617912029676653 [mmol-5htp / mmol-Sub]\n",
      "The mass yield of 5htp  0.0015449872684817002 [g-5htp / g-Sub]\n",
      "The c-cmol yield of 5thp  0.0023688214640743433 [cmol-5htp / cmol-Sub]\n",
      "the flux of biomass production:  0.02656657750328796 [mmol gDW^-1 h^-1]\n",
      "The molar yield of biomass  0.01562739853134586 [mmol-X / mmol-Sub]\n",
      "The mass yield of biomass  3.540252741649035e-05 [g-X / g-Sub]\n",
      "The c-cmol yield of biomass  4.417640582363951e-05 [cmol-X / cmol-Sub]\n"
     ]
    }
   ],
   "source": [
    "medium = model.medium\n",
    "\n",
    "with model:\n",
    "    #replace glucose with glycerol\n",
    "    medium['EX_glc__D_e'] = 0\n",
    "    medium[\"EX_glyc_e\"] = 1.7\n",
    "    model.medium = medium\n",
    "    \n",
    "    # calculating flux towards 5-HTP production at 50% growth\n",
    "    model.objective = {model.reactions.DM_hydroxy_trp: 0.5}\n",
    "    solution = model.optimize()\n",
    "    hydroxy_trp_50 = solution.objective_value\n",
    "    substrate_flux = solution.fluxes['EX_glyc_e']\n",
    "    print(\"the flux of 5htp production: \",hydroxy_trp_50, \"[mmol gDW^-1 h^-1]\")\n",
    "    molar_yield_5htp = hydroxy_trp_50 / (-1. * substrate_flux)\n",
    "    print(\"The molar yield of 5htp \", molar_yield_5htp, \"[mmol-5htp / mmol-Sub]\")\n",
    "    \n",
    "    # calculating mass yield\n",
    "    M_5htp = 220.23/1000 # g/mmol\n",
    "    M_sub = 92.09/1000 # g/mmol\n",
    "    mass_yield_5htp = hydroxy_trp_50*M_5htp / (-1. * substrate_flux)*M_sub\n",
    "    print(\"The mass yield of 5htp \", mass_yield_5htp , \"[g-5htp / g-Sub]\")\n",
    "    \n",
    "    # calculating cmol yield\n",
    "    # 5HTP: C11H12N2O3\n",
    "    cmol_5htp = M_5htp/11\n",
    "    # glycerol: C3H8O3 \n",
    "    cmol_sub = M_sub/3\n",
    "    cmol_yield_5htp = mass_yield_5htp * (cmol_sub / cmol_5htp)\n",
    "    print(\"The c-cmol yield of 5thp \", cmol_yield_5htp, \"[cmol-5htp / cmol-Sub]\")\n",
    "    \n",
    "    # Calculating flux and yield of biomass\n",
    "    model.objective = {model.reactions.BIOMASS_BS_10: 0.5}\n",
    "    solution = model.optimize()\n",
    "    biomass_50 = solution.objective_value\n",
    "    print(\"the flux of biomass production: \",biomass_50, \"[mmol gDW^-1 h^-1]\")\n",
    "    molar_yield_biomass = biomass_50 / (-1. * substrate_flux)\n",
    "    print(\"The molar yield of biomass \", molar_yield_biomass, \"[mmol-X / mmol-Sub]\")\n",
    "    \n",
    "    # calculating mass yield\n",
    "    # standard biomass CH1.8O0.5N0.2\n",
    "    M_biomass = (12 + 1*1.8 + 16*0.5 + 14*0.2)/1000 # g/mmol\n",
    "    mass_yield_biomass = biomass_50*M_biomass / (-1. * substrate_flux)*M_sub\n",
    "    print(\"The mass yield of biomass \", mass_yield_biomass , \"[g-X / g-Sub]\")\n",
    "    cmol_biomass = M_biomass/1\n",
    "    cmol_yield_5htp = mass_yield_biomass * (cmol_sub / cmol_biomass)\n",
    "    print(\"The c-cmol yield of biomass \", cmol_yield_5htp, \"[cmol-X / cmol-Sub]\")\n",
    "    "
   ]
  },
  {
   "cell_type": "markdown",
   "metadata": {},
   "source": [
    "**Replace glucose with sucrose**"
   ]
  },
  {
   "cell_type": "code",
   "execution_count": 28,
   "metadata": {},
   "outputs": [
    {
     "name": "stdout",
     "output_type": "stream",
     "text": [
      "the flux of 5htp production:  0.6488000000000002 [mmol gDW^-1 h^-1]\n",
      "The molar yield of 5htp  0.3816470588235295 [mmol-5htp / mmol-Sub]\n",
      "The mass yield of 5htp  0.02876951960174119 [g-5htp / g-Sub]\n",
      "The c-cmol yield of 5thp  0.04098847701239611 [cmol-5htp / cmol-Sub]\n",
      "the flux of biomass production:  0.13465974630198455 [mmol gDW^-1 h^-1]\n",
      "The molar yield of biomass  0.07921161547175562 [mmol-X / mmol-Sub]\n",
      "The mass yield of biomass  0.00066698825895175 [g-X / g-Sub]\n",
      "The c-cmol yield of biomass  0.0007733855391483554 [cmol-X / cmol-Sub]\n"
     ]
    }
   ],
   "source": [
    "medium = model.medium\n",
    "\n",
    "with model:\n",
    "    #replace glucose with sucrose\n",
    "    medium['EX_glc__D_e'] = 0\n",
    "    medium[\"EX_sucr_e\"] = 1.7\n",
    "    model.medium = medium\n",
    "    \n",
    "    # calculating flux towards 5-HTP production at 50% growth\n",
    "    model.objective = {model.reactions.DM_hydroxy_trp: 0.5}\n",
    "    solution = model.optimize()\n",
    "    hydroxy_trp_50 = solution.objective_value\n",
    "    substrate_flux = solution.fluxes['EX_sucr_e']\n",
    "    print(\"the flux of 5htp production: \",hydroxy_trp_50, \"[mmol gDW^-1 h^-1]\")\n",
    "    molar_yield_5htp = hydroxy_trp_50 / (-1. * substrate_flux)\n",
    "    print(\"The molar yield of 5htp \", molar_yield_5htp, \"[mmol-5htp / mmol-Sub]\")\n",
    "    \n",
    "    # calculating mass yield\n",
    "    M_5htp = 220.23/1000 # g/mmol\n",
    "    # mass of sucrose\n",
    "    M_sub = 342.29/1000 # g/mmol\n",
    "    mass_yield_5htp = hydroxy_trp_50*M_5htp / (-1. * substrate_flux)*M_sub\n",
    "    print(\"The mass yield of 5htp \", mass_yield_5htp , \"[g-5htp / g-Sub]\")\n",
    "    \n",
    "    # calculating cmol yield\n",
    "    # 5HTP: C11H12N2O3\n",
    "    cmol_5htp = M_5htp/11\n",
    "    # sucrose: C12H22O11 \n",
    "    cmol_sub = M_sub/12\n",
    "    cmol_yield_5htp = mass_yield_5htp * (cmol_sub / cmol_5htp)\n",
    "    print(\"The c-cmol yield of 5thp \", cmol_yield_5htp, \"[cmol-5htp / cmol-Sub]\")\n",
    "    \n",
    "    # Calculating flux and yield of biomass\n",
    "    model.objective = {model.reactions.BIOMASS_BS_10: 0.5}\n",
    "    solution = model.optimize()\n",
    "    biomass_50 = solution.objective_value\n",
    "    print(\"the flux of biomass production: \",biomass_50, \"[mmol gDW^-1 h^-1]\")\n",
    "    molar_yield_biomass = biomass_50 / (-1. * substrate_flux)\n",
    "    print(\"The molar yield of biomass \", molar_yield_biomass, \"[mmol-X / mmol-Sub]\")\n",
    "    \n",
    "    # calculating mass yield\n",
    "    # standard biomass CH1.8O0.5N0.2\n",
    "    M_biomass = (12 + 1*1.8 + 16*0.5 + 14*0.2)/1000 # g/mmol\n",
    "    mass_yield_biomass = biomass_50*M_biomass / (-1. * substrate_flux)*M_sub\n",
    "    print(\"The mass yield of biomass \", mass_yield_biomass , \"[g-X / g-Sub]\")\n",
    "    cmol_biomass = M_biomass/1\n",
    "    cmol_yield_5htp = mass_yield_biomass * (cmol_sub / cmol_biomass)\n",
    "    print(\"The c-cmol yield of biomass \", cmol_yield_5htp, \"[cmol-X / cmol-Sub]\")\n",
    "    "
   ]
  },
  {
   "cell_type": "markdown",
   "metadata": {},
   "source": [
    "**Replace glucose with lactose**"
   ]
  },
  {
   "cell_type": "code",
   "execution_count": 30,
   "metadata": {},
   "outputs": [
    {
     "name": "stdout",
     "output_type": "stream",
     "text": [
      "the flux of 5htp production:  0.6477797513321562 [mmol gDW^-1 h^-1]\n",
      "The molar yield of 5htp  0.3810469125483272 [mmol-5htp / mmol-Sub]\n",
      "The mass yield of 5htp  0.028725118238742343 [g-5htp / g-Sub]\n",
      "The c-cmol yield of 5thp  0.04092641318331462 [cmol-5htp / cmol-Sub]\n",
      "the flux of biomass production:  0.1315065566502862 [mmol gDW^-1 h^-1]\n",
      "The molar yield of biomass  0.07735679802958012 [mmol-X / mmol-Sub]\n",
      "The mass yield of biomass  0.0006513891063519218 [g-X / g-Sub]\n",
      "The c-cmol yield of biomass  0.0007553200918166084 [cmol-X / cmol-Sub]\n"
     ]
    }
   ],
   "source": [
    "medium = model.medium\n",
    "\n",
    "with model:\n",
    "    #replace glucose with lactose\n",
    "    medium['EX_glc__D_e'] = 0\n",
    "    medium[\"EX_lcts_e\"] = 1.7\n",
    "    model.medium = medium\n",
    "    \n",
    "    # calculating flux towards 5-HTP production at 50% growth\n",
    "    model.objective = {model.reactions.DM_hydroxy_trp: 0.5}\n",
    "    solution = model.optimize()\n",
    "    hydroxy_trp_50 = solution.objective_value\n",
    "    substrate_flux = solution.fluxes['EX_lcts_e']\n",
    "    print(\"the flux of 5htp production: \",hydroxy_trp_50, \"[mmol gDW^-1 h^-1]\")\n",
    "    molar_yield_5htp = hydroxy_trp_50 / (-1. * substrate_flux)\n",
    "    print(\"The molar yield of 5htp \", molar_yield_5htp, \"[mmol-5htp / mmol-Sub]\")\n",
    "    \n",
    "    # calculating mass yield\n",
    "    M_5htp = 220.23/1000 # g/mmol\n",
    "    # mass of lactose\n",
    "    M_sub = 342.3/1000 # g/mmol\n",
    "    mass_yield_5htp = hydroxy_trp_50*M_5htp / (-1. * substrate_flux)*M_sub\n",
    "    print(\"The mass yield of 5htp \", mass_yield_5htp , \"[g-5htp / g-Sub]\")\n",
    "    \n",
    "    # calculating cmol yield\n",
    "    # 5HTP: C11H12N2O3\n",
    "    cmol_5htp = M_5htp/11\n",
    "    # lactose: C12H22O11 \n",
    "    cmol_sub = M_sub/12\n",
    "    cmol_yield_5htp = mass_yield_5htp * (cmol_sub / cmol_5htp)\n",
    "    print(\"The c-cmol yield of 5thp \", cmol_yield_5htp, \"[cmol-5htp / cmol-Sub]\")\n",
    "    \n",
    "    # Calculating flux and yield of biomass\n",
    "    model.objective = {model.reactions.BIOMASS_BS_10: 0.5}\n",
    "    solution = model.optimize()\n",
    "    biomass_50 = solution.objective_value\n",
    "    print(\"the flux of biomass production: \",biomass_50, \"[mmol gDW^-1 h^-1]\")\n",
    "    molar_yield_biomass = biomass_50 / (-1. * substrate_flux)\n",
    "    print(\"The molar yield of biomass \", molar_yield_biomass, \"[mmol-X / mmol-Sub]\")\n",
    "    \n",
    "    # calculating mass yield\n",
    "    # standard biomass CH1.8O0.5N0.2\n",
    "    M_biomass = (12 + 1*1.8 + 16*0.5 + 14*0.2)/1000 # g/mmol\n",
    "    mass_yield_biomass = biomass_50*M_biomass / (-1. * substrate_flux)*M_sub\n",
    "    print(\"The mass yield of biomass \", mass_yield_biomass , \"[g-X / g-Sub]\")\n",
    "    cmol_biomass = M_biomass/1\n",
    "    cmol_yield_5htp = mass_yield_biomass * (cmol_sub / cmol_biomass)\n",
    "    print(\"The c-cmol yield of biomass \", cmol_yield_5htp, \"[cmol-X / cmol-Sub]\")\n",
    "    "
   ]
  },
  {
   "cell_type": "markdown",
   "metadata": {},
   "source": [
    "**Replace glucose with galactose**"
   ]
  },
  {
   "cell_type": "code",
   "execution_count": 31,
   "metadata": {},
   "outputs": [
    {
     "name": "stdout",
     "output_type": "stream",
     "text": [
      "the flux of 5htp production:  0.28769982238010666 [mmol gDW^-1 h^-1]\n",
      "The molar yield of 5htp  0.16923518963535686 [mmol-5htp / mmol-Sub]\n",
      "The mass yield of 5htp  0.006714683152941178 [g-5htp / g-Sub]\n",
      "The c-cmol yield of 5thp  0.005035224721568628 [cmol-5htp / cmol-Sub]\n",
      "the flux of biomass production:  0.058194897248275985 [mmol gDW^-1 h^-1]\n",
      "The molar yield of biomass  0.03423229249898588 [mmol-X / mmol-Sub]\n",
      "The mass yield of biomass  0.00015171532948878545 [g-X / g-Sub]\n",
      "The c-cmol yield of biomass  9.259157778014764e-05 [cmol-X / cmol-Sub]\n"
     ]
    }
   ],
   "source": [
    "medium = model.medium\n",
    "\n",
    "with model:\n",
    "    #replace glucose with lactose\n",
    "    medium['EX_glc__D_e'] = 0\n",
    "    medium[\"EX_gal_e\"] = 1.7\n",
    "    model.medium = medium\n",
    "    \n",
    "    # calculating flux towards 5-HTP production at 50% growth\n",
    "    model.objective = {model.reactions.DM_hydroxy_trp: 0.5}\n",
    "    solution = model.optimize()\n",
    "    hydroxy_trp_50 = solution.objective_value\n",
    "    substrate_flux = solution.fluxes['EX_gal_e']\n",
    "    print(\"the flux of 5htp production: \",hydroxy_trp_50, \"[mmol gDW^-1 h^-1]\")\n",
    "    molar_yield_5htp = hydroxy_trp_50 / (-1. * substrate_flux)\n",
    "    print(\"The molar yield of 5htp \", molar_yield_5htp, \"[mmol-5htp / mmol-Sub]\")\n",
    "    \n",
    "    # calculating mass yield\n",
    "    M_5htp = 220.23/1000 # g/mmol\n",
    "    # mass of galactose\n",
    "    M_sub = 180.16/1000 # g/mmol\n",
    "    mass_yield_5htp = hydroxy_trp_50*M_5htp / (-1. * substrate_flux)*M_sub\n",
    "    print(\"The mass yield of 5htp \", mass_yield_5htp , \"[g-5htp / g-Sub]\")\n",
    "    \n",
    "    # calculating cmol yield\n",
    "    # 5HTP: C11H12N2O3\n",
    "    cmol_5htp = M_5htp/11\n",
    "    # galactose: C6H12O6 \n",
    "    cmol_sub = M_sub/12\n",
    "    cmol_yield_5htp = mass_yield_5htp * (cmol_sub / cmol_5htp)\n",
    "    print(\"The c-cmol yield of 5thp \", cmol_yield_5htp, \"[cmol-5htp / cmol-Sub]\")\n",
    "    \n",
    "    # Calculating flux and yield of biomass\n",
    "    model.objective = {model.reactions.BIOMASS_BS_10: 0.5}\n",
    "    solution = model.optimize()\n",
    "    biomass_50 = solution.objective_value\n",
    "    print(\"the flux of biomass production: \",biomass_50, \"[mmol gDW^-1 h^-1]\")\n",
    "    molar_yield_biomass = biomass_50 / (-1. * substrate_flux)\n",
    "    print(\"The molar yield of biomass \", molar_yield_biomass, \"[mmol-X / mmol-Sub]\")\n",
    "    \n",
    "    # calculating mass yield\n",
    "    # standard biomass CH1.8O0.5N0.2\n",
    "    M_biomass = (12 + 1*1.8 + 16*0.5 + 14*0.2)/1000 # g/mmol\n",
    "    mass_yield_biomass = biomass_50*M_biomass / (-1. * substrate_flux)*M_sub\n",
    "    print(\"The mass yield of biomass \", mass_yield_biomass , \"[g-X / g-Sub]\")\n",
    "    cmol_biomass = M_biomass/1\n",
    "    cmol_yield_5htp = mass_yield_biomass * (cmol_sub / cmol_biomass)\n",
    "    print(\"The c-cmol yield of biomass \", cmol_yield_5htp, \"[cmol-X / cmol-Sub]\")\n",
    "    "
   ]
  },
  {
   "cell_type": "markdown",
   "metadata": {},
   "source": [
    "**Replace glucose with Fructose**"
   ]
  },
  {
   "cell_type": "code",
   "execution_count": 32,
   "metadata": {},
   "outputs": [
    {
     "name": "stdout",
     "output_type": "stream",
     "text": [
      "the flux of 5htp production:  0.27685950413223176 [mmol gDW^-1 h^-1]\n",
      "The molar yield of 5htp  0.16285853184248927 [mmol-5htp / mmol-Sub]\n",
      "The mass yield of 5htp  0.0064616788176956805 [g-5htp / g-Sub]\n",
      "The c-cmol yield of 5thp  0.004845501147950094 [cmol-5htp / cmol-Sub]\n",
      "the flux of biomass production:  0.058769889711620615 [mmol gDW^-1 h^-1]\n",
      "The molar yield of biomass  0.03457052335977683 [mmol-X / mmol-Sub]\n",
      "The mass yield of biomass  0.0001532143470170359 [g-X / g-Sub]\n",
      "The c-cmol yield of biomass  9.350642533397419e-05 [cmol-X / cmol-Sub]\n"
     ]
    }
   ],
   "source": [
    "medium = model.medium\n",
    "\n",
    "with model:\n",
    "    #replace glucose with fructose\n",
    "    medium['EX_glc__D_e'] = 0\n",
    "    medium[\"EX_fru_e\"] = 1.7\n",
    "    model.medium = medium\n",
    "    \n",
    "    # calculating flux towards 5-HTP production at 50% growth\n",
    "    model.objective = {model.reactions.DM_hydroxy_trp: 0.5}\n",
    "    solution = model.optimize()\n",
    "    hydroxy_trp_50 = solution.objective_value\n",
    "    substrate_flux = solution.fluxes['EX_fru_e']\n",
    "    print(\"the flux of 5htp production: \",hydroxy_trp_50, \"[mmol gDW^-1 h^-1]\")\n",
    "    molar_yield_5htp = hydroxy_trp_50 / (-1. * substrate_flux)\n",
    "    print(\"The molar yield of 5htp \", molar_yield_5htp, \"[mmol-5htp / mmol-Sub]\")\n",
    "    \n",
    "    # calculating mass yield\n",
    "    M_5htp = 220.23/1000 # g/mmol\n",
    "    # mass of fructose\n",
    "    M_sub = 180.16/1000 # g/mmol\n",
    "    mass_yield_5htp = hydroxy_trp_50*M_5htp / (-1. * substrate_flux)*M_sub\n",
    "    print(\"The mass yield of 5htp \", mass_yield_5htp , \"[g-5htp / g-Sub]\")\n",
    "    \n",
    "    # calculating cmol yield\n",
    "    # 5HTP: C11H12N2O3\n",
    "    cmol_5htp = M_5htp/11\n",
    "    # fructose: C6H12O6 \n",
    "    cmol_sub = M_sub/12\n",
    "    cmol_yield_5htp = mass_yield_5htp * (cmol_sub / cmol_5htp)\n",
    "    print(\"The c-cmol yield of 5thp \", cmol_yield_5htp, \"[cmol-5htp / cmol-Sub]\")\n",
    "    \n",
    "    # Calculating flux and yield of biomass\n",
    "    model.objective = {model.reactions.BIOMASS_BS_10: 0.5}\n",
    "    solution = model.optimize()\n",
    "    biomass_50 = solution.objective_value\n",
    "    print(\"the flux of biomass production: \",biomass_50, \"[mmol gDW^-1 h^-1]\")\n",
    "    molar_yield_biomass = biomass_50 / (-1. * substrate_flux)\n",
    "    print(\"The molar yield of biomass \", molar_yield_biomass, \"[mmol-X / mmol-Sub]\")\n",
    "    \n",
    "    # calculating mass yield\n",
    "    # standard biomass CH1.8O0.5N0.2\n",
    "    M_biomass = (12 + 1*1.8 + 16*0.5 + 14*0.2)/1000 # g/mmol\n",
    "    mass_yield_biomass = biomass_50*M_biomass / (-1. * substrate_flux)*M_sub\n",
    "    print(\"The mass yield of biomass \", mass_yield_biomass , \"[g-X / g-Sub]\")\n",
    "    cmol_biomass = M_biomass/1\n",
    "    cmol_yield_5htp = mass_yield_biomass * (cmol_sub / cmol_biomass)\n",
    "    print(\"The c-cmol yield of biomass \", cmol_yield_5htp, \"[cmol-X / cmol-Sub]\")\n",
    "    "
   ]
  },
  {
   "cell_type": "code",
   "execution_count": null,
   "metadata": {},
   "outputs": [],
   "source": []
  }
 ],
 "metadata": {
  "kernelspec": {
   "display_name": "Python 3",
   "language": "python",
   "name": "python3"
  },
  "language_info": {
   "codemirror_mode": {
    "name": "ipython",
    "version": 3
   },
   "file_extension": ".py",
   "mimetype": "text/x-python",
   "name": "python",
   "nbconvert_exporter": "python",
   "pygments_lexer": "ipython3",
   "version": "3.8.5"
  }
 },
 "nbformat": 4,
 "nbformat_minor": 4
}
