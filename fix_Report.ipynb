{
 "cells": [
  {
   "cell_type": "markdown",
   "metadata": {},
   "source": [
    "# Designing a bacterial cell factory for the production of 5-hydroxytryptophan\n",
    "***Group 18: Olga Rogozenko (s193127), Monika Starnawska (s176383), Frederik Jørgen Harboe Wissum (s154118) and Ingrid Lykke Borre (s153707)***"
   ]
  },
  {
   "cell_type": "markdown",
   "metadata": {},
   "source": [
    "## 1. Introduction"
   ]
  },
  {
   "cell_type": "markdown",
   "metadata": {},
   "source": [
    "### 1.1 Literature review of the compound \n",
    "\n",
    "5-hydroxytryptophan (5-HTP) is a derivative of tryptophan, which has a hydroxy group at position 5. It is a precursor to serotonin and the hormone melatonin. 5-HTP is used for treating indivudals that have disorders due to impaired serotonin production. This is in particular psychiatric disorders, such as depression and anxiety, but has also shown to have an effect as an appetite surpressor and sleeping aid. 5-HTP is usually extracted from the seeds of the African plant *Griffonia simplicifolia*.\n",
    "\n",
    "Conversion of L-tryptophan to 5-HTP by L-tryptophan hydroxylase (TPH), is the slowest, or rate-limiting step in the synthesis of serotonin. The enzyme adds a hydroxyl (OH) group onto the 5 position of L-tryptophan. Subsequent conversion of 5-HTP to serotonin (5-HT) happens in the nervous tissue and liver and is achieved by the activity of the enzyme Aromatic Amino Acid Decarboxylase (AAAD), which removes a carboxyl group from 5-HTP. Vitamin B6 works as a coenzyme is this reaction.\n",
    "\n",
    "***5-HTP biosynthetic pathway***\n",
    "\n",
    "5-HTP, the precursor of serotonin and melatonin, is produced from L-tryptophan by enzyme tryptophan 5-hydroxylase (T5H), while in plants the serotonin production takes place through another intermediate, tryptamine, by decarboxylation of L-tryptophan. T5H from human and animals requires cofactors 5,6,7,8-tetrahydrobiopterin (BH4) and Fe2+, and O2 as a co-substrate. Upon hydroxylation of tryptophan, BH4 is oxidised to pterin-4α-carbinolamine and regenerated back to BH4 by pterin-4α-carbinolamine dehydratase and dihydropteridine reductase.\n",
    "Family of pterin-dependent amino acid hydroxylases also includes phenylalanine 4-hydroxylases (P4H). While T5H are not found in bacteria and their expression in bacterial cell factories is rather complicated due to solubility issues and lack of a native cofactor, P4H are present in many prokaryotes and can be engineered to accept tryptophan instead of phenylalanine as their substrate. Bacterial P4H use an alternative cofactor tetrahydromonapterin (MH4), and many bacteria possess the full set of genes responsible for generation and regeneration of MH4 (Cao et al., 2020). "
   ]
  },
  {
   "cell_type": "markdown",
   "metadata": {},
   "source": [
    "### 1.2 Literature review of the cell factory "
   ]
  },
  {
   "cell_type": "markdown",
   "metadata": {},
   "source": [
    "***Escherichia coli*** \n",
    "\n",
    "*Escherichia coli* is a gram negative, facultative anaerobic bacterium commonly found in the lower intestine. Most *E. coli* strains are harmless, however the genus also contains some pathotypes which can cause a variety of diseases [Kaper et al. 2004]. *E. coli* is a very frequently used cell factory host, due to its well-developed genomic tools which make genetic manipulation relatively easy. Furthermore it grows fast in minimal salts medium and is able to utilize a wide range of inexpensive substrates. A considerable bottleneck in exploiting *E. coli* as a cell factory host for production of proteins is the formation of aggregates of overexpressed protein which complicates and adds to the cost of downstream processing of the final product.\n",
    "\n",
    "Several metabolic engineering steps need to be performed in order to utilize *E. coli* as a cell factory for the production of 5-HTP. *E. coli* naturally produces L-Tryptophan, though a pathway  that can be further optimized by decreasing acetate production in the cell factory strain [Liu et al. 2016]. However, it does not contain the genes necessary for the final conversion of L-Trp into 5-HTP.\n",
    "In plants, L-Trp is decorboxylated into tryptamine and hydroxylated into 5-HTP by tryptophan 5-hydroxylase (T5H). T5H uses 5,6,7,8-tetrahydrobiopterin (BH4) and Fe2+ as a cofactor, *E. coli* does not naturally synthesize BH4 but it is able to use tetrahydromonapterin (MH4) as an alternative co-factor. However, the regeneration system of MH4 is not fully available in *E. coli* which means this have to be heterologous incorporated in the organism before it can be used for continuous 5-HTP production [Cao et al. 2020].  "
   ]
  },
  {
   "cell_type": "markdown",
   "metadata": {},
   "source": [
    "***Bacillus subtilis***\n",
    "\n",
    "Apart from E.coli, the second cell factory, in which the 5-HTP production pathway was introduced, is B.subtilis. It is an aerobic, gram-positive soil bacterium, commonly used in production of enzymes, vitamins, peptides and even pharmaceuticals [Su et al. 2020]. \n",
    "\n",
    "The wide range of usage of B.subtilis in biotechnology can be justified by its many advantages, like excellent protein secretion ability, highly adaptable metabolism, short fermentation cycle (48h), and use of cheap substrates for the cultivation [Su et al 2020]. What distinguishes B.subitlis from cell factory described above is having single cell membrane and three distinguished secretion pathways, which makes extraction of the compound of interest much easier and lowers the costs of downstream processing. Moreover, B.subtilis is an organism generally recognized as safe (GRAS), in contrast to E.coli, which some strains have pathogenic lifestyle and their genes spread through horizontal transfer. B.subtilis is so popular and widely studied organism, that is possess its own database (SubtiWiki) with all known pathways, genes and their expression, protein interactions and pathway regulations [Juhas 2014]. Genetic modifications are easily performed on this organism, due to development of many genetic tools. [Su et al. 2020]. \n",
    "\n",
    "Apart from many advantages of using B.subtilis as the cell factory, the organism pose some challenges that must be taken into consideration when designing and modifying it for production of compound of interest. B.subtilis is known from having many intra- and extracellular peptidase activities, that very often cleave proteins into constituent amino acids [Desmond et al. 1975]. Moreover, some researchers report difficulties with introducing foreign genetic information into the organism [Ferierra et al. 2015]. Even though this is not a concern in this project, it must be addressed when the organism will be genetically modified in the laboratory. Lastly, the operon for the production of tryptophan in B.subtilis is regulated by attenuation mechanism, so possibility of more depth modifications will be required to obtain satisfying product yields [Gollnick et al. 1994].\n",
    "\n",
    "B.subtilis already has tryptophan synthesis pathway, which is a precursor for 5-HTP, therefore only last part of this pathway needs to be introduced into the organism. What’s more, the 5-hydroxytryptophan is not a protein, so it won’t be degraded by peptidases present internally or externally in B.subtilis. The organism itself is cheap in cultivation, which is an advantage in last part – actual fermentation and production. Its genes and their function were thoroughly studied, so genetic modifications and their consequences can be better predicted. Important for this particular project is the fact that genome scale model of B.subtilis already exists, so production predictions can be already assessed. \n",
    "\n",
    "Because of the complicated and highly controlled tryptophan synthesis pathway genetic engineering of B.subtilis for production of 5-HTP will require more modification and introduction of more metabolic pathways than in E.coli, however, if the model predictions show ability of this bacteria to produce the compound of interest, the industrial production and downstream processing seems to be easier than for E.coli, due to its already existing secreting system, non-pathogenical character, cheap substrates and short fermentation cycle. \n",
    "\n",
    "For both B.subtilis and E.coli, current research aims to generate minimal cell factory for industrial applications, which makes it even more attractive candidate for 5-HTP production [Juhas et al. 2014]."
   ]
  },
  {
   "cell_type": "markdown",
   "metadata": {},
   "source": [
    "## 2. Problem definition "
   ]
  },
  {
   "cell_type": "markdown",
   "metadata": {},
   "source": [
    "The global 5-HTP market is expected to grow in the near future due to increasing stress and depression levels in the general population. Especially hormonal changes and improper diet is thought to contribute to decreasing serotonin levels over the coming years [GVR Industry report 2019]. Current commercial production of 5-HTP relies on its extraction from the seeds of the African plant *Griffonia simplicifolia*. Thus, the production is depended on season and growth conditions which can greatly influence the cost-effective production. The current downstream processing of 5-HTP from the seeds includes harvesting by hand and drying of the seeds in West Africa. Afterwards the seeds are transported to Asia where 5-HTP is industrially extracted leaving the remainder of the plant as waste [Kim et al. 2009]. Methods for chemical synthesis of the compound has been proposed. However, thus far this production has not shown to be economically feasible [Mora-Villalobos et al. 2018].\n",
    "\n",
    "By constructing a cell factory capable of producing 5-HTP, the cost-efficiency would greatly increase as substrate costs and waste will decrease. The cell factory can be grown in large fermentation tanks which consumes less space than the agricultural areas required for growth of the plant *S. simplicifolia*. Season independence will allow for reliable distribution of 5-HTP to costumers and consumers securing cheap and efficient treatment of serotonin deficiency and related diseases.\n"
   ]
  },
  {
   "cell_type": "markdown",
   "metadata": {},
   "source": [
    "## 3.  Selection and assessment of existing GSM "
   ]
  },
  {
   "cell_type": "markdown",
   "metadata": {},
   "source": [
    "***Escherichia coli*** \n",
    "\n",
    "The model iML1515 was chosen as the platform for E.coli because it represents the most complete and accurately predictive model of E.coli K12 MG1655 to date. The model is based on all previous metabolic reconstructions of E.coli in particular the previously developed  and published model named iJO1366 from 2011 by Orth et al . The current model iML1515 is experimentally validated using large scale gene knockout experiments and is screened against new experimental date. iML1515 is updated with 184 new genes and 196 new reactions compared to the previous iJO1366. The iML1515 model expands the reconstruction of E.coli metabolism by incorporating three dimensional structural representations for all proteins in the network. In addition, the model now includes damage and repair pathways, reactive oxygen species generating reactions as well as a new barcoding system to represent information of transcriptional regulation.\n",
    "\n",
    "| Organism | Total score [%] | Metabolites | Reactions | Genes | Steichiometric Consistency [%] | Mass Balance [%] | Metabolites Connectivity [%] | Unrealistic Growth Rate | Universally blocked reactions | Orphan Metabolites\n",
    "| :-: | :-: | :-: | :-: | :-: | :-: | :-: | :-: | :-: | :-: | :-: |\n",
    "| iML1515 | 91 | 1 877 | 2 712 | 1 516 | 100 | 100 | 100 | False | 260 | 45\n",
    "\n",
    "***Bacillus Subtilis***\n",
    "\n",
    "Up to this date, there were two genome sale metabolic models of B.subtilis. One was published by Oh et al. in 2007 and was based on genomic, biochemical and physiological information, and on high throughout phenotyping experiments. [Oh et al. 2007]. The other model was published by Henry et al. in 2009 and was based on SEED annotations and thermodynamic data validated against experimental datasets. [Henry et al 2009]. Since then, few other publications with B.subtilis GSM models appeared, but all of them were based on either of the two mentioned earlier models by Henry and Oh, adding another layer of analysis and validation. Most interesting model candidates were gathered in table 2. \n",
    "\n",
    "| Organism | Model ID | Year Published | Source | Model size | Description\n",
    "| :-: | :-: | :-: | :-: | :-: | --- |\n",
    "| B.subtilis subsp. Subtilis str. 168 | iYO844 | [Oh et al. 2007] | BiGG models | Full model | Based on combination of genomic, biochemical, physiological information, and high—throughput phenotyping experiments.\n",
    "| B.subtilis subsp. Subtilis str. 168 | iBsu1147 | [Hao et al. 2013] | PubMed | Full model | Model based on genomic, bibliomic data, reconstructed model iBsu1103 and revisions according to the simulations on biomass and ATP synthesis. Model validated by the predictions of growth phenotype on different carbon sources etc.\n",
    "| B.subtilis subsp. Subtilis str. 168 | iBsu1103 | [Henry et al. 2009] | BioModels | Full model | Model based on SEED annotations with included thermodynamic data validated against experimental datasets.\n",
    "| B.subtilis subsp. Subtilis str. 168 | - | [Goelzer et al. 2008] | PubMed | Central metabolism | Includes amino acid synthesis and degradation, but no exchange reactions.\n",
    "| B.subtilis subsp. Subtilis str. 168 | ec_iYO844 | [Massaiu et al. 2019] | PubMed | Full model | Based on iYO844 model integrated with a set of available enzyme constraints for reactions of central carbon metabolism following GECKO principles.\n",
    "\n",
    "Two initially mentioned models undergone further investigation – iYO844 and iBsu1103. For both of the models, the genome-scale metabolic model test suite report was generated using Memote. Most important scores and differences between iYO844 and iBsu1103 were gathered in table 3.\n",
    "\n",
    "| Organism | Total score [%] | Metabolites | Reactions | Genes | Steichiometric Consistency [%] | Mass Balance [%] | Metabolites Connectivity [%] | Unrealistic Growth Rate | Universally blocked reactions | Orphan Metabolites\n",
    "| :-: | :-: | :-: | :-: | :-: | :-: | :-: | :-: | :-: | :-: | :-: |\n",
    "| iBsu1103 | 34 | 1 381 | 1 681 | 1 109 | 100 | 0 | 99.6 | True | 349 | 58\n",
    "| iYO844 | 86 | 990 | 1 250 | 844 | 100 | 94.4 | 100 | False | 291 | 50\n",
    "\n",
    "Based on the memote report and literate annotations, iYO844 model was used in the further steps of the project. Since the model was experimentally validated, has many metabolites and reactions involved, and had fairly high score in memote validation, it should facilitate reliable predictions for the production of metabolite of interest.\n",
    "\n",
    "\n"
   ]
  },
  {
   "cell_type": "markdown",
   "metadata": {},
   "source": [
    "## 4. Computer-Aided Cell Factory Engineering"
   ]
  },
  {
   "cell_type": "markdown",
   "metadata": {},
   "source": [
    "### Genes required for production of 5-HTP"
   ]
  },
  {
   "cell_type": "markdown",
   "metadata": {},
   "source": [
    "***First strategy***\n",
    "\n",
    "In this project we assumed that conversion of tryptophan to 5-HTP will be carried out by a bacterial P4H, which substrate binding site was engineered to accept tryptophan rather then the native substrate phenylalanine as described by Lin et al., 2014. The missing components of the cofactor MH4 synthesis and regeneration pathway will also be introduced. For E. coli, MH4 synthesis genes can already be found, however, the regeneration pathway consisting of two genes is missing. For B. subtilis, only a gene for MH4 precursor can be identified, so four genes must be heterologously expressed to establish an MH4 supply for P4H activity. The overview of the genes and donor microorganisms identified through KEGG database can be found in Table 4.\n",
    "\n",
    "| Gene | Pathway | EC number | Enzyme name | Substrates | Products | KEGG reaction code | ECO entry | BSU entry | Donor organism |Accession number\n",
    "| :-: | :-: | :-: | :-: | :-: | :-: | :-: | :-: | :-: | :-: | :-: |\n",
    "| folE | MH2 synthesis | 3.5.4.16 | 2,5-diaminopyrimidine nucleoside triphosphate mutase | GTP, H20 | 7,8-Dihydroneopterin 3'-triphosphate, formate | R05048 | b2153 (folE) | BSU22780 (folE) | N/A | N/A\n",
    "| folX | MH2 synthesis | 5.1.99.7 | 7,8-dihydroneopterin 3'-triphosphate 2'-epimerase | 7,8-dihydroneopterin 3'-triphosphate | 7,8-dihydromonapterin 3'-triphosphate | R11082 | b2303 (folX) | none | ECO | NP_416806.1\n",
    "| folM | MH4 synthesis | 1.5.1.50 | 5,6,7,8-tetrahydromonapterin:NADP+ oxidoreductase | 7,8-Dihydromonapterin, NADPH, H | 5,6,7,8-Tetrahydromonapterin, NADP+ | R11019 | b1606 (folM) | none | ECO | NP_416123.1\n",
    "| phhB | MH2 regeneration | 4.2.1.96 | pterin-4α-carbinolamine dehydratase | 4a-hydroxytetrahydropterin | 7,8-Dihydromonapterin, H2O | R04734 | none | none | PAE | NP_249562.1\n",
    "| phhA | phenylalanine to tyrosine (engineered to accept L-tryptophane and convert it into 5-HTP)| 1.14.16.1 | phenylalanine 4-hydroxylase | L-Tryptophan, 5,6,7,8-Tetrahydromonapterin, oxygen | 5-HTP, 4a-hydroxytetrahydropterin | R12540 | none | none | XCC | WP_011035413.1\n",
    "\n",
    "***Second strategy***\\\n",
    "Second strategy (applied only to E.coli) assumed that the conversion of tryptophan to 5-HTP can be carried out by human tryptophan hydroxylase, which human protein-coding gene was introduced to E.coli genome. Tryptophan hydroxylase accepts tetrahydrobiopterin (BH4) as its co-factor, which is not synthesized by E.coli, thus its synthesis and regenaration pathway was also introduced to the bacteria, as desribed by Wang et al. 2018. The second strategy required more genetic manipulation that the first one (when looking at E.coli), however the yield reported in the article was highest than all previously known methods.\\\n",
    "The overview of the genes involved in the second method, and donor microorganisms identified through KEGG database can be found in Table 5.\n",
    "\n",
    "| Gene | Pathway | EC number | Enzyme name | Substrates | Products | KEGG reaction code | ECO entry | BSU entry | Donor organism |Accession number\n",
    "| :-: | :-: | :-: | :-: | :-: | :-: | :-: | :-: | :-: | :-: | :-: |\n",
    "| Tph2 | Tryptophan hydroxylation | 1.14.16.4 | tryptophan 5-monooxygenase | oxygen, tryptophan, tetrahydrobiopterin | 5-hydroxytryptophan, 4a-hydroxytetrahydrobiopterin | R12542 | none | N/A | HSA | NP_004170.1\n",
    "| mtrA | BH4 synthesis | 3.5.4.16 | GTP cyclohydrolase I | GTP, H2O | dihydromonapterin-triphosphate, formate, H+ | R00424 | none | N/A | BSU | ARW31990.1\n",
    "| pts | BH4 synthesis | 4.2.3.14 | 6-pyruvoyltetrahydropterin synthase | dihydromonapterin-triphosphate | Triphosphate, 6-pyruvoyltetrahydropterin| R04286 | none | N/A | HSA | EAW67195.1\n",
    "| spr | BH4 synthesis | 1.1.1.153 | sepiapterin reductase | H+ , NADPH, 6-pyruvoyltetrahydropterin | NADP+ , tetrahydrobiopterin | R08208 | none | N/A | HSA | NP_003115.1\n",
    "| pcd | BH4 regeneration | 4.2.1.96 | pterin-4α-carbinolamine dehydratase | 4a-hydroxytetrahydrobiopterin| dihydrobiopterin, water| R04734 | none | N/A | HSA | NP_000272.1\n",
    "| dhpr | BH4 regeneration | 1.5.1.34 | dihydropteridine reductase | dihydrobiopterin, H+ , NADPH| NADP+ , tetrahydrobiopterin | R07354 | none | N/A | HSA | BAB20429.1"
   ]
  },
  {
   "cell_type": "markdown",
   "metadata": {},
   "source": [
    "### Model engineering and production analysis"
   ]
  },
  {
   "cell_type": "markdown",
   "metadata": {},
   "source": [
    "**Model construction**\n",
    "\n",
    "For both B.subtilis models (iBsu1103 and iYO844) heterologous pathways from first strategy for obtaining 5-HTP were introduced. Since the memote report for iBsu1103 model was considered worse (no mass balance and unrealistic growth rate), the model was not further analyzed, as it would give unrealistic results. The model construction notebooks for iBsu1103 (Bacillus_iBsu1103.ipynb) and iYO844 (Bacillus_iYO844_construction.ipynb) can be found in the ‘Model analysis’ folder in the main repository.\n",
    "\n",
    "In case of E.coli, one model was chosen for analysis (iML1515), for which both strategies for obtaining 5-HTP were introduced, each one in a separate notebook. The model construction notebooks for E.coli 1st strategy (E.coli_1st_strategy_construction.ipynb) and for E.coli 2nd strategy (E.coli_2nd_strategy_construction.ipynb) can also be found in the ‘Model analysis’ folder in the main repository.\n",
    "\n",
    "\n",
    "**Model analysis**\n",
    "\n",
    "For each model created, the 5-HTP production optimization was performed. First the objective value was changed for maximum 5-HTP and the cell growth was observed, to see how the organisms reacts on additional reactions added. Following that, the phenotypic phase plane analysis was conducted to observe the changing growth rate with increasing 5-HTP production. Next, single gene knockout strategies were performed, to see whether deletion of one gene can positively influence the production of 5-HTP or increase in biomass rate. \n",
    "\n",
    "After initial analysis, different manipulation strategy was introduced. Since the objective was changed from biomass to 5-HTP, all carbon flow was directed into the L-tryptophan synthesis pathway, which could cause loss of necessary carbon for essential compounds, like other amino acids. Therefore, the restriction and control of one of the L-tryptophan precursors – chorismite – was introduced by setting the chorismite -> prephenate reaction lower bound above 0 (to ensure that chorismite is routed to essential amino acids, thus guarantee biomass growth) and trying to set the higher bound to make sure that precursor pool for 5-HTP is not depleting. \n",
    "\n",
    "Lastly, another strategy was applied, where for each model 5-HTP production rate and biomass rate were kept at 50% each. Following that, for each model, a list of all possible carbon sources was constructed, and the models were optimized to 50% 5-HTP flux rate and 50% biomass rate, while changing the default glucose source to all the other possible ones, and check for increase in both rates. From that analysis, few most compelling results were picked. \n",
    "\n",
    "At last, the yield calculations were performed for theoretical maximum 5-HTP production flux, for 5-HTP flux while kept at 50% rate, and for 5-HTP production for most promising alternative carbon sources.\n",
    "\n",
    "As an additional element of the model’s analysis, the Dynamic flux balance analysis (DFBA) models were created. In theory, it works by combining a GSM of intracellular metabolism with kinetic expressions for the uptake rates of growth limiting nutrients and dynamic mass balance equations for cellular biomass, limiting nutrients and secreted metabolic byproducts under the assumption that cells rapidly equilibrate to environmental changes. For the sake of this project, the DFBA models visualizing the cell growth on glucose without 5-HTP production and  with 5-HTP production were created for B.subtilis iYO844 model and E.coli 2nd strategy, whereas additional analysis, where glucose was substituted with lactose, was performed for E.coli 1st strategy.\n",
    "\n",
    "The notebooks where the analysis for B.subtilis iYO844 model (Bacillus_iYO844_analysis.ipynb), E.coli 1st strategy model (E_coli_1st_strategy_analysis.ipynb), and E.coli 2nd strategy model (E_coli_2nd_strategy_analysis.ipynb) were performed can be found in the ‘Model analysis’ folder in the main repository."
   ]
  },
  {
   "cell_type": "markdown",
   "metadata": {},
   "source": [
    "## 5. Discussion"
   ]
  },
  {
   "cell_type": "markdown",
   "metadata": {},
   "source": [
    "For each of the model, the similar pattern emerged at the beginning of the analysis. When the objective was changed to maximum 5-HTP production, the biomass flux for B.subtilis, as well as E.coli, was equal to 0, which indicated lack of growth. The observation of growth rate change with increasing 5-HTP export flux confirmed that this correlation is strongly negative – the more 5-HTP was produced, the lower the cell growth was becoming, to eventually stop growing at all. \n",
    "\n",
    "Single knock out analysis also did not give the positive results. For all three models, there was no single gene deletion that would cause positive cell growth, while still keeping some flux towards the 5-HTP production. This could be due to .. (combination of knock outs, protein point mutations)\n",
    "\n",
    "The manipulation with chorismatic pathway was also unsuccessful. \n",
    "….. (Olga)\n",
    "\n",
    "The only way to ensure the cell growth in all model analyses, while still producing 5-HTP, was to set the objective to 50% 5-HTP production, and 50% towards biomass production. \n",
    "In each model, the lists of alternative carbon sources that could increase the fluxes, while keeping the divided objective, were found. The tables below present the yield calculations for 5-HTP and biomass for most promising ones. "
   ]
  },
  {
   "cell_type": "markdown",
   "metadata": {},
   "source": [
    "*Table 6. B.subtilis_5HTP model*\n",
    "\n",
    "| Substrate | 5-HTP flux <br> [mmol gDW^-1 h^-1] | 5-HTP molar yield <br> [mmol-5htp / mmol-sub] | 5-HTP mass yield <br> [g-5htp / g-sub] | 5-HTP cmol yield <br> [cmol-5htp / cmol-sub] | Biomass flux <br> [mmol gDW^-1 h^-1] | Biomass molar yield <br> [mmol-X / mmol-sub] | Biomass mass yield <br> [g-X / g-sub]| Biomass cmol yield <br> [cmol-X / cmol-sub] |\n",
    "| :-: | :-: | :-: | :-: | :-: | :-: | :-: | :-: | :-: | \n",
    "| Glucose  | 0.288 | 0.169 | 0.006 | 0.010 | 0.059 | 0.0346 | 0.0002 | 0.0002 | \n",
    "| Glycerol | 0.129 | 0.076 | 0.0015 | 0.0023 | 0.027 | 0.0156 | 0.00003 | 0.00004 | \n",
    "| Sucrose | 0.648 | 0.382 | 0.0287 | 0.0409 | 0.135 | 0.079 | 0.0007 | 0.0008 | \n",
    "| Lactose | 0.648 | 0.381 | 0.0287 | 0.0409 | 0.132 | 0.077 | 0.0007 | 0.0008 | \n",
    "| Galactose | 0.287 | 0.169 | 0.0067 | 0.010 | 0.0582 | 0.034 | 0.0002 | 0.0001 | \n",
    "| Fructose | 0.277 | 0.163 | 0.0064 | 0.009 | 0.059 | 0.0345 | 0.0002 | 0.0001 | \n",
    "\n",
    "*Table 7. E.coli_5HTP_1st_strategy model*\n",
    "\n",
    "| Substrate | 5-HTP flux <br> [mmol gDW^-1 h^-1] | 5-HTP molar yield <br> [mmol-5htp / mmol-sub] | 5-HTP mass yield <br> [g-5htp / g-sub] | 5-HTP cmol yield <br> [cmol-5htp / cmol-sub] | Biomass flux <br> [mmol gDW^-1 h^-1] | Biomass molar yield <br> [mmol-X / mmol-sub] | Biomass mass yield <br> [g-X / g-sub]| Biomass cmol yield <br> [cmol-X / cmol-sub] |\n",
    "| :-: | :-: | :-: | :-: | :-: | :-: | :-: | :-: | :-: | \n",
    "| Glucose  | 2.139 | 0.214 | 0.008 | 0.012 | 0.438 | 0.044 | 0.0002 | 0.0002 | \n",
    "| Glycerol | 1.220 | 0.122 | 0.0025 | 0.0037 | 0.247 | 0.025 | 0.00005 | 0.00007 | \n",
    "| Sucrose | - | - | - | - | - | - | - | - | \n",
    "| Lactose | 4.357 | 0.436 | 0.033 | 0.046 | 0.885 | 0.0885 | 0.0007 | 0.0008 | \n",
    "| Galactose | 2.135 | 0.213 | 0.008 | 0.013 | 0.433 | 0.043 | 0.0002 | 0.0002 | \n",
    "| Fructose | 2.09 | 0.209 | 0.008 | 0.0124 | 0.438 | 0.044 | 0.0002 | 0.0002 | \n",
    "\n",
    "*Table 8. E.coli_5HTP_2nd_strategy model*\n",
    "\n",
    "| Substrate | 5-HTP flux <br> [mmol gDW^-1 h^-1] | 5-HTP molar yield <br> [mmol-5htp / mmol-sub] | 5-HTP mass yield <br> [g-5htp / g-sub] | 5-HTP cmol yield <br> [cmol-5htp / cmol-sub] | Biomass flux <br> [mmol gDW^-1 h^-1] | Biomass molar yield <br> [mmol-X / mmol-sub] | Biomass mass yield <br> [g-X / g-sub]| Biomass cmol yield <br> [cmol-X / cmol-sub] |\n",
    "| :-: | :-: | :-: | :-: | :-: | :-: | :-: | :-: | :-: | \n",
    "| Glucose  | 2.139 | 0.214 | 0.008 | 0.012 | 0.438 | 0.044 | 0.0002 | 0.0002 | \n",
    "| Glycerol | 1.220 | 0.122 | 0.0025 | 0.0037 | 0.247 | 0.025 | 0.00005 | 0.00007 | \n",
    "| Sucrose | - | - | - | - | - | - | - | - | \n",
    "| Lactose | 4.357 | 0.436 | 0.033 | 0.046 | 0.885 | 0.0885 | 0.0007 | 0.0008 | \n",
    "| Galactose | 2.135 | 0.213 | 0.008 | 0.013 | 0.433 | 0.043 | 0.0002 | 0.0002 | \n",
    "| Fructose | 2.09 | 0.209 | 0.008 | 0.0124 | 0.438 | 0.044 | 0.0002 | 0.0002 | \n",
    "\n",
    "From our calculations of mass yields of 5-HTP and biomass, all produced models showed that E.coli and B.subtilis produce the highest mass yield when using Succrose and Lactose. This makes inituitve sense because Succrose conistst of glucose and fructose and Lactose consists of Glucose and Galactose. This means that are two sugar molecules fused together and therefore there is more carbon available for metabolic pathways than for instance glucose. However because the model does not take into account that B.sutbtilis cannot take up lactose but will just ”act” like it can, \n"
   ]
  },
  {
   "cell_type": "markdown",
   "metadata": {},
   "source": [
    "Look at masss yield \n",
    "Bacillus subtilis sucrose and lactose (lactose\n",
    "e coli lactose (Frederik)\n",
    "e coli glycerol should give high yield according to Cao et al 2019 \n",
    "-> compair to litterature, find an article that confirms it is possible\n",
    "Check molecular structure of sucrose and lactose (lactose has more carbon)"
   ]
  },
  {
   "cell_type": "markdown",
   "metadata": {},
   "source": [
    "**Dynamic flux balance analysis of E. coli**\n",
    "\n",
    "In this assingnment we also build and simulated a DFBA model vizualising the growth of our two modified organisms.\n",
    "Here, the first model display the production of biomass when no 5-HTP is beeing produced.\n",
    "In the second the biomass is vizualized when 5-HTP is also beeing produced.\n",
    "\n",
    "\n",
    "<img src=\"E.coli_DFBA_biomass.png\" width=\"500\" title=\"adam solomon's hello\"/> \n",
    "\n",
    "*Figure 1. DFBA for E. coli biomass production*\n",
    "\n",
    "<img src=\"E.coli_DFBA_5HTP.png\" width=\"500\" title=\"adam solomon's hello\"/> \n",
    "\n",
    "*Figure 2. DFBA for E. coli 5-HTP and biomass production*\n",
    "\n"
   ]
  },
  {
   "cell_type": "markdown",
   "metadata": {},
   "source": [
    "As can be seen in Figure 1 and 2 the biomass of E.coli was calculated. In graph 1 biomass was calculated to reach a maximum of almost 8 g/L and in graph 2 the biomass was calculated to reach a maximum of almost 5 g/L. This was unexpected since graph 2, with 5-HTP, was made with biomass values which was 50% of the maximum. This was done because no production of 5-HTP was observed when biomass was at 100%, so in order to have production of 5-HTP, biomass was chosen to be set at 50%. Therefore we would expect biomass in graph 2 to be at around 4 g/L. However we did obsderve some production of 5-HTP when biomass was at 50%, and this production was calculated to reach 1.1 g/L. "
   ]
  },
  {
   "cell_type": "markdown",
   "metadata": {},
   "source": [
    "**Dynamic flux balance of B. subtilis**\n",
    "\n",
    "<img src=\"B.subtilis_DFBA_biomass.png\" width=\"500\"/> \n",
    "\n",
    "*Figure 3. DFBA for B. subtilis biomass production*\n",
    "\n",
    "<img src=\"B.subtilis_DFBA_5HTP.png\" width=\"500\"/> \n",
    "\n",
    "*Figure 4. DFBA for B. subtilis 5-HTP and biomass production*\n",
    "\n"
   ]
  },
  {
   "cell_type": "markdown",
   "metadata": {},
   "source": [
    "When looking at the biomass production depicted in figure 3 and 4, we see a huge change in both the final concentration of biomass, and the timeframe in which it is produced. When only biomass is produced we observe a final concentration of biomass of 7g/L after approx. 9 hours. When both biomass and 5-HTP is produced in B. subtilis (Figure 4) only a concentration of 0.7g/L biomass was achieved in the duration of 70 hours. The resulting 5-HTP concentration after 70 hours was approx 6 mmol/L which correspond to 1,32 g/L. "
   ]
  },
  {
   "cell_type": "markdown",
   "metadata": {},
   "source": [
    "The DBFA analysis is almost the same for B. subtilis as for E. coli when compairing the simulation results depicted in figure 1 and 3. However, when compairing the two models which depicts 5-HTP production we see a much lover biomass production, and also a much longer timeframe for the fermentation process of the recombinant B. subtilis. However, the resulting 5-HTP production is almost the same for the two organisms. \n",
    "\n",
    "Discuss the dfba glycerol (did not have any experimental values)"
   ]
  },
  {
   "cell_type": "markdown",
   "metadata": {},
   "source": [
    "\n",
    "<img src=\"B.subtilis_DFBA_5HTP.png\" width=\"500\"/> \n",
    "\n",
    "*Figure 5. DFBA for E. coli 5-HTP and biomass production on a substrate mixture of glucose and lactose*\n",
    "\n",
    "\n",
    "Insert lactose dfba .. Ingrid"
   ]
  },
  {
   "cell_type": "markdown",
   "metadata": {},
   "source": [
    "## 6. Conclusion "
   ]
  },
  {
   "cell_type": "markdown",
   "metadata": {},
   "source": [
    "from model analysis point of view we were able to create cell factories both e. coli and b. subtilis that were able to produce 5-htp on glucose as well as other alternative carbon sources (compair mass yield from dfba with industrial production of 5-htp from plants)\n",
    "\n",
    "even if its 70 or 14 hours its still faster than the production from the plants\n",
    "\n",
    "This strategy most definately has to be checked experimentally, the actual uptake of alternative carbon sources has to be checked as well as posiibel product inhibition in the media, the possibility of biomass growth restirction has to be cheked (can it be kept at 50%) \n",
    "\n",
    "we already have a prove that these genes can be introduced into e coli (articles vectors) we have reconstructed that in e.coli however it was not done for bacillus so this vecor construction and check for stability will alspo have to be proven experimentally. \n",
    "Compair yield of 5-htp from dfba to experimental yield from the articles\n",
    "\n",
    "All those things above cannot be checked by using computational tools that we have for our disposal. We need lab.\n"
   ]
  },
  {
   "cell_type": "markdown",
   "metadata": {},
   "source": [
    "## References"
   ]
  },
  {
   "cell_type": "markdown",
   "metadata": {},
   "source": [
    "[GVR Industry report 2019] \"5-Hydroxytryptophan Market Size, Share & Trends Analysis Report By Application, Regional Outlook, Competitive Strategies, And Segment Forecasts, 2019 To 2025\""
   ]
  },
  {
   "cell_type": "code",
   "execution_count": null,
   "metadata": {},
   "outputs": [],
   "source": []
  }
 ],
 "metadata": {
  "kernelspec": {
   "display_name": "Python 2",
   "language": "python",
   "name": "python2"
  },
  "language_info": {
   "codemirror_mode": {
    "name": "ipython",
    "version": 2
   },
   "file_extension": ".py",
   "mimetype": "text/x-python",
   "name": "python",
   "nbconvert_exporter": "python",
   "pygments_lexer": "ipython2",
   "version": "2.7.15"
  }
 },
 "nbformat": 4,
 "nbformat_minor": 4
}
