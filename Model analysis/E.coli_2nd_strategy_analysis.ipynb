{
 "cells": [
  {
   "cell_type": "code",
   "execution_count": 1,
   "metadata": {},
   "outputs": [],
   "source": [
    "from cobra.io import read_sbml_model\n",
    "from cobra.io import write_sbml_model\n",
    "from cobra import Reaction, Metabolite\n",
    "import pandas as pd"
   ]
  },
  {
   "cell_type": "code",
   "execution_count": 3,
   "metadata": {},
   "outputs": [],
   "source": [
    "model = read_sbml_model('../data/iML1515_5htp_2nd_strategy.xml')"
   ]
  },
  {
   "cell_type": "markdown",
   "metadata": {},
   "source": [
    "**Checking max 5-HTP production and respective growth rate if objective value is changed to the 5-HTP export reaction**"
   ]
  },
  {
   "cell_type": "code",
   "execution_count": null,
   "metadata": {},
   "outputs": [],
   "source": [
    "# Finding the flux of the phhA reaction\n",
    "with model:\n",
    "    print(model.reactions.phhA)\n",
    "    model.objective = model.reactions.phhA\n",
    "    solution = model.optimize()\n",
    "    max_5HTP_production = solution.objective_value\n",
    "    print(\"HTP flux\", max_5HTP_production)\n",
    "    print(\"Biomass flux\", solution.fluxes.BIOMASS_Ec_iML1515_core_75p37M)"
   ]
  },
  {
   "cell_type": "markdown",
   "metadata": {},
   "source": [
    "**We can see here, that when we have optimal flux towards 5-HTP production, then there will be no flux towards biomass production, thus no growth of the cell.\n",
    "Let's try and optimize for both 5-HTP and biomass production**"
   ]
  },
  {
   "cell_type": "code",
   "execution_count": null,
   "metadata": {},
   "outputs": [],
   "source": [
    "# Getting the flux towards 5-HTP and biomass respectively, when optimized for both reactions\n",
    "with model:\n",
    "    model.objective = {model.reactions.phhA: 0.5}\n",
    "    solution = model.optimize()\n",
    "    print(\"5-HTP flux\", solution.objective_value)\n",
    "    model.objective = {model.reactions.BIOMASS_Ec_iML1515_core_75p37M: 0.5}\n",
    "    solution = model.optimize()\n",
    "    print(\"Biomass flux\", solution.objective_value)"
   ]
  },
  {
   "cell_type": "markdown",
   "metadata": {},
   "source": [
    "We can see here that the flux towards biomass and 5-HTP production are both half of their previous optimal flux, which make sense now that they share the flux"
   ]
  },
  {
   "cell_type": "code",
   "execution_count": null,
   "metadata": {},
   "outputs": [],
   "source": []
  },
  {
   "cell_type": "markdown",
   "metadata": {},
   "source": [
    "**Let's now observe how the growth rate changes with increasing 5-HTP export flux**"
   ]
  },
  {
   "cell_type": "code",
   "execution_count": 33,
   "metadata": {},
   "outputs": [],
   "source": [
    "from cobra.flux_analysis.phenotype_phase_plane import production_envelope"
   ]
  },
  {
   "cell_type": "code",
   "execution_count": 34,
   "metadata": {},
   "outputs": [],
   "source": [
    "ppp_5HTP = production_envelope(model,\n",
    "                    reactions=[model.reactions.phhA],\n",
    "                    objective=model.reactions.BIOMASS_Ec_iML1515_core_75p37M)"
   ]
  },
  {
   "cell_type": "code",
   "execution_count": 35,
   "metadata": {},
   "outputs": [
    {
     "data": {
      "text/html": [
       "<div>\n",
       "<style scoped>\n",
       "    .dataframe tbody tr th:only-of-type {\n",
       "        vertical-align: middle;\n",
       "    }\n",
       "\n",
       "    .dataframe tbody tr th {\n",
       "        vertical-align: top;\n",
       "    }\n",
       "\n",
       "    .dataframe thead th {\n",
       "        text-align: right;\n",
       "    }\n",
       "</style>\n",
       "<table border=\"1\" class=\"dataframe\">\n",
       "  <thead>\n",
       "    <tr style=\"text-align: right;\">\n",
       "      <th></th>\n",
       "      <th>carbon_source</th>\n",
       "      <th>flux_minimum</th>\n",
       "      <th>carbon_yield_minimum</th>\n",
       "      <th>mass_yield_minimum</th>\n",
       "      <th>flux_maximum</th>\n",
       "      <th>carbon_yield_maximum</th>\n",
       "      <th>mass_yield_maximum</th>\n",
       "      <th>phhA</th>\n",
       "    </tr>\n",
       "  </thead>\n",
       "  <tbody>\n",
       "    <tr>\n",
       "      <th>0</th>\n",
       "      <td>EX_glc__D_e</td>\n",
       "      <td>0.0</td>\n",
       "      <td>0.0</td>\n",
       "      <td>NaN</td>\n",
       "      <td>0.876997</td>\n",
       "      <td>1.161751e+01</td>\n",
       "      <td>NaN</td>\n",
       "      <td>0.000000</td>\n",
       "    </tr>\n",
       "    <tr>\n",
       "      <th>1</th>\n",
       "      <td>EX_glc__D_e</td>\n",
       "      <td>0.0</td>\n",
       "      <td>0.0</td>\n",
       "      <td>NaN</td>\n",
       "      <td>0.831248</td>\n",
       "      <td>1.101147e+01</td>\n",
       "      <td>NaN</td>\n",
       "      <td>0.225221</td>\n",
       "    </tr>\n",
       "    <tr>\n",
       "      <th>2</th>\n",
       "      <td>EX_glc__D_e</td>\n",
       "      <td>0.0</td>\n",
       "      <td>0.0</td>\n",
       "      <td>NaN</td>\n",
       "      <td>0.785499</td>\n",
       "      <td>1.040543e+01</td>\n",
       "      <td>NaN</td>\n",
       "      <td>0.450443</td>\n",
       "    </tr>\n",
       "    <tr>\n",
       "      <th>3</th>\n",
       "      <td>EX_glc__D_e</td>\n",
       "      <td>0.0</td>\n",
       "      <td>0.0</td>\n",
       "      <td>NaN</td>\n",
       "      <td>0.739749</td>\n",
       "      <td>9.799397e+00</td>\n",
       "      <td>NaN</td>\n",
       "      <td>0.675664</td>\n",
       "    </tr>\n",
       "    <tr>\n",
       "      <th>4</th>\n",
       "      <td>EX_glc__D_e</td>\n",
       "      <td>0.0</td>\n",
       "      <td>0.0</td>\n",
       "      <td>NaN</td>\n",
       "      <td>0.694000</td>\n",
       "      <td>9.193359e+00</td>\n",
       "      <td>NaN</td>\n",
       "      <td>0.900885</td>\n",
       "    </tr>\n",
       "    <tr>\n",
       "      <th>5</th>\n",
       "      <td>EX_glc__D_e</td>\n",
       "      <td>0.0</td>\n",
       "      <td>0.0</td>\n",
       "      <td>NaN</td>\n",
       "      <td>0.647766</td>\n",
       "      <td>8.580901e+00</td>\n",
       "      <td>NaN</td>\n",
       "      <td>1.126106</td>\n",
       "    </tr>\n",
       "    <tr>\n",
       "      <th>6</th>\n",
       "      <td>EX_glc__D_e</td>\n",
       "      <td>0.0</td>\n",
       "      <td>0.0</td>\n",
       "      <td>NaN</td>\n",
       "      <td>0.601497</td>\n",
       "      <td>7.967979e+00</td>\n",
       "      <td>NaN</td>\n",
       "      <td>1.351328</td>\n",
       "    </tr>\n",
       "    <tr>\n",
       "      <th>7</th>\n",
       "      <td>EX_glc__D_e</td>\n",
       "      <td>0.0</td>\n",
       "      <td>0.0</td>\n",
       "      <td>NaN</td>\n",
       "      <td>0.555228</td>\n",
       "      <td>7.355058e+00</td>\n",
       "      <td>NaN</td>\n",
       "      <td>1.576549</td>\n",
       "    </tr>\n",
       "    <tr>\n",
       "      <th>8</th>\n",
       "      <td>EX_glc__D_e</td>\n",
       "      <td>0.0</td>\n",
       "      <td>0.0</td>\n",
       "      <td>NaN</td>\n",
       "      <td>0.508959</td>\n",
       "      <td>6.742136e+00</td>\n",
       "      <td>NaN</td>\n",
       "      <td>1.801770</td>\n",
       "    </tr>\n",
       "    <tr>\n",
       "      <th>9</th>\n",
       "      <td>EX_glc__D_e</td>\n",
       "      <td>0.0</td>\n",
       "      <td>0.0</td>\n",
       "      <td>NaN</td>\n",
       "      <td>0.462690</td>\n",
       "      <td>6.129215e+00</td>\n",
       "      <td>NaN</td>\n",
       "      <td>2.026992</td>\n",
       "    </tr>\n",
       "    <tr>\n",
       "      <th>10</th>\n",
       "      <td>EX_glc__D_e</td>\n",
       "      <td>0.0</td>\n",
       "      <td>0.0</td>\n",
       "      <td>NaN</td>\n",
       "      <td>0.416421</td>\n",
       "      <td>5.516293e+00</td>\n",
       "      <td>NaN</td>\n",
       "      <td>2.252213</td>\n",
       "    </tr>\n",
       "    <tr>\n",
       "      <th>11</th>\n",
       "      <td>EX_glc__D_e</td>\n",
       "      <td>0.0</td>\n",
       "      <td>0.0</td>\n",
       "      <td>NaN</td>\n",
       "      <td>0.370152</td>\n",
       "      <td>4.903372e+00</td>\n",
       "      <td>NaN</td>\n",
       "      <td>2.477434</td>\n",
       "    </tr>\n",
       "    <tr>\n",
       "      <th>12</th>\n",
       "      <td>EX_glc__D_e</td>\n",
       "      <td>0.0</td>\n",
       "      <td>0.0</td>\n",
       "      <td>NaN</td>\n",
       "      <td>0.323883</td>\n",
       "      <td>4.290450e+00</td>\n",
       "      <td>NaN</td>\n",
       "      <td>2.702655</td>\n",
       "    </tr>\n",
       "    <tr>\n",
       "      <th>13</th>\n",
       "      <td>EX_glc__D_e</td>\n",
       "      <td>0.0</td>\n",
       "      <td>0.0</td>\n",
       "      <td>NaN</td>\n",
       "      <td>0.277614</td>\n",
       "      <td>3.677529e+00</td>\n",
       "      <td>NaN</td>\n",
       "      <td>2.927877</td>\n",
       "    </tr>\n",
       "    <tr>\n",
       "      <th>14</th>\n",
       "      <td>EX_glc__D_e</td>\n",
       "      <td>0.0</td>\n",
       "      <td>0.0</td>\n",
       "      <td>NaN</td>\n",
       "      <td>0.231345</td>\n",
       "      <td>3.064607e+00</td>\n",
       "      <td>NaN</td>\n",
       "      <td>3.153098</td>\n",
       "    </tr>\n",
       "    <tr>\n",
       "      <th>15</th>\n",
       "      <td>EX_glc__D_e</td>\n",
       "      <td>0.0</td>\n",
       "      <td>0.0</td>\n",
       "      <td>NaN</td>\n",
       "      <td>0.185076</td>\n",
       "      <td>2.451686e+00</td>\n",
       "      <td>NaN</td>\n",
       "      <td>3.378319</td>\n",
       "    </tr>\n",
       "    <tr>\n",
       "      <th>16</th>\n",
       "      <td>EX_glc__D_e</td>\n",
       "      <td>0.0</td>\n",
       "      <td>0.0</td>\n",
       "      <td>NaN</td>\n",
       "      <td>0.138807</td>\n",
       "      <td>1.838764e+00</td>\n",
       "      <td>NaN</td>\n",
       "      <td>3.603540</td>\n",
       "    </tr>\n",
       "    <tr>\n",
       "      <th>17</th>\n",
       "      <td>EX_glc__D_e</td>\n",
       "      <td>0.0</td>\n",
       "      <td>0.0</td>\n",
       "      <td>NaN</td>\n",
       "      <td>0.092538</td>\n",
       "      <td>1.225843e+00</td>\n",
       "      <td>NaN</td>\n",
       "      <td>3.828762</td>\n",
       "    </tr>\n",
       "    <tr>\n",
       "      <th>18</th>\n",
       "      <td>EX_glc__D_e</td>\n",
       "      <td>0.0</td>\n",
       "      <td>0.0</td>\n",
       "      <td>NaN</td>\n",
       "      <td>0.046269</td>\n",
       "      <td>6.129215e-01</td>\n",
       "      <td>NaN</td>\n",
       "      <td>4.053983</td>\n",
       "    </tr>\n",
       "    <tr>\n",
       "      <th>19</th>\n",
       "      <td>EX_glc__D_e</td>\n",
       "      <td>0.0</td>\n",
       "      <td>0.0</td>\n",
       "      <td>NaN</td>\n",
       "      <td>0.000000</td>\n",
       "      <td>2.188486e-14</td>\n",
       "      <td>NaN</td>\n",
       "      <td>4.279204</td>\n",
       "    </tr>\n",
       "  </tbody>\n",
       "</table>\n",
       "</div>"
      ],
      "text/plain": [
       "   carbon_source  flux_minimum  carbon_yield_minimum  mass_yield_minimum  \\\n",
       "0    EX_glc__D_e           0.0                   0.0                 NaN   \n",
       "1    EX_glc__D_e           0.0                   0.0                 NaN   \n",
       "2    EX_glc__D_e           0.0                   0.0                 NaN   \n",
       "3    EX_glc__D_e           0.0                   0.0                 NaN   \n",
       "4    EX_glc__D_e           0.0                   0.0                 NaN   \n",
       "5    EX_glc__D_e           0.0                   0.0                 NaN   \n",
       "6    EX_glc__D_e           0.0                   0.0                 NaN   \n",
       "7    EX_glc__D_e           0.0                   0.0                 NaN   \n",
       "8    EX_glc__D_e           0.0                   0.0                 NaN   \n",
       "9    EX_glc__D_e           0.0                   0.0                 NaN   \n",
       "10   EX_glc__D_e           0.0                   0.0                 NaN   \n",
       "11   EX_glc__D_e           0.0                   0.0                 NaN   \n",
       "12   EX_glc__D_e           0.0                   0.0                 NaN   \n",
       "13   EX_glc__D_e           0.0                   0.0                 NaN   \n",
       "14   EX_glc__D_e           0.0                   0.0                 NaN   \n",
       "15   EX_glc__D_e           0.0                   0.0                 NaN   \n",
       "16   EX_glc__D_e           0.0                   0.0                 NaN   \n",
       "17   EX_glc__D_e           0.0                   0.0                 NaN   \n",
       "18   EX_glc__D_e           0.0                   0.0                 NaN   \n",
       "19   EX_glc__D_e           0.0                   0.0                 NaN   \n",
       "\n",
       "    flux_maximum  carbon_yield_maximum  mass_yield_maximum      phhA  \n",
       "0       0.876997          1.161751e+01                 NaN  0.000000  \n",
       "1       0.831248          1.101147e+01                 NaN  0.225221  \n",
       "2       0.785499          1.040543e+01                 NaN  0.450443  \n",
       "3       0.739749          9.799397e+00                 NaN  0.675664  \n",
       "4       0.694000          9.193359e+00                 NaN  0.900885  \n",
       "5       0.647766          8.580901e+00                 NaN  1.126106  \n",
       "6       0.601497          7.967979e+00                 NaN  1.351328  \n",
       "7       0.555228          7.355058e+00                 NaN  1.576549  \n",
       "8       0.508959          6.742136e+00                 NaN  1.801770  \n",
       "9       0.462690          6.129215e+00                 NaN  2.026992  \n",
       "10      0.416421          5.516293e+00                 NaN  2.252213  \n",
       "11      0.370152          4.903372e+00                 NaN  2.477434  \n",
       "12      0.323883          4.290450e+00                 NaN  2.702655  \n",
       "13      0.277614          3.677529e+00                 NaN  2.927877  \n",
       "14      0.231345          3.064607e+00                 NaN  3.153098  \n",
       "15      0.185076          2.451686e+00                 NaN  3.378319  \n",
       "16      0.138807          1.838764e+00                 NaN  3.603540  \n",
       "17      0.092538          1.225843e+00                 NaN  3.828762  \n",
       "18      0.046269          6.129215e-01                 NaN  4.053983  \n",
       "19      0.000000          2.188486e-14                 NaN  4.279204  "
      ]
     },
     "execution_count": 35,
     "metadata": {},
     "output_type": "execute_result"
    }
   ],
   "source": [
    "ppp_5HTP"
   ]
  },
  {
   "cell_type": "code",
   "execution_count": 36,
   "metadata": {},
   "outputs": [
    {
     "data": {
      "text/plain": [
       "<matplotlib.axes._subplots.AxesSubplot at 0x7f75000d4d00>"
      ]
     },
     "execution_count": 36,
     "metadata": {},
     "output_type": "execute_result"
    },
    {
     "data": {
      "image/png": "[encoded data removed]",
      "text/plain": [
       "<Figure size 432x288 with 1 Axes>"
      ]
     },
     "metadata": {
      "needs_background": "light"
     },
     "output_type": "display_data"
    }
   ],
   "source": [
    "ppp_5HTP.plot(x='phhA', y='flux_maximum')"
   ]
  },
  {
   "cell_type": "markdown",
   "metadata": {},
   "source": [
    "**Optmizing 5-HTP production and growth rate**"
   ]
  },
  {
   "cell_type": "code",
   "execution_count": 37,
   "metadata": {},
   "outputs": [],
   "source": [
    "from cobra.flux_analysis import flux_variability_analysis"
   ]
  },
  {
   "cell_type": "code",
   "execution_count": 38,
   "metadata": {},
   "outputs": [
    {
     "name": "stdout",
     "output_type": "stream",
     "text": [
      "      minimum   maximum\n",
      "phhA      0.0  2.144746\n"
     ]
    }
   ],
   "source": [
    "hydroxy_trp_flux_analysis = flux_variability_analysis(model, model.reactions.phhA, fraction_of_optimum = 0.5)\n",
    "print(hydroxy_trp_flux_analysis)"
   ]
  },
  {
   "cell_type": "code",
   "execution_count": 39,
   "metadata": {},
   "outputs": [
    {
     "name": "stdout",
     "output_type": "stream",
     "text": [
      "2.1447464147568795\n"
     ]
    }
   ],
   "source": [
    "hydroxy_trp_flux_analysis = float(flux_variability_analysis(model, model.reactions.phhA, fraction_of_optimum = 0.5)[\"maximum\"][0])\n",
    "print(hydroxy_trp_flux_analysis)"
   ]
  },
  {
   "cell_type": "markdown",
   "metadata": {},
   "source": [
    "Keeping growth rate at 50%, we get around 50% of maximum 5-HTP flux, which is the same result as when optimizing for both fluxes."
   ]
  },
  {
   "cell_type": "markdown",
   "metadata": {},
   "source": [
    "**Knocking out a single gene and setting the objective value of the model for 5-HTP export flux**\n",
    "\n",
    "Only non-zero biomass production flux knock-outs are selected"
   ]
  },
  {
   "cell_type": "code",
   "execution_count": 40,
   "metadata": {},
   "outputs": [],
   "source": [
    "for gene in model.genes:\n",
    "    with model:\n",
    "        gene.knock_out()\n",
    "        model.objective = model.reactions.phhA\n",
    "        solution = model.optimize()\n",
    "        if solution.fluxes.BIOMASS_Ec_iML1515_core_75p37M > 0:\n",
    "            print ('5-HTP export flux:', solution.fluxes.tph, 'Gene ID:', gene.id, 'Biomass production:', solution.fluxes.BIOMASS_Ec_iML1515_core_75p37M)"
   ]
  },
  {
   "cell_type": "markdown",
   "metadata": {},
   "source": [
    "No solutions displayed, no single knock-outs and optmization to maximum 5-HTP production yields positive growth rate"
   ]
  },
  {
   "cell_type": "markdown",
   "metadata": {},
   "source": [
    "**Knocking out a single gene, running optimisation for max biomass production flux and observing 5-HTP export flux**\n",
    "\n",
    "Only non-zero 5-HTP export flux knock-outs are selected"
   ]
  },
  {
   "cell_type": "code",
   "execution_count": 41,
   "metadata": {},
   "outputs": [],
   "source": [
    "knock_out_list = pd.DataFrame(columns=['Gene ID', '5-HTP export flux', 'Biomass production flux'])\n",
    "for gene in model.genes:\n",
    "    with model:\n",
    "        gene.knock_out()\n",
    "        solution = model.optimize()\n",
    "        if solution.fluxes.phhA > 0:\n",
    "            knock_out_list = knock_out_list.append({ 'Gene ID': gene.id, '5-HTP export flux': solution.fluxes.phhA, 'Biomass production flux': model.optimize().objective_value}, ignore_index=True)"
   ]
  },
  {
   "cell_type": "code",
   "execution_count": 42,
   "metadata": {},
   "outputs": [
    {
     "name": "stdout",
     "output_type": "stream",
     "text": [
      "Empty DataFrame\n",
      "Columns: [Gene ID, 5-HTP export flux, Biomass production flux]\n",
      "Index: []\n"
     ]
    },
    {
     "name": "stderr",
     "output_type": "stream",
     "text": [
      "<ipython-input-42-f4d78eb1eacc>:4: FutureWarning: Passing a negative integer is deprecated in version 1.0 and will not be supported in future version. Instead, use None to not limit the column width.\n",
      "  pd.set_option('display.max_colwidth', -1)\n"
     ]
    }
   ],
   "source": [
    "pd.set_option('display.max_rows', None)\n",
    "pd.set_option('display.max_columns', None)\n",
    "pd.set_option('display.width', None)\n",
    "pd.set_option('display.max_colwidth', -1)\n",
    "print(knock_out_list)"
   ]
  },
  {
   "cell_type": "markdown",
   "metadata": {},
   "source": [
    "No solutions, no single knock-outs give rise to positive htp flux with maximum growth rate"
   ]
  },
  {
   "cell_type": "markdown",
   "metadata": {},
   "source": [
    "**Check whether change of carbon source will influence the growth rate at maximum 5-HTP flux**"
   ]
  },
  {
   "cell_type": "code",
   "execution_count": 43,
   "metadata": {},
   "outputs": [],
   "source": [
    "#create list to store the reactions' IDs\n",
    "carbon_uptake = list()\n",
    "\n",
    "#go through all metabolites in the model that have carbon in their chem.structure\n",
    "for metabolite in model.metabolites:\n",
    "    if 'C' in metabolite.elements:\n",
    "        #find metabolites that are external\n",
    "        if metabolite.id[-1] == 'e':\n",
    "            reactions = metabolite.reactions\n",
    "            #pick reactions which exchange the metabolite with the external environment\n",
    "            for element in reactions:\n",
    "                if str(element.id[:2]) == 'EX':\n",
    "                    carbon_uptake.append(element.id)"
   ]
  },
  {
   "cell_type": "code",
   "execution_count": 44,
   "metadata": {
    "collapsed": true,
    "jupyter": {
     "outputs_hidden": true
    }
   },
   "outputs": [
    {
     "name": "stdout",
     "output_type": "stream",
     "text": [
      "EX_co2_e with the name:  CO2 exchange\n",
      "EX_akg_e with the name:  2-Oxoglutarate exchange\n",
      "EX_gsn_e with the name:  Guanosine exchange\n",
      "EX_34dhpac_e with the name:  3,4-Dihydroxyphenylacetaldehyde exchange\n",
      "EX_anhgm_e with the name:  N-Acetyl-D-glucosamine(anhydrous)N-Acetylmuramic acid exchange\n",
      "EX_dms_e with the name:  Dimethyl sulfide exchange\n",
      "EX_galctn__L_e with the name:  L-Galactonate exchange\n",
      "EX_btn_e with the name:  Biotin exchange\n",
      "EX_ocdcea_e with the name:  Octadecenoate (n-C18:1) exchange\n",
      "EX_acmum_e with the name:  N-Acetylmuramate exchange\n",
      "EX_adocbl_e with the name:  Adenosylcobalamin exchange\n",
      "EX_novbcn_e with the name:  Novobiocin exchange\n",
      "EX_feenter_e with the name:  Fe-enterobactin exchange\n",
      "EX_arbtn_e with the name:  Aerobactin minus Fe3 exchange\n",
      "EX_gln__L_e with the name:  L-Glutamine exchange\n",
      "EX_cpgn_un_e with the name:  Coprogen unloaded (no Fe(III)) exchange\n",
      "EX_tre_e with the name:  Trehalose exchange\n",
      "EX_alaala_e with the name:  D-Alanyl-D-alanine exchange\n",
      "EX_idon__L_e with the name:  L-Idonate exchange\n",
      "EX_pheme_e with the name:  Protoheme exchange\n",
      "EX_all__D_e with the name:  D-Allose exchange\n",
      "EX_g1p_e with the name:  D-Glucose 1-phosphate exchange\n",
      "EX_ala__L_e with the name:  L-Alanine exchange\n",
      "EX_g6p_e with the name:  D-Glucose 6-phosphate exchange\n",
      "EX_mso3_e with the name:  Methanesulfonate exchange\n",
      "EX_thrp_e with the name:  L-Threonine O-3-phosphate exchange\n",
      "EX_LalaLglu_e with the name:  L-alanine-L-glutamate exchange\n",
      "EX_metsox_R__L_e with the name:  L-methionine-R-sulfoxide exchange\n",
      "EX_g3pe_e with the name:  Sn-Glycero-3-phosphoethanolamine exchange\n",
      "EX_ade_e with the name:  Adenine exchange\n",
      "EX_mepn_e with the name:  Methylphosphonic acid exchange\n",
      "EX_rmn_e with the name:  L-Rhamnose exchange\n",
      "EX_2ddglcn_e with the name:  2-Dehydro-3-deoxy-D-gluconate exchange\n",
      "EX_glyb_e with the name:  Glycine betaine exchange\n",
      "EX_glcr_e with the name:  D-Glucarate exchange\n",
      "EX_alltn_e with the name:  Allantoin exchange\n",
      "EX_f6p_e with the name:  D-fructose 6-phosphate exchange\n",
      "EX_ura_e with the name:  Uracil exchange\n",
      "EX_lys__L_e with the name:  L-Lysine exchange\n",
      "EX_ocdca_e with the name:  Octadecanoate (n-C18:0) exchange\n",
      "EX_gmp_e with the name:  GMP exchange\n",
      "EX_but_e with the name:  Butyrate (n-C4:0) exchange\n",
      "EX_LalaDgluMdapDala_e with the name:  L-alanine-D-glutamate-meso-2,6-diaminoheptanedioate-D-alanine exchange\n",
      "EX_tma_e with the name:  Trimethylamine exchange\n",
      "EX_lyx__L_e with the name:  L-Lyxose exchange\n",
      "EX_gtp_e with the name:  GTP exchange\n",
      "EX_cellb_e with the name:  Cellobiose exchange\n",
      "EX_sbt__D_e with the name:  D-Sorbitol exchange\n",
      "EX_arg__L_e with the name:  L-Arginine exchange\n",
      "EX_dgsn_e with the name:  Deoxyguanosine exchange\n",
      "EX_spmd_e with the name:  Spermidine exchange\n",
      "EX_fru_e with the name:  D-Fructose exchange\n",
      "EX_pyr_e with the name:  Pyruvate exchange\n",
      "EX_malttr_e with the name:  Maltotriose exchange\n",
      "EX_cys__D_e with the name:  D-Cysteine exchange\n",
      "EX_3hpppn_e with the name:  3-(3-hydroxy-phenyl)propionate exchange\n",
      "EX_val__L_e with the name:  L-Valine exchange\n",
      "EX_hom__L_e with the name:  L-Homoserine exchange\n",
      "EX_dcmp_e with the name:  DCMP exchange\n",
      "EX_dgmp_e with the name:  DGMP exchange\n",
      "EX_met__D_e with the name:  D-Methionine exchange\n",
      "EX_23ccmp_e with the name:  2',3'-Cyclic CMP exchange\n",
      "EX_dmso_e with the name:  Dimethyl sulfoxide exchange\n",
      "EX_udpg_e with the name:  UDPglucose exchange\n",
      "EX_acgal_e with the name:  N-Acetyl-D-galactosamine exchange\n",
      "EX_thymd_e with the name:  Thymidine exchange\n",
      "EX_ac_e with the name:  Acetate exchange\n",
      "EX_etoh_e with the name:  Ethanol exchange\n",
      "EX_pro__L_e with the name:  L-Proline exchange\n",
      "EX_taur_e with the name:  Taurine exchange\n",
      "EX_xmp_e with the name:  Xanthosine 5'-phosphate exchange\n",
      "EX_gam6p_e with the name:  D-Glucosamine 6-phosphate exchange\n",
      "EX_glcur1p_e with the name:  D-Glucuronate 1-phosphate exchange\n",
      "EX_nac_e with the name:  Nicotinate exchange\n",
      "EX_gal_e with the name:  D-Galactose exchange\n",
      "EX_dha_e with the name:  Dihydroxyacetone exchange\n",
      "EX_gal_bD_e with the name:  Beta D-Galactose exchange\n",
      "EX_cit_e with the name:  Citrate exchange\n",
      "EX_leu__L_e with the name:  L-Leucine exchange\n",
      "EX_ala__D_e with the name:  D-Alanine exchange\n",
      "EX_skm_e with the name:  Shikimate exchange\n",
      "EX_galt_e with the name:  Galactitol exchange\n",
      "EX_5dglcn_e with the name:  5-Dehydro-D-gluconate exchange\n",
      "EX_cynt_e with the name:  Cyanate exchange\n",
      "EX_4abzglu_e with the name:  4-aminobenzoyl-glutamate exchange\n",
      "EX_sulfac_e with the name:  Sulfoacetate exchange\n",
      "EX_gam_e with the name:  D-Glucosamine exchange\n",
      "EX_met__L_e with the name:  L-Methionine exchange\n",
      "EX_acmana_e with the name:  N-Acetyl-D-mannosamine exchange\n",
      "EX_ascb__L_e with the name:  L-Ascorbate exchange\n",
      "EX_malt_e with the name:  Maltose exchange\n",
      "EX_23dappa_e with the name:  2,3-diaminopropionate exchange\n",
      "EX_sq_e with the name:  Sulphoquinovose exchange\n",
      "EX_progly_e with the name:  L-Prolinylglycine exchange\n",
      "EX_man_e with the name:  D-Mannose exchange\n",
      "EX_dcyt_e with the name:  Deoxycytidine exchange\n",
      "EX_orot_e with the name:  Orotate exchange\n",
      "EX_nmn_e with the name:  NMN exchange\n",
      "EX_man6p_e with the name:  D-Mannose 6-phosphate exchange\n",
      "EX_asn__L_e with the name:  L-Asparagine exchange\n",
      "EX_lcts_e with the name:  Lactose exchange\n",
      "EX_udpglcur_e with the name:  UDP-D-glucuronate exchange\n",
      "EX_dca_e with the name:  Decanoate (n-C10:0) exchange\n",
      "EX_chtbs_e with the name:  Chitobiose exchange\n",
      "EX_dopa_e with the name:  Dopamine exchange\n",
      "EX_isetac_e with the name:  Isethionic acid exchange\n",
      "EX_metglcur_e with the name:  1-O-methyl-Beta-D-glucuronate exchange\n",
      "EX_adn_e with the name:  Adenosine exchange\n",
      "EX_fe3dcit_e with the name:  Fe(III)dicitrate exchange\n",
      "EX_lac__D_e with the name:  D-lactate exchange\n",
      "EX_damp_e with the name:  DAMP exchange\n",
      "EX_feoxam_e with the name:  Ferroxamine exchange\n",
      "EX_lipoate_e with the name:  Lipoate exchange\n",
      "EX_doxrbcn_e with the name:  Doxorubicin exchange\n",
      "EX_ser__D_e with the name:  D-Serine exchange\n",
      "EX_amp_e with the name:  AMP exchange\n",
      "EX_arab__L_e with the name:  L-Arabinose exchange\n",
      "EX_crn__D_e with the name:  D-carnitine exchange\n",
      "EX_pppn_e with the name:  Phenylpropanoate exchange\n",
      "EX_3hcinnm_e with the name:  3-hydroxycinnamic acid exchange\n",
      "EX_LalaDgluMdap_e with the name:  L-alanine-D-glutamate-meso-2,6-diaminoheptanedioate exchange\n",
      "EX_chol_e with the name:  Choline exchange\n",
      "EX_gly_e with the name:  Glycine exchange\n",
      "EX_tmao_e with the name:  Trimethylamine N-oxide exchange\n",
      "EX_enlipa_e with the name:  Phosphoethanolamine KDO(2)-lipid (A) exchange\n",
      "EX_glyc_e with the name:  Glycerol exchange\n",
      "EX_dad_2_e with the name:  Deoxyadenosine exchange\n",
      "EX_tartr__L_e with the name:  L-tartrate exchange\n",
      "EX_octa_e with the name:  Octanoate (n-C8:0) exchange\n",
      "EX_thym_e with the name:  Thymine exchange\n",
      "EX_gdp_e with the name:  GDP exchange\n",
      "EX_4hoxpacd_e with the name:  4-Hydroxyphenylacetaldehyde exchange\n",
      "EX_cbi_e with the name:  Cobinamide exchange\n",
      "EX_crn_e with the name:  L-Carnitine exchange\n",
      "EX_dtmp_e with the name:  DTMP exchange\n",
      "EX_thm_e with the name:  Thiamin exchange\n",
      "EX_glyald_e with the name:  D-Glyceraldehyde exchange\n",
      "EX_indole_e with the name:  Indole exchange\n",
      "EX_mththf_e with the name:  (2R,4S)-2-methyl-2,3,3,4-tetrahydroxytetrahydrofuran exchange\n",
      "EX_g3pg_e with the name:  Glycerophosphoglycerol exchange\n",
      "EX_orn_e with the name:  Ornithine exchange\n",
      "EX_4abut_e with the name:  4-Aminobutanoate exchange\n",
      "EX_glu__L_e with the name:  L-Glutamate exchange\n",
      "EX_manglyc_e with the name:  2(alpha-D-Mannosyl)-D-glycerate exchange\n",
      "EX_halipa_e with the name:  Hepta-acylated KDO(2)-lipid (A) exchange\n",
      "EX_r5p_e with the name:  Alpha-D-Ribose 5-phosphate exchange\n",
      "EX_acser_e with the name:  O-Acetyl-L-serine exchange\n",
      "EX_dxylnt_e with the name:  D-Xylonate exchange\n",
      "EX_tartr__D_e with the name:  D-tartrate exchange\n",
      "EX_ile__L_e with the name:  L-Isoleucine exchange\n",
      "EX_his__L_e with the name:  L-Histidine exchange\n",
      "EX_hxan_e with the name:  Hypoxanthine exchange\n",
      "EX_tyr__L_e with the name:  L-Tyrosine exchange\n",
      "EX_acac_e with the name:  Acetoacetate exchange\n",
      "EX_fmn_e with the name:  FMN exchange\n",
      "EX_cys__L_e with the name:  L-Cysteine exchange\n",
      "EX_glyc3p_e with the name:  Glycerol 3-phosphate exchange\n",
      "EX_26dap__M_e with the name:  Meso-2,6-Diaminoheptanedioate exchange\n",
      "EX_g3ps_e with the name:  Glycerophosphoserine exchange\n",
      "EX_ddca_e with the name:  Dodecanoate (n-C12:0) exchange\n",
      "EX_hacolipa_e with the name:  Hepta-acylated core oligosaccharide lipid A (E. coli) exchange\n",
      "EX_arbt_e with the name:  Arbutin exchange\n",
      "EX_fad_e with the name:  Exchange of Flavin adenine dinucleotide oxidized\n",
      "EX_pacald_e with the name:  Phenylacetaldehyde exchange\n",
      "EX_inost_e with the name:  Myo-Inositol exchange\n",
      "EX_fe3dhbzs_e with the name:  Ferric 2,3-dihydroxybenzoylserine exchange\n",
      "EX_cytd_e with the name:  Cytidine exchange\n",
      "EX_tcynt_e with the name:  Thiocyanate exchange\n",
      "EX_glyclt_e with the name:  Glycolate exchange\n",
      "EX_12ppd__S_e with the name:  (S)-Propane-1,2-diol exchange\n",
      "EX_ppa_e with the name:  Propionate exchange\n",
      "EX_xan_e with the name:  Xanthine exchange\n",
      "EX_uacgam_e with the name:  UDP-N-acetyl-D-glucosamine exchange\n",
      "EX_ttdcea_e with the name:  Tetradecenoate (n-C14:1) exchange\n",
      "EX_fruur_e with the name:  D-Fructuronate exchange\n",
      "EX_dump_e with the name:  DUMP exchange\n",
      "EX_imp_e with the name:  IMP exchange\n",
      "EX_gal1p_e with the name:  Alpha-D-Galactose 1-phosphate exchange\n",
      "EX_xyl__D_e with the name:  D-Xylose exchange\n",
      "EX_galctn__D_e with the name:  D-Galactonate exchange\n",
      "EX_glc__D_e with the name:  D-Glucose exchange\n",
      "EX_g3pi_e with the name:  Sn-Glycero-3-phospho-1-inositol exchange\n",
      "EX_g3pc_e with the name:  Sn-Glycero-3-phosphocholine exchange\n",
      "EX_hdca_e with the name:  Hexadecanoate (n-C16:0) exchange\n",
      "EX_fald_e with the name:  Formaldehyde exchange\n",
      "EX_csn_e with the name:  Cytosine exchange\n",
      "EX_succ_e with the name:  Succinate exchange\n",
      "EX_ser__L_e with the name:  L-Serine exchange\n",
      "EX_xtsn_e with the name:  Xanthosine exchange\n",
      "EX_ttdca_e with the name:  Tetradecanoate (n-C14:0) exchange\n",
      "EX_mmet_e with the name:  S-Methyl-L-methionine exchange\n",
      "EX_fecrm_e with the name:  Ferrichrome exchange\n",
      "EX_mal__D_e with the name:  D-Malate exchange\n",
      "EX_ins_e with the name:  Inosine exchange\n",
      "EX_arbtn_fe3_e with the name:  Aerobactin exchange\n",
      "EX_gthox_e with the name:  Oxidized glutathione exchange\n",
      "EX_3gmp_e with the name:  3'-GMP exchange\n",
      "EX_3hpp_e with the name:  3-Hydroxypropanoate exchange\n",
      "EX_acgam_e with the name:  N-Acetyl-D-glucosamine exchange\n",
      "EX_pnto__R_e with the name:  (R)-Pantothenate exchange\n",
      "EX_glcn_e with the name:  D-Gluconate exchange\n",
      "EX_duri_e with the name:  Deoxyuridine exchange\n",
      "EX_minohp_e with the name:  Myo-Inositol hexakisphosphate exchange\n",
      "EX_acnam_e with the name:  N-Acetylneuraminate exchange\n",
      "EX_cgly_e with the name:  Cys-Gly exchange\n",
      "EX_ump_e with the name:  UMP exchange\n",
      "EX_ch4_e with the name:  EX ch4 LPAREN e RPAREN \n",
      "EX_udpgal_e with the name:  UDPgalactose exchange\n",
      "EX_12ppd__R_e with the name:  (R)-Propane-1,2-diol exchange\n",
      "EX_glyc2p_e with the name:  Glycerol 2-phosphate exchange\n",
      "EX_ttrcyc_e with the name:  Tetracycline exchange\n",
      "EX_lac__L_e with the name:  L-Lactate exchange\n",
      "EX_cbl1_e with the name:  Cob(I)alamin exchange\n",
      "EX_xylu__L_e with the name:  L-Xylulose exchange\n",
      "EX_pydx_e with the name:  Pyridoxal exchange\n",
      "EX_gua_e with the name:  Guanine exchange\n",
      "EX_glyc__R_e with the name:  (R)-Glycerate exchange\n",
      "EX_eca4colipa_e with the name:  (enterobacterial common antigen)x4 core oligosaccharide lipid A exchange\n",
      "EX_cyan_e with the name:  Hydrogen cyanide exchange\n",
      "EX_ala_B_e with the name:  Beta-Alanine exchange\n",
      "EX_fecrm_un_e with the name:  Ferrichrome minus Fe(III) exchange\n",
      "EX_fuc__L_e with the name:  L-Fucose exchange\n",
      "EX_3cmp_e with the name:  3'-cmp exchange\n",
      "EX_butso3_e with the name:  Butanesulfonate exchange\n",
      "EX_ptrc_e with the name:  Putrescine exchange\n",
      "EX_hxa_e with the name:  Hexanoate (n-C6:0) exchange\n",
      "EX_acgal1p_e with the name:  N-Acetyl-D-galactosamine 1-phosphate exchange\n",
      "EX_malthx_e with the name:  Maltohexaose exchange\n",
      "EX_dimp_e with the name:  DIMP exchange\n",
      "EX_3ump_e with the name:  3'-UMP exchange\n",
      "EX_ethso3_e with the name:  Ethanesulfonate exchange\n",
      "EX_psclys_e with the name:  Psicoselysine exchange\n",
      "EX_quin_e with the name:  Quinate exchange\n",
      "EX_ppal_e with the name:  Propanal exchange\n",
      "EX_sucr_e with the name:  Sucrose exchange\n",
      "EX_urea_e with the name:  Urea exchange\n",
      "EX_fusa_e with the name:  Fusidic acid exchange\n",
      "EX_tyrp_e with the name:  Phosphotyrosine exchange\n",
      "EX_hdcea_e with the name:  Hexadecenoate (n-C16:1) exchange\n",
      "EX_gthrd_e with the name:  Reduced glutathione exchange\n",
      "EX_2dglc_e with the name:  2-Deoxy-D-glucose exchange\n",
      "EX_frulys_e with the name:  Fructoselysine exchange\n",
      "EX_cmp_e with the name:  CMP exchange\n",
      "EX_pydam_e with the name:  Pyridoxamine exchange\n",
      "EX_3amp_e with the name:  3'-AMP exchange\n",
      "EX_14glucan_e with the name:  1,4-alpha-D-glucan exchange\n",
      "EX_asp__L_e with the name:  L-Aspartate exchange\n",
      "EX_thr__L_e with the name:  L-Threonine exchange\n",
      "EX_maltpt_e with the name:  Maltopentaose exchange\n",
      "EX_metsox_S__L_e with the name:  L-Methionine S-oxide exchange\n",
      "EX_15dap_e with the name:  1,5-Diaminopentane exchange\n",
      "EX_meoh_e with the name:  Methanol exchange\n",
      "EX_melib_e with the name:  Melibiose exchange\n",
      "EX_etha_e with the name:  Ethanolamine exchange\n",
      "EX_maltttr_e with the name:  Maltotetraose exchange\n",
      "EX_glcur_e with the name:  D-Glucuronate exchange\n",
      "EX_fe3hox_e with the name:  Fe(III)hydroxamate exchange\n",
      "EX_gbbtn_e with the name:  Gamma-butyrobetaine exchange\n",
      "EX_enter_e with the name:  Enterochelin exchange\n",
      "EX_acgam1p_e with the name:  N-Acetyl-D-glucosamine 1-phosphate exchange\n",
      "EX_LalaDglu_e with the name:  L-alanine-D-glutamate exchange\n",
      "EX_urate_e with the name:  Urate exchange\n",
      "EX_cm_e with the name:  Chloramphenicol exchange\n",
      "EX_agm_e with the name:  Agmatine exchange\n",
      "EX_mal__L_e with the name:  L-Malate exchange\n",
      "EX_phe__L_e with the name:  L-Phenylalanine exchange\n",
      "EX_cpgn_e with the name:  Coprogen exchange\n",
      "EX_fum_e with the name:  Fumarate exchange\n",
      "EX_acald_e with the name:  Acetaldehyde exchange\n",
      "EX_peamn_e with the name:  Phenethylamine exchange\n",
      "EX_feoxam_un_e with the name:  Ferroxamine minus Fe(3) exchange\n",
      "EX_udpacgal_e with the name:  UDP-N-acetyl-D-galactosamine exchange\n",
      "EX_fe3hox_un_e with the name:  Fe(III)hydoxamate, unloaded exchange\n",
      "EX_pydxn_e with the name:  Pyridoxine exchange\n",
      "EX_23cgmp_e with the name:  2',3'-Cyclic GMP exchange\n",
      "EX_tym_e with the name:  Tyramine exchange\n",
      "EX_pser__L_e with the name:  O-Phospho-L-serine exchange\n",
      "EX_5mtr_e with the name:  5-Methylthio-D-ribose exchange\n",
      "EX_mincyc_e with the name:  Minocycline exchange\n",
      "EX_rfamp_e with the name:  Rifampin exchange\n",
      "EX_rib__D_e with the name:  D-Ribose exchange\n",
      "EX_uri_e with the name:  Uridine exchange\n",
      "EX_trp__L_e with the name:  L-Tryptophan exchange\n",
      "EX_din_e with the name:  Deoxyinosine exchange\n",
      "EX_galct__D_e with the name:  D-Galactarate exchange\n",
      "EX_galur_e with the name:  D-Galacturonate exchange\n",
      "EX_23camp_e with the name:  2',3'-Cyclic AMP exchange\n",
      "EX_dhps_e with the name:  2,3-Dihydroxypropane-1-sulfonate exchange\n",
      "EX_mnl_e with the name:  D-Mannitol exchange\n",
      "EX_for_e with the name:  Formate exchange\n",
      "EX_23cump_e with the name:  2',3'-Cyclic UMP exchange\n"
     ]
    }
   ],
   "source": [
    "for reaction in carbon_uptake:\n",
    "    print(reaction, \"with the name: \", model.reactions.get_by_id(reaction).name)\n"
   ]
  },
  {
   "cell_type": "code",
   "execution_count": 45,
   "metadata": {
    "collapsed": true,
    "jupyter": {
     "outputs_hidden": true
    }
   },
   "outputs": [
    {
     "data": {
      "text/plain": [
       "{'EX_pi_e': 1000.0,\n",
       " 'EX_co2_e': 1000.0,\n",
       " 'EX_fe3_e': 1000.0,\n",
       " 'EX_h_e': 1000.0,\n",
       " 'EX_mn2_e': 1000.0,\n",
       " 'EX_fe2_e': 1000.0,\n",
       " 'EX_glc__D_e': 10.0,\n",
       " 'EX_zn2_e': 1000.0,\n",
       " 'EX_mg2_e': 1000.0,\n",
       " 'EX_ca2_e': 1000.0,\n",
       " 'EX_ni2_e': 1000.0,\n",
       " 'EX_cu2_e': 1000.0,\n",
       " 'EX_sel_e': 1000.0,\n",
       " 'EX_cobalt2_e': 1000.0,\n",
       " 'EX_h2o_e': 1000.0,\n",
       " 'EX_mobd_e': 1000.0,\n",
       " 'EX_so4_e': 1000.0,\n",
       " 'EX_nh4_e': 1000.0,\n",
       " 'EX_k_e': 1000.0,\n",
       " 'EX_na1_e': 1000.0,\n",
       " 'EX_cl_e': 1000.0,\n",
       " 'EX_o2_e': 1000.0,\n",
       " 'EX_tungs_e': 1000.0,\n",
       " 'EX_slnt_e': 1000.0}"
      ]
     },
     "execution_count": 45,
     "metadata": {},
     "output_type": "execute_result"
    }
   ],
   "source": [
    "model.medium"
   ]
  },
  {
   "cell_type": "code",
   "execution_count": 46,
   "metadata": {
    "collapsed": true,
    "jupyter": {
     "outputs_hidden": true
    }
   },
   "outputs": [
    {
     "name": "stderr",
     "output_type": "stream",
     "text": [
      "/opt/conda/lib/python3.8/site-packages/cobra/util/solver.py:508: UserWarning: Solver status is 'infeasible'.\n",
      "  warn(f\"Solver status is '{status}'.\", UserWarning)\n",
      "/opt/conda/lib/python3.8/site-packages/cobra/util/solver.py:508: UserWarning: Solver status is 'infeasible'.\n",
      "  warn(f\"Solver status is '{status}'.\", UserWarning)\n",
      "/opt/conda/lib/python3.8/site-packages/cobra/util/solver.py:508: UserWarning: Solver status is 'infeasible'.\n",
      "  warn(f\"Solver status is '{status}'.\", UserWarning)\n",
      "/opt/conda/lib/python3.8/site-packages/cobra/util/solver.py:508: UserWarning: Solver status is 'infeasible'.\n",
      "  warn(f\"Solver status is '{status}'.\", UserWarning)\n",
      "/opt/conda/lib/python3.8/site-packages/cobra/util/solver.py:508: UserWarning: Solver status is 'infeasible'.\n",
      "  warn(f\"Solver status is '{status}'.\", UserWarning)\n",
      "/opt/conda/lib/python3.8/site-packages/cobra/util/solver.py:508: UserWarning: Solver status is 'infeasible'.\n",
      "  warn(f\"Solver status is '{status}'.\", UserWarning)\n",
      "/opt/conda/lib/python3.8/site-packages/cobra/util/solver.py:508: UserWarning: Solver status is 'infeasible'.\n",
      "  warn(f\"Solver status is '{status}'.\", UserWarning)\n",
      "/opt/conda/lib/python3.8/site-packages/cobra/util/solver.py:508: UserWarning: Solver status is 'infeasible'.\n",
      "  warn(f\"Solver status is '{status}'.\", UserWarning)\n",
      "/opt/conda/lib/python3.8/site-packages/cobra/util/solver.py:508: UserWarning: Solver status is 'infeasible'.\n",
      "  warn(f\"Solver status is '{status}'.\", UserWarning)\n",
      "/opt/conda/lib/python3.8/site-packages/cobra/util/solver.py:508: UserWarning: Solver status is 'infeasible'.\n",
      "  warn(f\"Solver status is '{status}'.\", UserWarning)\n",
      "/opt/conda/lib/python3.8/site-packages/cobra/util/solver.py:508: UserWarning: Solver status is 'infeasible'.\n",
      "  warn(f\"Solver status is '{status}'.\", UserWarning)\n",
      "/opt/conda/lib/python3.8/site-packages/cobra/util/solver.py:508: UserWarning: Solver status is 'infeasible'.\n",
      "  warn(f\"Solver status is '{status}'.\", UserWarning)\n",
      "/opt/conda/lib/python3.8/site-packages/cobra/util/solver.py:508: UserWarning: Solver status is 'infeasible'.\n",
      "  warn(f\"Solver status is '{status}'.\", UserWarning)\n",
      "/opt/conda/lib/python3.8/site-packages/cobra/util/solver.py:508: UserWarning: Solver status is 'infeasible'.\n",
      "  warn(f\"Solver status is '{status}'.\", UserWarning)\n",
      "/opt/conda/lib/python3.8/site-packages/cobra/util/solver.py:508: UserWarning: Solver status is 'infeasible'.\n",
      "  warn(f\"Solver status is '{status}'.\", UserWarning)\n",
      "/opt/conda/lib/python3.8/site-packages/cobra/util/solver.py:508: UserWarning: Solver status is 'infeasible'.\n",
      "  warn(f\"Solver status is '{status}'.\", UserWarning)\n",
      "/opt/conda/lib/python3.8/site-packages/cobra/util/solver.py:508: UserWarning: Solver status is 'infeasible'.\n",
      "  warn(f\"Solver status is '{status}'.\", UserWarning)\n",
      "/opt/conda/lib/python3.8/site-packages/cobra/util/solver.py:508: UserWarning: Solver status is 'infeasible'.\n",
      "  warn(f\"Solver status is '{status}'.\", UserWarning)\n",
      "/opt/conda/lib/python3.8/site-packages/cobra/util/solver.py:508: UserWarning: Solver status is 'infeasible'.\n",
      "  warn(f\"Solver status is '{status}'.\", UserWarning)\n",
      "/opt/conda/lib/python3.8/site-packages/cobra/util/solver.py:508: UserWarning: Solver status is 'infeasible'.\n",
      "  warn(f\"Solver status is '{status}'.\", UserWarning)\n",
      "/opt/conda/lib/python3.8/site-packages/cobra/util/solver.py:508: UserWarning: Solver status is 'infeasible'.\n",
      "  warn(f\"Solver status is '{status}'.\", UserWarning)\n",
      "/opt/conda/lib/python3.8/site-packages/cobra/util/solver.py:508: UserWarning: Solver status is 'infeasible'.\n",
      "  warn(f\"Solver status is '{status}'.\", UserWarning)\n",
      "/opt/conda/lib/python3.8/site-packages/cobra/util/solver.py:508: UserWarning: Solver status is 'infeasible'.\n",
      "  warn(f\"Solver status is '{status}'.\", UserWarning)\n",
      "/opt/conda/lib/python3.8/site-packages/cobra/util/solver.py:508: UserWarning: Solver status is 'infeasible'.\n",
      "  warn(f\"Solver status is '{status}'.\", UserWarning)\n",
      "/opt/conda/lib/python3.8/site-packages/cobra/util/solver.py:508: UserWarning: Solver status is 'infeasible'.\n",
      "  warn(f\"Solver status is '{status}'.\", UserWarning)\n",
      "/opt/conda/lib/python3.8/site-packages/cobra/util/solver.py:508: UserWarning: Solver status is 'infeasible'.\n",
      "  warn(f\"Solver status is '{status}'.\", UserWarning)\n",
      "/opt/conda/lib/python3.8/site-packages/cobra/util/solver.py:508: UserWarning: Solver status is 'infeasible'.\n",
      "  warn(f\"Solver status is '{status}'.\", UserWarning)\n",
      "/opt/conda/lib/python3.8/site-packages/cobra/util/solver.py:508: UserWarning: Solver status is 'infeasible'.\n",
      "  warn(f\"Solver status is '{status}'.\", UserWarning)\n",
      "/opt/conda/lib/python3.8/site-packages/cobra/util/solver.py:508: UserWarning: Solver status is 'infeasible'.\n",
      "  warn(f\"Solver status is '{status}'.\", UserWarning)\n",
      "/opt/conda/lib/python3.8/site-packages/cobra/util/solver.py:508: UserWarning: Solver status is 'infeasible'.\n",
      "  warn(f\"Solver status is '{status}'.\", UserWarning)\n",
      "/opt/conda/lib/python3.8/site-packages/cobra/util/solver.py:508: UserWarning: Solver status is 'infeasible'.\n",
      "  warn(f\"Solver status is '{status}'.\", UserWarning)\n",
      "/opt/conda/lib/python3.8/site-packages/cobra/util/solver.py:508: UserWarning: Solver status is 'infeasible'.\n",
      "  warn(f\"Solver status is '{status}'.\", UserWarning)\n",
      "/opt/conda/lib/python3.8/site-packages/cobra/util/solver.py:508: UserWarning: Solver status is 'infeasible'.\n",
      "  warn(f\"Solver status is '{status}'.\", UserWarning)\n",
      "/opt/conda/lib/python3.8/site-packages/cobra/util/solver.py:508: UserWarning: Solver status is 'infeasible'.\n",
      "  warn(f\"Solver status is '{status}'.\", UserWarning)\n",
      "/opt/conda/lib/python3.8/site-packages/cobra/util/solver.py:508: UserWarning: Solver status is 'infeasible'.\n",
      "  warn(f\"Solver status is '{status}'.\", UserWarning)\n",
      "/opt/conda/lib/python3.8/site-packages/cobra/util/solver.py:508: UserWarning: Solver status is 'infeasible'.\n",
      "  warn(f\"Solver status is '{status}'.\", UserWarning)\n",
      "/opt/conda/lib/python3.8/site-packages/cobra/util/solver.py:508: UserWarning: Solver status is 'infeasible'.\n",
      "  warn(f\"Solver status is '{status}'.\", UserWarning)\n",
      "/opt/conda/lib/python3.8/site-packages/cobra/util/solver.py:508: UserWarning: Solver status is 'infeasible'.\n",
      "  warn(f\"Solver status is '{status}'.\", UserWarning)\n",
      "/opt/conda/lib/python3.8/site-packages/cobra/util/solver.py:508: UserWarning: Solver status is 'infeasible'.\n",
      "  warn(f\"Solver status is '{status}'.\", UserWarning)\n",
      "/opt/conda/lib/python3.8/site-packages/cobra/util/solver.py:508: UserWarning: Solver status is 'infeasible'.\n",
      "  warn(f\"Solver status is '{status}'.\", UserWarning)\n",
      "/opt/conda/lib/python3.8/site-packages/cobra/util/solver.py:508: UserWarning: Solver status is 'infeasible'.\n",
      "  warn(f\"Solver status is '{status}'.\", UserWarning)\n",
      "/opt/conda/lib/python3.8/site-packages/cobra/util/solver.py:508: UserWarning: Solver status is 'infeasible'.\n",
      "  warn(f\"Solver status is '{status}'.\", UserWarning)\n",
      "/opt/conda/lib/python3.8/site-packages/cobra/util/solver.py:508: UserWarning: Solver status is 'infeasible'.\n",
      "  warn(f\"Solver status is '{status}'.\", UserWarning)\n",
      "/opt/conda/lib/python3.8/site-packages/cobra/util/solver.py:508: UserWarning: Solver status is 'infeasible'.\n",
      "  warn(f\"Solver status is '{status}'.\", UserWarning)\n",
      "/opt/conda/lib/python3.8/site-packages/cobra/util/solver.py:508: UserWarning: Solver status is 'infeasible'.\n",
      "  warn(f\"Solver status is '{status}'.\", UserWarning)\n",
      "/opt/conda/lib/python3.8/site-packages/cobra/util/solver.py:508: UserWarning: Solver status is 'infeasible'.\n",
      "  warn(f\"Solver status is '{status}'.\", UserWarning)\n",
      "/opt/conda/lib/python3.8/site-packages/cobra/util/solver.py:508: UserWarning: Solver status is 'infeasible'.\n",
      "  warn(f\"Solver status is '{status}'.\", UserWarning)\n",
      "/opt/conda/lib/python3.8/site-packages/cobra/util/solver.py:508: UserWarning: Solver status is 'infeasible'.\n",
      "  warn(f\"Solver status is '{status}'.\", UserWarning)\n",
      "/opt/conda/lib/python3.8/site-packages/cobra/util/solver.py:508: UserWarning: Solver status is 'infeasible'.\n",
      "  warn(f\"Solver status is '{status}'.\", UserWarning)\n",
      "/opt/conda/lib/python3.8/site-packages/cobra/util/solver.py:508: UserWarning: Solver status is 'infeasible'.\n",
      "  warn(f\"Solver status is '{status}'.\", UserWarning)\n",
      "/opt/conda/lib/python3.8/site-packages/cobra/util/solver.py:508: UserWarning: Solver status is 'infeasible'.\n",
      "  warn(f\"Solver status is '{status}'.\", UserWarning)\n",
      "/opt/conda/lib/python3.8/site-packages/cobra/util/solver.py:508: UserWarning: Solver status is 'infeasible'.\n",
      "  warn(f\"Solver status is '{status}'.\", UserWarning)\n",
      "/opt/conda/lib/python3.8/site-packages/cobra/util/solver.py:508: UserWarning: Solver status is 'infeasible'.\n",
      "  warn(f\"Solver status is '{status}'.\", UserWarning)\n",
      "/opt/conda/lib/python3.8/site-packages/cobra/util/solver.py:508: UserWarning: Solver status is 'infeasible'.\n",
      "  warn(f\"Solver status is '{status}'.\", UserWarning)\n",
      "/opt/conda/lib/python3.8/site-packages/cobra/util/solver.py:508: UserWarning: Solver status is 'infeasible'.\n",
      "  warn(f\"Solver status is '{status}'.\", UserWarning)\n",
      "/opt/conda/lib/python3.8/site-packages/cobra/util/solver.py:508: UserWarning: Solver status is 'infeasible'.\n",
      "  warn(f\"Solver status is '{status}'.\", UserWarning)\n",
      "/opt/conda/lib/python3.8/site-packages/cobra/util/solver.py:508: UserWarning: Solver status is 'infeasible'.\n",
      "  warn(f\"Solver status is '{status}'.\", UserWarning)\n",
      "/opt/conda/lib/python3.8/site-packages/cobra/util/solver.py:508: UserWarning: Solver status is 'infeasible'.\n",
      "  warn(f\"Solver status is '{status}'.\", UserWarning)\n",
      "/opt/conda/lib/python3.8/site-packages/cobra/util/solver.py:508: UserWarning: Solver status is 'infeasible'.\n",
      "  warn(f\"Solver status is '{status}'.\", UserWarning)\n",
      "/opt/conda/lib/python3.8/site-packages/cobra/util/solver.py:508: UserWarning: Solver status is 'infeasible'.\n",
      "  warn(f\"Solver status is '{status}'.\", UserWarning)\n",
      "/opt/conda/lib/python3.8/site-packages/cobra/util/solver.py:508: UserWarning: Solver status is 'infeasible'.\n",
      "  warn(f\"Solver status is '{status}'.\", UserWarning)\n",
      "/opt/conda/lib/python3.8/site-packages/cobra/util/solver.py:508: UserWarning: Solver status is 'infeasible'.\n",
      "  warn(f\"Solver status is '{status}'.\", UserWarning)\n",
      "/opt/conda/lib/python3.8/site-packages/cobra/util/solver.py:508: UserWarning: Solver status is 'infeasible'.\n",
      "  warn(f\"Solver status is '{status}'.\", UserWarning)\n",
      "/opt/conda/lib/python3.8/site-packages/cobra/util/solver.py:508: UserWarning: Solver status is 'infeasible'.\n",
      "  warn(f\"Solver status is '{status}'.\", UserWarning)\n",
      "/opt/conda/lib/python3.8/site-packages/cobra/util/solver.py:508: UserWarning: Solver status is 'infeasible'.\n",
      "  warn(f\"Solver status is '{status}'.\", UserWarning)\n",
      "/opt/conda/lib/python3.8/site-packages/cobra/util/solver.py:508: UserWarning: Solver status is 'infeasible'.\n",
      "  warn(f\"Solver status is '{status}'.\", UserWarning)\n",
      "/opt/conda/lib/python3.8/site-packages/cobra/util/solver.py:508: UserWarning: Solver status is 'infeasible'.\n",
      "  warn(f\"Solver status is '{status}'.\", UserWarning)\n",
      "/opt/conda/lib/python3.8/site-packages/cobra/util/solver.py:508: UserWarning: Solver status is 'infeasible'.\n",
      "  warn(f\"Solver status is '{status}'.\", UserWarning)\n",
      "/opt/conda/lib/python3.8/site-packages/cobra/util/solver.py:508: UserWarning: Solver status is 'infeasible'.\n",
      "  warn(f\"Solver status is '{status}'.\", UserWarning)\n",
      "/opt/conda/lib/python3.8/site-packages/cobra/util/solver.py:508: UserWarning: Solver status is 'infeasible'.\n",
      "  warn(f\"Solver status is '{status}'.\", UserWarning)\n",
      "/opt/conda/lib/python3.8/site-packages/cobra/util/solver.py:508: UserWarning: Solver status is 'infeasible'.\n",
      "  warn(f\"Solver status is '{status}'.\", UserWarning)\n",
      "/opt/conda/lib/python3.8/site-packages/cobra/util/solver.py:508: UserWarning: Solver status is 'infeasible'.\n",
      "  warn(f\"Solver status is '{status}'.\", UserWarning)\n",
      "/opt/conda/lib/python3.8/site-packages/cobra/util/solver.py:508: UserWarning: Solver status is 'infeasible'.\n",
      "  warn(f\"Solver status is '{status}'.\", UserWarning)\n",
      "/opt/conda/lib/python3.8/site-packages/cobra/util/solver.py:508: UserWarning: Solver status is 'infeasible'.\n",
      "  warn(f\"Solver status is '{status}'.\", UserWarning)\n",
      "/opt/conda/lib/python3.8/site-packages/cobra/util/solver.py:508: UserWarning: Solver status is 'infeasible'.\n",
      "  warn(f\"Solver status is '{status}'.\", UserWarning)\n",
      "/opt/conda/lib/python3.8/site-packages/cobra/util/solver.py:508: UserWarning: Solver status is 'infeasible'.\n",
      "  warn(f\"Solver status is '{status}'.\", UserWarning)\n",
      "/opt/conda/lib/python3.8/site-packages/cobra/util/solver.py:508: UserWarning: Solver status is 'infeasible'.\n",
      "  warn(f\"Solver status is '{status}'.\", UserWarning)\n",
      "/opt/conda/lib/python3.8/site-packages/cobra/util/solver.py:508: UserWarning: Solver status is 'infeasible'.\n",
      "  warn(f\"Solver status is '{status}'.\", UserWarning)\n",
      "/opt/conda/lib/python3.8/site-packages/cobra/util/solver.py:508: UserWarning: Solver status is 'infeasible'.\n",
      "  warn(f\"Solver status is '{status}'.\", UserWarning)\n",
      "/opt/conda/lib/python3.8/site-packages/cobra/util/solver.py:508: UserWarning: Solver status is 'infeasible'.\n",
      "  warn(f\"Solver status is '{status}'.\", UserWarning)\n",
      "/opt/conda/lib/python3.8/site-packages/cobra/util/solver.py:508: UserWarning: Solver status is 'infeasible'.\n",
      "  warn(f\"Solver status is '{status}'.\", UserWarning)\n",
      "/opt/conda/lib/python3.8/site-packages/cobra/util/solver.py:508: UserWarning: Solver status is 'infeasible'.\n",
      "  warn(f\"Solver status is '{status}'.\", UserWarning)\n",
      "/opt/conda/lib/python3.8/site-packages/cobra/util/solver.py:508: UserWarning: Solver status is 'infeasible'.\n",
      "  warn(f\"Solver status is '{status}'.\", UserWarning)\n",
      "/opt/conda/lib/python3.8/site-packages/cobra/util/solver.py:508: UserWarning: Solver status is 'infeasible'.\n",
      "  warn(f\"Solver status is '{status}'.\", UserWarning)\n",
      "/opt/conda/lib/python3.8/site-packages/cobra/util/solver.py:508: UserWarning: Solver status is 'infeasible'.\n",
      "  warn(f\"Solver status is '{status}'.\", UserWarning)\n",
      "/opt/conda/lib/python3.8/site-packages/cobra/util/solver.py:508: UserWarning: Solver status is 'infeasible'.\n",
      "  warn(f\"Solver status is '{status}'.\", UserWarning)\n",
      "/opt/conda/lib/python3.8/site-packages/cobra/util/solver.py:508: UserWarning: Solver status is 'infeasible'.\n",
      "  warn(f\"Solver status is '{status}'.\", UserWarning)\n",
      "/opt/conda/lib/python3.8/site-packages/cobra/util/solver.py:508: UserWarning: Solver status is 'infeasible'.\n",
      "  warn(f\"Solver status is '{status}'.\", UserWarning)\n",
      "/opt/conda/lib/python3.8/site-packages/cobra/util/solver.py:508: UserWarning: Solver status is 'infeasible'.\n",
      "  warn(f\"Solver status is '{status}'.\", UserWarning)\n",
      "/opt/conda/lib/python3.8/site-packages/cobra/util/solver.py:508: UserWarning: Solver status is 'infeasible'.\n",
      "  warn(f\"Solver status is '{status}'.\", UserWarning)\n",
      "/opt/conda/lib/python3.8/site-packages/cobra/util/solver.py:508: UserWarning: Solver status is 'infeasible'.\n",
      "  warn(f\"Solver status is '{status}'.\", UserWarning)\n",
      "/opt/conda/lib/python3.8/site-packages/cobra/util/solver.py:508: UserWarning: Solver status is 'infeasible'.\n",
      "  warn(f\"Solver status is '{status}'.\", UserWarning)\n",
      "/opt/conda/lib/python3.8/site-packages/cobra/util/solver.py:508: UserWarning: Solver status is 'infeasible'.\n",
      "  warn(f\"Solver status is '{status}'.\", UserWarning)\n",
      "/opt/conda/lib/python3.8/site-packages/cobra/util/solver.py:508: UserWarning: Solver status is 'infeasible'.\n",
      "  warn(f\"Solver status is '{status}'.\", UserWarning)\n",
      "/opt/conda/lib/python3.8/site-packages/cobra/util/solver.py:508: UserWarning: Solver status is 'infeasible'.\n",
      "  warn(f\"Solver status is '{status}'.\", UserWarning)\n",
      "/opt/conda/lib/python3.8/site-packages/cobra/util/solver.py:508: UserWarning: Solver status is 'infeasible'.\n",
      "  warn(f\"Solver status is '{status}'.\", UserWarning)\n",
      "/opt/conda/lib/python3.8/site-packages/cobra/util/solver.py:508: UserWarning: Solver status is 'infeasible'.\n",
      "  warn(f\"Solver status is '{status}'.\", UserWarning)\n",
      "/opt/conda/lib/python3.8/site-packages/cobra/util/solver.py:508: UserWarning: Solver status is 'infeasible'.\n",
      "  warn(f\"Solver status is '{status}'.\", UserWarning)\n",
      "/opt/conda/lib/python3.8/site-packages/cobra/util/solver.py:508: UserWarning: Solver status is 'infeasible'.\n",
      "  warn(f\"Solver status is '{status}'.\", UserWarning)\n",
      "/opt/conda/lib/python3.8/site-packages/cobra/util/solver.py:508: UserWarning: Solver status is 'infeasible'.\n",
      "  warn(f\"Solver status is '{status}'.\", UserWarning)\n",
      "/opt/conda/lib/python3.8/site-packages/cobra/util/solver.py:508: UserWarning: Solver status is 'infeasible'.\n",
      "  warn(f\"Solver status is '{status}'.\", UserWarning)\n",
      "/opt/conda/lib/python3.8/site-packages/cobra/util/solver.py:508: UserWarning: Solver status is 'infeasible'.\n",
      "  warn(f\"Solver status is '{status}'.\", UserWarning)\n",
      "/opt/conda/lib/python3.8/site-packages/cobra/util/solver.py:508: UserWarning: Solver status is 'infeasible'.\n",
      "  warn(f\"Solver status is '{status}'.\", UserWarning)\n",
      "/opt/conda/lib/python3.8/site-packages/cobra/util/solver.py:508: UserWarning: Solver status is 'infeasible'.\n",
      "  warn(f\"Solver status is '{status}'.\", UserWarning)\n",
      "/opt/conda/lib/python3.8/site-packages/cobra/util/solver.py:508: UserWarning: Solver status is 'infeasible'.\n",
      "  warn(f\"Solver status is '{status}'.\", UserWarning)\n"
     ]
    }
   ],
   "source": [
    "medium = model.medium\n",
    "\n",
    "\n",
    "#replace glucose with each exchange reaction from the possible carbon source reactions\n",
    "for reaction in carbon_uptake:\n",
    "    medium = model.medium\n",
    "    with model:\n",
    "        medium['EX_glc__D_e'] = 0\n",
    "        medium[reaction] = 10\n",
    "        model.medium = medium\n",
    "        model.objective = model.reactions.phhA\n",
    "        solution = model.optimize()\n",
    "        max_5HTP_production = solution.objective_value\n",
    "        if solution.fluxes.BIOMASS_Ec_iML1515_core_75p37M > 0:\n",
    "            print(solution.fluxes.BIOMASS_Ec_iML1515_core_75p37M)\n",
    "            print(max_5HTP_production)"
   ]
  },
  {
   "cell_type": "markdown",
   "metadata": {},
   "source": [
    "No solutions, changing of medium does not influence the increase of growth rate at 5-HTP maximum flux production"
   ]
  },
  {
   "cell_type": "markdown",
   "metadata": {},
   "source": [
    "**Again working under the assumption that the production of 5-HTP and biomass needs to be shared 50-50, we will try and go through the list of potential carbon sources to see which carbon source will increase the flux towards both 5-HTP and biomass production.**"
   ]
  },
  {
   "cell_type": "code",
   "execution_count": 49,
   "metadata": {
    "collapsed": true,
    "jupyter": {
     "outputs_hidden": true
    }
   },
   "outputs": [
    {
     "name": "stderr",
     "output_type": "stream",
     "text": [
      "/opt/conda/lib/python3.8/site-packages/cobra/util/solver.py:508: UserWarning: Solver status is 'infeasible'.\n",
      "  warn(f\"Solver status is '{status}'.\", UserWarning)\n"
     ]
    },
    {
     "name": "stdout",
     "output_type": "stream",
     "text": [
      "optimal 5htp production using:  Guanosine exchange is  2.4827777777777778\n",
      "optimal biomass production using:  Guanosine exchange is  0.5191655309763403\n"
     ]
    },
    {
     "name": "stderr",
     "output_type": "stream",
     "text": [
      "/opt/conda/lib/python3.8/site-packages/cobra/util/solver.py:508: UserWarning: Solver status is 'infeasible'.\n",
      "  warn(f\"Solver status is '{status}'.\", UserWarning)\n"
     ]
    },
    {
     "name": "stdout",
     "output_type": "stream",
     "text": [
      "optimal 5htp production using:  N-Acetyl-D-glucosamine(anhydrous)N-Acetylmuramic acid exchange is  6.509268292682915\n",
      "optimal biomass production using:  N-Acetyl-D-glucosamine(anhydrous)N-Acetylmuramic acid exchange is  1.3511853681176897\n"
     ]
    },
    {
     "name": "stderr",
     "output_type": "stream",
     "text": [
      "/opt/conda/lib/python3.8/site-packages/cobra/util/solver.py:508: UserWarning: Solver status is 'infeasible'.\n",
      "  warn(f\"Solver status is '{status}'.\", UserWarning)\n",
      "/opt/conda/lib/python3.8/site-packages/cobra/util/solver.py:508: UserWarning: Solver status is 'infeasible'.\n",
      "  warn(f\"Solver status is '{status}'.\", UserWarning)\n"
     ]
    },
    {
     "name": "stdout",
     "output_type": "stream",
     "text": [
      "optimal 5htp production using:  Octadecenoate (n-C18:1) exchange is  5.9251200000000015\n",
      "optimal biomass production using:  Octadecenoate (n-C18:1) exchange is  1.3325616268273428\n",
      "optimal 5htp production using:  N-Acetylmuramate exchange is  3.641385135135135\n",
      "optimal biomass production using:  N-Acetylmuramate exchange is  0.7757145073518057\n"
     ]
    },
    {
     "name": "stderr",
     "output_type": "stream",
     "text": [
      "/opt/conda/lib/python3.8/site-packages/cobra/util/solver.py:508: UserWarning: Solver status is 'infeasible'.\n",
      "  warn(f\"Solver status is '{status}'.\", UserWarning)\n",
      "/opt/conda/lib/python3.8/site-packages/cobra/util/solver.py:508: UserWarning: Solver status is 'infeasible'.\n",
      "  warn(f\"Solver status is '{status}'.\", UserWarning)\n",
      "/opt/conda/lib/python3.8/site-packages/cobra/util/solver.py:508: UserWarning: Solver status is 'infeasible'.\n",
      "  warn(f\"Solver status is '{status}'.\", UserWarning)\n",
      "/opt/conda/lib/python3.8/site-packages/cobra/util/solver.py:508: UserWarning: Solver status is 'infeasible'.\n",
      "  warn(f\"Solver status is '{status}'.\", UserWarning)\n",
      "/opt/conda/lib/python3.8/site-packages/cobra/util/solver.py:508: UserWarning: Solver status is 'infeasible'.\n",
      "  warn(f\"Solver status is '{status}'.\", UserWarning)\n"
     ]
    },
    {
     "name": "stdout",
     "output_type": "stream",
     "text": [
      "optimal 5htp production using:  Trehalose exchange is  4.347526501766789\n",
      "optimal biomass production using:  Trehalose exchange is  0.889899764163121\n"
     ]
    },
    {
     "name": "stderr",
     "output_type": "stream",
     "text": [
      "/opt/conda/lib/python3.8/site-packages/cobra/util/solver.py:508: UserWarning: Solver status is 'infeasible'.\n",
      "  warn(f\"Solver status is '{status}'.\", UserWarning)\n"
     ]
    },
    {
     "name": "stdout",
     "output_type": "stream",
     "text": [
      "optimal 5htp production using:  D-Glucose 1-phosphate exchange is  2.139602169981918\n",
      "optimal biomass production using:  D-Glucose 1-phosphate exchange is  0.4384986072134902\n",
      "optimal 5htp production using:  D-Glucose 6-phosphate exchange is  2.228148148148148\n",
      "optimal biomass production using:  D-Glucose 6-phosphate exchange is  0.45260489336817017\n"
     ]
    },
    {
     "name": "stderr",
     "output_type": "stream",
     "text": [
      "/opt/conda/lib/python3.8/site-packages/cobra/util/solver.py:508: UserWarning: Solver status is 'infeasible'.\n",
      "  warn(f\"Solver status is '{status}'.\", UserWarning)\n"
     ]
    },
    {
     "name": "stdout",
     "output_type": "stream",
     "text": [
      "optimal 5htp production using:  L-alanine-L-glutamate exchange is  2.4186086956521824\n",
      "optimal biomass production using:  L-alanine-L-glutamate exchange is  0.521818267990008\n"
     ]
    },
    {
     "name": "stderr",
     "output_type": "stream",
     "text": [
      "/opt/conda/lib/python3.8/site-packages/cobra/util/solver.py:508: UserWarning: Solver status is 'infeasible'.\n",
      "  warn(f\"Solver status is '{status}'.\", UserWarning)\n",
      "/opt/conda/lib/python3.8/site-packages/cobra/util/solver.py:508: UserWarning: Solver status is 'infeasible'.\n",
      "  warn(f\"Solver status is '{status}'.\", UserWarning)\n",
      "/opt/conda/lib/python3.8/site-packages/cobra/util/solver.py:508: UserWarning: Solver status is 'infeasible'.\n",
      "  warn(f\"Solver status is '{status}'.\", UserWarning)\n"
     ]
    },
    {
     "name": "stdout",
     "output_type": "stream",
     "text": [
      "optimal 5htp production using:  D-fructose 6-phosphate exchange is  2.2281481481481524\n",
      "optimal biomass production using:  D-fructose 6-phosphate exchange is  0.4526048933681497\n"
     ]
    },
    {
     "name": "stderr",
     "output_type": "stream",
     "text": [
      "/opt/conda/lib/python3.8/site-packages/cobra/util/solver.py:508: UserWarning: Solver status is 'infeasible'.\n",
      "  warn(f\"Solver status is '{status}'.\", UserWarning)\n",
      "/opt/conda/lib/python3.8/site-packages/cobra/util/solver.py:508: UserWarning: Solver status is 'infeasible'.\n",
      "  warn(f\"Solver status is '{status}'.\", UserWarning)\n"
     ]
    },
    {
     "name": "stdout",
     "output_type": "stream",
     "text": [
      "optimal 5htp production using:  Octadecanoate (n-C18:0) exchange is  5.845119999999993\n",
      "optimal biomass production using:  Octadecanoate (n-C18:0) exchange is  1.3145695979492265\n",
      "optimal 5htp production using:  GMP exchange is  2.482777777777783\n",
      "optimal biomass production using:  GMP exchange is  0.5191655309763425\n",
      "optimal 5htp production using:  L-alanine-D-glutamate-meso-2,6-diaminoheptanedioate-D-alanine exchange is  3.309913043478262\n",
      "optimal biomass production using:  L-alanine-D-glutamate-meso-2,6-diaminoheptanedioate-D-alanine exchange is  0.748702831014573\n"
     ]
    },
    {
     "name": "stderr",
     "output_type": "stream",
     "text": [
      "/opt/conda/lib/python3.8/site-packages/cobra/util/solver.py:508: UserWarning: Solver status is 'infeasible'.\n",
      "  warn(f\"Solver status is '{status}'.\", UserWarning)\n",
      "/opt/conda/lib/python3.8/site-packages/cobra/util/solver.py:508: UserWarning: Solver status is 'infeasible'.\n",
      "  warn(f\"Solver status is '{status}'.\", UserWarning)\n"
     ]
    },
    {
     "name": "stdout",
     "output_type": "stream",
     "text": [
      "optimal 5htp production using:  Cellobiose exchange is  4.317060810810819\n",
      "optimal biomass production using:  Cellobiose exchange is  0.889899764163105\n",
      "optimal 5htp production using:  D-Sorbitol exchange is  2.235135135135134\n",
      "optimal biomass production using:  D-Sorbitol exchange is  0.47141327490772983\n",
      "optimal 5htp production using:  Deoxyguanosine exchange is  2.5048854961832063\n",
      "optimal biomass production using:  Deoxyguanosine exchange is  0.5407155427521423\n"
     ]
    },
    {
     "name": "stderr",
     "output_type": "stream",
     "text": [
      "/opt/conda/lib/python3.8/site-packages/cobra/util/solver.py:508: UserWarning: Solver status is 'infeasible'.\n",
      "  warn(f\"Solver status is '{status}'.\", UserWarning)\n"
     ]
    },
    {
     "name": "stdout",
     "output_type": "stream",
     "text": [
      "optimal 5htp production using:  Maltotriose exchange is  6.603148148148148\n",
      "optimal biomass production using:  Maltotriose exchange is  1.3413009211127616\n",
      "optimal 5htp production using:  3-(3-hydroxy-phenyl)propionate exchange is  2.462086956521736\n",
      "optimal biomass production using:  3-(3-hydroxy-phenyl)propionate exchange is  0.5315486004280967\n"
     ]
    },
    {
     "name": "stderr",
     "output_type": "stream",
     "text": [
      "/opt/conda/lib/python3.8/site-packages/cobra/util/solver.py:508: UserWarning: Solver status is 'infeasible'.\n",
      "  warn(f\"Solver status is '{status}'.\", UserWarning)\n",
      "/opt/conda/lib/python3.8/site-packages/cobra/util/solver.py:508: UserWarning: Solver status is 'infeasible'.\n",
      "  warn(f\"Solver status is '{status}'.\", UserWarning)\n"
     ]
    },
    {
     "name": "stdout",
     "output_type": "stream",
     "text": [
      "optimal 5htp production using:  DGMP exchange is  2.5048854961832063\n",
      "optimal biomass production using:  DGMP exchange is  0.5407155427521364\n"
     ]
    },
    {
     "name": "stderr",
     "output_type": "stream",
     "text": [
      "/opt/conda/lib/python3.8/site-packages/cobra/util/solver.py:508: UserWarning: Solver status is 'infeasible'.\n",
      "  warn(f\"Solver status is '{status}'.\", UserWarning)\n",
      "/opt/conda/lib/python3.8/site-packages/cobra/util/solver.py:508: UserWarning: Solver status is 'infeasible'.\n",
      "  warn(f\"Solver status is '{status}'.\", UserWarning)\n"
     ]
    },
    {
     "name": "stdout",
     "output_type": "stream",
     "text": [
      "optimal 5htp production using:  UDPglucose exchange is  4.060940325497276\n",
      "optimal biomass production using:  UDPglucose exchange is  0.8432838831656748\n"
     ]
    },
    {
     "name": "stderr",
     "output_type": "stream",
     "text": [
      "/opt/conda/lib/python3.8/site-packages/cobra/util/solver.py:508: UserWarning: Solver status is 'infeasible'.\n",
      "  warn(f\"Solver status is '{status}'.\", UserWarning)\n",
      "/opt/conda/lib/python3.8/site-packages/cobra/util/solver.py:508: UserWarning: Solver status is 'infeasible'.\n",
      "  warn(f\"Solver status is '{status}'.\", UserWarning)\n"
     ]
    },
    {
     "name": "stdout",
     "output_type": "stream",
     "text": [
      "optimal 5htp production using:  Xanthosine 5'-phosphate exchange is  2.4596296296296254\n",
      "optimal biomass production using:  Xanthosine 5'-phosphate exchange is  0.5116634035436224\n",
      "optimal 5htp production using:  D-Glucosamine 6-phosphate exchange is  2.228148148148147\n",
      "optimal biomass production using:  D-Glucosamine 6-phosphate exchange is  0.4527658214050573\n"
     ]
    },
    {
     "name": "stderr",
     "output_type": "stream",
     "text": [
      "/opt/conda/lib/python3.8/site-packages/cobra/util/solver.py:508: UserWarning: Solver status is 'infeasible'.\n",
      "  warn(f\"Solver status is '{status}'.\", UserWarning)\n",
      "/opt/conda/lib/python3.8/site-packages/cobra/util/solver.py:508: UserWarning: Solver status is 'infeasible'.\n",
      "  warn(f\"Solver status is '{status}'.\", UserWarning)\n",
      "/opt/conda/lib/python3.8/site-packages/cobra/util/solver.py:508: UserWarning: Solver status is 'infeasible'.\n",
      "  warn(f\"Solver status is '{status}'.\", UserWarning)\n"
     ]
    },
    {
     "name": "stdout",
     "output_type": "stream",
     "text": [
      "optimal 5htp production using:  Galactitol exchange is  2.195371900826449\n",
      "optimal biomass production using:  Galactitol exchange is  0.46780388972905323\n"
     ]
    },
    {
     "name": "stderr",
     "output_type": "stream",
     "text": [
      "/opt/conda/lib/python3.8/site-packages/cobra/util/solver.py:508: UserWarning: Solver status is 'infeasible'.\n",
      "  warn(f\"Solver status is '{status}'.\", UserWarning)\n",
      "/opt/conda/lib/python3.8/site-packages/cobra/util/solver.py:508: UserWarning: Solver status is 'infeasible'.\n",
      "  warn(f\"Solver status is '{status}'.\", UserWarning)\n",
      "/opt/conda/lib/python3.8/site-packages/cobra/util/solver.py:508: UserWarning: Solver status is 'infeasible'.\n",
      "  warn(f\"Solver status is '{status}'.\", UserWarning)\n",
      "/opt/conda/lib/python3.8/site-packages/cobra/util/solver.py:508: UserWarning: Solver status is 'infeasible'.\n",
      "  warn(f\"Solver status is '{status}'.\", UserWarning)\n"
     ]
    },
    {
     "name": "stdout",
     "output_type": "stream",
     "text": [
      "optimal 5htp production using:  N-Acetyl-D-mannosamine exchange is  2.6678048780487824\n",
      "optimal biomass production using:  N-Acetyl-D-mannosamine exchange is  0.5656562356516607\n",
      "optimal 5htp production using:  Maltose exchange is  4.380925925925931\n",
      "optimal biomass production using:  Maltose exchange is  0.8898997641631119\n"
     ]
    },
    {
     "name": "stderr",
     "output_type": "stream",
     "text": [
      "/opt/conda/lib/python3.8/site-packages/cobra/util/solver.py:508: UserWarning: Solver status is 'infeasible'.\n",
      "  warn(f\"Solver status is '{status}'.\", UserWarning)\n",
      "/opt/conda/lib/python3.8/site-packages/cobra/util/solver.py:508: UserWarning: Solver status is 'infeasible'.\n",
      "  warn(f\"Solver status is '{status}'.\", UserWarning)\n"
     ]
    },
    {
     "name": "stdout",
     "output_type": "stream",
     "text": [
      "optimal 5htp production using:  D-Mannose 6-phosphate exchange is  2.2281481481481515\n",
      "optimal biomass production using:  D-Mannose 6-phosphate exchange is  0.45260489336816967\n",
      "optimal 5htp production using:  Lactose exchange is  4.357777777777773\n",
      "optimal biomass production using:  Lactose exchange is  0.8851976687782342\n",
      "optimal 5htp production using:  UDP-D-glucuronate exchange is  3.6209917355371903\n",
      "optimal biomass production using:  UDP-D-glucuronate exchange is  0.7571642055547882\n",
      "optimal 5htp production using:  Decanoate (n-C10:0) exchange is  3.1251199999999963\n",
      "optimal biomass production using:  Decanoate (n-C10:0) exchange is  0.7028406160939402\n"
     ]
    },
    {
     "name": "stderr",
     "output_type": "stream",
     "text": [
      "/opt/conda/lib/python3.8/site-packages/cobra/util/solver.py:508: UserWarning: Solver status is 'infeasible'.\n",
      "  warn(f\"Solver status is '{status}'.\", UserWarning)\n",
      "/opt/conda/lib/python3.8/site-packages/cobra/util/solver.py:508: UserWarning: Solver status is 'infeasible'.\n",
      "  warn(f\"Solver status is '{status}'.\", UserWarning)\n",
      "/opt/conda/lib/python3.8/site-packages/cobra/util/solver.py:508: UserWarning: Solver status is 'infeasible'.\n",
      "  warn(f\"Solver status is '{status}'.\", UserWarning)\n"
     ]
    },
    {
     "name": "stdout",
     "output_type": "stream",
     "text": [
      "optimal 5htp production using:  Adenosine exchange is  2.6292561983471057\n",
      "optimal biomass production using:  Adenosine exchange is  0.552917563750892\n",
      "optimal 5htp production using:  Fe(III)dicitrate exchange is  2.8255371900826485\n",
      "optimal biomass production using:  Fe(III)dicitrate exchange is  0.5972626355185856\n",
      "optimal 5htp production using:  DAMP exchange is  2.638473282442753\n",
      "optimal biomass production using:  DAMP exchange is  0.5738131175514235\n"
     ]
    },
    {
     "name": "stderr",
     "output_type": "stream",
     "text": [
      "/opt/conda/lib/python3.8/site-packages/cobra/util/solver.py:508: UserWarning: Solver status is 'infeasible'.\n",
      "  warn(f\"Solver status is '{status}'.\", UserWarning)\n",
      "/opt/conda/lib/python3.8/site-packages/cobra/util/solver.py:508: UserWarning: Solver status is 'infeasible'.\n",
      "  warn(f\"Solver status is '{status}'.\", UserWarning)\n",
      "/opt/conda/lib/python3.8/site-packages/cobra/util/solver.py:508: UserWarning: Solver status is 'infeasible'.\n",
      "  warn(f\"Solver status is '{status}'.\", UserWarning)\n"
     ]
    },
    {
     "name": "stdout",
     "output_type": "stream",
     "text": [
      "optimal 5htp production using:  AMP exchange is  2.6292561983471034\n",
      "optimal biomass production using:  AMP exchange is  0.5529175637508907\n"
     ]
    },
    {
     "name": "stderr",
     "output_type": "stream",
     "text": [
      "/opt/conda/lib/python3.8/site-packages/cobra/util/solver.py:508: UserWarning: Solver status is 'infeasible'.\n",
      "  warn(f\"Solver status is '{status}'.\", UserWarning)\n"
     ]
    },
    {
     "name": "stdout",
     "output_type": "stream",
     "text": [
      "optimal 5htp production using:  Phenylpropanoate exchange is  2.605120000000004\n",
      "optimal biomass production using:  Phenylpropanoate exchange is  0.5656047639614316\n",
      "optimal 5htp production using:  3-hydroxycinnamic acid exchange is  2.3751304347826068\n",
      "optimal biomass production using:  3-hydroxycinnamic acid exchange is  0.5120879355519168\n",
      "optimal 5htp production using:  L-alanine-D-glutamate-meso-2,6-diaminoheptanedioate exchange is  2.3533913043478205\n",
      "optimal biomass production using:  L-alanine-D-glutamate-meso-2,6-diaminoheptanedioate exchange is  0.5283132108255781\n"
     ]
    },
    {
     "name": "stderr",
     "output_type": "stream",
     "text": [
      "/opt/conda/lib/python3.8/site-packages/cobra/util/solver.py:508: UserWarning: Solver status is 'infeasible'.\n",
      "  warn(f\"Solver status is '{status}'.\", UserWarning)\n",
      "/opt/conda/lib/python3.8/site-packages/cobra/util/solver.py:508: UserWarning: Solver status is 'infeasible'.\n",
      "  warn(f\"Solver status is '{status}'.\", UserWarning)\n"
     ]
    },
    {
     "name": "stdout",
     "output_type": "stream",
     "text": [
      "optimal 5htp production using:  Deoxyadenosine exchange is  2.638473282442748\n",
      "optimal biomass production using:  Deoxyadenosine exchange is  0.5738131175514265\n",
      "optimal 5htp production using:  Octanoate (n-C8:0) exchange is  2.445119999999986\n",
      "optimal biomass production using:  Octanoate (n-C8:0) exchange is  0.5499083706301358\n"
     ]
    },
    {
     "name": "stderr",
     "output_type": "stream",
     "text": [
      "/opt/conda/lib/python3.8/site-packages/cobra/util/solver.py:508: UserWarning: Solver status is 'infeasible'.\n",
      "  warn(f\"Solver status is '{status}'.\", UserWarning)\n",
      "/opt/conda/lib/python3.8/site-packages/cobra/util/solver.py:508: UserWarning: Solver status is 'infeasible'.\n",
      "  warn(f\"Solver status is '{status}'.\", UserWarning)\n",
      "/opt/conda/lib/python3.8/site-packages/cobra/util/solver.py:508: UserWarning: Solver status is 'infeasible'.\n",
      "  warn(f\"Solver status is '{status}'.\", UserWarning)\n",
      "/opt/conda/lib/python3.8/site-packages/cobra/util/solver.py:508: UserWarning: Solver status is 'infeasible'.\n",
      "  warn(f\"Solver status is '{status}'.\", UserWarning)\n",
      "/opt/conda/lib/python3.8/site-packages/cobra/util/solver.py:508: UserWarning: Solver status is 'infeasible'.\n",
      "  warn(f\"Solver status is '{status}'.\", UserWarning)\n",
      "/opt/conda/lib/python3.8/site-packages/cobra/util/solver.py:508: UserWarning: Solver status is 'infeasible'.\n",
      "  warn(f\"Solver status is '{status}'.\", UserWarning)\n",
      "/opt/conda/lib/python3.8/site-packages/cobra/util/solver.py:508: UserWarning: Solver status is 'infeasible'.\n",
      "  warn(f\"Solver status is '{status}'.\", UserWarning)\n",
      "/opt/conda/lib/python3.8/site-packages/cobra/util/solver.py:508: UserWarning: Solver status is 'infeasible'.\n",
      "  warn(f\"Solver status is '{status}'.\", UserWarning)\n"
     ]
    },
    {
     "name": "stdout",
     "output_type": "stream",
     "text": [
      "optimal 5htp production using:  Glycerophosphoglycerol exchange is  2.5704635761589376\n",
      "optimal biomass production using:  Glycerophosphoglycerol exchange is  0.5272594167279027\n",
      "optimal 5htp production using:  2(alpha-D-Mannosyl)-D-glycerate exchange is  2.9910472972972983\n",
      "optimal biomass production using:  2(alpha-D-Mannosyl)-D-glycerate exchange is  0.6171782318393965\n"
     ]
    },
    {
     "name": "stderr",
     "output_type": "stream",
     "text": [
      "/opt/conda/lib/python3.8/site-packages/cobra/util/solver.py:508: UserWarning: Solver status is 'infeasible'.\n",
      "  warn(f\"Solver status is '{status}'.\", UserWarning)\n",
      "/opt/conda/lib/python3.8/site-packages/cobra/util/solver.py:508: UserWarning: Solver status is 'infeasible'.\n",
      "  warn(f\"Solver status is '{status}'.\", UserWarning)\n",
      "/opt/conda/lib/python3.8/site-packages/cobra/util/solver.py:508: UserWarning: Solver status is 'infeasible'.\n",
      "  warn(f\"Solver status is '{status}'.\", UserWarning)\n",
      "/opt/conda/lib/python3.8/site-packages/cobra/util/solver.py:508: UserWarning: Solver status is 'infeasible'.\n",
      "  warn(f\"Solver status is '{status}'.\", UserWarning)\n",
      "/opt/conda/lib/python3.8/site-packages/cobra/util/solver.py:508: UserWarning: Solver status is 'infeasible'.\n",
      "  warn(f\"Solver status is '{status}'.\", UserWarning)\n",
      "/opt/conda/lib/python3.8/site-packages/cobra/util/solver.py:508: UserWarning: Solver status is 'infeasible'.\n",
      "  warn(f\"Solver status is '{status}'.\", UserWarning)\n",
      "/opt/conda/lib/python3.8/site-packages/cobra/util/solver.py:508: UserWarning: Solver status is 'infeasible'.\n",
      "  warn(f\"Solver status is '{status}'.\", UserWarning)\n"
     ]
    },
    {
     "name": "stdout",
     "output_type": "stream",
     "text": [
      "optimal 5htp production using:  Dodecanoate (n-C12:0) exchange is  3.805119999999993\n",
      "optimal biomass production using:  Dodecanoate (n-C12:0) exchange is  0.8557728615577812\n"
     ]
    },
    {
     "name": "stderr",
     "output_type": "stream",
     "text": [
      "/opt/conda/lib/python3.8/site-packages/cobra/util/solver.py:508: UserWarning: Solver status is 'infeasible'.\n",
      "  warn(f\"Solver status is '{status}'.\", UserWarning)\n",
      "/opt/conda/lib/python3.8/site-packages/cobra/util/solver.py:508: UserWarning: Solver status is 'infeasible'.\n",
      "  warn(f\"Solver status is '{status}'.\", UserWarning)\n",
      "/opt/conda/lib/python3.8/site-packages/cobra/util/solver.py:508: UserWarning: Solver status is 'infeasible'.\n",
      "  warn(f\"Solver status is '{status}'.\", UserWarning)\n"
     ]
    },
    {
     "name": "stdout",
     "output_type": "stream",
     "text": [
      "optimal 5htp production using:  Phenylacetaldehyde exchange is  2.465119999999997\n",
      "optimal biomass production using:  Phenylacetaldehyde exchange is  0.5412789328660355\n"
     ]
    },
    {
     "name": "stderr",
     "output_type": "stream",
     "text": [
      "/opt/conda/lib/python3.8/site-packages/cobra/util/solver.py:508: UserWarning: Solver status is 'infeasible'.\n",
      "  warn(f\"Solver status is '{status}'.\", UserWarning)\n",
      "/opt/conda/lib/python3.8/site-packages/cobra/util/solver.py:508: UserWarning: Solver status is 'infeasible'.\n",
      "  warn(f\"Solver status is '{status}'.\", UserWarning)\n"
     ]
    },
    {
     "name": "stdout",
     "output_type": "stream",
     "text": [
      "optimal 5htp production using:  UDP-N-acetyl-D-glucosamine exchange is  4.591924119241178\n",
      "optimal biomass production using:  UDP-N-acetyl-D-glucosamine exchange is  0.9728152247409156\n",
      "optimal 5htp production using:  Tetradecenoate (n-C14:1) exchange is  4.56512000000001\n",
      "optimal biomass production using:  Tetradecenoate (n-C14:1) exchange is  1.0266971358996866\n",
      "optimal 5htp production using:  IMP exchange is  2.6085950413223165\n",
      "optimal biomass production using:  IMP exchange is  0.5472855786110241\n",
      "optimal 5htp production using:  Sn-Glycero-3-phospho-1-inositol exchange is  3.0055652173912963\n",
      "optimal biomass production using:  Sn-Glycero-3-phospho-1-inositol exchange is  0.6264988336240211\n",
      "optimal 5htp production using:  Hexadecanoate (n-C16:0) exchange is  5.165120000000003\n",
      "optimal biomass production using:  Hexadecanoate (n-C16:0) exchange is  1.1616373524854136\n"
     ]
    },
    {
     "name": "stderr",
     "output_type": "stream",
     "text": [
      "/opt/conda/lib/python3.8/site-packages/cobra/util/solver.py:508: UserWarning: Solver status is 'infeasible'.\n",
      "  warn(f\"Solver status is '{status}'.\", UserWarning)\n"
     ]
    },
    {
     "name": "stdout",
     "output_type": "stream",
     "text": [
      "optimal 5htp production using:  Xanthosine exchange is  2.4596296296296343\n",
      "optimal biomass production using:  Xanthosine exchange is  0.5116634035436268\n",
      "optimal 5htp production using:  Tetradecanoate (n-C14:0) exchange is  4.485119999999961\n",
      "optimal biomass production using:  Tetradecanoate (n-C14:0) exchange is  1.0087051070216093\n"
     ]
    },
    {
     "name": "stderr",
     "output_type": "stream",
     "text": [
      "/opt/conda/lib/python3.8/site-packages/cobra/util/solver.py:508: UserWarning: Solver status is 'infeasible'.\n",
      "  warn(f\"Solver status is '{status}'.\", UserWarning)\n",
      "/opt/conda/lib/python3.8/site-packages/cobra/util/solver.py:508: UserWarning: Solver status is 'infeasible'.\n",
      "  warn(f\"Solver status is '{status}'.\", UserWarning)\n"
     ]
    },
    {
     "name": "stdout",
     "output_type": "stream",
     "text": [
      "optimal 5htp production using:  Inosine exchange is  2.608595041322313\n",
      "optimal biomass production using:  Inosine exchange is  0.5472855786110248\n"
     ]
    },
    {
     "name": "stderr",
     "output_type": "stream",
     "text": [
      "/opt/conda/lib/python3.8/site-packages/cobra/util/solver.py:508: UserWarning: Solver status is 'infeasible'.\n",
      "  warn(f\"Solver status is '{status}'.\", UserWarning)\n",
      "/opt/conda/lib/python3.8/site-packages/cobra/util/solver.py:508: UserWarning: Solver status is 'infeasible'.\n",
      "  warn(f\"Solver status is '{status}'.\", UserWarning)\n"
     ]
    },
    {
     "name": "stdout",
     "output_type": "stream",
     "text": [
      "optimal 5htp production using:  3'-GMP exchange is  2.482777777777783\n",
      "optimal biomass production using:  3'-GMP exchange is  0.5191655309763423\n"
     ]
    },
    {
     "name": "stderr",
     "output_type": "stream",
     "text": [
      "/opt/conda/lib/python3.8/site-packages/cobra/util/solver.py:508: UserWarning: Solver status is 'infeasible'.\n",
      "  warn(f\"Solver status is '{status}'.\", UserWarning)\n"
     ]
    },
    {
     "name": "stdout",
     "output_type": "stream",
     "text": [
      "optimal 5htp production using:  N-Acetyl-D-glucosamine exchange is  2.6678048780487753\n",
      "optimal biomass production using:  N-Acetyl-D-glucosamine exchange is  0.5656562356516668\n"
     ]
    },
    {
     "name": "stderr",
     "output_type": "stream",
     "text": [
      "/opt/conda/lib/python3.8/site-packages/cobra/util/solver.py:508: UserWarning: Solver status is 'infeasible'.\n",
      "  warn(f\"Solver status is '{status}'.\", UserWarning)\n"
     ]
    },
    {
     "name": "stdout",
     "output_type": "stream",
     "text": [
      "optimal 5htp production using:  N-Acetylneuraminate exchange is  3.5569256756756777\n",
      "optimal biomass production using:  N-Acetylneuraminate exchange is  0.7396956242818443\n"
     ]
    },
    {
     "name": "stderr",
     "output_type": "stream",
     "text": [
      "/opt/conda/lib/python3.8/site-packages/cobra/util/solver.py:508: UserWarning: Solver status is 'infeasible'.\n",
      "  warn(f\"Solver status is '{status}'.\", UserWarning)\n"
     ]
    },
    {
     "name": "stdout",
     "output_type": "stream",
     "text": [
      "optimal 5htp production using:  UDPgalactose exchange is  4.056851851851856\n",
      "optimal biomass production using:  UDPgalactose exchange is  0.8384994566317407\n"
     ]
    },
    {
     "name": "stderr",
     "output_type": "stream",
     "text": [
      "/opt/conda/lib/python3.8/site-packages/cobra/util/solver.py:508: UserWarning: Solver status is 'infeasible'.\n",
      "  warn(f\"Solver status is '{status}'.\", UserWarning)\n",
      "/opt/conda/lib/python3.8/site-packages/cobra/util/solver.py:508: UserWarning: Solver status is 'infeasible'.\n",
      "  warn(f\"Solver status is '{status}'.\", UserWarning)\n",
      "/opt/conda/lib/python3.8/site-packages/cobra/util/solver.py:508: UserWarning: Solver status is 'infeasible'.\n",
      "  warn(f\"Solver status is '{status}'.\", UserWarning)\n",
      "/opt/conda/lib/python3.8/site-packages/cobra/util/solver.py:508: UserWarning: Solver status is 'infeasible'.\n",
      "  warn(f\"Solver status is '{status}'.\", UserWarning)\n",
      "/opt/conda/lib/python3.8/site-packages/cobra/util/solver.py:508: UserWarning: Solver status is 'infeasible'.\n",
      "  warn(f\"Solver status is '{status}'.\", UserWarning)\n",
      "/opt/conda/lib/python3.8/site-packages/cobra/util/solver.py:508: UserWarning: Solver status is 'infeasible'.\n",
      "  warn(f\"Solver status is '{status}'.\", UserWarning)\n",
      "/opt/conda/lib/python3.8/site-packages/cobra/util/solver.py:508: UserWarning: Solver status is 'infeasible'.\n",
      "  warn(f\"Solver status is '{status}'.\", UserWarning)\n",
      "/opt/conda/lib/python3.8/site-packages/cobra/util/solver.py:508: UserWarning: Solver status is 'infeasible'.\n",
      "  warn(f\"Solver status is '{status}'.\", UserWarning)\n",
      "/opt/conda/lib/python3.8/site-packages/cobra/util/solver.py:508: UserWarning: Solver status is 'infeasible'.\n",
      "  warn(f\"Solver status is '{status}'.\", UserWarning)\n"
     ]
    },
    {
     "name": "stdout",
     "output_type": "stream",
     "text": [
      "optimal 5htp production using:  Maltohexaose exchange is  13.455000000000014\n",
      "optimal biomass production using:  Maltohexaose exchange is  2.733121155040805\n",
      "optimal 5htp production using:  DIMP exchange is  2.6193893129770967\n",
      "optimal biomass production using:  DIMP exchange is  0.5681660040013001\n"
     ]
    },
    {
     "name": "stderr",
     "output_type": "stream",
     "text": [
      "/opt/conda/lib/python3.8/site-packages/cobra/util/solver.py:508: UserWarning: Solver status is 'infeasible'.\n",
      "  warn(f\"Solver status is '{status}'.\", UserWarning)\n",
      "/opt/conda/lib/python3.8/site-packages/cobra/util/solver.py:508: UserWarning: Solver status is 'infeasible'.\n",
      "  warn(f\"Solver status is '{status}'.\", UserWarning)\n",
      "/opt/conda/lib/python3.8/site-packages/cobra/util/solver.py:508: UserWarning: Solver status is 'infeasible'.\n",
      "  warn(f\"Solver status is '{status}'.\", UserWarning)\n",
      "/opt/conda/lib/python3.8/site-packages/cobra/util/solver.py:508: UserWarning: Solver status is 'infeasible'.\n",
      "  warn(f\"Solver status is '{status}'.\", UserWarning)\n",
      "/opt/conda/lib/python3.8/site-packages/cobra/util/solver.py:508: UserWarning: Solver status is 'infeasible'.\n",
      "  warn(f\"Solver status is '{status}'.\", UserWarning)\n",
      "/opt/conda/lib/python3.8/site-packages/cobra/util/solver.py:508: UserWarning: Solver status is 'infeasible'.\n",
      "  warn(f\"Solver status is '{status}'.\", UserWarning)\n"
     ]
    },
    {
     "name": "stdout",
     "output_type": "stream",
     "text": [
      "optimal 5htp production using:  Hexadecenoate (n-C16:1) exchange is  5.24512\n",
      "optimal biomass production using:  Hexadecenoate (n-C16:1) exchange is  1.1796293813635121\n",
      "optimal 5htp production using:  Reduced glutathione exchange is  2.6686086956521606\n",
      "optimal biomass production using:  Reduced glutathione exchange is  0.5883626832481206\n"
     ]
    },
    {
     "name": "stderr",
     "output_type": "stream",
     "text": [
      "/opt/conda/lib/python3.8/site-packages/cobra/util/solver.py:508: UserWarning: Solver status is 'infeasible'.\n",
      "  warn(f\"Solver status is '{status}'.\", UserWarning)\n",
      "/opt/conda/lib/python3.8/site-packages/cobra/util/solver.py:508: UserWarning: Solver status is 'infeasible'.\n",
      "  warn(f\"Solver status is '{status}'.\", UserWarning)\n"
     ]
    },
    {
     "name": "stdout",
     "output_type": "stream",
     "text": [
      "optimal 5htp production using:  3'-AMP exchange is  2.629256198347107\n",
      "optimal biomass production using:  3'-AMP exchange is  0.5529175637508869\n",
      "optimal 5htp production using:  1,4-alpha-D-glucan exchange is  13.45499999999999\n",
      "optimal biomass production using:  1,4-alpha-D-glucan exchange is  2.733121155040777\n",
      "optimal 5htp production using:  Maltopentaose exchange is  11.140185185185198\n",
      "optimal biomass production using:  Maltopentaose exchange is  2.2629116165516083\n"
     ]
    },
    {
     "name": "stderr",
     "output_type": "stream",
     "text": [
      "/opt/conda/lib/python3.8/site-packages/cobra/util/solver.py:508: UserWarning: Solver status is 'infeasible'.\n",
      "  warn(f\"Solver status is '{status}'.\", UserWarning)\n",
      "/opt/conda/lib/python3.8/site-packages/cobra/util/solver.py:508: UserWarning: Solver status is 'infeasible'.\n",
      "  warn(f\"Solver status is '{status}'.\", UserWarning)\n",
      "/opt/conda/lib/python3.8/site-packages/cobra/util/solver.py:508: UserWarning: Solver status is 'infeasible'.\n",
      "  warn(f\"Solver status is '{status}'.\", UserWarning)\n"
     ]
    },
    {
     "name": "stdout",
     "output_type": "stream",
     "text": [
      "optimal 5htp production using:  Melibiose exchange is  4.35777777777778\n",
      "optimal biomass production using:  Melibiose exchange is  0.8851976687782452\n",
      "optimal 5htp production using:  Maltotetraose exchange is  8.825370370370367\n",
      "optimal biomass production using:  Maltotetraose exchange is  1.792702078062389\n"
     ]
    },
    {
     "name": "stderr",
     "output_type": "stream",
     "text": [
      "/opt/conda/lib/python3.8/site-packages/cobra/util/solver.py:508: UserWarning: Solver status is 'infeasible'.\n",
      "  warn(f\"Solver status is '{status}'.\", UserWarning)\n",
      "/opt/conda/lib/python3.8/site-packages/cobra/util/solver.py:508: UserWarning: Solver status is 'infeasible'.\n",
      "  warn(f\"Solver status is '{status}'.\", UserWarning)\n",
      "/opt/conda/lib/python3.8/site-packages/cobra/util/solver.py:508: UserWarning: Solver status is 'infeasible'.\n",
      "  warn(f\"Solver status is '{status}'.\", UserWarning)\n"
     ]
    },
    {
     "name": "stdout",
     "output_type": "stream",
     "text": [
      "optimal 5htp production using:  N-Acetyl-D-glucosamine 1-phosphate exchange is  2.6678048780487846\n",
      "optimal biomass production using:  N-Acetyl-D-glucosamine 1-phosphate exchange is  0.5656562356516586\n",
      "optimal 5htp production using:  L-alanine-D-glutamate exchange is  2.418608695652181\n",
      "optimal biomass production using:  L-alanine-D-glutamate exchange is  0.521818267990016\n"
     ]
    },
    {
     "name": "stderr",
     "output_type": "stream",
     "text": [
      "/opt/conda/lib/python3.8/site-packages/cobra/util/solver.py:508: UserWarning: Solver status is 'infeasible'.\n",
      "  warn(f\"Solver status is '{status}'.\", UserWarning)\n",
      "/opt/conda/lib/python3.8/site-packages/cobra/util/solver.py:508: UserWarning: Solver status is 'infeasible'.\n",
      "  warn(f\"Solver status is '{status}'.\", UserWarning)\n",
      "/opt/conda/lib/python3.8/site-packages/cobra/util/solver.py:508: UserWarning: Solver status is 'infeasible'.\n",
      "  warn(f\"Solver status is '{status}'.\", UserWarning)\n"
     ]
    },
    {
     "name": "stdout",
     "output_type": "stream",
     "text": [
      "optimal 5htp production using:  Phenethylamine exchange is  2.4651199999999993\n",
      "optimal biomass production using:  Phenethylamine exchange is  0.5412789328661911\n"
     ]
    },
    {
     "name": "stderr",
     "output_type": "stream",
     "text": [
      "/opt/conda/lib/python3.8/site-packages/cobra/util/solver.py:508: UserWarning: Solver status is 'infeasible'.\n",
      "  warn(f\"Solver status is '{status}'.\", UserWarning)\n",
      "/opt/conda/lib/python3.8/site-packages/cobra/util/solver.py:508: UserWarning: Solver status is 'infeasible'.\n",
      "  warn(f\"Solver status is '{status}'.\", UserWarning)\n",
      "/opt/conda/lib/python3.8/site-packages/cobra/util/solver.py:508: UserWarning: Solver status is 'infeasible'.\n",
      "  warn(f\"Solver status is '{status}'.\", UserWarning)\n"
     ]
    },
    {
     "name": "stdout",
     "output_type": "stream",
     "text": [
      "optimal 5htp production using:  2',3'-Cyclic GMP exchange is  2.48277777777778\n",
      "optimal biomass production using:  2',3'-Cyclic GMP exchange is  0.519165530976341\n"
     ]
    },
    {
     "name": "stderr",
     "output_type": "stream",
     "text": [
      "/opt/conda/lib/python3.8/site-packages/cobra/util/solver.py:508: UserWarning: Solver status is 'infeasible'.\n",
      "  warn(f\"Solver status is '{status}'.\", UserWarning)\n",
      "/opt/conda/lib/python3.8/site-packages/cobra/util/solver.py:508: UserWarning: Solver status is 'infeasible'.\n",
      "  warn(f\"Solver status is '{status}'.\", UserWarning)\n",
      "/opt/conda/lib/python3.8/site-packages/cobra/util/solver.py:508: UserWarning: Solver status is 'infeasible'.\n",
      "  warn(f\"Solver status is '{status}'.\", UserWarning)\n",
      "/opt/conda/lib/python3.8/site-packages/cobra/util/solver.py:508: UserWarning: Solver status is 'infeasible'.\n",
      "  warn(f\"Solver status is '{status}'.\", UserWarning)\n"
     ]
    },
    {
     "name": "stdout",
     "output_type": "stream",
     "text": [
      "optimal 5htp production using:  Deoxyinosine exchange is  2.6193893129770984\n",
      "optimal biomass production using:  Deoxyinosine exchange is  0.5681660040012915\n",
      "optimal 5htp production using:  2',3'-Cyclic AMP exchange is  2.629256198347107\n",
      "optimal biomass production using:  2',3'-Cyclic AMP exchange is  0.5529175637508871\n"
     ]
    },
    {
     "name": "stderr",
     "output_type": "stream",
     "text": [
      "/opt/conda/lib/python3.8/site-packages/cobra/util/solver.py:508: UserWarning: Solver status is 'infeasible'.\n",
      "  warn(f\"Solver status is '{status}'.\", UserWarning)\n"
     ]
    },
    {
     "name": "stdout",
     "output_type": "stream",
     "text": [
      "optimal 5htp production using:  D-Mannitol exchange is  2.2351351351351423\n",
      "optimal biomass production using:  D-Mannitol exchange is  0.4714132749077199\n",
      "number of carbon sources which could improve 5-htp production:  69\n"
     ]
    }
   ],
   "source": [
    "# getting the max fluxes of 5-htp and biomass production on glucose\n",
    "medium = model.medium\n",
    "model.objective = {model.reactions.phhA: 0.5}\n",
    "solution = model.optimize()\n",
    "glucose_max_5htp = solution.objective_value\n",
    "model.objective = {model.reactions.BIOMASS_Ec_iML1515_core_75p37M: 0.5}\n",
    "solution = model.optimize()\n",
    "glucose_max_biomass = solution.objective_value\n",
    "count = 0\n",
    "\n",
    "#replace glucose with each exchange reaction from the possible carbon source reactions\n",
    "for reaction in carbon_uptake:\n",
    "    # resetting the media after each change\n",
    "    medium = model.medium\n",
    "    with model:\n",
    "        # setting the medium to the new carbon source\n",
    "        medium['EX_glc__D_e'] = 0\n",
    "        medium[reaction] = 10\n",
    "        model.medium = medium\n",
    "        # calculating max production of 5-htp and biomass\n",
    "        model.objective = {model.reactions.phhA: 0.5}\n",
    "        solution = model.optimize()\n",
    "        max_5HTP_production = solution.objective_value\n",
    "        model.objective = {model.reactions.BIOMASS_Ec_iML1515_core_75p37M: 0.5}\n",
    "        solution = model.optimize()\n",
    "        max_biomass_production = solution.objective_value\n",
    "        # If the production is higher for both biomass and 5-htp production than using glucose as carbon source, then we print it\n",
    "        if max_5HTP_production > glucose_max_5htp and max_biomass_production > glucose_max_biomass:\n",
    "            count += 1\n",
    "            print(\"optimal 5htp production using: \", model.reactions.get_by_id(reaction).name, \"is \", max_5HTP_production)\n",
    "            print(\"optimal biomass production using: \", model.reactions.get_by_id(reaction).name, \"is \", max_biomass_production)\n",
    "print(\"number of carbon sources which could improve 5-htp production: \", count)"
   ]
  },
  {
   "cell_type": "markdown",
   "metadata": {},
   "source": [
    "69 carbon uptake reaction can increase the flux towards both biomass and 5-HTP production"
   ]
  },
  {
   "cell_type": "markdown",
   "metadata": {},
   "source": [
    "## Yield calculations"
   ]
  },
  {
   "cell_type": "markdown",
   "metadata": {},
   "source": [
    "**Calculating the max theoretical yeild of 5-HTP**"
   ]
  },
  {
   "cell_type": "code",
   "execution_count": 55,
   "metadata": {},
   "outputs": [],
   "source": [
    "from cobra.flux_analysis import flux_variability_analysis"
   ]
  },
  {
   "cell_type": "code",
   "execution_count": 56,
   "metadata": {},
   "outputs": [
    {
     "name": "stdout",
     "output_type": "stream",
     "text": [
      "the flux of 5htp production:  4.279204339963834 [mmol gDW^-1 h^-1]\n",
      "The molar yield of 5htp  0.4279204339963834 [mmol-5htp / mmol-glc]\n",
      "The mass yield of 5htp  0.016978066675304163 [g-5htp / g-glc]\n",
      "The c-cmol yield of 5thp  0.025462551559367528 [cmol-5htp / cmol-glc]\n"
     ]
    }
   ],
   "source": [
    "with model:\n",
    "    # calculating max yield of 5-HTP\n",
    "    model.objective = model.reactions.EX_htrp\n",
    "    max_5htp_production = model.optimize().objective_value\n",
    "    substrate_flux = solution.fluxes['EX_glc__D_e']\n",
    "    print(\"the flux of 5htp production: \",max_5htp_production , \"[mmol gDW^-1 h^-1]\")\n",
    "    # calculating molar yield\n",
    "    molar_yield_5htp = max_5htp_production / (-1. * substrate_flux)\n",
    "    print(\"The molar yield of 5htp \", molar_yield_5htp, \"[mmol-5htp / mmol-glc]\")\n",
    "    # Defining mass yield\n",
    "    M_5htp = 0.22023 # g/mmol\n",
    "    M_glc = 0.180156 # g/mmol\n",
    "    mass_yield_5htp = max_5htp_production * M_5htp / (-1. * solution.fluxes['EX_glc__D_e'])*M_glc\n",
    "    print(\"The mass yield of 5htp \", mass_yield_5htp , \"[g-5htp / g-glc]\")\n",
    "    # calculating cmol yield\n",
    "    # 5HTP: C11H12N2O3\n",
    "    cmol_5htp = M_5htp/11\n",
    "    # glucose: C6H12O6 \n",
    "    cmol_glc = M_glc/6\n",
    "    cmol_yield_5htp = mass_yield_5htp * (cmol_glc / cmol_5htp)\n",
    "    print(\"The c-cmol yield of 5thp \", cmol_yield_5htp, \"[cmol-5htp / cmol-glc]\")\n",
    "    "
   ]
  },
  {
   "cell_type": "code",
   "execution_count": 57,
   "metadata": {},
   "outputs": [
    {
     "data": {
      "text/html": [
       "\n",
       "        <table>\n",
       "            <tr>\n",
       "                <td><strong>Reaction identifier</strong></td><td>EX_glyc_e</td>\n",
       "            </tr><tr>\n",
       "                <td><strong>Name</strong></td><td>Glycerol exchange</td>\n",
       "            </tr><tr>\n",
       "                <td><strong>Memory address</strong></td>\n",
       "                <td>0x07f74fd5d9e50</td>\n",
       "            </tr><tr>\n",
       "                <td><strong>Stoichiometry</strong></td>\n",
       "                <td>\n",
       "                    <p style='text-align:right'>glyc_e --></p>\n",
       "                    <p style='text-align:right'>Glycerol --></p>\n",
       "                </td>\n",
       "            </tr><tr>\n",
       "                <td><strong>GPR</strong></td><td></td>\n",
       "            </tr><tr>\n",
       "                <td><strong>Lower bound</strong></td><td>0.0</td>\n",
       "            </tr><tr>\n",
       "                <td><strong>Upper bound</strong></td><td>1000.0</td>\n",
       "            </tr>\n",
       "        </table>\n",
       "        "
      ],
      "text/plain": [
       "<Reaction EX_glyc_e at 0x7f74fd5d9e50>"
      ]
     },
     "execution_count": 57,
     "metadata": {},
     "output_type": "execute_result"
    }
   ],
   "source": [
    "model.reactions.EX_glyc_e"
   ]
  },
  {
   "cell_type": "code",
   "execution_count": 66,
   "metadata": {},
   "outputs": [
    {
     "name": "stdout",
     "output_type": "stream",
     "text": [
      "the flux of 5htp production:  2.4407619047619034 [mmol gDW^-1 h^-1]\n",
      "The molar yield of 5htp  0.24407619047619034 [mmol-5htp / mmol-glyc]\n",
      "The mass yield of 5htp  0.004950104508377139 [g-5htp / g-glyc]\n",
      "The c-cmol yield of 5thp  0.00758965076804698 [cmol-5htp / cmol-glyc]\n"
     ]
    }
   ],
   "source": [
    "medium = model.medium\n",
    "with model:\n",
    "    #replace glucose with glycerol\n",
    "    medium['EX_glc__D_e'] = 0\n",
    "    medium[\"EX_glyc_e\"] = 10\n",
    "    model.medium = medium\n",
    "    model.objective = model.reactions.EX_htrp\n",
    "    solution = model.optimize()\n",
    "    print(\"the flux of 5htp production: \",solution.fluxes[\"EX_htrp\"] , \"[mmol gDW^-1 h^-1]\")\n",
    "    molar_yield_5htp = solution.fluxes['EX_htrp'] / (-1. * solution.fluxes['EX_glyc_e'])\n",
    "    print(\"The molar yield of 5htp \", molar_yield_5htp, \"[mmol-5htp / mmol-glyc]\")\n",
    "    # calculating mass yield\n",
    "    M_5htp = 220.23/1000 # g/mmol\n",
    "    M_glyc = 92.09/1000 # g/mmol\n",
    "    mass_yield_5htp = solution.fluxes['EX_htrp']* M_5htp / (-1. * solution.fluxes['EX_glyc_e'])* M_glyc\n",
    "    print(\"The mass yield of 5htp \", mass_yield_5htp , \"[g-5htp / g-glyc]\")\n",
    "    # calculating cmol yield\n",
    "    # 5HTP: C11H12N2O3\n",
    "    cmol_5htp = M_5htp/11\n",
    "    # glycerol: C3H8O3 \n",
    "    cmol_glyc = M_glyc/3\n",
    "    cmol_yield_5htp = mass_yield_5htp * (cmol_glyc / cmol_5htp)\n",
    "    print(\"The c-cmol yield of 5thp \", cmol_yield_5htp, \"[cmol-5htp / cmol-glyc]\")"
   ]
  },
  {
   "cell_type": "markdown",
   "metadata": {},
   "source": [
    "**Calculating yield at 50% growth**"
   ]
  },
  {
   "cell_type": "code",
   "execution_count": 59,
   "metadata": {},
   "outputs": [
    {
     "name": "stdout",
     "output_type": "stream",
     "text": [
      "the flux of 5htp production:  2.139602169981915 [mmol gDW^-1 h^-1]\n",
      "The molar yield of 5htp  0.2139602169981915 [mmol-5htp / mmol-Sub]\n",
      "The mass yield of 5htp  0.008489033337652073 [g-5htp / g-Sub]\n",
      "The c-cmol yield of 5thp  0.012731275779683754 [cmol-5htp / cmol-Sub]\n",
      "the flux of biomass production:  0.43849860721348155 [mmol gDW^-1 h^-1]\n",
      "The molar yield of biomass  0.04384986072134815 [mmol-X / mmol-Sub]\n",
      "The mass yield of biomass  0.0001943354614996339 [g-X / g-Sub]\n",
      "The c-cmol yield of biomass  0.00023719986044666696 [cmol-X / cmol-Sub]\n"
     ]
    }
   ],
   "source": [
    "# Calculating the yield of 5-HTP and biomass on glucose carbon source\n",
    "medium = model.medium\n",
    "\n",
    "with model:\n",
    "    # calculating flux towards 5-HTP production at 50% growth\n",
    "    model.objective = {model.reactions.phhA: 0.5}\n",
    "    solution = model.optimize()\n",
    "    glucose_max_5htp = solution.objective_value\n",
    "    substrate_flux = solution.fluxes['EX_glc__D_e']\n",
    "    print(\"the flux of 5htp production: \",glucose_max_5htp, \"[mmol gDW^-1 h^-1]\")\n",
    "    molar_yield_5htp = glucose_max_5htp / (-1. * substrate_flux)\n",
    "    print(\"The molar yield of 5htp \", molar_yield_5htp, \"[mmol-5htp / mmol-Sub]\")\n",
    "    # defining mass yield\n",
    "    M_5htp = 220.23/1000 # g/mmol\n",
    "    M_glc = 180.156/1000 # g/mmol\n",
    "    glucose_mass_yield_5htp = glucose_max_5htp*M_5htp / (-1. * substrate_flux)*M_glc\n",
    "    print(\"The mass yield of 5htp \", glucose_mass_yield_5htp , \"[g-5htp / g-Sub]\")\n",
    "    # calculating cmol yield\n",
    "    # 5HTP: C11H12N2O3\n",
    "    cmol_5htp = M_5htp/11\n",
    "    # glucose: C6H12O6 \n",
    "    cmol_glc = M_glc/6\n",
    "    cmol_yield_5htp = glucose_mass_yield_5htp * (cmol_glc / cmol_5htp)\n",
    "    print(\"The c-cmol yield of 5thp \", cmol_yield_5htp, \"[cmol-5htp / cmol-Sub]\")\n",
    "    # Calculating flux and yield of biomass\n",
    "    model.objective = {model.reactions.BIOMASS_Ec_iML1515_core_75p37M: 0.5}\n",
    "    solution = model.optimize()\n",
    "    glucose_max_biomass = solution.objective_value\n",
    "    print(\"the flux of biomass production: \",glucose_max_biomass, \"[mmol gDW^-1 h^-1]\")\n",
    "    molar_yield_biomass = glucose_max_biomass / (-1. * substrate_flux)\n",
    "    print(\"The molar yield of biomass \", molar_yield_biomass, \"[mmol-X / mmol-Sub]\")\n",
    "    # calculating mass yield\n",
    "    # standard biomass CH1.8O0.5N0.2\n",
    "    M_biomass = (12 + 1*1.8 + 16*0.5 + 14*0.2)/1000 # g/mmol\n",
    "    glucose_mass_yield_biomass = glucose_max_biomass*M_biomass / (-1. * substrate_flux)*M_glc\n",
    "    print(\"The mass yield of biomass \", glucose_mass_yield_biomass , \"[g-X / g-Sub]\")\n",
    "    cmol_biomass = M_biomass/1\n",
    "    cmol_yield_5htp = glucose_mass_yield_biomass * (cmol_glc / cmol_biomass)\n",
    "    print(\"The c-cmol yield of biomass \", cmol_yield_5htp, \"[cmol-X / cmol-Sub]\")\n",
    "    "
   ]
  },
  {
   "cell_type": "markdown",
   "metadata": {},
   "source": [
    "**Replace glucose with glycerol**"
   ]
  },
  {
   "cell_type": "code",
   "execution_count": 60,
   "metadata": {},
   "outputs": [
    {
     "name": "stdout",
     "output_type": "stream",
     "text": [
      "the flux of 5htp production:  1.220380952380951 [mmol gDW^-1 h^-1]\n",
      "The molar yield of 5htp  0.1220380952380951 [mmol-5htp / mmol-Sub]\n",
      "The mass yield of 5htp  0.002475052254188569 [g-5htp / g-Sub]\n",
      "The c-cmol yield of 5thp  0.0037948253840234887 [cmol-5htp / cmol-Sub]\n",
      "the flux of biomass production:  0.2473567462089518 [mmol gDW^-1 h^-1]\n",
      "The molar yield of biomass  0.024735674620895178 [mmol-X / mmol-Sub]\n",
      "The mass yield of biomass  5.603654358562064e-05 [g-X / g-Sub]\n",
      "The c-cmol yield of biomass  6.992419104064776e-05 [cmol-X / cmol-Sub]\n"
     ]
    }
   ],
   "source": [
    "medium = model.medium\n",
    "\n",
    "with model:\n",
    "    #replace glucose with glycerol\n",
    "    medium['EX_glc__D_e'] = 0\n",
    "    medium[\"EX_glyc_e\"] = 10\n",
    "    model.medium = medium\n",
    "    \n",
    "    # calculating flux towards 5-HTP production at 50% growth\n",
    "    model.objective = {model.reactions.phhA: 0.5}\n",
    "    solution = model.optimize()\n",
    "    hydroxy_trp_50 = solution.objective_value\n",
    "    substrate_flux = solution.fluxes['EX_glyc_e']\n",
    "    print(\"the flux of 5htp production: \",hydroxy_trp_50, \"[mmol gDW^-1 h^-1]\")\n",
    "    molar_yield_5htp = hydroxy_trp_50 / (-1. * substrate_flux)\n",
    "    print(\"The molar yield of 5htp \", molar_yield_5htp, \"[mmol-5htp / mmol-Sub]\")\n",
    "    \n",
    "    # calculating mass yield\n",
    "    M_5htp = 220.23/1000 # g/mmol\n",
    "    M_sub = 92.09/1000 # g/mmol\n",
    "    mass_yield_5htp = hydroxy_trp_50*M_5htp / (-1. * substrate_flux)*M_sub\n",
    "    print(\"The mass yield of 5htp \", mass_yield_5htp , \"[g-5htp / g-Sub]\")\n",
    "    \n",
    "    # calculating cmol yield\n",
    "    # 5HTP: C11H12N2O3\n",
    "    cmol_5htp = M_5htp/11\n",
    "    # glycerol: C3H8O3 \n",
    "    cmol_sub = M_sub/3\n",
    "    cmol_yield_5htp = mass_yield_5htp * (cmol_sub / cmol_5htp)\n",
    "    print(\"The c-cmol yield of 5thp \", cmol_yield_5htp, \"[cmol-5htp / cmol-Sub]\")\n",
    "    \n",
    "    # Calculating flux and yield of biomass\n",
    "    model.objective = {model.reactions.BIOMASS_Ec_iML1515_core_75p37M: 0.5}\n",
    "    solution = model.optimize()\n",
    "    biomass_50 = solution.objective_value\n",
    "    print(\"the flux of biomass production: \",biomass_50, \"[mmol gDW^-1 h^-1]\")\n",
    "    molar_yield_biomass = biomass_50 / (-1. * substrate_flux)\n",
    "    print(\"The molar yield of biomass \", molar_yield_biomass, \"[mmol-X / mmol-Sub]\")\n",
    "    \n",
    "    # calculating mass yield\n",
    "    # standard biomass CH1.8O0.5N0.2\n",
    "    M_biomass = (12 + 1*1.8 + 16*0.5 + 14*0.2)/1000 # g/mmol\n",
    "    mass_yield_biomass = biomass_50*M_biomass / (-1. * substrate_flux)*M_sub\n",
    "    print(\"The mass yield of biomass \", mass_yield_biomass , \"[g-X / g-Sub]\")\n",
    "    cmol_biomass = M_biomass/1\n",
    "    cmol_yield_5htp = mass_yield_biomass * (cmol_sub / cmol_biomass)\n",
    "    print(\"The c-cmol yield of biomass \", cmol_yield_5htp, \"[cmol-X / cmol-Sub]\")\n",
    "    "
   ]
  },
  {
   "cell_type": "markdown",
   "metadata": {},
   "source": [
    "**Replace glucose with sucrose**"
   ]
  },
  {
   "cell_type": "code",
   "execution_count": 64,
   "metadata": {},
   "outputs": [
    {
     "name": "stderr",
     "output_type": "stream",
     "text": [
      "/opt/conda/lib/python3.8/site-packages/cobra/util/solver.py:508: UserWarning: Solver status is 'infeasible'.\n",
      "  warn(f\"Solver status is '{status}'.\", UserWarning)\n",
      "<ipython-input-64-55c31cb70b88>:16: RuntimeWarning: invalid value encountered in double_scalars\n",
      "  molar_yield_5htp = hydroxy_trp_50 / (-1. * substrate_flux)\n",
      "<ipython-input-64-55c31cb70b88>:23: RuntimeWarning: invalid value encountered in double_scalars\n",
      "  mass_yield_5htp = hydroxy_trp_50*M_5htp / (-1. * substrate_flux)*M_sub\n"
     ]
    },
    {
     "name": "stdout",
     "output_type": "stream",
     "text": [
      "0.0\n",
      "the flux of 5htp production:  0.0 [mmol gDW^-1 h^-1]\n",
      "The molar yield of 5htp  nan [mmol-5htp / mmol-Sub]\n",
      "The mass yield of 5htp  nan [g-5htp / g-Sub]\n",
      "The c-cmol yield of 5thp  nan [cmol-5htp / cmol-Sub]\n",
      "the flux of biomass production:  -0.021731826526236776 [mmol gDW^-1 h^-1]\n",
      "The molar yield of biomass  inf [mmol-X / mmol-Sub]\n",
      "The mass yield of biomass  inf [g-X / g-Sub]\n",
      "The c-cmol yield of biomass  inf [cmol-X / cmol-Sub]\n"
     ]
    },
    {
     "name": "stderr",
     "output_type": "stream",
     "text": [
      "<ipython-input-64-55c31cb70b88>:39: RuntimeWarning: divide by zero encountered in double_scalars\n",
      "  molar_yield_biomass = biomass_50 / (-1. * substrate_flux)\n",
      "<ipython-input-64-55c31cb70b88>:45: RuntimeWarning: divide by zero encountered in double_scalars\n",
      "  mass_yield_biomass = biomass_50*M_biomass / (-1. * substrate_flux)*M_sub\n"
     ]
    }
   ],
   "source": [
    "medium = model.medium\n",
    "\n",
    "with model:\n",
    "    #replace glucose with sucrose\n",
    "    medium['EX_glc__D_e'] = 0\n",
    "    medium[\"EX_sucr_e\"] = 10\n",
    "    model.medium = medium\n",
    "    \n",
    "    # calculating flux towards 5-HTP production at 50% growth\n",
    "    model.objective = {model.reactions.phhA: 0.5}\n",
    "    solution = model.optimize()\n",
    "    hydroxy_trp_50 = solution.objective_value\n",
    "    substrate_flux = solution.fluxes['EX_sucr_e']\n",
    "    print(substrate_flux)\n",
    "    print(\"the flux of 5htp production: \",hydroxy_trp_50, \"[mmol gDW^-1 h^-1]\")\n",
    "    molar_yield_5htp = hydroxy_trp_50 / (-1. * substrate_flux)\n",
    "    print(\"The molar yield of 5htp \", molar_yield_5htp, \"[mmol-5htp / mmol-Sub]\")\n",
    "    \n",
    "    # calculating mass yield\n",
    "    M_5htp = 220.23/1000 # g/mmol\n",
    "    # mass of sucrose\n",
    "    M_sub = 342.29/1000 # g/mmol\n",
    "    mass_yield_5htp = hydroxy_trp_50*M_5htp / (-1. * substrate_flux)*M_sub\n",
    "    print(\"The mass yield of 5htp \", mass_yield_5htp , \"[g-5htp / g-Sub]\")\n",
    "    \n",
    "    # calculating cmol yield\n",
    "    # 5HTP: C11H12N2O3\n",
    "    cmol_5htp = M_5htp/11\n",
    "    # sucrose: C12H22O11 \n",
    "    cmol_sub = M_sub/12\n",
    "    cmol_yield_5htp = mass_yield_5htp * (cmol_sub / cmol_5htp)\n",
    "    print(\"The c-cmol yield of 5thp \", cmol_yield_5htp, \"[cmol-5htp / cmol-Sub]\")\n",
    "    \n",
    "    # Calculating flux and yield of biomass\n",
    "    model.objective = {model.reactions.BIOMASS_Ec_iML1515_core_75p37M: 0.5}\n",
    "    solution = model.optimize()\n",
    "    biomass_50 = solution.objective_value\n",
    "    print(\"the flux of biomass production: \",biomass_50, \"[mmol gDW^-1 h^-1]\")\n",
    "    molar_yield_biomass = biomass_50 / (-1. * substrate_flux)\n",
    "    print(\"The molar yield of biomass \", molar_yield_biomass, \"[mmol-X / mmol-Sub]\")\n",
    "    \n",
    "    # calculating mass yield\n",
    "    # standard biomass CH1.8O0.5N0.2\n",
    "    M_biomass = (12 + 1*1.8 + 16*0.5 + 14*0.2)/1000 # g/mmol\n",
    "    mass_yield_biomass = biomass_50*M_biomass / (-1. * substrate_flux)*M_sub\n",
    "    print(\"The mass yield of biomass \", mass_yield_biomass , \"[g-X / g-Sub]\")\n",
    "    cmol_biomass = M_biomass/1\n",
    "    cmol_yield_5htp = mass_yield_biomass * (cmol_sub / cmol_biomass)\n",
    "    print(\"The c-cmol yield of biomass \", cmol_yield_5htp, \"[cmol-X / cmol-Sub]\")\n",
    "    "
   ]
  },
  {
   "cell_type": "markdown",
   "metadata": {},
   "source": [
    "**Replace glucose with lactose**"
   ]
  },
  {
   "cell_type": "code",
   "execution_count": 68,
   "metadata": {},
   "outputs": [
    {
     "name": "stdout",
     "output_type": "stream",
     "text": [
      "the flux of 5htp production:  4.3577777777777795 [mmol gDW^-1 h^-1]\n",
      "The molar yield of 5htp  0.43577777777777793 [mmol-5htp / mmol-Sub]\n",
      "The mass yield of 5htp  0.03285098968200001 [g-5htp / g-Sub]\n",
      "The c-cmol yield of 5thp  0.04680479175166668 [cmol-5htp / cmol-Sub]\n",
      "the flux of biomass production:  0.885197668778223 [mmol gDW^-1 h^-1]\n",
      "The molar yield of biomass  0.0885197668778223 [mmol-X / mmol-Sub]\n",
      "The mass yield of biomass  0.0007453877785760528 [g-X / g-Sub]\n",
      "The c-cmol yield of biomass  0.0008643165196699961 [cmol-X / cmol-Sub]\n"
     ]
    }
   ],
   "source": [
    "medium = model.medium\n",
    "\n",
    "with model:\n",
    "    #replace glucose with lactose\n",
    "    medium['EX_glc__D_e'] = 0\n",
    "    medium[\"EX_lcts_e\"] = 10\n",
    "    model.medium = medium\n",
    "    \n",
    "    # calculating flux towards 5-HTP production at 50% growth\n",
    "    model.objective = {model.reactions.phhA: 0.5}\n",
    "    solution = model.optimize()\n",
    "    hydroxy_trp_50 = solution.objective_value\n",
    "    substrate_flux = solution.fluxes['EX_lcts_e']\n",
    "    print(\"the flux of 5htp production: \",hydroxy_trp_50, \"[mmol gDW^-1 h^-1]\")\n",
    "    molar_yield_5htp = hydroxy_trp_50 / (-1. * substrate_flux)\n",
    "    print(\"The molar yield of 5htp \", molar_yield_5htp, \"[mmol-5htp / mmol-Sub]\")\n",
    "    \n",
    "    # calculating mass yield\n",
    "    M_5htp = 220.23/1000 # g/mmol\n",
    "    # mass of lactose\n",
    "    M_sub = 342.3/1000 # g/mmol\n",
    "    mass_yield_5htp = hydroxy_trp_50*M_5htp / (-1. * substrate_flux)*M_sub\n",
    "    print(\"The mass yield of 5htp \", mass_yield_5htp , \"[g-5htp / g-Sub]\")\n",
    "    \n",
    "    # calculating cmol yield\n",
    "    # 5HTP: C11H12N2O3\n",
    "    cmol_5htp = M_5htp/11\n",
    "    # lactose: C12H22O11 \n",
    "    cmol_sub = M_sub/12\n",
    "    cmol_yield_5htp = mass_yield_5htp * (cmol_sub / cmol_5htp)\n",
    "    print(\"The c-cmol yield of 5thp \", cmol_yield_5htp, \"[cmol-5htp / cmol-Sub]\")\n",
    "    \n",
    "    # Calculating flux and yield of biomass\n",
    "    model.objective = {model.reactions.BIOMASS_Ec_iML1515_core_75p37M: 0.5}\n",
    "    solution = model.optimize()\n",
    "    biomass_50 = solution.objective_value\n",
    "    print(\"the flux of biomass production: \",biomass_50, \"[mmol gDW^-1 h^-1]\")\n",
    "    molar_yield_biomass = biomass_50 / (-1. * substrate_flux)\n",
    "    print(\"The molar yield of biomass \", molar_yield_biomass, \"[mmol-X / mmol-Sub]\")\n",
    "    \n",
    "    # calculating mass yield\n",
    "    # standard biomass CH1.8O0.5N0.2\n",
    "    M_biomass = (12 + 1*1.8 + 16*0.5 + 14*0.2)/1000 # g/mmol\n",
    "    mass_yield_biomass = biomass_50*M_biomass / (-1. * substrate_flux)*M_sub\n",
    "    print(\"The mass yield of biomass \", mass_yield_biomass , \"[g-X / g-Sub]\")\n",
    "    cmol_biomass = M_biomass/1\n",
    "    cmol_yield_5htp = mass_yield_biomass * (cmol_sub / cmol_biomass)\n",
    "    print(\"The c-cmol yield of biomass \", cmol_yield_5htp, \"[cmol-X / cmol-Sub]\")\n",
    "    "
   ]
  },
  {
   "cell_type": "markdown",
   "metadata": {},
   "source": [
    "**Replace glucose with galactose**"
   ]
  },
  {
   "cell_type": "code",
   "execution_count": 71,
   "metadata": {},
   "outputs": [
    {
     "name": "stdout",
     "output_type": "stream",
     "text": [
      "the flux of 5htp production:  2.135555555555557 [mmol gDW^-1 h^-1]\n",
      "The molar yield of 5htp  0.21355555555555572 [mmol-5htp / mmol-Sub]\n",
      "The mass yield of 5htp  0.008473166214400005 [g-5htp / g-Sub]\n",
      "The c-cmol yield of 5thp  0.01270776148954075 [cmol-5htp / cmol-Sub]\n",
      "the flux of biomass production:  0.4337965118285927 [mmol gDW^-1 h^-1]\n",
      "The molar yield of biomass  0.04337965118285927 [mmol-X / mmol-Sub]\n",
      "The mass yield of biomass  0.00019225583774475655 [g-X / g-Sub]\n",
      "The c-cmol yield of biomass  0.00023466674612530715 [cmol-X / cmol-Sub]\n"
     ]
    }
   ],
   "source": [
    "medium = model.medium\n",
    "\n",
    "with model:\n",
    "    #replace glucose with lactose\n",
    "    medium['EX_glc__D_e'] = 0\n",
    "    medium[\"EX_gal_e\"] = 10\n",
    "    model.medium = medium\n",
    "    \n",
    "    # calculating flux towards 5-HTP production at 50% growth\n",
    "    model.objective = {model.reactions.phhA: 0.5}\n",
    "    solution = model.optimize()\n",
    "    hydroxy_trp_50 = solution.objective_value\n",
    "    substrate_flux = solution.fluxes['EX_gal_e']\n",
    "    print(\"the flux of 5htp production: \",hydroxy_trp_50, \"[mmol gDW^-1 h^-1]\")\n",
    "    molar_yield_5htp = hydroxy_trp_50 / (-1. * substrate_flux)\n",
    "    print(\"The molar yield of 5htp \", molar_yield_5htp, \"[mmol-5htp / mmol-Sub]\")\n",
    "    \n",
    "    # calculating mass yield\n",
    "    M_5htp = 220.23/1000 # g/mmol\n",
    "    # mass of galactose\n",
    "    M_sub = 180.16/1000 # g/mmol\n",
    "    mass_yield_5htp = hydroxy_trp_50*M_5htp / (-1. * substrate_flux)*M_sub\n",
    "    print(\"The mass yield of 5htp \", mass_yield_5htp , \"[g-5htp / g-Sub]\")\n",
    "    \n",
    "    # calculating cmol yield\n",
    "    # 5HTP: C11H12N2O3\n",
    "    cmol_5htp = M_5htp/11\n",
    "    # galactose: C6H12O6 \n",
    "    cmol_sub = M_sub/6\n",
    "    cmol_yield_5htp = mass_yield_5htp * (cmol_sub / cmol_5htp)\n",
    "    print(\"The c-cmol yield of 5thp \", cmol_yield_5htp, \"[cmol-5htp / cmol-Sub]\")\n",
    "    \n",
    "    # Calculating flux and yield of biomass\n",
    "    model.objective = {model.reactions.BIOMASS_Ec_iML1515_core_75p37M: 0.5}\n",
    "    solution = model.optimize()\n",
    "    biomass_50 = solution.objective_value\n",
    "    print(\"the flux of biomass production: \",biomass_50, \"[mmol gDW^-1 h^-1]\")\n",
    "    molar_yield_biomass = biomass_50 / (-1. * substrate_flux)\n",
    "    print(\"The molar yield of biomass \", molar_yield_biomass, \"[mmol-X / mmol-Sub]\")\n",
    "    \n",
    "    # calculating mass yield\n",
    "    # standard biomass CH1.8O0.5N0.2\n",
    "    M_biomass = (12 + 1*1.8 + 16*0.5 + 14*0.2)/1000 # g/mmol\n",
    "    mass_yield_biomass = biomass_50*M_biomass / (-1. * substrate_flux)*M_sub\n",
    "    print(\"The mass yield of biomass \", mass_yield_biomass , \"[g-X / g-Sub]\")\n",
    "    cmol_biomass = M_biomass/1\n",
    "    cmol_yield_5htp = mass_yield_biomass * (cmol_sub / cmol_biomass)\n",
    "    print(\"The c-cmol yield of biomass \", cmol_yield_5htp, \"[cmol-X / cmol-Sub]\")\n",
    "    "
   ]
  },
  {
   "cell_type": "markdown",
   "metadata": {},
   "source": [
    "**Replace glucose with Fructose**"
   ]
  },
  {
   "cell_type": "code",
   "execution_count": 72,
   "metadata": {},
   "outputs": [
    {
     "name": "stdout",
     "output_type": "stream",
     "text": [
      "the flux of 5htp production:  2.0873310810810803 [mmol gDW^-1 h^-1]\n",
      "The molar yield of 5htp  0.20873310810810802 [mmol-5htp / mmol-Sub]\n",
      "The mass yield of 5htp  0.008281827718540535 [g-5htp / g-Sub]\n",
      "The c-cmol yield of 5thp  0.01242079863437837 [cmol-5htp / cmol-Sub]\n",
      "the flux of biomass production:  0.4384986072135017 [mmol gDW^-1 h^-1]\n",
      "The molar yield of biomass  0.04384986072135017 [mmol-X / mmol-Sub]\n",
      "The mass yield of biomass  0.00019433977632593775 [g-X / g-Sub]\n",
      "The c-cmol yield of biomass  0.00023721039365095486 [cmol-X / cmol-Sub]\n"
     ]
    }
   ],
   "source": [
    "medium = model.medium\n",
    "\n",
    "with model:\n",
    "    #replace glucose with fructose\n",
    "    medium['EX_glc__D_e'] = 0\n",
    "    medium[\"EX_fru_e\"] = 10\n",
    "    model.medium = medium\n",
    "    \n",
    "    # calculating flux towards 5-HTP production at 50% growth\n",
    "    model.objective = {model.reactions.phhA: 0.5}\n",
    "    solution = model.optimize()\n",
    "    hydroxy_trp_50 = solution.objective_value\n",
    "    substrate_flux = solution.fluxes['EX_fru_e']\n",
    "    print(\"the flux of 5htp production: \",hydroxy_trp_50, \"[mmol gDW^-1 h^-1]\")\n",
    "    molar_yield_5htp = hydroxy_trp_50 / (-1. * substrate_flux)\n",
    "    print(\"The molar yield of 5htp \", molar_yield_5htp, \"[mmol-5htp / mmol-Sub]\")\n",
    "    \n",
    "    # calculating mass yield\n",
    "    M_5htp = 220.23/1000 # g/mmol\n",
    "    # mass of fructose\n",
    "    M_sub = 180.16/1000 # g/mmol\n",
    "    mass_yield_5htp = hydroxy_trp_50*M_5htp / (-1. * substrate_flux)*M_sub\n",
    "    print(\"The mass yield of 5htp \", mass_yield_5htp , \"[g-5htp / g-Sub]\")\n",
    "    \n",
    "    # calculating cmol yield\n",
    "    # 5HTP: C11H12N2O3\n",
    "    cmol_5htp = M_5htp/11\n",
    "    # fructose: C6H12O6 \n",
    "    cmol_sub = M_sub/6\n",
    "    cmol_yield_5htp = mass_yield_5htp * (cmol_sub / cmol_5htp)\n",
    "    print(\"The c-cmol yield of 5thp \", cmol_yield_5htp, \"[cmol-5htp / cmol-Sub]\")\n",
    "    \n",
    "    # Calculating flux and yield of biomass\n",
    "    model.objective = {model.reactions.BIOMASS_Ec_iML1515_core_75p37M: 0.5}\n",
    "    solution = model.optimize()\n",
    "    biomass_50 = solution.objective_value\n",
    "    print(\"the flux of biomass production: \",biomass_50, \"[mmol gDW^-1 h^-1]\")\n",
    "    molar_yield_biomass = biomass_50 / (-1. * substrate_flux)\n",
    "    print(\"The molar yield of biomass \", molar_yield_biomass, \"[mmol-X / mmol-Sub]\")\n",
    "    \n",
    "    # calculating mass yield\n",
    "    # standard biomass CH1.8O0.5N0.2\n",
    "    M_biomass = (12 + 1*1.8 + 16*0.5 + 14*0.2)/1000 # g/mmol\n",
    "    mass_yield_biomass = biomass_50*M_biomass / (-1. * substrate_flux)*M_sub\n",
    "    print(\"The mass yield of biomass \", mass_yield_biomass , \"[g-X / g-Sub]\")\n",
    "    cmol_biomass = M_biomass/1\n",
    "    cmol_yield_5htp = mass_yield_biomass * (cmol_sub / cmol_biomass)\n",
    "    print(\"The c-cmol yield of biomass \", cmol_yield_5htp, \"[cmol-X / cmol-Sub]\")\n",
    "    "
   ]
  }
 ],
 "metadata": {
  "kernelspec": {
   "display_name": "Python 3",
   "language": "python",
   "name": "python3"
  },
  "language_info": {
   "codemirror_mode": {
    "name": "ipython",
    "version": 3
   },
   "file_extension": ".py",
   "mimetype": "text/x-python",
   "name": "python",
   "nbconvert_exporter": "python",
   "pygments_lexer": "ipython3",
   "version": "3.8.5"
  }
 },
 "nbformat": 4,
 "nbformat_minor": 4
}
