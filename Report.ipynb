{
 "cells": [
  {
   "cell_type": "markdown",
   "metadata": {},
   "source": [
    "# Genetic manipualtion and modelling of B.Subtilis and E.coli for production of 5-HTP (5-hydroxytryptophan)"
   ]
  },
  {
   "cell_type": "markdown",
   "metadata": {},
   "source": [
    "## 1. Introduction"
   ]
  },
  {
   "cell_type": "markdown",
   "metadata": {},
   "source": [
    "### 1.1 Literature review of the compound (<500 words)"
   ]
  },
  {
   "cell_type": "markdown",
   "metadata": {},
   "source": [
    "### 1.2 Literature review of the cell factory (<500 words)"
   ]
  },
  {
   "cell_type": "markdown",
   "metadata": {},
   "source": [
    "***Bacillus Subtilis***\n",
    "\n",
    "Apart from E.coli, the second cell factory, in which the 5-HTP production pathway was introduced, is B.subtilis. It is an aerobic, gram-positive soil bacterium, commonly used in production of enzymes, vitamins, peptides and even pharmaceuticals [Su et al 2020]. \n",
    "\n",
    "The wide range of usage of B.subtilis in biotechnology can be justified by its many advantages, like excellent protein secretion ability, highly adaptable metabolism, short fermentation cycle (48h), and use of cheap substrates for the cultivation [Su et al 2020]. What distinguishes B.subitlis from cell factory described above is having single cell membrane and three distinguished secretion pathways, which makes extraction of the compound of interest much easier and lowers the costs of downstream processing. Moreover, B.subtilis is an organism generally recognized as safe (GRAS), in contrast to E.coli, which some strains have pathogenic lifestyle and their genes spread through horizontal transfer. B.subtilis is so popular and widely studied organism, that is possess its own database (SubtiWiki) with all known pathways, genes and their expression, protein interactions and pathway regulations [Juhas 2014]. Genetic modifications are easily performed on this organism, due to development of many genetic tools. [Su et al. 2020]. \n",
    "\n",
    "Apart from many advantages of using B.subtilis as the cell factory, the organism pose some challenges that must be taken into consideration when designing and modifying it for production of compound of interest. B.subtilis is known from having many intra- and extracellular peptidase activities, that very often cleave proteins into constituent amino acids [Desmond et al 1975]. Moreover, some researchers report difficulties with introducing foreign genetic information into the organism [Ferierra et al 2015]. Even though this is not a concern in this project, it must be addressed when the organism will be genetically modified in the laboratory. Lastly, the operon for the production of tryptophan in B.subtilis is regulated by attenuation mechanism, so possibility of more depth modifications will be required to obtain satisfying product yields [Gollnick et al 1994].\n",
    "\n",
    "B.subtilis already has tryptophan synthesis pathway, which is a precursor for 5-HTP, therefore only last part of this pathway needs to be introduced into the organism. What’s more, the 5-hydroxytryptophan is not a protein, so it won’t be degraded by peptidases present internally or externally in B.subtilis. The organism itself is cheap in cultivation, which is an advantage in last part – actual fermentation and production. Its genes and their function were thoroughly studied, so genetic modifications and their consequences can be better predicted. Important for this particular project is the fact that genome scale model of B.subtilis already exists, so production predictions can be already assessed. \n",
    "\n",
    "Because of the complicated and highly controlled tryptophan synthesis pathway genetic engineering of B.subtilis for production of 5-HTP will require more modification and introduction of more metabolic pathways than in E.coli, however, if the model predictions show ability of this bacteria to produce the compound of interest, the industrial production and downstream processing seems to be easier than for E.coli, due to its already existing secreting system, non-pathogenical character, cheap substrates and short fermentation cycle. \n",
    "\n",
    "For both B.subtilis and E.coli, current research aims to generate minimal cell factory for industrial applications, which makes it even more attractive candidate for 5-HTP production [Juhas et al 2014]."
   ]
  },
  {
   "cell_type": "markdown",
   "metadata": {},
   "source": [
    "## 2. Problem definition (<300 words)"
   ]
  },
  {
   "cell_type": "markdown",
   "metadata": {},
   "source": [
    "## 3. *If Project category II:* Selection and assessment of existing GSM (<500 words)"
   ]
  },
  {
   "cell_type": "markdown",
   "metadata": {},
   "source": [
    "## 4. Computer-Aided Cell Factory Engineering (<1500 words if Category II project; <500 words for Category I project)"
   ]
  },
  {
   "cell_type": "markdown",
   "metadata": {},
   "source": [
    "## 5. Discussion (<500 words)"
   ]
  },
  {
   "cell_type": "markdown",
   "metadata": {},
   "source": [
    "## 6. Conclusion (<200 words)"
   ]
  },
  {
   "cell_type": "markdown",
   "metadata": {},
   "source": [
    "## References"
   ]
  },
  {
   "cell_type": "code",
   "execution_count": null,
   "metadata": {},
   "outputs": [],
   "source": []
  }
 ],
 "metadata": {
  "kernelspec": {
   "display_name": "Python 3",
   "language": "python",
   "name": "python3"
  },
  "language_info": {
   "codemirror_mode": {
    "name": "ipython",
    "version": 3
   },
   "file_extension": ".py",
   "mimetype": "text/x-python",
   "name": "python",
   "nbconvert_exporter": "python",
   "pygments_lexer": "ipython3",
   "version": "3.8.5"
  }
 },
 "nbformat": 4,
 "nbformat_minor": 4
}
