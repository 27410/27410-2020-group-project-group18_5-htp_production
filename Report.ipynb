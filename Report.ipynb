{
 "cells": [
  {
   "cell_type": "markdown",
   "metadata": {},
   "source": [
    "# Designing a bacterial cell factory for the production of 5-hydroxytryptophan\n",
    "***Group 18: Olga Rogozenko (s193127), Monika Starnawska (s176383), Frederik Jørgen Harboe Wissum (s154118) and Ingrid Lykke Borre (s153707)***"
   ]
  },
  {
   "cell_type": "markdown",
   "metadata": {},
   "source": [
    "## 1. Introduction"
   ]
  },
  {
   "cell_type": "markdown",
   "metadata": {},
   "source": [
    "### 1.1 Literature review of the compound (<500 words)\n",
    "\n",
    "5-hydroxytryptophan (5-HTP) is a derivative of tryptophan, which has a hydroxy group at position 5. It is a precursor to serotonin and the hormone melatonin. 5-HTP is used for treating indivudals that have disorders due to impaired serotonin production. This is in particular psychiatric disorders, such as depression and anxiety, but has also shown to have an effect as an appetite surpressor and sleeping aid. 5-HTP is usually extracted from the seeds of the African plant *Griffonia simplicifolia*.\n",
    "\n",
    "Conversion of L-tryptophan to 5-HTP by L-tryptophan hydroxylase (TPH), is the slowest, or rate-limiting step in the synthesis of serotonin. The enzyme adds a hydroxyl (OH) group onto the 5 position of L-tryptophan. Subsequent conversion of 5-HTP to serotonin (5-HT) happens in the nervous tissue and liver and is achieved by the activity of the enzyme Aromatic Amino Acid Decarboxylase (AAAD), which removes a carboxyl group from 5-HTP. Vitamin B6 works as a coenzyme is this reaction.\n",
    "\n",
    "***5-HTP biosynthetic pathway***\n",
    "\n",
    "5-HTP, the precursor of serotonin and melatonin, is produced from L-tryptophan by enzyme tryptophan 5-hydroxylase (T5H), while in plants the serotonin production takes place through another intermediate, tryptamine, by decarboxylation of L-tryptophan. T5H from human and animals requires cofactors 5,6,7,8-tetrahydrobiopterin (BH4) and Fe2+, and O2 as a co-substrate. Upon hydroxylation of tryptophan, BH4 is oxidised to pterin-4α-carbinolamine and regenerated back to BH4 by pterin-4α-carbinolamine dehydratase and dihydropteridine reductase.\n",
    "Family of pterin-dependent amino acid hydroxylases also includes phenylalanine 4-hydroxylases (P4H). While T5H are not found in bacteria and their expression in bacterial cell factories is rather complicated due to solubility issues and lack of a native cofactor, P4H are present in many prokaryotes and can be engineered to accept tryptophan instead of phenylalanine as their substrate. Bacterial P4H use an alternative cofactor tetrahydromonapterin (MH4), and many bacteria possess the full set of genes responsible for generation and regeneration of MH4 (Cao et al., 2020). "
   ]
  },
  {
   "cell_type": "markdown",
   "metadata": {},
   "source": [
    "### 1.2 Literature review of the cell factory (<500 words)"
   ]
  },
  {
   "cell_type": "markdown",
   "metadata": {},
   "source": [
    "***Escherichia coli*** \n",
    "\n",
    "*Escherichia coli* is a gram negative, facultative anaerobic bacterium commonly found in the lower intestine. Most *E. coli* strains are harmless, however the genus also contains some pathotypes which can cause a variety of diseases [Kaper et al. 2004]. *E. coli* is a very frequently used cell factory host, due to its well-developed genomic tools which make genetic manipulation relatively easy. Furthermore it grows fast in minimal salts medium and is able to utilize a wide range of inexpensive substrates. A considerable bottleneck in exploiting *E. coli* as a cell factory host for production of proteins is the formation of aggregates of overexpressed protein which complicates and adds to the cost of downstream processing of the final product.\n",
    "\n",
    "Several metabolic engineering steps need to be performed in order to utilize *E. coli* as a cell factory for the production of 5-HTP. *E. coli* naturally produces L-Tryptophan, though a pathway  that can be further optimized by decreasing acetate production in the cell factory strain [Liu et al. 2016]. However, it does not contain the genes necessary for the final conversion of L-Trp into 5-HTP.\n",
    "In plants, L-Trp is decorboxylated into tryptamine and hydroxylated into 5-HTP by tryptophan 5-hydroxylase (T5H). T5H uses 5,6,7,8-tetrahydrobiopterin (BH4) and Fe2+ as a cofactor, *E. coli* does not naturally synthesize BH4 but it is able to use tetrahydromonapterin (MH4) as an alternative co-factor. However, the regeneration system of MH4 is not fully available in *E. coli* which means this have to be heterologous incorporated in the organism before it can be used for continuous 5-HTP production [Cao et al. 2020].  "
   ]
  },
  {
   "cell_type": "markdown",
   "metadata": {},
   "source": [
    "***Bacillus subtilis***\n",
    "\n",
    "Apart from E.coli, the second cell factory, in which the 5-HTP production pathway was introduced, is B.subtilis. It is an aerobic, gram-positive soil bacterium, commonly used in production of enzymes, vitamins, peptides and even pharmaceuticals [Su et al. 2020]. \n",
    "\n",
    "The wide range of usage of B.subtilis in biotechnology can be justified by its many advantages, like excellent protein secretion ability, highly adaptable metabolism, short fermentation cycle (48h), and use of cheap substrates for the cultivation [Su et al 2020]. What distinguishes B.subitlis from cell factory described above is having single cell membrane and three distinguished secretion pathways, which makes extraction of the compound of interest much easier and lowers the costs of downstream processing. Moreover, B.subtilis is an organism generally recognized as safe (GRAS), in contrast to E.coli, which some strains have pathogenic lifestyle and their genes spread through horizontal transfer. B.subtilis is so popular and widely studied organism, that is possess its own database (SubtiWiki) with all known pathways, genes and their expression, protein interactions and pathway regulations [Juhas 2014]. Genetic modifications are easily performed on this organism, due to development of many genetic tools. [Su et al. 2020]. \n",
    "\n",
    "Apart from many advantages of using B.subtilis as the cell factory, the organism pose some challenges that must be taken into consideration when designing and modifying it for production of compound of interest. B.subtilis is known from having many intra- and extracellular peptidase activities, that very often cleave proteins into constituent amino acids [Desmond et al. 1975]. Moreover, some researchers report difficulties with introducing foreign genetic information into the organism [Ferierra et al. 2015]. Even though this is not a concern in this project, it must be addressed when the organism will be genetically modified in the laboratory. Lastly, the operon for the production of tryptophan in B.subtilis is regulated by attenuation mechanism, so possibility of more depth modifications will be required to obtain satisfying product yields [Gollnick et al. 1994].\n",
    "\n",
    "B.subtilis already has tryptophan synthesis pathway, which is a precursor for 5-HTP, therefore only last part of this pathway needs to be introduced into the organism. What’s more, the 5-hydroxytryptophan is not a protein, so it won’t be degraded by peptidases present internally or externally in B.subtilis. The organism itself is cheap in cultivation, which is an advantage in last part – actual fermentation and production. Its genes and their function were thoroughly studied, so genetic modifications and their consequences can be better predicted. Important for this particular project is the fact that genome scale model of B.subtilis already exists, so production predictions can be already assessed. \n",
    "\n",
    "Because of the complicated and highly controlled tryptophan synthesis pathway genetic engineering of B.subtilis for production of 5-HTP will require more modification and introduction of more metabolic pathways than in E.coli, however, if the model predictions show ability of this bacteria to produce the compound of interest, the industrial production and downstream processing seems to be easier than for E.coli, due to its already existing secreting system, non-pathogenical character, cheap substrates and short fermentation cycle. \n",
    "\n",
    "For both B.subtilis and E.coli, current research aims to generate minimal cell factory for industrial applications, which makes it even more attractive candidate for 5-HTP production [Juhas et al. 2014]."
   ]
  },
  {
   "cell_type": "markdown",
   "metadata": {},
   "source": [
    "## 2. Problem definition (<300 words)"
   ]
  },
  {
   "cell_type": "markdown",
   "metadata": {},
   "source": [
    "The global 5-HTP market is expected to grow in the near future due to increasing stress and depression levels in the general population. Especially hormonal changes and improper diet is thought to contribute to decreasing serotonin levels over the coming years [GVR Industry report 2019]. Current commercial production of 5-HTP relies on its extraction from the seeds of the African plant *Griffonia simplicifolia*. Thus, the production is depended on season and growth conditions which can greatly influence the cost-effective production. The current downstream processing of 5-HTP from the seeds includes harvesting by hand and drying of the seeds in West Africa. Afterwards the seeds are transported to Asia where 5-HTP is industrially extracted leaving the remainder of the plant as waste [Kim et al. 2009]. Methods for chemical synthesis of the compound has been proposed. However, thus far this production has not shown to be economically feasible [Mora-Villalobos et al. 2018].\n",
    "\n",
    "By constructing a cell factory capable of producing 5-HTP, the cost-efficiency would greatly increase as substrate costs and waste will decrease. The cell factory can be grown in large fermentation tanks which consumes less space than the agricultural areas required for growth of the plant *S. simplicifolia*. Season independence will allow for reliable distribution of 5-HTP to costumers and consumers securing cheap and efficient treatment of serotonin deficiency and related diseases.\n"
   ]
  },
  {
   "cell_type": "markdown",
   "metadata": {},
   "source": [
    "## 3. *If Project category II:* Selection and assessment of existing GSM (<500 words)"
   ]
  },
  {
   "cell_type": "markdown",
   "metadata": {},
   "source": [
    "#### Bacillus Subtilis\n",
    "\n",
    "Up to this date, there were two genome sale metabolic models of B.subtilis. One was published by Oh et al. in 2007 and was based on genomic, biochemical and physiological information, and on high throughout phenotyping experiments. [Oh et al. 2007]. The other model was published by Henry et al. in 2009 and was based on SEED annotations and thermodynamic data validated against experimental datasets. [Henry et al 2009]. Since then, few other publications with B.subtilis GSM models appeared, but all of them were based on either of the two mentioned earlier models by Henry and Oh, adding another layer of analysis and validation. Most interesting model candidates were gathered in table … \n",
    "\n",
    "| Organism | Model ID | Year Published | Source | Model size | Description\n",
    "| :-: | :-: | :-: | :-: | :-: | --- |\n",
    "| B.subtilis subsp. Subtilis str. 168 | iYO844 | [Oh et al. 2007] | BiGG models | Full model | Based on combination of genomic, biochemical, physiological information, and high—throughput phenotyping experiments.\n",
    "| B.subtilis subsp. Subtilis str. 168 | iBsu1147 | [Hao et al. 2013] | PubMed | Full model | Model based on genomic, bibliomic data, reconstructed model iBsu1103 and revisions according to the simulations on biomass and ATP synthesis. Model validated by the predictions of growth phenotype on different carbon sources etc.\n",
    "| B.subtilis subsp. Subtilis str. 168 | iBsu1103 | [Henry et al. 2009] | BioModels | Full model | Model based on SEED annotations with included thermodynamic data validated against experimental datasets.\n",
    "| B.subtilis subsp. Subtilis str. 168 | - | [Goelzer et al. 2008] | PubMed | Central metabolism | Includes amino acid synthesis and degradation, but no exchange reactions.\n",
    "| B.subtilis subsp. Subtilis str. 168 | ec_iYO844 | [Massaiu et al. 2019] | PubMed | Full model | Based on iYO844 model integrated with a set of available enzyme constraints for reactions of central carbon metabolism following GECKO principles.\n",
    "\n",
    "Two initially mentioned models undergone further investigation – iYO844 and iBsu1103. For both of the models, the genome-scale metabolic model test suite report was generated using Memote. Most important scores and differences between iYO844 and iBsu1103 were gathered in table ….\n",
    "\n",
    "| Organism | Total score [%] | Metabolites | Reactions | Genes | Steichiometric Consistency [%] | Mass Balance [%] | Metabolites Connectivity [%] | Unrealistic Growth Rate | Universally blocked reactions | Orphan Metabolites\n",
    "| :-: | :-: | :-: | :-: | :-: | :-: | :-: | :-: | :-: | :-: | :-: |\n",
    "| iBsu1103 | 34 | 1 381 | 1 681 | 1 109 | 100 | 0 | 99.6 | True | 349 | 58\n",
    "| iYO844 | 86 | 990 | 1 250 | 844 | 100 | 94.4 | 100 | False | 291 | 50\n",
    "\n",
    "Based on the memote report and literate annotations, iYO844 model was used in the further steps of the project. Since the model was experimentally validated, has many metabolites and reactions involved, and had fairly high score in memote validation, it should facilitate reliable predictions for the production of metabolite of interest.\n",
    "\n",
    "***Escherichia coli*** \n",
    "\n",
    "| Organism | Total score [%] | Metabolites | Reactions | Genes | Steichiometric Consistency [%] | Mass Balance [%] | Metabolites Connectivity [%] | Unrealistic Growth Rate | Universally blocked reactions | Orphan Metabolites\n",
    "| :-: | :-: | :-: | :-: | :-: | :-: | :-: | :-: | :-: | :-: | :-: |\n",
    "| iML1515 | 91 | 1 877 | 2 712 | 1 516 | 100 | 100 | 100 | False | 260 | 45\n",
    "\n",
    "\n",
    "\n"
   ]
  },
  {
   "cell_type": "markdown",
   "metadata": {},
   "source": [
    "## 4. Computer-Aided Cell Factory Engineering (<1500 words if Category II project; <500 words for Category I project)"
   ]
  },
  {
   "cell_type": "markdown",
   "metadata": {},
   "source": [
    "### Genes required for production of 5-HTP"
   ]
  },
  {
   "cell_type": "markdown",
   "metadata": {},
   "source": [
    "***First strategy***\n",
    "\n",
    "In this project we assumed that conversion of tryptophan to 5-HTP will be carried out by a bacterial P4H, which substrate binding site was engineered to accept tryptophan rather then the native substrate phenylalanine as described by Lin et al., 2014. The missing components of the cofactor MH4 synthesis and regeneration pathway will also be introduced. For E. coli, MH4 synthesis genes can already be found, however, the regeneration pathway consisting of two genes is missing. For B. subtilis, only a gene for MH4 precursor can be identified, so four genes must be heterologously expressed to establish an MH4 supply for P4H activity. The overview of the genes and donor microorganisms identified through KEGG database can be found in Table 3.\n",
    "\n",
    "| Gene | Pathway | EC number | Enzyme name | Substrates | Products | KEGG reaction code | ECO entry | BSU entry | Donor organism |Accession number\n",
    "| :-: | :-: | :-: | :-: | :-: | :-: | :-: | :-: | :-: | :-: | :-: |\n",
    "| folE | MH2 synthesis | 3.5.4.16 | 2,5-diaminopyrimidine nucleoside triphosphate mutase | GTP, H20 | 7,8-Dihydroneopterin 3'-triphosphate, formate | R05048 | b2153 (folE) | BSU22780 (folE) | N/A | N/A\n",
    "| folX | MH2 synthesis | 5.1.99.7 | 7,8-dihydroneopterin 3'-triphosphate 2'-epimerase | 7,8-dihydroneopterin 3'-triphosphate | 7,8-dihydromonapterin 3'-triphosphate | R11082 | b2303 (folX) | none | ECO | NP_416806.1\n",
    "| folM | MH4 synthesis | 1.5.1.50 | 5,6,7,8-tetrahydromonapterin:NADP+ oxidoreductase | 7,8-Dihydromonapterin, NADPH, H | 5,6,7,8-Tetrahydromonapterin, NADP+ | R11019 | b1606 (folM) | none | ECO | NP_416123.1\n",
    "| phhB | MH2 regeneration | 4.2.1.96 | pterin-4α-carbinolamine dehydratase | 4a-hydroxytetrahydropterin | 7,8-Dihydromonapterin, H2O | R04734 | none | none | PAE | NP_249562.1\n",
    "| phhA | phenylalanine to tyrosine (engineered to accept L-tryptophane and convert it into 5-HTP)| 1.14.16.1 | phenylalanine 4-hydroxylase | L-Tryptophan, 5,6,7,8-Tetrahydromonapterin, oxygen | 5-HTP, 4a-hydroxytetrahydropterin | R12540 | none | none | XCC | WP_011035413.1\n",
    "\n",
    "***Second strategy***\\\n",
    "Second strategy (applied only to E.coli) assumed that the conversion of tryptophan to 5-HTP can be carried out by human tryptophan hydroxylase, which human protein-coding gene was introduced to E.coli genome. Tryptophan hydroxylase accepts tetrahydrobiopterin (BH4) as its co-factor, which is not synthesized by E.coli, thus its synthesis and regenaration pathway was also introduced to the bacteria, as desribed by Wang et al. 2018. The second strategy required more genetic manipulation that the first one (when looking at E.coli), however the yield reported in the article was highest than all previously known methods.\\\n",
    "The overview of the genes involved in the second method, and donor microorganisms identified through KEGG database can be found in Table 4.\n",
    "\n",
    "| Gene | Pathway | EC number | Enzyme name | Substrates | Products | KEGG reaction code | ECO entry | BSU entry | Donor organism |Accession number\n",
    "| :-: | :-: | :-: | :-: | :-: | :-: | :-: | :-: | :-: | :-: | :-: |\n",
    "| Tph2 | Tryptophan hydroxylation | 1.14.16.4 | tryptophan 5-monooxygenase | oxygen, tryptophan, tetrahydrobiopterin | 5-hydroxytryptophan, 4a-hydroxytetrahydrobiopterin | R12542 | none | N/A | HSA | NP_004170.1\n",
    "| mtrA | BH4 synthesis | 3.5.4.16 | GTP cyclohydrolase I | GTP, H2O | dihydromonapterin-triphosphate, formate, H+ | R00424 | none | N/A | BSU | ARW31990.1\n",
    "| pts | BH4 synthesis | 4.2.3.14 | 6-pyruvoyltetrahydropterin synthase | dihydromonapterin-triphosphate | Triphosphate, 6-pyruvoyltetrahydropterin| R04286 | none | N/A | HSA | EAW67195.1\n",
    "| spr | BH4 synthesis | 1.1.1.153 | sepiapterin reductase | H+ , NADPH, 6-pyruvoyltetrahydropterin | NADP+ , tetrahydrobiopterin | R08208 | none | N/A | HSA | NP_003115.1\n",
    "| pcd | BH4 regeneration | 4.2.1.96 | pterin-4α-carbinolamine dehydratase | 4a-hydroxytetrahydrobiopterin| dihydrobiopterin, water| R04734 | none | N/A | HSA | NP_000272.1\n",
    "| dhpr | BH4 regeneration | 1.5.1.34 | dihydropteridine reductase | dihydrobiopterin, H+ , NADPH| NADP+ , tetrahydrobiopterin | R07354 | none | N/A | HSA | BAB20429.1"
   ]
  },
  {
   "cell_type": "markdown",
   "metadata": {},
   "source": [
    "### Model engineering and production analysis"
   ]
  },
  {
   "cell_type": "markdown",
   "metadata": {},
   "source": [
    "**Bacillus Subtilis**\n",
    "\n",
    "For both models (iBsu1103 and iYO844) heterologous pathways from first strategy for obtaining 5-HTP were introduced and models were optimized to maximum 5-HTP production. Then, phenotypic phase plane analysis was performed for 5-HTP production with respective to biomass growth was performed, to find optimal growth rate for maximum production. Next, single knock-out gene analysis with respect to maximum growth rate and 5-HTP production was performed, to find possible genes for deletetion for higher production.\n",
    "\n",
    "The analsysis performed on iBsu1103 model can be found ...\\\n",
    "The analysis performed on iYO844 model can be found...\n",
    "\n",
    "**E.coli**\n",
    "\n",
    "In case of E.coli, one model was chosen for analysis (iML1515), for which both strategies for obtaining 5-HTP were introduced, in two seperate analysis. Similarly as in the case of B.subtilis analysis, heterologous pathways were introduced to the model and optimized for maximum 5-HTP production. Phenotypic phase plane analsis was performed, as well as single knock-out gene strategies, for higher 5-HTP production. Taking into consideration existing literature on engineering E.coli for 5-HTP production, Wang et al. grew their cultures on medium with glycerol as a carbon source (instead of glucose). Therefore, additional analysis was performed for both strategies, where maximum compound production (with positive growth rate) was check on available carbon sources.\n",
    "\n",
    "The analysis of first strategy for iML1515 can be found ...\\\n",
    "The analysis of second strategy for iML1515 can be found...\n",
    "\n",
    "\n",
    "The results for all three models and presented strategies are presented and analysed in discussion part."
   ]
  },
  {
   "cell_type": "markdown",
   "metadata": {},
   "source": [
    "## 5. Discussion (<500 words)"
   ]
  },
  {
   "cell_type": "markdown",
   "metadata": {},
   "source": [
    "### Model + strategy comparison"
   ]
  },
  {
   "cell_type": "markdown",
   "metadata": {},
   "source": [
    "Here will go a nice table with obtained yields dependign on the model, strain, optimization methods used\n",
    "\n",
    "Here goes nice discussion about the results "
   ]
  },
  {
   "cell_type": "markdown",
   "metadata": {},
   "source": [
    "Here goes possible reason for obtaining/not obtaining desired results (computational and biological reasons)"
   ]
  },
  {
   "cell_type": "markdown",
   "metadata": {},
   "source": [
    "## 6. Conclusion (<200 words)"
   ]
  },
  {
   "cell_type": "code",
   "execution_count": null,
   "metadata": {},
   "outputs": [],
   "source": []
  },
  {
   "cell_type": "markdown",
   "metadata": {},
   "source": [
    "## References"
   ]
  },
  {
   "cell_type": "markdown",
   "metadata": {},
   "source": [
    "[GVR Industry report 2019] \"5-Hydroxytryptophan Market Size, Share & Trends Analysis Report By Application, Regional Outlook, Competitive Strategies, And Segment Forecasts, 2019 To 2025\""
   ]
  },
  {
   "cell_type": "code",
   "execution_count": null,
   "metadata": {},
   "outputs": [],
   "source": []
  }
 ],
 "metadata": {
  "kernelspec": {
   "display_name": "Python 3",
   "language": "python",
   "name": "python3"
  },
  "language_info": {
   "codemirror_mode": {
    "name": "ipython",
    "version": 3
   },
   "file_extension": ".py",
   "mimetype": "text/x-python",
   "name": "python",
   "nbconvert_exporter": "python",
   "pygments_lexer": "ipython3",
   "version": "3.8.5"
  }
 },
 "nbformat": 4,
 "nbformat_minor": 4
}
