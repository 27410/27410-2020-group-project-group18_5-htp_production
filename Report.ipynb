{
 "cells": [
  {
   "cell_type": "markdown",
   "metadata": {},
   "source": [
    "# [Title]"
   ]
  },
  {
   "cell_type": "markdown",
   "metadata": {},
   "source": [
    "## 1. Introduction"
   ]
  },
  {
   "cell_type": "markdown",
   "metadata": {},
   "source": [
    "### 1.1 Literature review of the compound (<500 words)"
   ]
  },
  {
   "cell_type": "markdown",
   "metadata": {},
   "source": [
    "### 1.2 Literature review of the cell factory (<500 words)"
   ]
  },
  {
   "cell_type": "markdown",
   "metadata": {},
   "source": [
    "***Escherichia Coli*** \n",
    "\n",
    "Escherichia Coli is a gram negative, facultative anaerobic bacterium commonly found in the lower intestine. Most *E. coli* strains are harmless, however the genus also contains some pathotypes which can cause a variety of diseases [Kaper et al. 2004]. *E. coli* is a very frequently used cell factory host, due to its well-developed genomic tools which make genetic manipulation relatively easy. Furthermore it grows fast in minimal salts medium and is able to utilize a wide range of inexpensive substrates. A considerable bottleneck in exploiting *E. coli* as a cell factory host for production of proteins is the formation of aggregates of overexpressed protein which complicates and adds to the cost of downstream processing of the final product.\n",
    "\n",
    "Several metabolic engineering steps need to be performed in order to utilize *E. coli* as a cell factory for the production of 5-HTP. *E. coli* naturally produces L-Tryptophan, though a pathway  that can be further optimized by decreasing acetate production in the cell factory strain [Liu et al. 2016]. However, it does not contain the genes necessary for the final conversion of L-Trp into 5-HTP.\n",
    "In plants, L-Trp is decorboxylated into tryptamine and hydroxylated into 5-HTP by tryptophan 5-hydroxylase (T5H). T5H uses 5,6,7,8-tetrahydrobiopterin (BH4) and Fe2+ as a cofactor, *E. coli* does not naturally synthesize BH4 but it is able to use tetrahydromonapterin (MH4) as an alternative co-factor. However, the regeneration system of MH4 is not fully available in *E. coli* which means this have to be heterologous incorporated in the organism before it can be used for continuous 5-HTP production [Cao et al. 2020].  "
   ]
  },
  {
   "cell_type": "markdown",
   "metadata": {},
   "source": [
    "***Bacillus Subtilis***\n",
    "\n",
    "Apart from E.coli, the second cell factory, in which the 5-HTP production pathway was introduced, is B.subtilis. It is an aerobic, gram-positive soil bacterium, commonly used in production of enzymes, vitamins, peptides and even pharmaceuticals [Su et al. 2020]. \n",
    "\n",
    "The wide range of usage of B.subtilis in biotechnology can be justified by its many advantages, like excellent protein secretion ability, highly adaptable metabolism, short fermentation cycle (48h), and use of cheap substrates for the cultivation [Su et al 2020]. What distinguishes B.subitlis from cell factory described above is having single cell membrane and three distinguished secretion pathways, which makes extraction of the compound of interest much easier and lowers the costs of downstream processing. Moreover, B.subtilis is an organism generally recognized as safe (GRAS), in contrast to E.coli, which some strains have pathogenic lifestyle and their genes spread through horizontal transfer. B.subtilis is so popular and widely studied organism, that is possess its own database (SubtiWiki) with all known pathways, genes and their expression, protein interactions and pathway regulations [Juhas 2014]. Genetic modifications are easily performed on this organism, due to development of many genetic tools. [Su et al. 2020]. \n",
    "\n",
    "Apart from many advantages of using B.subtilis as the cell factory, the organism pose some challenges that must be taken into consideration when designing and modifying it for production of compound of interest. B.subtilis is known from having many intra- and extracellular peptidase activities, that very often cleave proteins into constituent amino acids [Desmond et al. 1975]. Moreover, some researchers report difficulties with introducing foreign genetic information into the organism [Ferierra et al. 2015]. Even though this is not a concern in this project, it must be addressed when the organism will be genetically modified in the laboratory. Lastly, the operon for the production of tryptophan in B.subtilis is regulated by attenuation mechanism, so possibility of more depth modifications will be required to obtain satisfying product yields [Gollnick et al. 1994].\n",
    "\n",
    "B.subtilis already has tryptophan synthesis pathway, which is a precursor for 5-HTP, therefore only last part of this pathway needs to be introduced into the organism. What’s more, the 5-hydroxytryptophan is not a protein, so it won’t be degraded by peptidases present internally or externally in B.subtilis. The organism itself is cheap in cultivation, which is an advantage in last part – actual fermentation and production. Its genes and their function were thoroughly studied, so genetic modifications and their consequences can be better predicted. Important for this particular project is the fact that genome scale model of B.subtilis already exists, so production predictions can be already assessed. \n",
    "\n",
    "Because of the complicated and highly controlled tryptophan synthesis pathway genetic engineering of B.subtilis for production of 5-HTP will require more modification and introduction of more metabolic pathways than in E.coli, however, if the model predictions show ability of this bacteria to produce the compound of interest, the industrial production and downstream processing seems to be easier than for E.coli, due to its already existing secreting system, non-pathogenical character, cheap substrates and short fermentation cycle. \n",
    "\n",
    "For both B.subtilis and E.coli, current research aims to generate minimal cell factory for industrial applications, which makes it even more attractive candidate for 5-HTP production [Juhas et al. 2014]."
   ]
  },
  {
   "cell_type": "markdown",
   "metadata": {},
   "source": [
    "## 2. Problem definition (<300 words)"
   ]
  },
  {
   "cell_type": "markdown",
   "metadata": {},
   "source": [
    "The global 5-HTP market is expected to grow in the near future due to increasing stress and depression levels in the general population. Especially hormonal changes and improper diet is thought to contribute to decreasing serotonin levels over the coming years [GVR Industry report 2019]. Current commercial production of 5-HTP relies on its extraction from the seeds of the African plant *Griffonia simplicifolia*. Thus, the production is depended on season and growth conditions which can greatly influence the cost-effective production. The current downstream processing of 5-HTP from the seeds includes harvesting by hand and drying of the seeds in West Africa. Afterwards the seeds are transported to Asia where 5-HTP is industrially extracted leaving the remainder of the plant as waste [Kim et al. 2009]. Methods for chemical synthesis of the compound has been proposed. However, thus far this production has not shown to be economically feasible [Mora-Villalobos et al. 2018].\n",
    "\n",
    "By constructing a cell factory capable of producing 5-HTP, the cost-efficiency would greatly increase as substrate costs and waste will decrease. The cell factory can be grown in large fermentation tanks which consumes less space than the agricultural areas required for growth of the plant *S. simplicifolia*. Season independence will allow for reliable distribution of 5-HTP to costumers and consumers securing cheap and efficient treatment of serotonin deficiency and related diseases.\n"
   ]
  },
  {
   "cell_type": "markdown",
   "metadata": {},
   "source": [
    "## 3. *If Project category II:* Selection and assessment of existing GSM (<500 words)"
   ]
  },
  {
   "cell_type": "markdown",
   "metadata": {},
   "source": [
    "***Bacillus Subtilis***\n",
    "\n",
    "Up to this date, there were two genome sale metabolic models of B.subtilis. One was published by Oh et al. in 2007 and was based on genomic, biochemical and physiological information, and on high throughout phenotyping experiments. [Oh et al. 2007]. The other model was published by Henry et al. in 2009 and was based on SEED annotations and thermodynamic data validated against experimental datasets. [Henry et al 2009]. Since then, few other publications with B.subtilis GSM models appeared, but all of them were based on either of the two mentioned earlier models by Henry and Oh, adding another layer of analysis and validation. Most interesting model candidates were gathered in table … \n",
    "\n",
    "| Organism | Model ID | Year Published | Source | Model size | Description\n",
    "| :-: | :-: | :-: | :-: | :-: | --- |\n",
    "| B.subtilis subsp. Subtilis str. 168 | iYO844 | [Oh et al. 2007] | BiGG models | Full model | Based on combination of genomic, biochemical, physiological information, and high—throughput phenotyping experiments.\n",
    "| B.subtilis subsp. Subtilis str. 168 | iBsu1147 | [Hao et al. 2013] | PubMed | Full model | Model based on genomic, bibliomic data, reconstructed model iBsu1103 and revisions according to the simulations on biomass and ATP synthesis. Model validated by the predictions of growth phenotype on different carbon sources etc.\n",
    "| B.subtilis subsp. Subtilis str. 168 | iBsu1103 | [Henry et al. 2009] | BioModels | Full model | Model based on SEED annotations with included thermodynamic data validated against experimental datasets.\n",
    "| B.subtilis subsp. Subtilis str. 168 | - | [Goelzer et al. 2008] | PubMed | Central metabolism | Includes amino acid synthesis and degradation, but no exchange reactions.\n",
    "| B.subtilis subsp. Subtilis str. 168 | ec_iYO844 | [Massaiu et al. 2019] | PubMed | Full model | Based on iYO844 model integrated with a set of available enzyme constraints for reactions of central carbon metabolism following GECKO principles.\n",
    "\n",
    "Two initially mentioned models undergone further investigation – iYO844 and iBsu1103. For both of the models, the genome-scale metabolic model test suite report was generated using Memote. Most important scores and differences between iYO844 and iBsu1103 were gathered in table ….\n",
    "\n",
    "| Organism | Total score [%] | Metabolites | Reactions | Genes | Steichiometric Consistency [%] | Mass Balance [%] | Metabolites Connectivity [%] | Unrealistic Growth Rate | Universally blocked reactions | Orphan Metabolites\n",
    "| :-: | :-: | :-: | :-: | :-: | :-: | :-: | :-: | :-: | :-: | :-: |\n",
    "| iBsu1103 | 34 | 1 381 | 1 681 | 1 109 | 100 | 0 | 99.6 | True | 349 | 58\n",
    "| iYO844 | 86 | 990 | 1 250 | 844 | 100 | 94.4 | 100 | False | 291 | 50\n",
    "\n",
    "Based on the memote report and literate annotations, iYO844 model was used in the further steps of the project. Since the model was experimentally validated, has many metabolites and reactions involved, and had fairly high score in memote validation, it should facilitate reliable predictions for the production of metabolite of interest.\n"
   ]
  },
  {
   "cell_type": "markdown",
   "metadata": {},
   "source": [
    "## 4. Computer-Aided Cell Factory Engineering (<1500 words if Category II project; <500 words for Category I project)"
   ]
  },
  {
   "cell_type": "markdown",
   "metadata": {},
   "source": [
    "## 5. Discussion (<500 words)"
   ]
  },
  {
   "cell_type": "markdown",
   "metadata": {},
   "source": [
    "## 6. Conclusion (<200 words)"
   ]
  },
  {
   "cell_type": "markdown",
   "metadata": {},
   "source": [
    "## References"
   ]
  },
  {
   "cell_type": "markdown",
   "metadata": {},
   "source": [
    "[GVR Industry report 2019] \"5-Hydroxytryptophan Market Size, Share & Trends Analysis Report By Application, Regional Outlook, Competitive Strategies, And Segment Forecasts, 2019 To 2025\""
   ]
  },
  {
   "cell_type": "code",
   "execution_count": null,
   "metadata": {},
   "outputs": [],
   "source": []
  }
 ],
 "metadata": {
  "kernelspec": {
   "display_name": "Python 3",
   "language": "python",
   "name": "python3"
  },
  "language_info": {
   "codemirror_mode": {
    "name": "ipython",
    "version": 3
   },
   "file_extension": ".py",
   "mimetype": "text/x-python",
   "name": "python",
   "nbconvert_exporter": "python",
   "pygments_lexer": "ipython3",
   "version": "3.8.5"
  }
 },
 "nbformat": 4,
 "nbformat_minor": 4
}
