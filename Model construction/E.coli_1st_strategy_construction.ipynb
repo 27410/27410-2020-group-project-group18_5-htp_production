{
 "cells": [
  {
   "cell_type": "markdown",
   "metadata": {},
   "source": [
    "**1st strategy for E.coli 5-HTP production**"
   ]
  },
  {
   "cell_type": "code",
   "execution_count": 1,
   "metadata": {},
   "outputs": [],
   "source": [
    "from cobra.io import read_sbml_model\n",
    "from cobra.io import write_sbml_model\n",
    "from cobra import Reaction, Metabolite\n",
    "import pandas as pd"
   ]
  },
  {
   "cell_type": "code",
   "execution_count": 2,
   "metadata": {},
   "outputs": [],
   "source": [
    "model = read_sbml_model('../data/iML1515.xml')"
   ]
  },
  {
   "cell_type": "markdown",
   "metadata": {},
   "source": [
    "**5-HTP synthesis pathway**"
   ]
  },
  {
   "cell_type": "markdown",
   "metadata": {},
   "source": [
    "5-HTP production (phhA)\\\n",
    "tetrahydromonapterin (MH4) + oxygen + tryptophan (trp) <-> 4a-hydroxytetrahydromonopterin (hydro-MH4) + 5-hydroxytryptophan (5-HTP)"
   ]
  },
  {
   "cell_type": "code",
   "execution_count": 3,
   "metadata": {},
   "outputs": [],
   "source": [
    "#add metabolites to the system\n",
    "four_alpha_hydroxytetrahydromonopterin = Metabolite(id='hthpth_c', compartment='c')\n",
    "hydroxytryptophan = Metabolite(id='htrp_c', compartment='c')"
   ]
  },
  {
   "cell_type": "code",
   "execution_count": 4,
   "metadata": {},
   "outputs": [
    {
     "name": "stdout",
     "output_type": "stream",
     "text": [
      "o2_c + thmnp_c + trp__L_c --> hthpth_c + htrp_c\n"
     ]
    }
   ],
   "source": [
    "#design reaction\n",
    "phhA = Reaction('phhA')\n",
    "phhA.add_metabolites({model.metabolites.thmnp_c: -1,\n",
    "                      model.metabolites.o2_c: -1,\n",
    "                      model.metabolites.trp__L_c: -1,\n",
    "                      four_alpha_hydroxytetrahydromonopterin: 1,\n",
    "                      hydroxytryptophan: 1\n",
    "                     })\n",
    "print(phhA.build_reaction_string())"
   ]
  },
  {
   "cell_type": "code",
   "execution_count": 5,
   "metadata": {},
   "outputs": [
    {
     "data": {
      "text/html": [
       "\n",
       "        <table>\n",
       "            <tr>\n",
       "                <td><strong>Reaction identifier</strong></td><td>phhA</td>\n",
       "            </tr><tr>\n",
       "                <td><strong>Name</strong></td><td></td>\n",
       "            </tr><tr>\n",
       "                <td><strong>Memory address</strong></td>\n",
       "                <td>0x07f2e4570e3a0</td>\n",
       "            </tr><tr>\n",
       "                <td><strong>Stoichiometry</strong></td>\n",
       "                <td>\n",
       "                    <p style='text-align:right'>o2_c + thmnp_c + trp__L_c --> hthpth_c + htrp_c</p>\n",
       "                    <p style='text-align:right'>O2 O2 + Tetrahydromonapterin + L-Tryptophan --> +</p>\n",
       "                </td>\n",
       "            </tr><tr>\n",
       "                <td><strong>GPR</strong></td><td></td>\n",
       "            </tr><tr>\n",
       "                <td><strong>Lower bound</strong></td><td>0.0</td>\n",
       "            </tr><tr>\n",
       "                <td><strong>Upper bound</strong></td><td>1000.0</td>\n",
       "            </tr>\n",
       "        </table>\n",
       "        "
      ],
      "text/plain": [
       "<Reaction phhA at 0x7f2e4570e3a0>"
      ]
     },
     "execution_count": 5,
     "metadata": {},
     "output_type": "execute_result"
    }
   ],
   "source": [
    "#add reaction to the system\n",
    "model.add_reactions([phhA])\n",
    "model.reactions.phhA"
   ]
  },
  {
   "cell_type": "markdown",
   "metadata": {},
   "source": [
    "**Restioration of MH4**"
   ]
  },
  {
   "cell_type": "markdown",
   "metadata": {},
   "source": [
    "pterin-4alpha-carbinolamine dehydratase (PCD)\\\n",
    "4a-hydroxytetrahydromonopterin (hydro-MH4) <-> dihydromonapterin (MH2) + water"
   ]
  },
  {
   "cell_type": "code",
   "execution_count": 6,
   "metadata": {},
   "outputs": [
    {
     "name": "stdout",
     "output_type": "stream",
     "text": [
      "hthpth_c --> dhmpt_c + h2o_c\n"
     ]
    }
   ],
   "source": [
    "#design reaction\n",
    "pcd = Reaction('pcd')\n",
    "pcd.add_metabolites({four_alpha_hydroxytetrahydromonopterin: -1,\n",
    "                      model.metabolites.dhmpt_c: 1,\n",
    "                      model.metabolites.h2o_c: 1,\n",
    "                     })\n",
    "print(pcd.build_reaction_string())"
   ]
  },
  {
   "cell_type": "code",
   "execution_count": 7,
   "metadata": {},
   "outputs": [
    {
     "data": {
      "text/html": [
       "\n",
       "        <table>\n",
       "            <tr>\n",
       "                <td><strong>Reaction identifier</strong></td><td>pcd</td>\n",
       "            </tr><tr>\n",
       "                <td><strong>Name</strong></td><td></td>\n",
       "            </tr><tr>\n",
       "                <td><strong>Memory address</strong></td>\n",
       "                <td>0x07f2e457230a0</td>\n",
       "            </tr><tr>\n",
       "                <td><strong>Stoichiometry</strong></td>\n",
       "                <td>\n",
       "                    <p style='text-align:right'>hthpth_c --> dhmpt_c + h2o_c</p>\n",
       "                    <p style='text-align:right'>--> Dihydromonapterin + H2O H2O</p>\n",
       "                </td>\n",
       "            </tr><tr>\n",
       "                <td><strong>GPR</strong></td><td></td>\n",
       "            </tr><tr>\n",
       "                <td><strong>Lower bound</strong></td><td>0.0</td>\n",
       "            </tr><tr>\n",
       "                <td><strong>Upper bound</strong></td><td>1000.0</td>\n",
       "            </tr>\n",
       "        </table>\n",
       "        "
      ],
      "text/plain": [
       "<Reaction pcd at 0x7f2e457230a0>"
      ]
     },
     "execution_count": 7,
     "metadata": {},
     "output_type": "execute_result"
    }
   ],
   "source": [
    "#add reaction to the system\n",
    "model.add_reactions([pcd])\n",
    "model.reactions.pcd"
   ]
  },
  {
   "cell_type": "markdown",
   "metadata": {},
   "source": [
    "dihydromonapterin reductase (DHMR)\\\n",
    "dihydromonapterin (MH2) + H+ + NADPH <-> NADP+ + tetrahydromonapterin (MH4)"
   ]
  },
  {
   "cell_type": "code",
   "execution_count": 8,
   "metadata": {},
   "outputs": [
    {
     "name": "stdout",
     "output_type": "stream",
     "text": [
      "dhmpt_c + h_c + nadph_c --> nadp_c + thmnp_c\n"
     ]
    }
   ],
   "source": [
    "#design reaction\n",
    "dhmr = Reaction('dhmr')\n",
    "dhmr.add_metabolites({model.metabolites.h_c: -1,\n",
    "                      model.metabolites.dhmpt_c: -1,\n",
    "                      model.metabolites.nadph_c: -1,\n",
    "                      model.metabolites.nadp_c: 1,\n",
    "                      model.metabolites.thmnp_c: 1\n",
    "                     })\n",
    "print(dhmr.build_reaction_string())"
   ]
  },
  {
   "cell_type": "markdown",
   "metadata": {},
   "source": [
    "**Remove 5-HTP from the system**"
   ]
  },
  {
   "cell_type": "code",
   "execution_count": 9,
   "metadata": {},
   "outputs": [],
   "source": [
    "five_hydroxytryptophan_exchange = Reaction('EX_htrp')\n",
    "five_hydroxytryptophan_exchange.add_metabolites({model.metabolites.htrp_c: -1})\n",
    "model.add_reaction(five_hydroxytryptophan_exchange)"
   ]
  },
  {
   "cell_type": "markdown",
   "metadata": {},
   "source": [
    "**Optimize model**"
   ]
  },
  {
   "cell_type": "code",
   "execution_count": 10,
   "metadata": {},
   "outputs": [
    {
     "name": "stdout",
     "output_type": "stream",
     "text": [
      "Maximize\n",
      "1.0*BIOMASS_Ec_iML1515_core_75p37M - 1.0*BIOMASS_Ec_iML1515_core_75p37M_reverse_35685\n"
     ]
    }
   ],
   "source": [
    "print(model.objective)"
   ]
  },
  {
   "cell_type": "code",
   "execution_count": 11,
   "metadata": {},
   "outputs": [
    {
     "data": {
      "text/plain": [
       "0.8769972144269627"
      ]
     },
     "execution_count": 11,
     "metadata": {},
     "output_type": "execute_result"
    }
   ],
   "source": [
    "model.optimize().objective_value"
   ]
  },
  {
   "cell_type": "markdown",
   "metadata": {},
   "source": [
    "**Checking max 5-HTP production and respective growth rate if objective value is changed to the 5-HTP export reaction**"
   ]
  },
  {
   "cell_type": "code",
   "execution_count": 12,
   "metadata": {},
   "outputs": [
    {
     "name": "stdout",
     "output_type": "stream",
     "text": [
      "phhA: o2_c + thmnp_c + trp__L_c --> hthpth_c + htrp_c\n",
      "4.279204339963833\n",
      "0.0\n"
     ]
    }
   ],
   "source": [
    "with model:\n",
    "    print(model.reactions.phhA)\n",
    "    model.objective = model.reactions.phhA\n",
    "    solution = model.optimize()\n",
    "    max_5HTP_production = solution.objective_value\n",
    "    print(max_5HTP_production)\n",
    "    print(solution.fluxes.BIOMASS_Ec_iML1515_core_75p37M)"
   ]
  },
  {
   "cell_type": "markdown",
   "metadata": {},
   "source": [
    "**Observing how the growth rate changes with increasing 5-HTP export flux**"
   ]
  },
  {
   "cell_type": "code",
   "execution_count": 13,
   "metadata": {},
   "outputs": [],
   "source": [
    "from cobra.flux_analysis.phenotype_phase_plane import production_envelope"
   ]
  },
  {
   "cell_type": "code",
   "execution_count": 14,
   "metadata": {},
   "outputs": [],
   "source": [
    "ppp_5HTP = production_envelope(model,\n",
    "                    reactions=[model.reactions.phhA],\n",
    "                    objective=model.reactions.BIOMASS_Ec_iML1515_core_75p37M)"
   ]
  },
  {
   "cell_type": "code",
   "execution_count": 15,
   "metadata": {},
   "outputs": [
    {
     "data": {
      "text/html": [
       "<div>\n",
       "<style scoped>\n",
       "    .dataframe tbody tr th:only-of-type {\n",
       "        vertical-align: middle;\n",
       "    }\n",
       "\n",
       "    .dataframe tbody tr th {\n",
       "        vertical-align: top;\n",
       "    }\n",
       "\n",
       "    .dataframe thead th {\n",
       "        text-align: right;\n",
       "    }\n",
       "</style>\n",
       "<table border=\"1\" class=\"dataframe\">\n",
       "  <thead>\n",
       "    <tr style=\"text-align: right;\">\n",
       "      <th></th>\n",
       "      <th>carbon_source</th>\n",
       "      <th>flux_minimum</th>\n",
       "      <th>carbon_yield_minimum</th>\n",
       "      <th>mass_yield_minimum</th>\n",
       "      <th>flux_maximum</th>\n",
       "      <th>carbon_yield_maximum</th>\n",
       "      <th>mass_yield_maximum</th>\n",
       "      <th>phhA</th>\n",
       "    </tr>\n",
       "  </thead>\n",
       "  <tbody>\n",
       "    <tr>\n",
       "      <th>0</th>\n",
       "      <td>EX_glc__D_e</td>\n",
       "      <td>0.0</td>\n",
       "      <td>0.0</td>\n",
       "      <td>NaN</td>\n",
       "      <td>0.876997</td>\n",
       "      <td>1.161751e+01</td>\n",
       "      <td>NaN</td>\n",
       "      <td>0.000000</td>\n",
       "    </tr>\n",
       "    <tr>\n",
       "      <th>1</th>\n",
       "      <td>EX_glc__D_e</td>\n",
       "      <td>0.0</td>\n",
       "      <td>0.0</td>\n",
       "      <td>NaN</td>\n",
       "      <td>0.831248</td>\n",
       "      <td>1.101147e+01</td>\n",
       "      <td>NaN</td>\n",
       "      <td>0.225221</td>\n",
       "    </tr>\n",
       "    <tr>\n",
       "      <th>2</th>\n",
       "      <td>EX_glc__D_e</td>\n",
       "      <td>0.0</td>\n",
       "      <td>0.0</td>\n",
       "      <td>NaN</td>\n",
       "      <td>0.785499</td>\n",
       "      <td>1.040543e+01</td>\n",
       "      <td>NaN</td>\n",
       "      <td>0.450443</td>\n",
       "    </tr>\n",
       "    <tr>\n",
       "      <th>3</th>\n",
       "      <td>EX_glc__D_e</td>\n",
       "      <td>0.0</td>\n",
       "      <td>0.0</td>\n",
       "      <td>NaN</td>\n",
       "      <td>0.739749</td>\n",
       "      <td>9.799397e+00</td>\n",
       "      <td>NaN</td>\n",
       "      <td>0.675664</td>\n",
       "    </tr>\n",
       "    <tr>\n",
       "      <th>4</th>\n",
       "      <td>EX_glc__D_e</td>\n",
       "      <td>0.0</td>\n",
       "      <td>0.0</td>\n",
       "      <td>NaN</td>\n",
       "      <td>0.694000</td>\n",
       "      <td>9.193359e+00</td>\n",
       "      <td>NaN</td>\n",
       "      <td>0.900885</td>\n",
       "    </tr>\n",
       "    <tr>\n",
       "      <th>5</th>\n",
       "      <td>EX_glc__D_e</td>\n",
       "      <td>0.0</td>\n",
       "      <td>0.0</td>\n",
       "      <td>NaN</td>\n",
       "      <td>0.647766</td>\n",
       "      <td>8.580901e+00</td>\n",
       "      <td>NaN</td>\n",
       "      <td>1.126106</td>\n",
       "    </tr>\n",
       "    <tr>\n",
       "      <th>6</th>\n",
       "      <td>EX_glc__D_e</td>\n",
       "      <td>0.0</td>\n",
       "      <td>0.0</td>\n",
       "      <td>NaN</td>\n",
       "      <td>0.601497</td>\n",
       "      <td>7.967979e+00</td>\n",
       "      <td>NaN</td>\n",
       "      <td>1.351328</td>\n",
       "    </tr>\n",
       "    <tr>\n",
       "      <th>7</th>\n",
       "      <td>EX_glc__D_e</td>\n",
       "      <td>0.0</td>\n",
       "      <td>0.0</td>\n",
       "      <td>NaN</td>\n",
       "      <td>0.555228</td>\n",
       "      <td>7.355058e+00</td>\n",
       "      <td>NaN</td>\n",
       "      <td>1.576549</td>\n",
       "    </tr>\n",
       "    <tr>\n",
       "      <th>8</th>\n",
       "      <td>EX_glc__D_e</td>\n",
       "      <td>0.0</td>\n",
       "      <td>0.0</td>\n",
       "      <td>NaN</td>\n",
       "      <td>0.508959</td>\n",
       "      <td>6.742136e+00</td>\n",
       "      <td>NaN</td>\n",
       "      <td>1.801770</td>\n",
       "    </tr>\n",
       "    <tr>\n",
       "      <th>9</th>\n",
       "      <td>EX_glc__D_e</td>\n",
       "      <td>0.0</td>\n",
       "      <td>0.0</td>\n",
       "      <td>NaN</td>\n",
       "      <td>0.462690</td>\n",
       "      <td>6.129215e+00</td>\n",
       "      <td>NaN</td>\n",
       "      <td>2.026992</td>\n",
       "    </tr>\n",
       "    <tr>\n",
       "      <th>10</th>\n",
       "      <td>EX_glc__D_e</td>\n",
       "      <td>0.0</td>\n",
       "      <td>0.0</td>\n",
       "      <td>NaN</td>\n",
       "      <td>0.416421</td>\n",
       "      <td>5.516293e+00</td>\n",
       "      <td>NaN</td>\n",
       "      <td>2.252213</td>\n",
       "    </tr>\n",
       "    <tr>\n",
       "      <th>11</th>\n",
       "      <td>EX_glc__D_e</td>\n",
       "      <td>0.0</td>\n",
       "      <td>0.0</td>\n",
       "      <td>NaN</td>\n",
       "      <td>0.370152</td>\n",
       "      <td>4.903372e+00</td>\n",
       "      <td>NaN</td>\n",
       "      <td>2.477434</td>\n",
       "    </tr>\n",
       "    <tr>\n",
       "      <th>12</th>\n",
       "      <td>EX_glc__D_e</td>\n",
       "      <td>0.0</td>\n",
       "      <td>0.0</td>\n",
       "      <td>NaN</td>\n",
       "      <td>0.323883</td>\n",
       "      <td>4.290450e+00</td>\n",
       "      <td>NaN</td>\n",
       "      <td>2.702655</td>\n",
       "    </tr>\n",
       "    <tr>\n",
       "      <th>13</th>\n",
       "      <td>EX_glc__D_e</td>\n",
       "      <td>0.0</td>\n",
       "      <td>0.0</td>\n",
       "      <td>NaN</td>\n",
       "      <td>0.277614</td>\n",
       "      <td>3.677529e+00</td>\n",
       "      <td>NaN</td>\n",
       "      <td>2.927877</td>\n",
       "    </tr>\n",
       "    <tr>\n",
       "      <th>14</th>\n",
       "      <td>EX_glc__D_e</td>\n",
       "      <td>0.0</td>\n",
       "      <td>0.0</td>\n",
       "      <td>NaN</td>\n",
       "      <td>0.231345</td>\n",
       "      <td>3.064607e+00</td>\n",
       "      <td>NaN</td>\n",
       "      <td>3.153098</td>\n",
       "    </tr>\n",
       "    <tr>\n",
       "      <th>15</th>\n",
       "      <td>EX_glc__D_e</td>\n",
       "      <td>0.0</td>\n",
       "      <td>0.0</td>\n",
       "      <td>NaN</td>\n",
       "      <td>0.185076</td>\n",
       "      <td>2.451686e+00</td>\n",
       "      <td>NaN</td>\n",
       "      <td>3.378319</td>\n",
       "    </tr>\n",
       "    <tr>\n",
       "      <th>16</th>\n",
       "      <td>EX_glc__D_e</td>\n",
       "      <td>0.0</td>\n",
       "      <td>0.0</td>\n",
       "      <td>NaN</td>\n",
       "      <td>0.138807</td>\n",
       "      <td>1.838764e+00</td>\n",
       "      <td>NaN</td>\n",
       "      <td>3.603540</td>\n",
       "    </tr>\n",
       "    <tr>\n",
       "      <th>17</th>\n",
       "      <td>EX_glc__D_e</td>\n",
       "      <td>0.0</td>\n",
       "      <td>0.0</td>\n",
       "      <td>NaN</td>\n",
       "      <td>0.092538</td>\n",
       "      <td>1.225843e+00</td>\n",
       "      <td>NaN</td>\n",
       "      <td>3.828762</td>\n",
       "    </tr>\n",
       "    <tr>\n",
       "      <th>18</th>\n",
       "      <td>EX_glc__D_e</td>\n",
       "      <td>0.0</td>\n",
       "      <td>0.0</td>\n",
       "      <td>NaN</td>\n",
       "      <td>0.046269</td>\n",
       "      <td>6.129215e-01</td>\n",
       "      <td>NaN</td>\n",
       "      <td>4.053983</td>\n",
       "    </tr>\n",
       "    <tr>\n",
       "      <th>19</th>\n",
       "      <td>EX_glc__D_e</td>\n",
       "      <td>0.0</td>\n",
       "      <td>0.0</td>\n",
       "      <td>NaN</td>\n",
       "      <td>0.000000</td>\n",
       "      <td>6.615571e-15</td>\n",
       "      <td>NaN</td>\n",
       "      <td>4.279204</td>\n",
       "    </tr>\n",
       "  </tbody>\n",
       "</table>\n",
       "</div>"
      ],
      "text/plain": [
       "   carbon_source  flux_minimum  carbon_yield_minimum  mass_yield_minimum  \\\n",
       "0    EX_glc__D_e           0.0                   0.0                 NaN   \n",
       "1    EX_glc__D_e           0.0                   0.0                 NaN   \n",
       "2    EX_glc__D_e           0.0                   0.0                 NaN   \n",
       "3    EX_glc__D_e           0.0                   0.0                 NaN   \n",
       "4    EX_glc__D_e           0.0                   0.0                 NaN   \n",
       "5    EX_glc__D_e           0.0                   0.0                 NaN   \n",
       "6    EX_glc__D_e           0.0                   0.0                 NaN   \n",
       "7    EX_glc__D_e           0.0                   0.0                 NaN   \n",
       "8    EX_glc__D_e           0.0                   0.0                 NaN   \n",
       "9    EX_glc__D_e           0.0                   0.0                 NaN   \n",
       "10   EX_glc__D_e           0.0                   0.0                 NaN   \n",
       "11   EX_glc__D_e           0.0                   0.0                 NaN   \n",
       "12   EX_glc__D_e           0.0                   0.0                 NaN   \n",
       "13   EX_glc__D_e           0.0                   0.0                 NaN   \n",
       "14   EX_glc__D_e           0.0                   0.0                 NaN   \n",
       "15   EX_glc__D_e           0.0                   0.0                 NaN   \n",
       "16   EX_glc__D_e           0.0                   0.0                 NaN   \n",
       "17   EX_glc__D_e           0.0                   0.0                 NaN   \n",
       "18   EX_glc__D_e           0.0                   0.0                 NaN   \n",
       "19   EX_glc__D_e           0.0                   0.0                 NaN   \n",
       "\n",
       "    flux_maximum  carbon_yield_maximum  mass_yield_maximum      phhA  \n",
       "0       0.876997          1.161751e+01                 NaN  0.000000  \n",
       "1       0.831248          1.101147e+01                 NaN  0.225221  \n",
       "2       0.785499          1.040543e+01                 NaN  0.450443  \n",
       "3       0.739749          9.799397e+00                 NaN  0.675664  \n",
       "4       0.694000          9.193359e+00                 NaN  0.900885  \n",
       "5       0.647766          8.580901e+00                 NaN  1.126106  \n",
       "6       0.601497          7.967979e+00                 NaN  1.351328  \n",
       "7       0.555228          7.355058e+00                 NaN  1.576549  \n",
       "8       0.508959          6.742136e+00                 NaN  1.801770  \n",
       "9       0.462690          6.129215e+00                 NaN  2.026992  \n",
       "10      0.416421          5.516293e+00                 NaN  2.252213  \n",
       "11      0.370152          4.903372e+00                 NaN  2.477434  \n",
       "12      0.323883          4.290450e+00                 NaN  2.702655  \n",
       "13      0.277614          3.677529e+00                 NaN  2.927877  \n",
       "14      0.231345          3.064607e+00                 NaN  3.153098  \n",
       "15      0.185076          2.451686e+00                 NaN  3.378319  \n",
       "16      0.138807          1.838764e+00                 NaN  3.603540  \n",
       "17      0.092538          1.225843e+00                 NaN  3.828762  \n",
       "18      0.046269          6.129215e-01                 NaN  4.053983  \n",
       "19      0.000000          6.615571e-15                 NaN  4.279204  "
      ]
     },
     "execution_count": 15,
     "metadata": {},
     "output_type": "execute_result"
    }
   ],
   "source": [
    "ppp_5HTP"
   ]
  },
  {
   "cell_type": "code",
   "execution_count": 16,
   "metadata": {},
   "outputs": [
    {
     "data": {
      "text/plain": [
       "<matplotlib.axes._subplots.AxesSubplot at 0x7f2e3852b970>"
      ]
     },
     "execution_count": 16,
     "metadata": {},
     "output_type": "execute_result"
    },
    {
     "data": {
      "image/png": "[encoded data removed]",
      "text/plain": [
       "<Figure size 432x288 with 1 Axes>"
      ]
     },
     "metadata": {
      "needs_background": "light"
     },
     "output_type": "display_data"
    }
   ],
   "source": [
    "ppp_5HTP.plot(x='phhA', y='flux_maximum')"
   ]
  },
  {
   "cell_type": "markdown",
   "metadata": {},
   "source": [
    "**Optmizing 5-HTP production and growth rate**"
   ]
  },
  {
   "cell_type": "code",
   "execution_count": 17,
   "metadata": {},
   "outputs": [],
   "source": [
    "from cobra.flux_analysis import flux_variability_analysis"
   ]
  },
  {
   "cell_type": "code",
   "execution_count": 18,
   "metadata": {},
   "outputs": [
    {
     "name": "stdout",
     "output_type": "stream",
     "text": [
      "      minimum   maximum\n",
      "phhA      0.0  2.144746\n"
     ]
    }
   ],
   "source": [
    "hydroxy_trp_flux_analysis = flux_variability_analysis(model, model.reactions.phhA, fraction_of_optimum = 0.5)\n",
    "print(hydroxy_trp_flux_analysis)"
   ]
  },
  {
   "cell_type": "markdown",
   "metadata": {},
   "source": [
    "Keeping growth rate at 50%, we get around 50% of maximum 5-HTP flux, which is bigger than in case of B.subtilis, but smaller than 2nd strategy for E.coli"
   ]
  },
  {
   "cell_type": "markdown",
   "metadata": {},
   "source": [
    "**Knocking out a single gene and setting the objective value of the model for 5-HTP export flux**\n",
    "\n",
    "Only non-zero biomass production flux knock-outs are selected"
   ]
  },
  {
   "cell_type": "code",
   "execution_count": 19,
   "metadata": {},
   "outputs": [],
   "source": [
    "for gene in model.genes:\n",
    "    with model:\n",
    "        gene.knock_out()\n",
    "        model.objective = model.reactions.phhA\n",
    "        solution = model.optimize()\n",
    "        if solution.fluxes.BIOMASS_Ec_iML1515_core_75p37M > 0:\n",
    "            print ('5-HTP export flux:', solution.fluxes.tph, 'Gene ID:', gene.id, 'Biomass production:', solution.fluxes.BIOMASS_Ec_iML1515_core_75p37M)"
   ]
  },
  {
   "cell_type": "markdown",
   "metadata": {},
   "source": [
    "No solutions displayed, no single knock-outs and optmization to maximum 5-HTP production yields positive growth rate"
   ]
  },
  {
   "cell_type": "markdown",
   "metadata": {},
   "source": [
    "**Knocking out a single gene, running optimisation for max biomass production flux and observing 5-HTP export flux**\n",
    "\n",
    "Only non-zero 5-HTP export flux knock-outs are selected"
   ]
  },
  {
   "cell_type": "code",
   "execution_count": 20,
   "metadata": {},
   "outputs": [],
   "source": [
    "knock_out_list = pd.DataFrame(columns=['Gene ID', '5-HTP export flux', 'Biomass production flux'])\n",
    "for gene in model.genes:\n",
    "    with model:\n",
    "        gene.knock_out()\n",
    "        solution = model.optimize()\n",
    "        if solution.fluxes.phhA > 0:\n",
    "            knock_out_list = knock_out_list.append({ 'Gene ID': gene.id, '5-HTP export flux': solution.fluxes.phhA, 'Biomass production flux': model.optimize().objective_value}, ignore_index=True)"
   ]
  },
  {
   "cell_type": "code",
   "execution_count": 21,
   "metadata": {},
   "outputs": [
    {
     "name": "stdout",
     "output_type": "stream",
     "text": [
      "Empty DataFrame\n",
      "Columns: [Gene ID, 5-HTP export flux, Biomass production flux]\n",
      "Index: []\n"
     ]
    }
   ],
   "source": [
    "print(knock_out_list)"
   ]
  },
  {
   "cell_type": "markdown",
   "metadata": {},
   "source": [
    "No solutions, no single knock-outs give rise to positive htp flux with maximum growth rate"
   ]
  },
  {
   "cell_type": "markdown",
   "metadata": {},
   "source": [
    "**Check whether change of carbon source will influence the growth rate at maximum 5-HTP flux**"
   ]
  },
  {
   "cell_type": "code",
   "execution_count": 22,
   "metadata": {},
   "outputs": [],
   "source": [
    "#create list to store the reactions' IDs\n",
    "carbon_uptake = list()\n",
    "\n",
    "#go through all metabolites in the model that have carbon in their chem.structure\n",
    "for metabolite in model.metabolites:\n",
    "    if 'C' in metabolite.elements:\n",
    "        #find metabolites that are external\n",
    "        if metabolite.id[-1] == 'e':\n",
    "            reactions = metabolite.reactions\n",
    "            #pick reactions which exchange the metabolite with the external environment\n",
    "            for element in reactions:\n",
    "                if str(element.id[:2]) == 'EX':\n",
    "                    carbon_uptake.append(element.id)"
   ]
  },
  {
   "cell_type": "code",
   "execution_count": 23,
   "metadata": {},
   "outputs": [
    {
     "name": "stderr",
     "output_type": "stream",
     "text": [
      "/opt/conda/lib/python3.8/site-packages/cobra/util/solver.py:508: UserWarning: Solver status is 'infeasible'.\n",
      "  warn(f\"Solver status is '{status}'.\", UserWarning)\n"
     ]
    }
   ],
   "source": [
    "medium = model.medium\n",
    "\n",
    "with model:\n",
    "    #replace glucose with each exchange reaction from the possible carbon source reactions\n",
    "    for reaction in carbon_uptake:\n",
    "        medium['EX_glc__D_e'] = 0\n",
    "        medium[reaction] = 10\n",
    "        model.medium = medium\n",
    "        model.objective = model.reactions.phhA\n",
    "        solution = model.optimize()\n",
    "        max_5HTP_production = solution.objective_value\n",
    "        if solution.fluxes.BIOMASS_Ec_iML1515_core_75p37M > 0:\n",
    "            print(solution.fluxes.BIOMASS_Ec_iML1515_core_75p37M)\n",
    "            print(max_5HTP_production)"
   ]
  },
  {
   "cell_type": "markdown",
   "metadata": {},
   "source": [
    "No solutions, changing of medium does not influence the increase of growth rate at 5-HTP maximum flux production"
   ]
  },
  {
   "cell_type": "code",
   "execution_count": 24,
   "metadata": {},
   "outputs": [],
   "source": [
    "# writing the model\n",
    "write_sbml_model(model, \"../data/iML1515_5htp_1st_strategy.xml\")"
   ]
  },
  {
   "cell_type": "markdown",
   "metadata": {},
   "source": [
    "**Changing the boundaries for chorismate conversion to prephenate**"
   ]
  },
  {
   "cell_type": "markdown",
   "metadata": {},
   "source": [
    "The idea behind this part is to restrict and control the flow of chorismate, a precursor of L-tryptophane and 5-HTP, to other aromatic amino acid production. For this we are setting bounds for a CHORM reaction (chorismate --> prephenate), where we are changing the lower bound to be above 0, so that some chorismate is routed for other essential amino acids in the biomass reaction to ensure growth, and the higher bound ensures we are not depleting the precursor pool for 5-HTP."
   ]
  },
  {
   "cell_type": "code",
   "execution_count": 25,
   "metadata": {},
   "outputs": [
    {
     "name": "stdout",
     "output_type": "stream",
     "text": [
      "Chorismate chor_c\n"
     ]
    }
   ],
   "source": [
    "for metabolite in model.metabolites.query('Chorismate', 'name'):\n",
    "    print(metabolite.name, metabolite.id)"
   ]
  },
  {
   "cell_type": "code",
   "execution_count": 26,
   "metadata": {},
   "outputs": [
    {
     "name": "stdout",
     "output_type": "stream",
     "text": [
      "BIOMASS_Ec_iML1515_WT_75p37M: 0.000223 10fthf_c + 0.000223 2dmmql8_c + 2.5e-05 2fe2s_c + 0.000248 4fe4s_c + 0.000223 5mthf_c + 0.000279 accoa_c + 0.000223 adocbl_c + 0.499149 ala__L_c + 0.000223 amet_c + 0.28742 arg__L_c + 0.234232 asn__L_c + 0.234232 asp__L_c + 75.55223 atp_c + 2e-06 btn_c + 0.004952 ca2_c + 0.000223 chor_c + 0.004952 cl_c + 0.002944 clpn160_p + 0.00229 clpn161_p + 0.00118 clpn181_p + 0.000168 coa_c + 2.4e-05 cobalt2_c + 0.008151 colipa_e + 0.129799 ctp_c + 0.000674 cu2_c + 0.088988 cys__L_c + 0.024805 datp_c + 0.025612 dctp_c + 0.025612 dgtp_c + 0.024805 dttp_c + 0.000223 enter_c + 0.000223 fad_c + 0.006388 fe2_c + 0.007428 fe3_c + 0.255712 gln__L_c + 0.255712 glu__L_c + 0.595297 gly_c + 0.154187 glycogen_c + 0.000223 gthrd_c + 0.209121 gtp_c + 70.028756 h2o_c + 0.000223 hemeO_c + 0.092056 his__L_c + 0.282306 ile__L_c + 0.18569 k_c + 0.437778 leu__L_c + 3e-06 lipopb_c + 0.333448 lys__L_c + 3.1e-05 malcoa_c + 0.149336 met__L_c + 0.008253 mg2_c + 0.000223 mlthf_c + 0.000658 mn2_c + 7e-06 mobd_c + 7e-06 mococdp_c + 7e-06 mocogdp_c + 0.000223 mql8_c + 0.001345 murein3p3p_p + 0.000605 murein3px4p_p + 0.005381 murein4p4p_p + 0.005448 murein4px4p_p + 0.000673 murein4px4px4p_p + 0.001787 nad_c + 4.5e-05 nadh_c + 0.000112 nadp_c + 0.000335 nadph_c + 0.012379 nh4_c + 0.000307 ni2_c + 0.044164 pe160_p + 0.03435 pe161_p + 0.017704 pe181_p + 0.010599 pg160_p + 0.008244 pg161_p + 0.004249 pg181_p + 0.180021 phe__L_c + 0.000223 pheme_c + 0.214798 pro__L_c + 0.03327 ptrc_c + 0.000223 pydx5p_c + 0.000223 q8h2_c + 0.000223 ribflv_c + 0.209684 ser__L_c + 0.000223 sheme_c + 0.004126 so4_c + 0.006744 spmd_c + 9.8e-05 succoa_c + 0.000223 thf_c + 0.000223 thmpp_c + 0.246506 thr__L_c + 0.055234 trp__L_c + 0.133993 tyr__L_c + 5.5e-05 udcpdp_c + 0.140101 utp_c + 0.411184 val__L_c + 0.000324 zn2_c --> 75.37723 adp_c + 75.37723 h_c + 75.37323 pi_c + 0.749831 ppi_c\n",
      "ADCS: chor_c + gln__L_c --> 4adcho_c + glu__L_c\n",
      "CHORM: chor_c --> pphn_c\n",
      "ICHORS_copy1: chor_c --> ichor_c\n",
      "ANS: chor_c + gln__L_c --> anth_c + glu__L_c + h_c + pyr_c\n",
      "ICHORS_copy2: chor_c <=> ichor_c\n",
      "CHORS: 3psme_c --> chor_c + pi_c\n",
      "CHRPL: chor_c --> 4hbz_c + pyr_c\n"
     ]
    }
   ],
   "source": [
    "for reaction in model.metabolites.chor_c.reactions:\n",
    "    print(reaction)"
   ]
  },
  {
   "cell_type": "code",
   "execution_count": 47,
   "metadata": {},
   "outputs": [
    {
     "name": "stdout",
     "output_type": "stream",
     "text": [
      "Max 5-HTP: 1.0\n",
      "Growth: 0.13552972023587273\n",
      "CHORM: 0.04382814304875747\n"
     ]
    }
   ],
   "source": [
    "#here we do not change the bounds for chorismate conversion. The objective vaue is set up for 5-HTP production.\n",
    "with model:\n",
    "    model.reactions.phhA.bounds = 0, 1 #setting the upper bound for the phhA to allow some growth while producing 5-HTP\n",
    "    model.objective = model.reactions.phhA #setting objective for 5-HTP production\n",
    "    solution = model.optimize()\n",
    "    print('Max 5-HTP:', solution.objective_value)\n",
    "    print('Growth:', solution.fluxes.BIOMASS_Ec_iML1515_core_75p37M)\n",
    "    print('CHORM:', solution.fluxes.CHORM)"
   ]
  },
  {
   "cell_type": "code",
   "execution_count": 48,
   "metadata": {},
   "outputs": [
    {
     "name": "stdout",
     "output_type": "stream",
     "text": [
      "Max 5-HTP: 1.0\n",
      "Growth: 0.12369195754892029\n",
      "CHORM: 0.04\n"
     ]
    }
   ],
   "source": [
    "#here we try to keep chorismate conversion below the value in the above example to see the effect on the the 5-HTP and biomass production.\n",
    "#Chorismate is a precursor for L-tryptohan and other aromatic amino acids used in the biomass equation.\n",
    "#The objective value is 5-HTP production.\n",
    "with model:\n",
    "    model.reactions.CHORM.bounds = 0.001, 0.04 #setting tighter bounds for conversion of chorismate to prephenate to make sure the cell still grows while producing 5-HTP\n",
    "    model.reactions.phhA.bounds = 0, 1 #setting the upper bound for the phhA to allow some growth while producing 5-HTP\n",
    "    model.objective = model.reactions.phhA #setting objective for 5-HTP production\n",
    "    solution = model.optimize()\n",
    "    print('Max 5-HTP:', solution.objective_value)\n",
    "    print('Growth:', solution.fluxes.BIOMASS_Ec_iML1515_core_75p37M)\n",
    "    print('CHORM:', solution.fluxes.CHORM)"
   ]
  },
  {
   "cell_type": "markdown",
   "metadata": {},
   "source": [
    "Upon limiting max CHORM flux, the growth was impaired. Let's now see what will happen if the CHORM reaction is limited while biomass production is set as an objective value."
   ]
  },
  {
   "cell_type": "code",
   "execution_count": 49,
   "metadata": {},
   "outputs": [
    {
     "name": "stdout",
     "output_type": "stream",
     "text": [
      "Max 5-HTP: 1.0\n",
      "Growth: 0.6736729353453018\n",
      "CHORM: 0.21785504852370507\n"
     ]
    }
   ],
   "source": [
    "#here we do not change the bounds for chorismate conversion. The objective vaue is set up for biomass production.\n",
    "with model:\n",
    "    model.reactions.phhA.bounds = 1, 1000 \n",
    "    solution = model.optimize()\n",
    "    print('Max 5-HTP:', solution.fluxes.phhA)\n",
    "    print('Growth:', solution.fluxes.BIOMASS_Ec_iML1515_core_75p37M)\n",
    "    print('CHORM:', solution.fluxes.CHORM)"
   ]
  },
  {
   "cell_type": "code",
   "execution_count": 50,
   "metadata": {},
   "outputs": [
    {
     "name": "stdout",
     "output_type": "stream",
     "text": [
      "Max 5-HTP: 1.0\n",
      "Growth: 0.6184597877446011\n",
      "CHORM: 0.2\n"
     ]
    }
   ],
   "source": [
    "#here we try to keep chorismate conversion below the value in the above example to see the effect on the the 5-HTP and biomass production.\n",
    "#Chorismate is a precursor for L-tryptohan and other aromatic amino acids used in the biomass equation.\n",
    "#The objective value is biomass production.\n",
    "with model:\n",
    "    model.reactions.phhA.bounds = 1, 1000 #keeping the lower bound for 5-HTP production above 0 so that the cell does not ditch the reaction\n",
    "    model.reactions.CHORM.bounds = 0.001, 0.2\n",
    "    solution = model.optimize()\n",
    "    print('Max 5-HTP:', solution.fluxes.phhA)\n",
    "    print('Growth:', solution.fluxes.BIOMASS_Ec_iML1515_core_75p37M)\n",
    "    print('CHORM:', solution.fluxes.CHORM)"
   ]
  },
  {
   "cell_type": "markdown",
   "metadata": {},
   "source": [
    "When biomass is selected as an objective value and 5-HTP flux is forsed to be at least 1, biomass production is still impaired when CHORM reaction is limited. The 5-HTP flux at the same time does not get above the lower bound, thus it can be concluded that redirecting the flux of chorismate from phenylalanine and tyrosine production towards the tryptophan production does not increase the yield of 5-HTP."
   ]
  },
  {
   "cell_type": "code",
   "execution_count": null,
   "metadata": {},
   "outputs": [],
   "source": []
  }
 ],
 "metadata": {
  "kernelspec": {
   "display_name": "Python 3",
   "language": "python",
   "name": "python3"
  },
  "language_info": {
   "codemirror_mode": {
    "name": "ipython",
    "version": 3
   },
   "file_extension": ".py",
   "mimetype": "text/x-python",
   "name": "python",
   "nbconvert_exporter": "python",
   "pygments_lexer": "ipython3",
   "version": "3.8.5"
  }
 },
 "nbformat": 4,
 "nbformat_minor": 4
}
