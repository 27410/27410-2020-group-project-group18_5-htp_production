{
 "cells": [
  {
   "cell_type": "markdown",
   "metadata": {},
   "source": [
    "## 1st strategy for E.coli 5-HTP production"
   ]
  },
  {
   "cell_type": "code",
   "execution_count": 1,
   "metadata": {},
   "outputs": [],
   "source": [
    "from cobra.io import read_sbml_model\n",
    "from cobra.io import write_sbml_model\n",
    "from cobra import Reaction, Metabolite\n",
    "import pandas as pd"
   ]
  },
  {
   "cell_type": "code",
   "execution_count": 2,
   "metadata": {},
   "outputs": [],
   "source": [
    "model = read_sbml_model('../data/iML1515.xml')"
   ]
  },
  {
   "cell_type": "markdown",
   "metadata": {},
   "source": [
    "**5-HTP synthesis pathway**"
   ]
  },
  {
   "cell_type": "markdown",
   "metadata": {},
   "source": [
    "5-HTP production (phhA)\\\n",
    "tetrahydromonapterin (MH4) + oxygen + tryptophan (trp) <-> 4a-hydroxytetrahydromonopterin (hydro-MH4) + 5-hydroxytryptophan (5-HTP)"
   ]
  },
  {
   "cell_type": "code",
   "execution_count": 3,
   "metadata": {},
   "outputs": [],
   "source": [
    "#add metabolites to the system\n",
    "four_alpha_hydroxytetrahydromonopterin = Metabolite(id='hthpth_c', compartment='c')\n",
    "hydroxytryptophan = Metabolite(id='htrp_c', compartment='c')"
   ]
  },
  {
   "cell_type": "code",
   "execution_count": 4,
   "metadata": {},
   "outputs": [
    {
     "name": "stdout",
     "output_type": "stream",
     "text": [
      "o2_c + thmnp_c + trp__L_c --> hthpth_c + htrp_c\n"
     ]
    }
   ],
   "source": [
    "#design reaction\n",
    "phhA = Reaction('phhA')\n",
    "phhA.add_metabolites({model.metabolites.thmnp_c: -1,\n",
    "                      model.metabolites.o2_c: -1,\n",
    "                      model.metabolites.trp__L_c: -1,\n",
    "                      four_alpha_hydroxytetrahydromonopterin: 1,\n",
    "                      hydroxytryptophan: 1\n",
    "                     })\n",
    "print(phhA.build_reaction_string())"
   ]
  },
  {
   "cell_type": "code",
   "execution_count": 5,
   "metadata": {},
   "outputs": [
    {
     "data": {
      "text/html": [
       "\n",
       "        <table>\n",
       "            <tr>\n",
       "                <td><strong>Reaction identifier</strong></td><td>phhA</td>\n",
       "            </tr><tr>\n",
       "                <td><strong>Name</strong></td><td></td>\n",
       "            </tr><tr>\n",
       "                <td><strong>Memory address</strong></td>\n",
       "                <td>0x07f2e4570e3a0</td>\n",
       "            </tr><tr>\n",
       "                <td><strong>Stoichiometry</strong></td>\n",
       "                <td>\n",
       "                    <p style='text-align:right'>o2_c + thmnp_c + trp__L_c --> hthpth_c + htrp_c</p>\n",
       "                    <p style='text-align:right'>O2 O2 + Tetrahydromonapterin + L-Tryptophan --> +</p>\n",
       "                </td>\n",
       "            </tr><tr>\n",
       "                <td><strong>GPR</strong></td><td></td>\n",
       "            </tr><tr>\n",
       "                <td><strong>Lower bound</strong></td><td>0.0</td>\n",
       "            </tr><tr>\n",
       "                <td><strong>Upper bound</strong></td><td>1000.0</td>\n",
       "            </tr>\n",
       "        </table>\n",
       "        "
      ],
      "text/plain": [
       "<Reaction phhA at 0x7f2e4570e3a0>"
      ]
     },
     "execution_count": 5,
     "metadata": {},
     "output_type": "execute_result"
    }
   ],
   "source": [
    "#add reaction to the system\n",
    "model.add_reactions([phhA])\n",
    "model.reactions.phhA"
   ]
  },
  {
   "cell_type": "markdown",
   "metadata": {},
   "source": [
    "**Restioration of MH4**"
   ]
  },
  {
   "cell_type": "markdown",
   "metadata": {},
   "source": [
    "pterin-4alpha-carbinolamine dehydratase (PCD)\\\n",
    "4a-hydroxytetrahydromonopterin (hydro-MH4) <-> dihydromonapterin (MH2) + water"
   ]
  },
  {
   "cell_type": "code",
   "execution_count": 6,
   "metadata": {},
   "outputs": [
    {
     "name": "stdout",
     "output_type": "stream",
     "text": [
      "hthpth_c --> dhmpt_c + h2o_c\n"
     ]
    }
   ],
   "source": [
    "#design reaction\n",
    "pcd = Reaction('pcd')\n",
    "pcd.add_metabolites({four_alpha_hydroxytetrahydromonopterin: -1,\n",
    "                      model.metabolites.dhmpt_c: 1,\n",
    "                      model.metabolites.h2o_c: 1,\n",
    "                     })\n",
    "print(pcd.build_reaction_string())"
   ]
  },
  {
   "cell_type": "code",
   "execution_count": 7,
   "metadata": {},
   "outputs": [
    {
     "data": {
      "text/html": [
       "\n",
       "        <table>\n",
       "            <tr>\n",
       "                <td><strong>Reaction identifier</strong></td><td>pcd</td>\n",
       "            </tr><tr>\n",
       "                <td><strong>Name</strong></td><td></td>\n",
       "            </tr><tr>\n",
       "                <td><strong>Memory address</strong></td>\n",
       "                <td>0x07f2e457230a0</td>\n",
       "            </tr><tr>\n",
       "                <td><strong>Stoichiometry</strong></td>\n",
       "                <td>\n",
       "                    <p style='text-align:right'>hthpth_c --> dhmpt_c + h2o_c</p>\n",
       "                    <p style='text-align:right'>--> Dihydromonapterin + H2O H2O</p>\n",
       "                </td>\n",
       "            </tr><tr>\n",
       "                <td><strong>GPR</strong></td><td></td>\n",
       "            </tr><tr>\n",
       "                <td><strong>Lower bound</strong></td><td>0.0</td>\n",
       "            </tr><tr>\n",
       "                <td><strong>Upper bound</strong></td><td>1000.0</td>\n",
       "            </tr>\n",
       "        </table>\n",
       "        "
      ],
      "text/plain": [
       "<Reaction pcd at 0x7f2e457230a0>"
      ]
     },
     "execution_count": 7,
     "metadata": {},
     "output_type": "execute_result"
    }
   ],
   "source": [
    "#add reaction to the system\n",
    "model.add_reactions([pcd])\n",
    "model.reactions.pcd"
   ]
  },
  {
   "cell_type": "markdown",
   "metadata": {},
   "source": [
    "dihydromonapterin reductase (DHMR)\\\n",
    "dihydromonapterin (MH2) + H+ + NADPH <-> NADP+ + tetrahydromonapterin (MH4)"
   ]
  },
  {
   "cell_type": "code",
   "execution_count": 8,
   "metadata": {},
   "outputs": [
    {
     "name": "stdout",
     "output_type": "stream",
     "text": [
      "dhmpt_c + h_c + nadph_c --> nadp_c + thmnp_c\n"
     ]
    }
   ],
   "source": [
    "#design reaction\n",
    "dhmr = Reaction('dhmr')\n",
    "dhmr.add_metabolites({model.metabolites.h_c: -1,\n",
    "                      model.metabolites.dhmpt_c: -1,\n",
    "                      model.metabolites.nadph_c: -1,\n",
    "                      model.metabolites.nadp_c: 1,\n",
    "                      model.metabolites.thmnp_c: 1\n",
    "                     })\n",
    "print(dhmr.build_reaction_string())"
   ]
  },
  {
   "cell_type": "markdown",
   "metadata": {},
   "source": [
    "**Remove 5-HTP from the system**"
   ]
  },
  {
   "cell_type": "code",
   "execution_count": 9,
   "metadata": {},
   "outputs": [],
   "source": [
    "five_hydroxytryptophan_exchange = Reaction('EX_htrp')\n",
    "five_hydroxytryptophan_exchange.add_metabolites({model.metabolites.htrp_c: -1})\n",
    "model.add_reaction(five_hydroxytryptophan_exchange)"
   ]
  },
  {
   "cell_type": "markdown",
   "metadata": {},
   "source": [
    "**Optimize model**"
   ]
  },
  {
   "cell_type": "code",
   "execution_count": 10,
   "metadata": {},
   "outputs": [
    {
     "name": "stdout",
     "output_type": "stream",
     "text": [
      "Maximize\n",
      "1.0*BIOMASS_Ec_iML1515_core_75p37M - 1.0*BIOMASS_Ec_iML1515_core_75p37M_reverse_35685\n"
     ]
    }
   ],
   "source": [
    "print(model.objective)"
   ]
  },
  {
   "cell_type": "code",
   "execution_count": null,
   "metadata": {},
   "outputs": [],
   "source": [
    "# writing the model\n",
    "write_sbml_model(model, \"../data/iML1515_5htp_1st_strategy.xml\")"
   ]
  }
 ],
 "metadata": {
  "kernelspec": {
   "display_name": "Python 3",
   "language": "python",
   "name": "python3"
  },
  "language_info": {
   "codemirror_mode": {
    "name": "ipython",
    "version": 3
   },
   "file_extension": ".py",
   "mimetype": "text/x-python",
   "name": "python",
   "nbconvert_exporter": "python",
   "pygments_lexer": "ipython3",
   "version": "3.8.5"
  }
 },
 "nbformat": 4,
 "nbformat_minor": 4
}
