{
 "cells": [
  {
   "cell_type": "code",
   "execution_count": 1,
   "metadata": {},
   "outputs": [],
   "source": [
    "from cobra.io import read_sbml_model\n",
    "from cobra.io import write_sbml_model\n",
    "from cobra import Reaction, Metabolite\n",
    "import pandas as pd"
   ]
  },
  {
   "cell_type": "markdown",
   "metadata": {},
   "source": [
    "****Heterologous expression of 5-HTP and MH4 pathway in Bacillus subtilis****"
   ]
  },
  {
   "cell_type": "code",
   "execution_count": 2,
   "metadata": {},
   "outputs": [],
   "source": [
    "model = read_sbml_model('../data/iYO844.xml')"
   ]
  },
  {
   "cell_type": "code",
   "execution_count": 3,
   "metadata": {},
   "outputs": [
    {
     "data": {
      "text/html": [
       "\n",
       "        <table>\n",
       "            <tr>\n",
       "                <td><strong>Name</strong></td>\n",
       "                <td>iYO844</td>\n",
       "            </tr><tr>\n",
       "                <td><strong>Memory address</strong></td>\n",
       "                <td>0x07f6e083d8eb0</td>\n",
       "            </tr><tr>\n",
       "                <td><strong>Number of metabolites</strong></td>\n",
       "                <td>990</td>\n",
       "            </tr><tr>\n",
       "                <td><strong>Number of reactions</strong></td>\n",
       "                <td>1250</td>\n",
       "            </tr><tr>\n",
       "                <td><strong>Number of groups</strong></td>\n",
       "                <td>0</td>\n",
       "            </tr><tr>\n",
       "                <td><strong>Objective expression</strong></td>\n",
       "                <td>1.0*BIOMASS_BS_10 - 1.0*BIOMASS_BS_10_reverse_8788b</td>\n",
       "            </tr><tr>\n",
       "                <td><strong>Compartments</strong></td>\n",
       "                <td>cytosol, extracellular space</td>\n",
       "            </tr>\n",
       "          </table>"
      ],
      "text/plain": [
       "<Model iYO844 at 0x7f6e083d8eb0>"
      ]
     },
     "execution_count": 3,
     "metadata": {},
     "output_type": "execute_result"
    }
   ],
   "source": [
    "model"
   ]
  },
  {
   "cell_type": "markdown",
   "metadata": {},
   "source": [
    "**Looking up metabolites involved in MH4 and 5-HTP synthesis**"
   ]
  },
  {
   "cell_type": "code",
   "execution_count": 4,
   "metadata": {},
   "outputs": [
    {
     "name": "stdout",
     "output_type": "stream",
     "text": [
      "Formate for_c\n",
      "Formate for_e\n"
     ]
    }
   ],
   "source": [
    "for metabolite in model.metabolites.query('Formate', 'name'):\n",
    "    print(metabolite.name, metabolite.id)"
   ]
  },
  {
   "cell_type": "code",
   "execution_count": 5,
   "metadata": {},
   "outputs": [
    {
     "name": "stdout",
     "output_type": "stream",
     "text": [
      "DGTP C10H12N5O13P3 dgtp_c\n",
      "GTP C10H12N5O14P3 gtp_c\n"
     ]
    }
   ],
   "source": [
    "for metabolite in model.metabolites.query('GTP', 'name'):\n",
    "    print(metabolite.name, metabolite.id)"
   ]
  },
  {
   "cell_type": "code",
   "execution_count": 6,
   "metadata": {},
   "outputs": [
    {
     "name": "stdout",
     "output_type": "stream",
     "text": [
      "H2O H2O h2o_c\n",
      "H2O H2O h2o_e\n",
      "Oxaloglycolate C4H2O6 oxglyc_c\n",
      "Sulfoacetate C2H2O5S sula_c\n",
      "Sulfoacetate C2H2O5S sula_e\n"
     ]
    }
   ],
   "source": [
    "for metabolite in model.metabolites.query('H2O', 'name'):\n",
    "    print(metabolite.name, metabolite.id)"
   ]
  },
  {
   "cell_type": "code",
   "execution_count": 7,
   "metadata": {},
   "outputs": [
    {
     "name": "stdout",
     "output_type": "stream",
     "text": [
      "Inorganic triphosphate pppi_c HO10P3\n"
     ]
    }
   ],
   "source": [
    "for metabolite in model.metabolites.query('Inorganic triphosphate', 'name'):\n",
    "    print(metabolite.name, metabolite.id, metabolite.formula)"
   ]
  },
  {
   "cell_type": "code",
   "execution_count": 8,
   "metadata": {},
   "outputs": [
    {
     "name": "stdout",
     "output_type": "stream",
     "text": [
      "Nicotinamide adenine dinucleotide nad_c\n",
      "Nicotinamide adenine dinucleotide - reduced nadh_c\n",
      "Nicotinamide adenine dinucleotide phosphate nadp_c\n",
      "Nicotinamide adenine dinucleotide phosphate - reduced nadph_c\n",
      "Nicotinamide ncam_c\n"
     ]
    }
   ],
   "source": [
    "for metabolite in model.metabolites.query('Nicotinamide', 'name'):\n",
    "    print(metabolite.name, metabolite.id)"
   ]
  },
  {
   "cell_type": "code",
   "execution_count": 9,
   "metadata": {},
   "outputs": [
    {
     "data": {
      "text/html": [
       "\n",
       "        <table>\n",
       "            <tr>\n",
       "                <td><strong>Metabolite identifier</strong></td><td>h_c</td>\n",
       "            </tr><tr>\n",
       "                <td><strong>Name</strong></td><td>H+</td>\n",
       "            </tr><tr>\n",
       "                <td><strong>Memory address</strong></td>\n",
       "                <td>0x07f6dea2d5190</td>\n",
       "            </tr><tr>\n",
       "                <td><strong>Formula</strong></td><td>H</td>\n",
       "            </tr><tr>\n",
       "                <td><strong>Compartment</strong></td><td>c</td>\n",
       "            </tr><tr>\n",
       "                <td><strong>In 616 reaction(s)</strong></td><td>\n",
       "                    LAAL9, ARGt2r, LAAL39, ALDD4x, PEPt6, ECTOINEabc, LAAL8, ALDD20x_1, ALDD2x, DIPEPabc2, GARFT, L_LACt2r, GART, UAGPT3, ADCL, GLXCBL, ASAD, GLYCK, ACTNabc1, BUTSabc, LAAL32, KAS12, ADNt2, 23CN2P1,...</td>\n",
       "            </tr>\n",
       "        </table>"
      ],
      "text/plain": [
       "<Metabolite h_c at 0x7f6dea2d5190>"
      ]
     },
     "execution_count": 9,
     "metadata": {},
     "output_type": "execute_result"
    }
   ],
   "source": [
    "model.metabolites.h_c "
   ]
  },
  {
   "cell_type": "code",
   "execution_count": 10,
   "metadata": {},
   "outputs": [
    {
     "name": "stdout",
     "output_type": "stream",
     "text": [
      "6-Pyruvoyl-5,6,7,8-tetrahydropterin 6pthp_c C9H11N5O3\n",
      "Dihydroneopterin dhnpt_c C9H13N5O4\n"
     ]
    }
   ],
   "source": [
    "for metabolite in model.metabolites.query('pterin', 'name'):\n",
    "    print(metabolite.name, metabolite.id, metabolite.formula)"
   ]
  },
  {
   "cell_type": "code",
   "execution_count": 11,
   "metadata": {},
   "outputs": [
    {
     "name": "stdout",
     "output_type": "stream",
     "text": [
      "L-Tryptophan trp__L_c\n",
      "L-Tryptophan trp__L_e\n"
     ]
    }
   ],
   "source": [
    "for metabolite in model.metabolites.query('Tryptophan', 'name'):\n",
    "    print(metabolite.name, metabolite.id)"
   ]
  },
  {
   "cell_type": "code",
   "execution_count": 12,
   "metadata": {},
   "outputs": [
    {
     "name": "stdout",
     "output_type": "stream",
     "text": [
      "O2 O2 o2_c\n",
      "O2 O2 o2_e\n"
     ]
    }
   ],
   "source": [
    "for metabolite in model.metabolites.query('O2 O2', 'name'):\n",
    "    print(metabolite.name, metabolite.id)"
   ]
  },
  {
   "cell_type": "markdown",
   "metadata": {},
   "source": [
    "**Creating missing metabolites**"
   ]
  },
  {
   "cell_type": "code",
   "execution_count": 13,
   "metadata": {},
   "outputs": [],
   "source": [
    "MH2_3P = Metabolite(id='MH2_3P', compartment='c')"
   ]
  },
  {
   "cell_type": "code",
   "execution_count": 14,
   "metadata": {},
   "outputs": [],
   "source": [
    "preMH2_3P = Metabolite(id='preMH2_3P', compartment='c')"
   ]
  },
  {
   "cell_type": "code",
   "execution_count": 15,
   "metadata": {},
   "outputs": [],
   "source": [
    "MH2 = Metabolite(id='MH2', compartment='c')"
   ]
  },
  {
   "cell_type": "code",
   "execution_count": 16,
   "metadata": {},
   "outputs": [],
   "source": [
    "MH4 = Metabolite(id='MH4', compartment='c')"
   ]
  },
  {
   "cell_type": "code",
   "execution_count": 17,
   "metadata": {},
   "outputs": [],
   "source": [
    "HydroxyMH4 = Metabolite(id='hydroxy_MH4', compartment='c')"
   ]
  },
  {
   "cell_type": "code",
   "execution_count": 18,
   "metadata": {},
   "outputs": [],
   "source": [
    "hydroxy_trp = Metabolite(id='hydroxy_trp', compartment='c')"
   ]
  },
  {
   "cell_type": "markdown",
   "metadata": {},
   "source": [
    "**Creating and adding metabolites to the missing reactions as outlined in Table ..**"
   ]
  },
  {
   "cell_type": "code",
   "execution_count": 19,
   "metadata": {},
   "outputs": [
    {
     "name": "stdout",
     "output_type": "stream",
     "text": [
      "gtp_c + h2o_c --> for_c + preMH2_3P\n"
     ]
    }
   ],
   "source": [
    "folE = Reaction('R05048')\n",
    "folE.add_metabolites({model.metabolites.h2o_c: -1,\n",
    "                      model.metabolites.gtp_c: -1,\n",
    "                      model.metabolites.for_c: 1,\n",
    "                      preMH2_3P: 1\n",
    "                     })\n",
    "print(folE.build_reaction_string())"
   ]
  },
  {
   "cell_type": "code",
   "execution_count": 20,
   "metadata": {},
   "outputs": [
    {
     "name": "stdout",
     "output_type": "stream",
     "text": [
      "preMH2_3P --> MH2_3P\n"
     ]
    }
   ],
   "source": [
    "folX = Reaction('R11082')\n",
    "folX.add_metabolites({preMH2_3P: -1,\n",
    "                      MH2_3P: 1\n",
    "                     })\n",
    "print(folX.build_reaction_string())"
   ]
  },
  {
   "cell_type": "code",
   "execution_count": 21,
   "metadata": {},
   "outputs": [
    {
     "name": "stdout",
     "output_type": "stream",
     "text": [
      "MH2_3P --> MH2 + pppi_c\n"
     ]
    }
   ],
   "source": [
    "MH2_3P_dephosphorylation = Reaction ('Putative_dephosphorylation')\n",
    "MH2_3P_dephosphorylation.add_metabolites({MH2_3P: -1,\n",
    "                                          MH2: 1,\n",
    "                                          model.metabolites.pppi_c: 1\n",
    "                                         })\n",
    "print(MH2_3P_dephosphorylation.build_reaction_string())"
   ]
  },
  {
   "cell_type": "code",
   "execution_count": 22,
   "metadata": {},
   "outputs": [
    {
     "name": "stdout",
     "output_type": "stream",
     "text": [
      "MH2 + h_c + nadph_c --> MH4 + nadp_c\n"
     ]
    }
   ],
   "source": [
    "folM = Reaction('R11019')\n",
    "folM.add_metabolites ({model.metabolites.nadph_c: -1,\n",
    "                       model.metabolites.h_c: -1,\n",
    "                       MH2: -1,\n",
    "                       MH4: 1,\n",
    "                       model.metabolites.nadp_c: 1\n",
    "                      })\n",
    "print(folM.build_reaction_string())"
   ]
  },
  {
   "cell_type": "code",
   "execution_count": 23,
   "metadata": {},
   "outputs": [
    {
     "name": "stdout",
     "output_type": "stream",
     "text": [
      "hydroxy_MH4 --> MH2 + h2o_c\n"
     ]
    }
   ],
   "source": [
    "phhB = Reaction ('R04734')\n",
    "phhB.add_metabolites({HydroxyMH4: -1,\n",
    "                      MH2: 1,\n",
    "                      model.metabolites.h2o_c: 1\n",
    "                     })\n",
    "print(phhB.build_reaction_string())"
   ]
  },
  {
   "cell_type": "code",
   "execution_count": 24,
   "metadata": {},
   "outputs": [
    {
     "name": "stdout",
     "output_type": "stream",
     "text": [
      "MH4 + o2_c + trp__L_c --> hydroxy_MH4 + hydroxy_trp\n"
     ]
    }
   ],
   "source": [
    "phhA = Reaction ('R12540')\n",
    "phhA.add_metabolites({model.metabolites.trp__L_c: -1,\n",
    "                      model.metabolites.o2_c: -1,\n",
    "                      MH4: -1,\n",
    "                      HydroxyMH4: 1,\n",
    "                      hydroxy_trp: 1\n",
    "                     })\n",
    "print(phhA.build_reaction_string())"
   ]
  },
  {
   "cell_type": "markdown",
   "metadata": {},
   "source": [
    "**Adding reactions to the model**"
   ]
  },
  {
   "cell_type": "code",
   "execution_count": 25,
   "metadata": {},
   "outputs": [],
   "source": [
    "model.add_reactions([folE])"
   ]
  },
  {
   "cell_type": "code",
   "execution_count": 26,
   "metadata": {},
   "outputs": [],
   "source": [
    "model.add_reactions([folX])"
   ]
  },
  {
   "cell_type": "code",
   "execution_count": 27,
   "metadata": {},
   "outputs": [],
   "source": [
    "model.add_reactions([MH2_3P_dephosphorylation])"
   ]
  },
  {
   "cell_type": "code",
   "execution_count": 28,
   "metadata": {},
   "outputs": [],
   "source": [
    "model.add_reactions([folM])"
   ]
  },
  {
   "cell_type": "code",
   "execution_count": 29,
   "metadata": {},
   "outputs": [],
   "source": [
    "model.add_reactions([phhB])"
   ]
  },
  {
   "cell_type": "code",
   "execution_count": 30,
   "metadata": {},
   "outputs": [],
   "source": [
    "model.add_reactions([phhA])"
   ]
  },
  {
   "cell_type": "code",
   "execution_count": 31,
   "metadata": {},
   "outputs": [
    {
     "data": {
      "text/html": [
       "\n",
       "        <table>\n",
       "            <tr>\n",
       "                <td><strong>Reaction identifier</strong></td><td>DM_hydroxy_trp</td>\n",
       "            </tr><tr>\n",
       "                <td><strong>Name</strong></td><td>demand</td>\n",
       "            </tr><tr>\n",
       "                <td><strong>Memory address</strong></td>\n",
       "                <td>0x07f6de9937b20</td>\n",
       "            </tr><tr>\n",
       "                <td><strong>Stoichiometry</strong></td>\n",
       "                <td>\n",
       "                    <p style='text-align:right'>hydroxy_trp --></p>\n",
       "                    <p style='text-align:right'>--></p>\n",
       "                </td>\n",
       "            </tr><tr>\n",
       "                <td><strong>GPR</strong></td><td></td>\n",
       "            </tr><tr>\n",
       "                <td><strong>Lower bound</strong></td><td>0</td>\n",
       "            </tr><tr>\n",
       "                <td><strong>Upper bound</strong></td><td>1000.0</td>\n",
       "            </tr>\n",
       "        </table>\n",
       "        "
      ],
      "text/plain": [
       "<Reaction DM_hydroxy_trp at 0x7f6de9937b20>"
      ]
     },
     "execution_count": 31,
     "metadata": {},
     "output_type": "execute_result"
    }
   ],
   "source": [
    "model.add_boundary(model.metabolites.hydroxy_trp, type='demand')"
   ]
  },
  {
   "cell_type": "code",
   "execution_count": 32,
   "metadata": {},
   "outputs": [
    {
     "data": {
      "text/html": [
       "\n",
       "        <table>\n",
       "            <tr>\n",
       "                <td><strong>Reaction identifier</strong></td><td>DM_hydroxy_trp</td>\n",
       "            </tr><tr>\n",
       "                <td><strong>Name</strong></td><td>demand</td>\n",
       "            </tr><tr>\n",
       "                <td><strong>Memory address</strong></td>\n",
       "                <td>0x07f6de9937b20</td>\n",
       "            </tr><tr>\n",
       "                <td><strong>Stoichiometry</strong></td>\n",
       "                <td>\n",
       "                    <p style='text-align:right'>hydroxy_trp --></p>\n",
       "                    <p style='text-align:right'>--></p>\n",
       "                </td>\n",
       "            </tr><tr>\n",
       "                <td><strong>GPR</strong></td><td></td>\n",
       "            </tr><tr>\n",
       "                <td><strong>Lower bound</strong></td><td>0</td>\n",
       "            </tr><tr>\n",
       "                <td><strong>Upper bound</strong></td><td>1000.0</td>\n",
       "            </tr>\n",
       "        </table>\n",
       "        "
      ],
      "text/plain": [
       "<Reaction DM_hydroxy_trp at 0x7f6de9937b20>"
      ]
     },
     "execution_count": 32,
     "metadata": {},
     "output_type": "execute_result"
    }
   ],
   "source": [
    "model.reactions.DM_hydroxy_trp"
   ]
  },
  {
   "cell_type": "markdown",
   "metadata": {},
   "source": [
    "**Looking at max growth rate of an optimised model**"
   ]
  },
  {
   "cell_type": "code",
   "execution_count": 33,
   "metadata": {},
   "outputs": [
    {
     "name": "stdout",
     "output_type": "stream",
     "text": [
      "Maximize\n",
      "1.0*BIOMASS_BS_10 - 1.0*BIOMASS_BS_10_reverse_8788b\n"
     ]
    }
   ],
   "source": [
    "print(model.objective)"
   ]
  },
  {
   "cell_type": "code",
   "execution_count": 34,
   "metadata": {},
   "outputs": [
    {
     "data": {
      "text/plain": [
       "0.11796638932240017"
      ]
     },
     "execution_count": 34,
     "metadata": {},
     "output_type": "execute_result"
    }
   ],
   "source": [
    "model.optimize().objective_value"
   ]
  },
  {
   "cell_type": "code",
   "execution_count": 42,
   "metadata": {},
   "outputs": [],
   "source": [
    "# writing the model\n",
    "write_sbml_model(model, \"../data/iYO844_5htp.xml\")"
   ]
  }
 ],
 "metadata": {
  "kernelspec": {
   "display_name": "Python 3",
   "language": "python",
   "name": "python3"
  },
  "language_info": {
   "codemirror_mode": {
    "name": "ipython",
    "version": 3
   },
   "file_extension": ".py",
   "mimetype": "text/x-python",
   "name": "python",
   "nbconvert_exporter": "python",
   "pygments_lexer": "ipython3",
   "version": "3.8.5"
  }
 },
 "nbformat": 4,
 "nbformat_minor": 4
}
