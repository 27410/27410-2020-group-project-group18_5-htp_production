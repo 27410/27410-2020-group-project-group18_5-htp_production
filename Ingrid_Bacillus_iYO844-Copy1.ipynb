{
 "cells": [
  {
   "cell_type": "code",
   "execution_count": 53,
   "metadata": {},
   "outputs": [],
   "source": [
    "from cobra.io import read_sbml_model\n",
    "from cobra import Reaction, Metabolite\n",
    "import pandas as pd"
   ]
  },
  {
   "cell_type": "markdown",
   "metadata": {},
   "source": [
    "****Heterologous expression of 5-HTP and MH4 pathway in Bacillus subtilis****"
   ]
  },
  {
   "cell_type": "code",
   "execution_count": 54,
   "metadata": {},
   "outputs": [],
   "source": [
    "model = read_sbml_model('data/iYO844.xml')"
   ]
  },
  {
   "cell_type": "code",
   "execution_count": 55,
   "metadata": {},
   "outputs": [
    {
     "data": {
      "text/html": [
       "\n",
       "        <table>\n",
       "            <tr>\n",
       "                <td><strong>Name</strong></td>\n",
       "                <td>iYO844</td>\n",
       "            </tr><tr>\n",
       "                <td><strong>Memory address</strong></td>\n",
       "                <td>0x07fe084555b50</td>\n",
       "            </tr><tr>\n",
       "                <td><strong>Number of metabolites</strong></td>\n",
       "                <td>990</td>\n",
       "            </tr><tr>\n",
       "                <td><strong>Number of reactions</strong></td>\n",
       "                <td>1250</td>\n",
       "            </tr><tr>\n",
       "                <td><strong>Number of groups</strong></td>\n",
       "                <td>0</td>\n",
       "            </tr><tr>\n",
       "                <td><strong>Objective expression</strong></td>\n",
       "                <td>1.0*BIOMASS_BS_10 - 1.0*BIOMASS_BS_10_reverse_8788b</td>\n",
       "            </tr><tr>\n",
       "                <td><strong>Compartments</strong></td>\n",
       "                <td>cytosol, extracellular space</td>\n",
       "            </tr>\n",
       "          </table>"
      ],
      "text/plain": [
       "<Model iYO844 at 0x7fe084555b50>"
      ]
     },
     "execution_count": 55,
     "metadata": {},
     "output_type": "execute_result"
    }
   ],
   "source": [
    "model"
   ]
  },
  {
   "cell_type": "code",
   "execution_count": 56,
   "metadata": {},
   "outputs": [
    {
     "data": {
      "text/plain": [
       "{'EX_fe3_e': 999999.0,\n",
       " 'EX_glc__D_e': 1.7,\n",
       " 'EX_ca2_e': 999999.0,\n",
       " 'EX_so4_e': 5.0,\n",
       " 'EX_co2_e': 999999.0,\n",
       " 'EX_h2o_e': 999999.0,\n",
       " 'EX_h_e': 999999.0,\n",
       " 'EX_k_e': 999999.0,\n",
       " 'EX_mg2_e': 999999.0,\n",
       " 'EX_na1_e': 999999.0,\n",
       " 'EX_nh4_e': 5.0,\n",
       " 'EX_o2_e': 999999.0,\n",
       " 'EX_pi_e': 5.0}"
      ]
     },
     "execution_count": 56,
     "metadata": {},
     "output_type": "execute_result"
    }
   ],
   "source": [
    "model.medium"
   ]
  },
  {
   "cell_type": "code",
   "execution_count": 57,
   "metadata": {},
   "outputs": [
    {
     "name": "stdout",
     "output_type": "stream",
     "text": [
      "Formate for_c\n",
      "Formate for_e\n"
     ]
    }
   ],
   "source": [
    "for metabolite in model.metabolites.query('Formate', 'name'):\n",
    "    print(metabolite.name, metabolite.id)"
   ]
  },
  {
   "cell_type": "code",
   "execution_count": 58,
   "metadata": {},
   "outputs": [
    {
     "name": "stdout",
     "output_type": "stream",
     "text": [
      "DGTP C10H12N5O13P3 dgtp_c\n",
      "GTP C10H12N5O14P3 gtp_c\n"
     ]
    }
   ],
   "source": [
    "for metabolite in model.metabolites.query('GTP', 'name'):\n",
    "    print(metabolite.name, metabolite.id)"
   ]
  },
  {
   "cell_type": "code",
   "execution_count": 59,
   "metadata": {},
   "outputs": [
    {
     "name": "stdout",
     "output_type": "stream",
     "text": [
      "H2O H2O h2o_c\n",
      "H2O H2O h2o_e\n",
      "Oxaloglycolate C4H2O6 oxglyc_c\n",
      "Sulfoacetate C2H2O5S sula_c\n",
      "Sulfoacetate C2H2O5S sula_e\n"
     ]
    }
   ],
   "source": [
    "for metabolite in model.metabolites.query('H2O', 'name'):\n",
    "    print(metabolite.name, metabolite.id)"
   ]
  },
  {
   "cell_type": "code",
   "execution_count": 60,
   "metadata": {},
   "outputs": [
    {
     "name": "stdout",
     "output_type": "stream",
     "text": [
      "Inorganic triphosphate pppi_c HO10P3\n"
     ]
    }
   ],
   "source": [
    "for metabolite in model.metabolites.query('Inorganic triphosphate', 'name'):\n",
    "    print(metabolite.name, metabolite.id, metabolite.formula)"
   ]
  },
  {
   "cell_type": "code",
   "execution_count": 61,
   "metadata": {},
   "outputs": [
    {
     "name": "stdout",
     "output_type": "stream",
     "text": [
      "Nicotinamide adenine dinucleotide nad_c\n",
      "Nicotinamide adenine dinucleotide - reduced nadh_c\n",
      "Nicotinamide adenine dinucleotide phosphate nadp_c\n",
      "Nicotinamide adenine dinucleotide phosphate - reduced nadph_c\n",
      "Nicotinamide ncam_c\n"
     ]
    }
   ],
   "source": [
    "for metabolite in model.metabolites.query('Nicotinamide', 'name'):\n",
    "    print(metabolite.name, metabolite.id)"
   ]
  },
  {
   "cell_type": "code",
   "execution_count": 62,
   "metadata": {},
   "outputs": [
    {
     "data": {
      "text/html": [
       "\n",
       "        <table>\n",
       "            <tr>\n",
       "                <td><strong>Metabolite identifier</strong></td><td>h_c</td>\n",
       "            </tr><tr>\n",
       "                <td><strong>Name</strong></td><td>H+</td>\n",
       "            </tr><tr>\n",
       "                <td><strong>Memory address</strong></td>\n",
       "                <td>0x07fe084729dc0</td>\n",
       "            </tr><tr>\n",
       "                <td><strong>Formula</strong></td><td>H</td>\n",
       "            </tr><tr>\n",
       "                <td><strong>Compartment</strong></td><td>c</td>\n",
       "            </tr><tr>\n",
       "                <td><strong>In 616 reaction(s)</strong></td><td>\n",
       "                    DADNK, ACOAD6, SHCHD2_1, CAt4, PGL, DIPEPabc9, NAPRT, CITt12, DIPEPabc7, GLXt2, MNt2, KAS7, G6PDH2r, GPDDA1, DCMPDA, PYK, GLTPD, METDabc, LAAL24, LAAL13, HACD5, OXGDC, CITt10, DRBK, GLCS1, MTHFR3,...</td>\n",
       "            </tr>\n",
       "        </table>"
      ],
      "text/plain": [
       "<Metabolite h_c at 0x7fe084729dc0>"
      ]
     },
     "execution_count": 62,
     "metadata": {},
     "output_type": "execute_result"
    }
   ],
   "source": [
    "model.metabolites.h_c "
   ]
  },
  {
   "cell_type": "code",
   "execution_count": 63,
   "metadata": {},
   "outputs": [
    {
     "name": "stdout",
     "output_type": "stream",
     "text": [
      "6-Pyruvoyl-5,6,7,8-tetrahydropterin 6pthp_c C9H11N5O3\n",
      "Dihydroneopterin dhnpt_c C9H13N5O4\n"
     ]
    }
   ],
   "source": [
    "for metabolite in model.metabolites.query('pterin', 'name'):\n",
    "    print(metabolite.name, metabolite.id, metabolite.formula)"
   ]
  },
  {
   "cell_type": "code",
   "execution_count": 64,
   "metadata": {},
   "outputs": [
    {
     "name": "stdout",
     "output_type": "stream",
     "text": [
      "L-Tryptophan trp__L_c\n",
      "L-Tryptophan trp__L_e\n"
     ]
    }
   ],
   "source": [
    "for metabolite in model.metabolites.query('Tryptophan', 'name'):\n",
    "    print(metabolite.name, metabolite.id)"
   ]
  },
  {
   "cell_type": "code",
   "execution_count": 65,
   "metadata": {},
   "outputs": [
    {
     "name": "stdout",
     "output_type": "stream",
     "text": [
      "O2 O2 o2_c\n",
      "O2 O2 o2_e\n"
     ]
    }
   ],
   "source": [
    "for metabolite in model.metabolites.query('O2 O2', 'name'):\n",
    "    print(metabolite.name, metabolite.id)"
   ]
  },
  {
   "cell_type": "code",
   "execution_count": 66,
   "metadata": {},
   "outputs": [],
   "source": [
    "MH2_3P = Metabolite(id='MH2_3P', compartment='c')"
   ]
  },
  {
   "cell_type": "code",
   "execution_count": 67,
   "metadata": {},
   "outputs": [],
   "source": [
    "preMH2_3P = Metabolite(id='preMH2_3P', compartment='c')"
   ]
  },
  {
   "cell_type": "code",
   "execution_count": 68,
   "metadata": {},
   "outputs": [],
   "source": [
    "MH2 = Metabolite(id='MH2', compartment='c')"
   ]
  },
  {
   "cell_type": "code",
   "execution_count": 69,
   "metadata": {},
   "outputs": [],
   "source": [
    "MH4 = Metabolite(id='MH4', compartment='c')"
   ]
  },
  {
   "cell_type": "code",
   "execution_count": 70,
   "metadata": {},
   "outputs": [],
   "source": [
    "HydroxyMH4 = Metabolite(id='hydroxy_MH4', compartment='c')"
   ]
  },
  {
   "cell_type": "code",
   "execution_count": 71,
   "metadata": {},
   "outputs": [],
   "source": [
    "hydroxy_trp = Metabolite (id='hydroxy_trp', compartment='c')"
   ]
  },
  {
   "cell_type": "code",
   "execution_count": 72,
   "metadata": {},
   "outputs": [
    {
     "name": "stdout",
     "output_type": "stream",
     "text": [
      "gtp_c + h2o_c --> for_c + preMH2_3P\n"
     ]
    }
   ],
   "source": [
    "folE = Reaction('R05048')\n",
    "folE.add_metabolites({model.metabolites.h2o_c: -1,\n",
    "                      model.metabolites.gtp_c: -1,\n",
    "                      model.metabolites.for_c: 1,\n",
    "                      preMH2_3P: 1\n",
    "                     })\n",
    "print(folE.build_reaction_string())"
   ]
  },
  {
   "cell_type": "code",
   "execution_count": 73,
   "metadata": {},
   "outputs": [
    {
     "name": "stdout",
     "output_type": "stream",
     "text": [
      "preMH2_3P --> MH2_3P\n"
     ]
    }
   ],
   "source": [
    "folX = Reaction('R11082')\n",
    "folX.add_metabolites({preMH2_3P: -1,\n",
    "                      MH2_3P: 1\n",
    "                     })\n",
    "print(folX.build_reaction_string())"
   ]
  },
  {
   "cell_type": "code",
   "execution_count": 74,
   "metadata": {},
   "outputs": [
    {
     "name": "stdout",
     "output_type": "stream",
     "text": [
      "MH2_3P --> MH2 + pppi_c\n"
     ]
    }
   ],
   "source": [
    "MH2_3P_dephosphorylation = Reaction ('Putative_dephosphorylation')\n",
    "MH2_3P_dephosphorylation.add_metabolites({MH2_3P: -1,\n",
    "                                          MH2: 1,\n",
    "                                          model.metabolites.pppi_c: 1\n",
    "                                         })\n",
    "print(MH2_3P_dephosphorylation.build_reaction_string())"
   ]
  },
  {
   "cell_type": "code",
   "execution_count": 75,
   "metadata": {},
   "outputs": [
    {
     "name": "stdout",
     "output_type": "stream",
     "text": [
      "MH2 + h_c + nadph_c --> MH4 + nadp_c\n"
     ]
    }
   ],
   "source": [
    "folM = Reaction('R11019')\n",
    "folM.add_metabolites ({model.metabolites.nadph_c: -1,\n",
    "                       model.metabolites.h_c: -1,\n",
    "                       MH2: -1,\n",
    "                       MH4: 1,\n",
    "                       model.metabolites.nadp_c: 1\n",
    "                      })\n",
    "print(folM.build_reaction_string())"
   ]
  },
  {
   "cell_type": "code",
   "execution_count": 76,
   "metadata": {},
   "outputs": [
    {
     "name": "stdout",
     "output_type": "stream",
     "text": [
      "hydroxy_MH4 --> MH2 + h2o_c\n"
     ]
    }
   ],
   "source": [
    "phhB = Reaction ('R04734')\n",
    "phhB.add_metabolites({HydroxyMH4: -1,\n",
    "                      MH2: 1,\n",
    "                      model.metabolites.h2o_c: 1\n",
    "                     })\n",
    "print(phhB.build_reaction_string())"
   ]
  },
  {
   "cell_type": "code",
   "execution_count": 77,
   "metadata": {},
   "outputs": [
    {
     "name": "stdout",
     "output_type": "stream",
     "text": [
      "MH4 + o2_c + trp__L_c --> hydroxy_MH4 + hydroxy_trp\n"
     ]
    }
   ],
   "source": [
    "phhA = Reaction ('R12540')\n",
    "phhA.add_metabolites({model.metabolites.trp__L_c: -1,\n",
    "                      model.metabolites.o2_c: -1,\n",
    "                      MH4: -1,\n",
    "                      HydroxyMH4: 1,\n",
    "                      hydroxy_trp: 1\n",
    "                     })\n",
    "print(phhA.build_reaction_string())"
   ]
  },
  {
   "cell_type": "code",
   "execution_count": 78,
   "metadata": {},
   "outputs": [],
   "source": [
    "model.add_reactions([folE])"
   ]
  },
  {
   "cell_type": "code",
   "execution_count": 79,
   "metadata": {},
   "outputs": [],
   "source": [
    "model.add_reactions([folX])"
   ]
  },
  {
   "cell_type": "code",
   "execution_count": 80,
   "metadata": {},
   "outputs": [],
   "source": [
    "model.add_reactions([MH2_3P_dephosphorylation])"
   ]
  },
  {
   "cell_type": "code",
   "execution_count": 81,
   "metadata": {},
   "outputs": [],
   "source": [
    "model.add_reactions([folM])"
   ]
  },
  {
   "cell_type": "code",
   "execution_count": 82,
   "metadata": {},
   "outputs": [],
   "source": [
    "model.add_reactions([phhB])"
   ]
  },
  {
   "cell_type": "code",
   "execution_count": 83,
   "metadata": {},
   "outputs": [],
   "source": [
    "model.add_reactions([phhA])"
   ]
  },
  {
   "cell_type": "code",
   "execution_count": 84,
   "metadata": {},
   "outputs": [
    {
     "data": {
      "text/html": [
       "\n",
       "        <table>\n",
       "            <tr>\n",
       "                <td><strong>Reaction identifier</strong></td><td>R12540</td>\n",
       "            </tr><tr>\n",
       "                <td><strong>Name</strong></td><td></td>\n",
       "            </tr><tr>\n",
       "                <td><strong>Memory address</strong></td>\n",
       "                <td>0x07fe081ba9100</td>\n",
       "            </tr><tr>\n",
       "                <td><strong>Stoichiometry</strong></td>\n",
       "                <td>\n",
       "                    <p style='text-align:right'>MH4 + o2_c + trp__L_c --> hydroxy_MH4 + hydroxy_trp</p>\n",
       "                    <p style='text-align:right'>+ O2 O2 + L-Tryptophan --> +</p>\n",
       "                </td>\n",
       "            </tr><tr>\n",
       "                <td><strong>GPR</strong></td><td></td>\n",
       "            </tr><tr>\n",
       "                <td><strong>Lower bound</strong></td><td>0.0</td>\n",
       "            </tr><tr>\n",
       "                <td><strong>Upper bound</strong></td><td>1000.0</td>\n",
       "            </tr>\n",
       "        </table>\n",
       "        "
      ],
      "text/plain": [
       "<Reaction R12540 at 0x7fe081ba9100>"
      ]
     },
     "execution_count": 84,
     "metadata": {},
     "output_type": "execute_result"
    }
   ],
   "source": [
    "model.reactions.R12540"
   ]
  },
  {
   "cell_type": "code",
   "execution_count": 85,
   "metadata": {},
   "outputs": [],
   "source": [
    "hydroxy_5HTP_exchange = Reaction('EX_hydroxy_trp')\n",
    "hydroxy_5HTP_exchange.add_metabolites({model.metabolites.hydroxy_trp: -1})\n",
    "model.add_reactions([hydroxy_5HTP_exchange])"
   ]
  },
  {
   "cell_type": "code",
   "execution_count": 86,
   "metadata": {},
   "outputs": [],
   "source": [
    "MH4_exchange = Reaction('EX_MH4')\n",
    "MH4_exchange.add_metabolites({model.metabolites.MH4: -1})\n",
    "model.add_reactions([MH4_exchange])"
   ]
  },
  {
   "cell_type": "code",
   "execution_count": 87,
   "metadata": {},
   "outputs": [
    {
     "data": {
      "text/html": [
       "<strong><em>Optimal</em> solution with objective value 0.118</strong><br><div>\n",
       "<style scoped>\n",
       "    .dataframe tbody tr th:only-of-type {\n",
       "        vertical-align: middle;\n",
       "    }\n",
       "\n",
       "    .dataframe tbody tr th {\n",
       "        vertical-align: top;\n",
       "    }\n",
       "\n",
       "    .dataframe thead th {\n",
       "        text-align: right;\n",
       "    }\n",
       "</style>\n",
       "<table border=\"1\" class=\"dataframe\">\n",
       "  <thead>\n",
       "    <tr style=\"text-align: right;\">\n",
       "      <th></th>\n",
       "      <th>fluxes</th>\n",
       "      <th>reduced_costs</th>\n",
       "    </tr>\n",
       "  </thead>\n",
       "  <tbody>\n",
       "    <tr>\n",
       "      <th>EX_etha_e</th>\n",
       "      <td>0.0</td>\n",
       "      <td>-0.066773</td>\n",
       "    </tr>\n",
       "    <tr>\n",
       "      <th>EX_drib_e</th>\n",
       "      <td>0.0</td>\n",
       "      <td>-0.150240</td>\n",
       "    </tr>\n",
       "    <tr>\n",
       "      <th>EX_csn_e</th>\n",
       "      <td>0.0</td>\n",
       "      <td>-0.129837</td>\n",
       "    </tr>\n",
       "    <tr>\n",
       "      <th>EX_5mtr_e</th>\n",
       "      <td>0.0</td>\n",
       "      <td>-0.224433</td>\n",
       "    </tr>\n",
       "    <tr>\n",
       "      <th>EX_dtmp_e</th>\n",
       "      <td>0.0</td>\n",
       "      <td>-0.337577</td>\n",
       "    </tr>\n",
       "    <tr>\n",
       "      <th>...</th>\n",
       "      <td>...</td>\n",
       "      <td>...</td>\n",
       "    </tr>\n",
       "    <tr>\n",
       "      <th>R11019</th>\n",
       "      <td>0.0</td>\n",
       "      <td>0.000000</td>\n",
       "    </tr>\n",
       "    <tr>\n",
       "      <th>R04734</th>\n",
       "      <td>0.0</td>\n",
       "      <td>-0.012984</td>\n",
       "    </tr>\n",
       "    <tr>\n",
       "      <th>R12540</th>\n",
       "      <td>0.0</td>\n",
       "      <td>-0.391366</td>\n",
       "    </tr>\n",
       "    <tr>\n",
       "      <th>EX_hydroxy_trp</th>\n",
       "      <td>0.0</td>\n",
       "      <td>0.000000</td>\n",
       "    </tr>\n",
       "    <tr>\n",
       "      <th>EX_MH4</th>\n",
       "      <td>0.0</td>\n",
       "      <td>0.000000</td>\n",
       "    </tr>\n",
       "  </tbody>\n",
       "</table>\n",
       "<p>1258 rows × 2 columns</p>\n",
       "</div>"
      ],
      "text/plain": [
       "<Solution 0.118 at 0x7fe081b7f400>"
      ]
     },
     "execution_count": 87,
     "metadata": {},
     "output_type": "execute_result"
    }
   ],
   "source": [
    "model.optimize()"
   ]
  },
  {
   "cell_type": "code",
   "execution_count": 88,
   "metadata": {},
   "outputs": [
    {
     "name": "stdout",
     "output_type": "stream",
     "text": [
      "R12540: MH4 + o2_c + trp__L_c --> hydroxy_MH4 + hydroxy_trp\n",
      "0.5776145203111468\n"
     ]
    }
   ],
   "source": [
    "with model:\n",
    "    print(model.reactions.R12540)\n",
    "    model.objective = model.reactions.R12540\n",
    "    max_5HTP_production = model.optimize().objective_value\n",
    "    print(max_5HTP_production)"
   ]
  },
  {
   "cell_type": "code",
   "execution_count": 89,
   "metadata": {},
   "outputs": [],
   "source": [
    "from cobra.flux_analysis import flux_variability_analysis"
   ]
  },
  {
   "cell_type": "code",
   "execution_count": 90,
   "metadata": {},
   "outputs": [
    {
     "data": {
      "text/html": [
       "<div>\n",
       "<style scoped>\n",
       "    .dataframe tbody tr th:only-of-type {\n",
       "        vertical-align: middle;\n",
       "    }\n",
       "\n",
       "    .dataframe tbody tr th {\n",
       "        vertical-align: top;\n",
       "    }\n",
       "\n",
       "    .dataframe thead th {\n",
       "        text-align: right;\n",
       "    }\n",
       "</style>\n",
       "<table border=\"1\" class=\"dataframe\">\n",
       "  <thead>\n",
       "    <tr style=\"text-align: right;\">\n",
       "      <th></th>\n",
       "      <th>minimum</th>\n",
       "      <th>maximum</th>\n",
       "    </tr>\n",
       "  </thead>\n",
       "  <tbody>\n",
       "    <tr>\n",
       "      <th>EX_etha_e</th>\n",
       "      <td>0.0</td>\n",
       "      <td>0.000000e+00</td>\n",
       "    </tr>\n",
       "    <tr>\n",
       "      <th>EX_drib_e</th>\n",
       "      <td>0.0</td>\n",
       "      <td>0.000000e+00</td>\n",
       "    </tr>\n",
       "    <tr>\n",
       "      <th>EX_csn_e</th>\n",
       "      <td>0.0</td>\n",
       "      <td>0.000000e+00</td>\n",
       "    </tr>\n",
       "    <tr>\n",
       "      <th>EX_5mtr_e</th>\n",
       "      <td>0.0</td>\n",
       "      <td>5.621751e-14</td>\n",
       "    </tr>\n",
       "    <tr>\n",
       "      <th>EX_dtmp_e</th>\n",
       "      <td>0.0</td>\n",
       "      <td>1.016240e-13</td>\n",
       "    </tr>\n",
       "    <tr>\n",
       "      <th>...</th>\n",
       "      <td>...</td>\n",
       "      <td>...</td>\n",
       "    </tr>\n",
       "    <tr>\n",
       "      <th>R11019</th>\n",
       "      <td>0.0</td>\n",
       "      <td>1.062963e-13</td>\n",
       "    </tr>\n",
       "    <tr>\n",
       "      <th>R04734</th>\n",
       "      <td>0.0</td>\n",
       "      <td>8.484203e-14</td>\n",
       "    </tr>\n",
       "    <tr>\n",
       "      <th>R12540</th>\n",
       "      <td>0.0</td>\n",
       "      <td>8.484203e-14</td>\n",
       "    </tr>\n",
       "    <tr>\n",
       "      <th>EX_hydroxy_trp</th>\n",
       "      <td>0.0</td>\n",
       "      <td>8.484203e-14</td>\n",
       "    </tr>\n",
       "    <tr>\n",
       "      <th>EX_MH4</th>\n",
       "      <td>0.0</td>\n",
       "      <td>1.062963e-13</td>\n",
       "    </tr>\n",
       "  </tbody>\n",
       "</table>\n",
       "<p>1258 rows × 2 columns</p>\n",
       "</div>"
      ],
      "text/plain": [
       "                minimum       maximum\n",
       "EX_etha_e           0.0  0.000000e+00\n",
       "EX_drib_e           0.0  0.000000e+00\n",
       "EX_csn_e            0.0  0.000000e+00\n",
       "EX_5mtr_e           0.0  5.621751e-14\n",
       "EX_dtmp_e           0.0  1.016240e-13\n",
       "...                 ...           ...\n",
       "R11019              0.0  1.062963e-13\n",
       "R04734              0.0  8.484203e-14\n",
       "R12540              0.0  8.484203e-14\n",
       "EX_hydroxy_trp      0.0  8.484203e-14\n",
       "EX_MH4              0.0  1.062963e-13\n",
       "\n",
       "[1258 rows x 2 columns]"
      ]
     },
     "execution_count": 90,
     "metadata": {},
     "output_type": "execute_result"
    }
   ],
   "source": [
    "flux_variability_analysis(model)"
   ]
  },
  {
   "cell_type": "code",
   "execution_count": 91,
   "metadata": {},
   "outputs": [
    {
     "name": "stdout",
     "output_type": "stream",
     "text": [
      "                minimum   maximum\n",
      "EX_hydroxy_trp      0.0  0.520739\n"
     ]
    }
   ],
   "source": [
    "hydroroxy_trp_flux_analysis = flux_variability_analysis(model, model.reactions.EX_hydroxy_trp, fraction_of_optimum=0.1)\n",
    "print(hydroroxy_trp_flux_analysis)"
   ]
  },
  {
   "cell_type": "code",
   "execution_count": null,
   "metadata": {},
   "outputs": [],
   "source": []
  },
  {
   "cell_type": "code",
   "execution_count": 92,
   "metadata": {},
   "outputs": [
    {
     "data": {
      "text/plain": [
       "{'EX_fe3_e': 999999.0,\n",
       " 'EX_glc__D_e': 1.7,\n",
       " 'EX_ca2_e': 999999.0,\n",
       " 'EX_so4_e': 5.0,\n",
       " 'EX_co2_e': 999999.0,\n",
       " 'EX_h2o_e': 999999.0,\n",
       " 'EX_h_e': 999999.0,\n",
       " 'EX_k_e': 999999.0,\n",
       " 'EX_mg2_e': 999999.0,\n",
       " 'EX_na1_e': 999999.0,\n",
       " 'EX_nh4_e': 5.0,\n",
       " 'EX_o2_e': 999999.0,\n",
       " 'EX_pi_e': 5.0}"
      ]
     },
     "execution_count": 92,
     "metadata": {},
     "output_type": "execute_result"
    }
   ],
   "source": [
    "model.medium"
   ]
  },
  {
   "cell_type": "code",
   "execution_count": 95,
   "metadata": {},
   "outputs": [
    {
     "name": "stdout",
     "output_type": "stream",
     "text": [
      "0.5776145203111511\n"
     ]
    }
   ],
   "source": [
    "with model:\n",
    "    model.objective = model.reactions.EX_hydroxy_trp\n",
    "    print(model.optimize().objective_value)"
   ]
  },
  {
   "cell_type": "code",
   "execution_count": 108,
   "metadata": {},
   "outputs": [
    {
     "name": "stdout",
     "output_type": "stream",
     "text": [
      "Max. hydroxy_trp production [mmol gDW^-1 h^-1]: 0.5776145203111499\n",
      "Theoretical max. yield [mmol-5htp / mmol-glc]: 0.33977324724185287\n"
     ]
    }
   ],
   "source": [
    "# calculating yield of hydroxy_trp\n",
    "with model:\n",
    "    model.objective = model.reactions.EX_hydroxy_trp\n",
    "    hydroxy_trp_production = model.optimize().objective_value\n",
    "    print(\"Max. hydroxy_trp production [mmol gDW^-1 h^-1]:\", hydroxy_trp_production)\n",
    "    print(\"Theoretical max. yield [mmol-5htp / mmol-glc]:\", hydroxy_trp_production / (-1*model.reactions.EX_glc__D_e.flux))"
   ]
  },
  {
   "cell_type": "code",
   "execution_count": 109,
   "metadata": {},
   "outputs": [
    {
     "name": "stdout",
     "output_type": "stream",
     "text": [
      "Max. hydroxy_trp production [mmol gDW^-1 h^-1]: 0.22072072072072108\n",
      "Theoretical max. yield [mmol-5htp / mmol-succ]: 0.1298357180710124\n"
     ]
    }
   ],
   "source": [
    "# calculating yield if on succ media\n",
    "medium = model.medium\n",
    "with model:\n",
    "    medium['EX_glc__D_e'] = 0\n",
    "    medium['EX_succ_e'] = 1.7\n",
    "    model.medium = medium\n",
    "    model.objective = model.reactions.EX_hydroxy_trp\n",
    "    hydroxy_trp_production = model.optimize().objective_value\n",
    "    print(\"Max. hydroxy_trp production [mmol gDW^-1 h^-1]:\", hydroxy_trp_production)\n",
    "    print(\"Theoretical max. yield [mmol-5htp / mmol-succ]:\", hydroxy_trp_production / (-1*model.reactions.EX_succ_e.flux))"
   ]
  },
  {
   "cell_type": "code",
   "execution_count": 110,
   "metadata": {},
   "outputs": [
    {
     "data": {
      "text/plain": [
       "EX_fe3_e       0.000407\n",
       "EX_glc__D_e    1.700000\n",
       "EX_ca2_e       0.000378\n",
       "EX_so4_e       0.020092\n",
       "EX_k_e         0.083321\n",
       "EX_mg2_e       0.011999\n",
       "EX_nh4_e       0.944964\n",
       "EX_o2_e        5.705899\n",
       "EX_pi_e        0.181053\n",
       "dtype: float64"
      ]
     },
     "execution_count": 110,
     "metadata": {},
     "output_type": "execute_result"
    }
   ],
   "source": [
    "# calculating minimal medium growth\n",
    "from cobra.medium import minimal_medium\n",
    "\n",
    "max_growth = model.slim_optimize()\n",
    "minimal_medium(model, max_growth)"
   ]
  },
  {
   "cell_type": "code",
   "execution_count": 111,
   "metadata": {},
   "outputs": [
    {
     "data": {
      "text/html": [
       "<div>\n",
       "<style scoped>\n",
       "    .dataframe tbody tr th:only-of-type {\n",
       "        vertical-align: middle;\n",
       "    }\n",
       "\n",
       "    .dataframe tbody tr th {\n",
       "        vertical-align: top;\n",
       "    }\n",
       "\n",
       "    .dataframe thead th {\n",
       "        text-align: right;\n",
       "    }\n",
       "</style>\n",
       "<table border=\"1\" class=\"dataframe\">\n",
       "  <thead>\n",
       "    <tr style=\"text-align: right;\">\n",
       "      <th></th>\n",
       "      <th>0</th>\n",
       "      <th>1</th>\n",
       "      <th>2</th>\n",
       "      <th>3</th>\n",
       "      <th>4</th>\n",
       "      <th>5</th>\n",
       "      <th>6</th>\n",
       "      <th>7</th>\n",
       "    </tr>\n",
       "  </thead>\n",
       "  <tbody>\n",
       "    <tr>\n",
       "      <th>EX_3cmp_e</th>\n",
       "      <td>0.000000</td>\n",
       "      <td>0.000000</td>\n",
       "      <td>0.000000</td>\n",
       "      <td>0.000000</td>\n",
       "      <td>0.000000</td>\n",
       "      <td>0.000000</td>\n",
       "      <td>0.000000</td>\n",
       "      <td>15.030237</td>\n",
       "    </tr>\n",
       "    <tr>\n",
       "      <th>EX_3gmp_e</th>\n",
       "      <td>0.000000</td>\n",
       "      <td>0.000000</td>\n",
       "      <td>0.000000</td>\n",
       "      <td>0.000000</td>\n",
       "      <td>588.100690</td>\n",
       "      <td>0.000000</td>\n",
       "      <td>0.000000</td>\n",
       "      <td>0.000000</td>\n",
       "    </tr>\n",
       "    <tr>\n",
       "      <th>EX_3ump_e</th>\n",
       "      <td>0.000000</td>\n",
       "      <td>0.000000</td>\n",
       "      <td>0.000000</td>\n",
       "      <td>0.000000</td>\n",
       "      <td>462.823120</td>\n",
       "      <td>0.000000</td>\n",
       "      <td>0.000000</td>\n",
       "      <td>0.000000</td>\n",
       "    </tr>\n",
       "    <tr>\n",
       "      <th>EX_acnam_e</th>\n",
       "      <td>0.000000</td>\n",
       "      <td>0.000000</td>\n",
       "      <td>0.000000</td>\n",
       "      <td>0.000000</td>\n",
       "      <td>0.000000</td>\n",
       "      <td>0.000000</td>\n",
       "      <td>1000.000000</td>\n",
       "      <td>0.000000</td>\n",
       "    </tr>\n",
       "    <tr>\n",
       "      <th>EX_adn_e</th>\n",
       "      <td>0.000000</td>\n",
       "      <td>1000.000000</td>\n",
       "      <td>0.000000</td>\n",
       "      <td>0.000000</td>\n",
       "      <td>0.000000</td>\n",
       "      <td>0.000000</td>\n",
       "      <td>0.000000</td>\n",
       "      <td>0.000000</td>\n",
       "    </tr>\n",
       "    <tr>\n",
       "      <th>EX_ca2_e</th>\n",
       "      <td>0.002564</td>\n",
       "      <td>0.002564</td>\n",
       "      <td>0.002564</td>\n",
       "      <td>0.002564</td>\n",
       "      <td>0.002564</td>\n",
       "      <td>0.002564</td>\n",
       "      <td>0.002564</td>\n",
       "      <td>0.002564</td>\n",
       "    </tr>\n",
       "    <tr>\n",
       "      <th>EX_cmp_e</th>\n",
       "      <td>0.000000</td>\n",
       "      <td>0.000000</td>\n",
       "      <td>0.000000</td>\n",
       "      <td>0.000000</td>\n",
       "      <td>0.000000</td>\n",
       "      <td>0.000000</td>\n",
       "      <td>1000.000000</td>\n",
       "      <td>0.000000</td>\n",
       "    </tr>\n",
       "    <tr>\n",
       "      <th>EX_cys__L_e</th>\n",
       "      <td>0.000000</td>\n",
       "      <td>0.000000</td>\n",
       "      <td>0.000000</td>\n",
       "      <td>0.000000</td>\n",
       "      <td>0.000000</td>\n",
       "      <td>0.000000</td>\n",
       "      <td>0.136253</td>\n",
       "      <td>0.136253</td>\n",
       "    </tr>\n",
       "    <tr>\n",
       "      <th>EX_cytd_e</th>\n",
       "      <td>1000.000000</td>\n",
       "      <td>0.000000</td>\n",
       "      <td>1000.000000</td>\n",
       "      <td>1000.000000</td>\n",
       "      <td>0.000000</td>\n",
       "      <td>1000.000000</td>\n",
       "      <td>0.000000</td>\n",
       "      <td>0.000000</td>\n",
       "    </tr>\n",
       "    <tr>\n",
       "      <th>EX_fe3_e</th>\n",
       "      <td>0.002760</td>\n",
       "      <td>0.002760</td>\n",
       "      <td>0.002760</td>\n",
       "      <td>0.002760</td>\n",
       "      <td>0.002760</td>\n",
       "      <td>0.002760</td>\n",
       "      <td>0.002760</td>\n",
       "      <td>0.002760</td>\n",
       "    </tr>\n",
       "    <tr>\n",
       "      <th>EX_g1p_e</th>\n",
       "      <td>0.000000</td>\n",
       "      <td>0.000000</td>\n",
       "      <td>19.707595</td>\n",
       "      <td>0.000000</td>\n",
       "      <td>0.000000</td>\n",
       "      <td>0.000000</td>\n",
       "      <td>0.000000</td>\n",
       "      <td>0.000000</td>\n",
       "    </tr>\n",
       "    <tr>\n",
       "      <th>EX_gam6p_e</th>\n",
       "      <td>0.000000</td>\n",
       "      <td>0.000000</td>\n",
       "      <td>0.000000</td>\n",
       "      <td>1000.000000</td>\n",
       "      <td>0.000000</td>\n",
       "      <td>0.000000</td>\n",
       "      <td>0.000000</td>\n",
       "      <td>0.000000</td>\n",
       "    </tr>\n",
       "    <tr>\n",
       "      <th>EX_glyc3p_e</th>\n",
       "      <td>0.000000</td>\n",
       "      <td>0.000000</td>\n",
       "      <td>0.000000</td>\n",
       "      <td>0.000000</td>\n",
       "      <td>0.000000</td>\n",
       "      <td>949.132945</td>\n",
       "      <td>0.000000</td>\n",
       "      <td>0.000000</td>\n",
       "    </tr>\n",
       "    <tr>\n",
       "      <th>EX_k_e</th>\n",
       "      <td>0.565050</td>\n",
       "      <td>0.565050</td>\n",
       "      <td>0.565050</td>\n",
       "      <td>0.565050</td>\n",
       "      <td>0.565050</td>\n",
       "      <td>0.565050</td>\n",
       "      <td>0.565050</td>\n",
       "      <td>0.565050</td>\n",
       "    </tr>\n",
       "    <tr>\n",
       "      <th>EX_malttr_e</th>\n",
       "      <td>0.000000</td>\n",
       "      <td>0.000000</td>\n",
       "      <td>0.000000</td>\n",
       "      <td>0.000000</td>\n",
       "      <td>0.000000</td>\n",
       "      <td>0.000000</td>\n",
       "      <td>0.000000</td>\n",
       "      <td>30.437590</td>\n",
       "    </tr>\n",
       "    <tr>\n",
       "      <th>EX_met__L_e</th>\n",
       "      <td>0.000000</td>\n",
       "      <td>0.000000</td>\n",
       "      <td>0.000000</td>\n",
       "      <td>0.000000</td>\n",
       "      <td>0.000000</td>\n",
       "      <td>0.136253</td>\n",
       "      <td>0.000000</td>\n",
       "      <td>0.000000</td>\n",
       "    </tr>\n",
       "    <tr>\n",
       "      <th>EX_metox__R_e</th>\n",
       "      <td>0.000000</td>\n",
       "      <td>0.000000</td>\n",
       "      <td>0.136253</td>\n",
       "      <td>0.000000</td>\n",
       "      <td>0.136253</td>\n",
       "      <td>0.000000</td>\n",
       "      <td>0.000000</td>\n",
       "      <td>0.000000</td>\n",
       "    </tr>\n",
       "    <tr>\n",
       "      <th>EX_metox_e</th>\n",
       "      <td>0.173938</td>\n",
       "      <td>0.136253</td>\n",
       "      <td>0.000000</td>\n",
       "      <td>0.000000</td>\n",
       "      <td>0.000000</td>\n",
       "      <td>0.000000</td>\n",
       "      <td>0.000000</td>\n",
       "      <td>0.000000</td>\n",
       "    </tr>\n",
       "    <tr>\n",
       "      <th>EX_mg2_e</th>\n",
       "      <td>0.081371</td>\n",
       "      <td>0.081371</td>\n",
       "      <td>0.081371</td>\n",
       "      <td>0.081371</td>\n",
       "      <td>0.081371</td>\n",
       "      <td>0.081371</td>\n",
       "      <td>0.081371</td>\n",
       "      <td>0.081371</td>\n",
       "    </tr>\n",
       "    <tr>\n",
       "      <th>EX_o2_e</th>\n",
       "      <td>0.006926</td>\n",
       "      <td>0.006926</td>\n",
       "      <td>0.006926</td>\n",
       "      <td>0.006926</td>\n",
       "      <td>0.006926</td>\n",
       "      <td>0.006926</td>\n",
       "      <td>0.006926</td>\n",
       "      <td>0.006926</td>\n",
       "    </tr>\n",
       "    <tr>\n",
       "      <th>EX_pser__L_e</th>\n",
       "      <td>1.227829</td>\n",
       "      <td>0.000000</td>\n",
       "      <td>0.000000</td>\n",
       "      <td>0.000000</td>\n",
       "      <td>0.000000</td>\n",
       "      <td>0.000000</td>\n",
       "      <td>0.000000</td>\n",
       "      <td>0.000000</td>\n",
       "    </tr>\n",
       "    <tr>\n",
       "      <th>EX_so4_e</th>\n",
       "      <td>0.000000</td>\n",
       "      <td>0.000000</td>\n",
       "      <td>0.000000</td>\n",
       "      <td>0.136253</td>\n",
       "      <td>0.000000</td>\n",
       "      <td>0.000000</td>\n",
       "      <td>0.000000</td>\n",
       "      <td>0.000000</td>\n",
       "    </tr>\n",
       "    <tr>\n",
       "      <th>EX_ump_e</th>\n",
       "      <td>0.000000</td>\n",
       "      <td>1000.000000</td>\n",
       "      <td>0.000000</td>\n",
       "      <td>0.000000</td>\n",
       "      <td>0.000000</td>\n",
       "      <td>0.000000</td>\n",
       "      <td>0.000000</td>\n",
       "      <td>0.000000</td>\n",
       "    </tr>\n",
       "  </tbody>\n",
       "</table>\n",
       "</div>"
      ],
      "text/plain": [
       "                         0            1            2            3           4  \\\n",
       "EX_3cmp_e         0.000000     0.000000     0.000000     0.000000    0.000000   \n",
       "EX_3gmp_e         0.000000     0.000000     0.000000     0.000000  588.100690   \n",
       "EX_3ump_e         0.000000     0.000000     0.000000     0.000000  462.823120   \n",
       "EX_acnam_e        0.000000     0.000000     0.000000     0.000000    0.000000   \n",
       "EX_adn_e          0.000000  1000.000000     0.000000     0.000000    0.000000   \n",
       "EX_ca2_e          0.002564     0.002564     0.002564     0.002564    0.002564   \n",
       "EX_cmp_e          0.000000     0.000000     0.000000     0.000000    0.000000   \n",
       "EX_cys__L_e       0.000000     0.000000     0.000000     0.000000    0.000000   \n",
       "EX_cytd_e      1000.000000     0.000000  1000.000000  1000.000000    0.000000   \n",
       "EX_fe3_e          0.002760     0.002760     0.002760     0.002760    0.002760   \n",
       "EX_g1p_e          0.000000     0.000000    19.707595     0.000000    0.000000   \n",
       "EX_gam6p_e        0.000000     0.000000     0.000000  1000.000000    0.000000   \n",
       "EX_glyc3p_e       0.000000     0.000000     0.000000     0.000000    0.000000   \n",
       "EX_k_e            0.565050     0.565050     0.565050     0.565050    0.565050   \n",
       "EX_malttr_e       0.000000     0.000000     0.000000     0.000000    0.000000   \n",
       "EX_met__L_e       0.000000     0.000000     0.000000     0.000000    0.000000   \n",
       "EX_metox__R_e     0.000000     0.000000     0.136253     0.000000    0.136253   \n",
       "EX_metox_e        0.173938     0.136253     0.000000     0.000000    0.000000   \n",
       "EX_mg2_e          0.081371     0.081371     0.081371     0.081371    0.081371   \n",
       "EX_o2_e           0.006926     0.006926     0.006926     0.006926    0.006926   \n",
       "EX_pser__L_e      1.227829     0.000000     0.000000     0.000000    0.000000   \n",
       "EX_so4_e          0.000000     0.000000     0.000000     0.136253    0.000000   \n",
       "EX_ump_e          0.000000  1000.000000     0.000000     0.000000    0.000000   \n",
       "\n",
       "                         5            6          7  \n",
       "EX_3cmp_e         0.000000     0.000000  15.030237  \n",
       "EX_3gmp_e         0.000000     0.000000   0.000000  \n",
       "EX_3ump_e         0.000000     0.000000   0.000000  \n",
       "EX_acnam_e        0.000000  1000.000000   0.000000  \n",
       "EX_adn_e          0.000000     0.000000   0.000000  \n",
       "EX_ca2_e          0.002564     0.002564   0.002564  \n",
       "EX_cmp_e          0.000000  1000.000000   0.000000  \n",
       "EX_cys__L_e       0.000000     0.136253   0.136253  \n",
       "EX_cytd_e      1000.000000     0.000000   0.000000  \n",
       "EX_fe3_e          0.002760     0.002760   0.002760  \n",
       "EX_g1p_e          0.000000     0.000000   0.000000  \n",
       "EX_gam6p_e        0.000000     0.000000   0.000000  \n",
       "EX_glyc3p_e     949.132945     0.000000   0.000000  \n",
       "EX_k_e            0.565050     0.565050   0.565050  \n",
       "EX_malttr_e       0.000000     0.000000  30.437590  \n",
       "EX_met__L_e       0.136253     0.000000   0.000000  \n",
       "EX_metox__R_e     0.000000     0.000000   0.000000  \n",
       "EX_metox_e        0.000000     0.000000   0.000000  \n",
       "EX_mg2_e          0.081371     0.081371   0.081371  \n",
       "EX_o2_e           0.006926     0.006926   0.006926  \n",
       "EX_pser__L_e      0.000000     0.000000   0.000000  \n",
       "EX_so4_e          0.000000     0.000000   0.000000  \n",
       "EX_ump_e          0.000000     0.000000   0.000000  "
      ]
     },
     "execution_count": 111,
     "metadata": {},
     "output_type": "execute_result"
    }
   ],
   "source": [
    "minimal_medium(model, 0.8, minimize_components=8, open_exchanges=True)"
   ]
  },
  {
   "cell_type": "code",
   "execution_count": 112,
   "metadata": {},
   "outputs": [
    {
     "data": {
      "text/html": [
       "\n",
       "        <table>\n",
       "            <tr>\n",
       "                <td><strong>Reaction identifier</strong></td><td>EX_cytd_e</td>\n",
       "            </tr><tr>\n",
       "                <td><strong>Name</strong></td><td>Cytidine exchange</td>\n",
       "            </tr><tr>\n",
       "                <td><strong>Memory address</strong></td>\n",
       "                <td>0x07fe0840bfbe0</td>\n",
       "            </tr><tr>\n",
       "                <td><strong>Stoichiometry</strong></td>\n",
       "                <td>\n",
       "                    <p style='text-align:right'>cytd_e --></p>\n",
       "                    <p style='text-align:right'>Cytidine --></p>\n",
       "                </td>\n",
       "            </tr><tr>\n",
       "                <td><strong>GPR</strong></td><td></td>\n",
       "            </tr><tr>\n",
       "                <td><strong>Lower bound</strong></td><td>0.0</td>\n",
       "            </tr><tr>\n",
       "                <td><strong>Upper bound</strong></td><td>999999.0</td>\n",
       "            </tr>\n",
       "        </table>\n",
       "        "
      ],
      "text/plain": [
       "<Reaction EX_cytd_e at 0x7fe0840bfbe0>"
      ]
     },
     "execution_count": 112,
     "metadata": {},
     "output_type": "execute_result"
    }
   ],
   "source": [
    "model.reactions.EX_cytd_e"
   ]
  },
  {
   "cell_type": "code",
   "execution_count": 117,
   "metadata": {},
   "outputs": [
    {
     "data": {
      "text/html": [
       "\n",
       "        <table>\n",
       "            <tr>\n",
       "                <td><strong>Reaction identifier</strong></td><td>EX_f6p_e</td>\n",
       "            </tr><tr>\n",
       "                <td><strong>Name</strong></td><td>D-fructose 6-phosphate exchange</td>\n",
       "            </tr><tr>\n",
       "                <td><strong>Memory address</strong></td>\n",
       "                <td>0x07fe081ab1fa0</td>\n",
       "            </tr><tr>\n",
       "                <td><strong>Stoichiometry</strong></td>\n",
       "                <td>\n",
       "                    <p style='text-align:right'>f6p_e --></p>\n",
       "                    <p style='text-align:right'>D-Fructose 6-phosphate --></p>\n",
       "                </td>\n",
       "            </tr><tr>\n",
       "                <td><strong>GPR</strong></td><td></td>\n",
       "            </tr><tr>\n",
       "                <td><strong>Lower bound</strong></td><td>0.0</td>\n",
       "            </tr><tr>\n",
       "                <td><strong>Upper bound</strong></td><td>999999.0</td>\n",
       "            </tr>\n",
       "        </table>\n",
       "        "
      ],
      "text/plain": [
       "<Reaction EX_f6p_e at 0x7fe081ab1fa0>"
      ]
     },
     "execution_count": 117,
     "metadata": {},
     "output_type": "execute_result"
    }
   ],
   "source": [
    "model.reactions.EX_f6p_e"
   ]
  },
  {
   "cell_type": "code",
   "execution_count": 119,
   "metadata": {},
   "outputs": [
    {
     "name": "stdout",
     "output_type": "stream",
     "text": [
      "EX_gal_e\n",
      "GALT\n"
     ]
    }
   ],
   "source": [
    "for reaction in model.reactions.query('Galactose', 'name'):\n",
    "    print(reaction.id)"
   ]
  },
  {
   "cell_type": "code",
   "execution_count": 118,
   "metadata": {},
   "outputs": [
    {
     "name": "stdout",
     "output_type": "stream",
     "text": [
      "Max. hydroxy_trp production [mmol gDW^-1 h^-1]: 0.6055950266429843\n",
      "Theoretical max. yield [mmol-5htp / mmol-f6p]: 0.35623236861352015\n"
     ]
    }
   ],
   "source": [
    "# calculating yield if on f6p media\n",
    "medium = model.medium\n",
    "with model:\n",
    "    medium['EX_glc__D_e'] = 0\n",
    "    medium['EX_f6p_e'] = 1.7\n",
    "    model.medium = medium\n",
    "    model.objective = model.reactions.EX_hydroxy_trp\n",
    "    hydroxy_trp_production = model.optimize().objective_value\n",
    "    print(\"Max. hydroxy_trp production [mmol gDW^-1 h^-1]:\", hydroxy_trp_production)\n",
    "    print(\"Theoretical max. yield [mmol-5htp / mmol-f6p]:\", hydroxy_trp_production / (-1*model.reactions.EX_f6p_e.flux))"
   ]
  },
  {
   "cell_type": "code",
   "execution_count": 120,
   "metadata": {},
   "outputs": [
    {
     "name": "stdout",
     "output_type": "stream",
     "text": [
      "Max. hydroxy_trp production [mmol gDW^-1 h^-1]: 0.5753996447602145\n",
      "Theoretical max. yield [mmol-5htp / mmol-gal]: 0.33847037927071444\n"
     ]
    }
   ],
   "source": [
    "# calculating yield if on galactose media\n",
    "medium = model.medium\n",
    "with model:\n",
    "    medium['EX_glc__D_e'] = 0\n",
    "    medium['EX_gal_e'] = 1.7\n",
    "    model.medium = medium\n",
    "    model.objective = model.reactions.EX_hydroxy_trp\n",
    "    hydroxy_trp_production = model.optimize().objective_value\n",
    "    print(\"Max. hydroxy_trp production [mmol gDW^-1 h^-1]:\", hydroxy_trp_production)\n",
    "    print(\"Theoretical max. yield [mmol-5htp / mmol-gal]:\", hydroxy_trp_production / (-1*model.reactions.EX_gal_e.flux))"
   ]
  },
  {
   "cell_type": "code",
   "execution_count": null,
   "metadata": {},
   "outputs": [],
   "source": []
  },
  {
   "cell_type": "code",
   "execution_count": null,
   "metadata": {},
   "outputs": [],
   "source": []
  },
  {
   "cell_type": "code",
   "execution_count": null,
   "metadata": {},
   "outputs": [],
   "source": []
  },
  {
   "cell_type": "code",
   "execution_count": 122,
   "metadata": {},
   "outputs": [],
   "source": [
    "solution = model.optimize()"
   ]
  },
  {
   "cell_type": "code",
   "execution_count": 123,
   "metadata": {},
   "outputs": [
    {
     "data": {
      "text/plain": [
       "EX_etha_e         0.0\n",
       "EX_drib_e         0.0\n",
       "EX_csn_e          0.0\n",
       "EX_5mtr_e         0.0\n",
       "EX_dtmp_e         0.0\n",
       "                 ... \n",
       "R11019            0.0\n",
       "R04734            0.0\n",
       "R12540            0.0\n",
       "EX_hydroxy_trp    0.0\n",
       "EX_MH4            0.0\n",
       "Name: fluxes, Length: 1258, dtype: float64"
      ]
     },
     "execution_count": 123,
     "metadata": {},
     "output_type": "execute_result"
    }
   ],
   "source": [
    "solution.fluxes"
   ]
  },
  {
   "cell_type": "code",
   "execution_count": 124,
   "metadata": {},
   "outputs": [
    {
     "data": {
      "text/plain": [
       "count    1258.000000\n",
       "mean        0.079629\n",
       "std         0.990769\n",
       "min        -7.869819\n",
       "25%         0.000000\n",
       "50%         0.000000\n",
       "75%         0.000000\n",
       "max        18.771540\n",
       "Name: fluxes, dtype: float64"
      ]
     },
     "execution_count": 124,
     "metadata": {},
     "output_type": "execute_result"
    }
   ],
   "source": [
    "solution.fluxes.describe()"
   ]
  },
  {
   "cell_type": "code",
   "execution_count": 125,
   "metadata": {},
   "outputs": [
    {
     "data": {
      "image/png": "[encoded data removed]",
      "text/plain": [
       "<Figure size 432x288 with 1 Axes>"
      ]
     },
     "metadata": {
      "needs_background": "light"
     },
     "output_type": "display_data"
    }
   ],
   "source": [
    "fig = solution.fluxes.hist()\n",
    "fig.set_xlabel('flux [$mmol gDW^{-1} h^{-1}]$')\n",
    "fig.set_ylabel('Frequency');"
   ]
  },
  {
   "cell_type": "code",
   "execution_count": 126,
   "metadata": {},
   "outputs": [
    {
     "data": {
      "text/plain": [
       "EX_fe3_e      -0.000407\n",
       "EX_glc__D_e   -1.700000\n",
       "EX_ca2_e      -0.000378\n",
       "EX_so4_e      -0.020092\n",
       "EX_co2_e       5.980676\n",
       "                 ...   \n",
       "RNDR3          0.002050\n",
       "TECA3S45       0.000215\n",
       "PGK           -3.055820\n",
       "PGM           -2.940945\n",
       "PHCYT_BS       0.009060\n",
       "Name: fluxes, Length: 337, dtype: float64"
      ]
     },
     "execution_count": 126,
     "metadata": {},
     "output_type": "execute_result"
    }
   ],
   "source": [
    "solution.fluxes[solution.fluxes != 0.]"
   ]
  },
  {
   "cell_type": "code",
   "execution_count": 127,
   "metadata": {},
   "outputs": [],
   "source": [
    "import escher"
   ]
  },
  {
   "cell_type": "code",
   "execution_count": 128,
   "metadata": {},
   "outputs": [
    {
     "data": {
      "text/plain": [
       "[{'organism': 'Saccharomyces cerevisiae',\n",
       "  'map_name': 'iMM904.Central carbon metabolism'},\n",
       " {'organism': 'Homo sapiens',\n",
       "  'map_name': 'RECON1.Inositol retinol metabolism'},\n",
       " {'organism': 'Homo sapiens', 'map_name': 'RECON1.Glycolysis TCA PPP'},\n",
       " {'organism': 'Homo sapiens', 'map_name': 'RECON1.Tryptophan metabolism'},\n",
       " {'organism': 'Homo sapiens', 'map_name': 'RECON1.Carbohydrate metabolism'},\n",
       " {'organism': 'Homo sapiens',\n",
       "  'map_name': 'RECON1.Amino acid metabolism (partial)'},\n",
       " {'organism': 'Escherichia coli', 'map_name': 'iJO1366.Nucleotide metabolism'},\n",
       " {'organism': 'Escherichia coli',\n",
       "  'map_name': 'iJO1366.Fatty acid biosynthesis (saturated)'},\n",
       " {'organism': 'Escherichia coli',\n",
       "  'map_name': 'iJO1366.Nucleotide and histidine biosynthesis'},\n",
       " {'organism': 'Escherichia coli', 'map_name': 'e_coli_core.Core metabolism'},\n",
       " {'organism': 'Escherichia coli', 'map_name': 'iJO1366.Central metabolism'},\n",
       " {'organism': 'Escherichia coli',\n",
       "  'map_name': 'iJO1366.Fatty acid beta-oxidation'}]"
      ]
     },
     "execution_count": 128,
     "metadata": {},
     "output_type": "execute_result"
    }
   ],
   "source": [
    "escher.list_available_maps()"
   ]
  },
  {
   "cell_type": "code",
   "execution_count": 129,
   "metadata": {},
   "outputs": [],
   "source": [
    "from escher import Builder"
   ]
  },
  {
   "cell_type": "code",
   "execution_count": null,
   "metadata": {},
   "outputs": [],
   "source": []
  }
 ],
 "metadata": {
  "kernelspec": {
   "display_name": "Python 3",
   "language": "python",
   "name": "python3"
  },
  "language_info": {
   "codemirror_mode": {
    "name": "ipython",
    "version": 3
   },
   "file_extension": ".py",
   "mimetype": "text/x-python",
   "name": "python",
   "nbconvert_exporter": "python",
   "pygments_lexer": "ipython3",
   "version": "3.8.5"
  }
 },
 "nbformat": 4,
 "nbformat_minor": 4
}
